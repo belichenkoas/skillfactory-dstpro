{
 "cells": [
  {
   "cell_type": "code",
   "execution_count": 181,
   "metadata": {
    "_cell_guid": "b1076dfc-b9ad-4769-8c92-a6c4dae69d19",
    "_uuid": "8f2839f25d086af736a60e9eeb907d3b93b6e0e5",
    "papermill": {
     "duration": 0.073591,
     "end_time": "2021-02-14T20:43:35.693112",
     "exception": false,
     "start_time": "2021-02-14T20:43:35.619521",
     "status": "completed"
    },
    "tags": []
   },
   "outputs": [
    {
     "name": "stdout",
     "output_type": "stream",
     "text": [
      "data/sample_submission.csv\n",
      "data/test.csv\n",
      "data/train.csv\n"
     ]
    }
   ],
   "source": [
    "import os\n",
    "for dirname, _, filenames in os.walk('data/'):\n",
    "    for filename in filenames:\n",
    "        print(os.path.join(dirname, filename))"
   ]
  },
  {
   "cell_type": "code",
   "execution_count": 182,
   "metadata": {
    "papermill": {
     "duration": 1.669302,
     "end_time": "2021-02-14T20:43:37.408400",
     "exception": false,
     "start_time": "2021-02-14T20:43:35.739098",
     "status": "completed"
    },
    "tags": []
   },
   "outputs": [],
   "source": [
    "from pandas import Series\n",
    "import pandas as pd\n",
    "import numpy as np\n",
    "\n",
    "import matplotlib.pyplot as plt\n",
    "import seaborn as sns\n",
    "\n",
    "from datetime import datetime\n",
    "\n",
    "from sklearn.feature_selection import f_classif, mutual_info_classif\n",
    "from sklearn.preprocessing import LabelEncoder, OneHotEncoder, StandardScaler\n",
    "\n",
    "from sklearn.model_selection import train_test_split\n",
    "from sklearn.linear_model import LogisticRegression\n",
    "\n",
    "from sklearn.metrics import confusion_matrix\n",
    "from sklearn.metrics import auc, roc_auc_score, roc_curve\n",
    "\n",
    "from sklearn.metrics import f1_score\n",
    "from sklearn.preprocessing import PolynomialFeatures\n",
    "from sklearn.model_selection import GridSearchCV\n",
    "\n",
    "# from imblearn.over_sampling import SMOTE\n",
    "# from imblearn.over_sampling import RandomOverSampler\n",
    "# from imblearn.under_sampling import RandomUnderSampler"
   ]
  },
  {
   "cell_type": "code",
   "execution_count": 183,
   "metadata": {
    "papermill": {
     "duration": 0.601136,
     "end_time": "2021-02-14T20:43:38.053826",
     "exception": false,
     "start_time": "2021-02-14T20:43:37.452690",
     "status": "completed"
    },
    "tags": []
   },
   "outputs": [],
   "source": [
    "# df_base = pd.read_csv('/kaggle/input/scoring-base-train/base_train.csv')\n",
    "df_train = pd.read_csv('data/train.csv')\n",
    "df_test = pd.read_csv('data/test.csv')"
   ]
  },
  {
   "cell_type": "code",
   "execution_count": 184,
   "metadata": {
    "papermill": {
     "duration": 0.132995,
     "end_time": "2021-02-14T20:43:38.235627",
     "exception": false,
     "start_time": "2021-02-14T20:43:38.102632",
     "status": "completed"
    },
    "tags": []
   },
   "outputs": [
    {
     "name": "stdout",
     "output_type": "stream",
     "text": [
      "<class 'pandas.core.frame.DataFrame'>\n",
      "RangeIndex: 73799 entries, 0 to 73798\n",
      "Data columns (total 19 columns):\n",
      " #   Column            Non-Null Count  Dtype  \n",
      "---  ------            --------------  -----  \n",
      " 0   client_id         73799 non-null  int64  \n",
      " 1   app_date          73799 non-null  object \n",
      " 2   education         73492 non-null  object \n",
      " 3   sex               73799 non-null  object \n",
      " 4   age               73799 non-null  int64  \n",
      " 5   car               73799 non-null  object \n",
      " 6   car_type          73799 non-null  object \n",
      " 7   decline_app_cnt   73799 non-null  int64  \n",
      " 8   good_work         73799 non-null  int64  \n",
      " 9   score_bki         73799 non-null  float64\n",
      " 10  bki_request_cnt   73799 non-null  int64  \n",
      " 11  region_rating     73799 non-null  int64  \n",
      " 12  home_address      73799 non-null  int64  \n",
      " 13  work_address      73799 non-null  int64  \n",
      " 14  income            73799 non-null  int64  \n",
      " 15  sna               73799 non-null  int64  \n",
      " 16  first_time        73799 non-null  int64  \n",
      " 17  foreign_passport  73799 non-null  object \n",
      " 18  default           73799 non-null  int64  \n",
      "dtypes: float64(1), int64(12), object(6)\n",
      "memory usage: 10.7+ MB\n"
     ]
    }
   ],
   "source": [
    "# Посмотрим на предлагаемый датасет.\n",
    "df_train.info()"
   ]
  },
  {
   "cell_type": "markdown",
   "metadata": {
    "papermill": {
     "duration": 0.0438,
     "end_time": "2021-02-14T20:43:38.324322",
     "exception": false,
     "start_time": "2021-02-14T20:43:38.280522",
     "status": "completed"
    },
    "tags": []
   },
   "source": [
    "Склеить с базовым (baseline) не получится, так как разная размерность. Будет много пропусков."
   ]
  },
  {
   "cell_type": "markdown",
   "metadata": {
    "papermill": {
     "duration": 0.04399,
     "end_time": "2021-02-14T20:43:38.413668",
     "exception": false,
     "start_time": "2021-02-14T20:43:38.369678",
     "status": "completed"
    },
    "tags": []
   },
   "source": [
    "#### Описание полей\n",
    "\n",
    "client_id - идентификатор клиента\n",
    "\n",
    "education - уровень образования\n",
    "\n",
    "sex - пол заемщика\n",
    "\n",
    "age - возраст заемщика\n",
    "\n",
    "car - флаг наличия автомобиля\n",
    "\n",
    "car_type - флаг автомобиля иномарки\n",
    "\n",
    "decline_app_cnt - количество отказанных прошлых заявок\n",
    "\n",
    "good_work - флаг наличия “хорошей” работы\n",
    "\n",
    "bki_request_cnt - количество запросов в БКИ\n",
    "\n",
    "home_address - категоризатор домашнего адреса\n",
    "\n",
    "work_address - категоризатор рабочего адреса\n",
    "\n",
    "income - доход заемщика\n",
    "\n",
    "foreign_passport - наличие загранпаспорта\n",
    "\n",
    "sna - связь заемщика с клиентами банка\n",
    "\n",
    "first_time - давность наличия информации о заемщике\n",
    "\n",
    "score_bki - скоринговый балл по данным из БКИ\n",
    "\n",
    "region_rating - рейтинг региона\n",
    "\n",
    "app_date - дата подачи заявки\n",
    "\n",
    "default - флаг дефолта по кредиту"
   ]
  },
  {
   "cell_type": "code",
   "execution_count": 185,
   "metadata": {
    "papermill": {
     "duration": 0.110523,
     "end_time": "2021-02-14T20:43:38.568231",
     "exception": false,
     "start_time": "2021-02-14T20:43:38.457708",
     "status": "completed"
    },
    "tags": []
   },
   "outputs": [
    {
     "data": {
      "text/plain": [
       "client_id           73799\n",
       "app_date              120\n",
       "education               6\n",
       "sex                     2\n",
       "age                    52\n",
       "car                     2\n",
       "car_type                2\n",
       "decline_app_cnt        21\n",
       "good_work               2\n",
       "score_bki           69096\n",
       "bki_request_cnt        38\n",
       "region_rating           7\n",
       "home_address            3\n",
       "work_address            3\n",
       "income                966\n",
       "sna                     4\n",
       "first_time              4\n",
       "foreign_passport        2\n",
       "default                 2\n",
       "dtype: int64"
      ]
     },
     "execution_count": 185,
     "metadata": {},
     "output_type": "execute_result"
    }
   ],
   "source": [
    "# Уникальные значения признаков\n",
    "df_train.nunique(dropna=False)"
   ]
  },
  {
   "cell_type": "code",
   "execution_count": 186,
   "metadata": {
    "papermill": {
     "duration": 0.103819,
     "end_time": "2021-02-14T20:43:38.716508",
     "exception": false,
     "start_time": "2021-02-14T20:43:38.612689",
     "status": "completed"
    },
    "tags": []
   },
   "outputs": [
    {
     "data": {
      "text/plain": [
       "client_id             0\n",
       "app_date              0\n",
       "education           307\n",
       "sex                   0\n",
       "age                   0\n",
       "car                   0\n",
       "car_type              0\n",
       "decline_app_cnt       0\n",
       "good_work             0\n",
       "score_bki             0\n",
       "bki_request_cnt       0\n",
       "region_rating         0\n",
       "home_address          0\n",
       "work_address          0\n",
       "income                0\n",
       "sna                   0\n",
       "first_time            0\n",
       "foreign_passport      0\n",
       "default               0\n",
       "dtype: int64"
      ]
     },
     "execution_count": 186,
     "metadata": {},
     "output_type": "execute_result"
    }
   ],
   "source": [
    "# Проверим пропуски в датасете\n",
    "df_train.isna().sum()"
   ]
  },
  {
   "cell_type": "markdown",
   "metadata": {
    "papermill": {
     "duration": 0.04521,
     "end_time": "2021-02-14T20:43:38.807070",
     "exception": false,
     "start_time": "2021-02-14T20:43:38.761860",
     "status": "completed"
    },
    "tags": []
   },
   "source": [
    "Пропуски содержит education, позже исправим."
   ]
  },
  {
   "cell_type": "code",
   "execution_count": 187,
   "metadata": {
    "papermill": {
     "duration": 0.369448,
     "end_time": "2021-02-14T20:43:39.221985",
     "exception": false,
     "start_time": "2021-02-14T20:43:38.852537",
     "status": "completed"
    },
    "tags": []
   },
   "outputs": [
    {
     "data": {
      "text/plain": [
       "<AxesSubplot:xlabel='default', ylabel='Count'>"
      ]
     },
     "execution_count": 187,
     "metadata": {},
     "output_type": "execute_result"
    },
    {
     "data": {
      "image/png": "[encoded data removed]",
      "text/plain": [
       "<Figure size 432x288 with 1 Axes>"
      ]
     },
     "metadata": {
      "needs_background": "light"
     },
     "output_type": "display_data"
    }
   ],
   "source": [
    "#Посмотрим на целевую переменную\n",
    "sns.histplot(df_train.default)"
   ]
  },
  {
   "cell_type": "markdown",
   "metadata": {
    "papermill": {
     "duration": 0.045867,
     "end_time": "2021-02-14T20:43:39.314377",
     "exception": false,
     "start_time": "2021-02-14T20:43:39.268510",
     "status": "completed"
    },
    "tags": []
   },
   "source": [
    "Слишком большой дисбаланс. Данное положение значительно влияет на конечный результат и на анализ по метрикам. Попробуем исправить параметром class_weight='balanced'\n"
   ]
  },
  {
   "cell_type": "code",
   "execution_count": 188,
   "metadata": {
    "papermill": {
     "duration": 0.062068,
     "end_time": "2021-02-14T20:43:39.527272",
     "exception": false,
     "start_time": "2021-02-14T20:43:39.465204",
     "status": "completed"
    },
    "tags": []
   },
   "outputs": [
    {
     "data": {
      "text/plain": [
       "0    64427\n",
       "1     9372\n",
       "Name: default, dtype: int64"
      ]
     },
     "execution_count": 188,
     "metadata": {},
     "output_type": "execute_result"
    }
   ],
   "source": [
    "df_train.default.value_counts()"
   ]
  },
  {
   "cell_type": "code",
   "execution_count": 189,
   "metadata": {
    "papermill": {
     "duration": 0.113538,
     "end_time": "2021-02-14T20:43:39.688468",
     "exception": false,
     "start_time": "2021-02-14T20:43:39.574930",
     "status": "completed"
    },
    "tags": []
   },
   "outputs": [],
   "source": [
    "# Склеим с тестовым датасетом на время анализа данных.\n",
    "df_train['test']=0\n",
    "df_test['test']=1\n",
    "\n",
    "df_train = df_train.append(df_test, ignore_index=True)"
   ]
  },
  {
   "cell_type": "code",
   "execution_count": 190,
   "metadata": {
    "papermill": {
     "duration": 0.127792,
     "end_time": "2021-02-14T20:43:39.863736",
     "exception": false,
     "start_time": "2021-02-14T20:43:39.735944",
     "status": "completed"
    },
    "tags": []
   },
   "outputs": [
    {
     "data": {
      "text/html": [
       "<div>\n",
       "<style scoped>\n",
       "    .dataframe tbody tr th:only-of-type {\n",
       "        vertical-align: middle;\n",
       "    }\n",
       "\n",
       "    .dataframe tbody tr th {\n",
       "        vertical-align: top;\n",
       "    }\n",
       "\n",
       "    .dataframe thead th {\n",
       "        text-align: right;\n",
       "    }\n",
       "</style>\n",
       "<table border=\"1\" class=\"dataframe\">\n",
       "  <thead>\n",
       "    <tr style=\"text-align: right;\">\n",
       "      <th></th>\n",
       "      <th>client_id</th>\n",
       "      <th>app_date</th>\n",
       "      <th>education</th>\n",
       "      <th>sex</th>\n",
       "      <th>age</th>\n",
       "      <th>car</th>\n",
       "      <th>car_type</th>\n",
       "      <th>decline_app_cnt</th>\n",
       "      <th>good_work</th>\n",
       "      <th>score_bki</th>\n",
       "      <th>bki_request_cnt</th>\n",
       "      <th>region_rating</th>\n",
       "      <th>home_address</th>\n",
       "      <th>work_address</th>\n",
       "      <th>income</th>\n",
       "      <th>sna</th>\n",
       "      <th>first_time</th>\n",
       "      <th>foreign_passport</th>\n",
       "      <th>default</th>\n",
       "      <th>test</th>\n",
       "    </tr>\n",
       "  </thead>\n",
       "  <tbody>\n",
       "    <tr>\n",
       "      <th>28271</th>\n",
       "      <td>81056</td>\n",
       "      <td>29MAR2014</td>\n",
       "      <td>SCH</td>\n",
       "      <td>M</td>\n",
       "      <td>50</td>\n",
       "      <td>N</td>\n",
       "      <td>N</td>\n",
       "      <td>1</td>\n",
       "      <td>0</td>\n",
       "      <td>-1.743216</td>\n",
       "      <td>0</td>\n",
       "      <td>40</td>\n",
       "      <td>2</td>\n",
       "      <td>3</td>\n",
       "      <td>20000</td>\n",
       "      <td>2</td>\n",
       "      <td>2</td>\n",
       "      <td>N</td>\n",
       "      <td>0.0</td>\n",
       "      <td>0</td>\n",
       "    </tr>\n",
       "    <tr>\n",
       "      <th>22180</th>\n",
       "      <td>53655</td>\n",
       "      <td>02MAR2014</td>\n",
       "      <td>SCH</td>\n",
       "      <td>F</td>\n",
       "      <td>46</td>\n",
       "      <td>N</td>\n",
       "      <td>N</td>\n",
       "      <td>0</td>\n",
       "      <td>1</td>\n",
       "      <td>-1.508508</td>\n",
       "      <td>1</td>\n",
       "      <td>40</td>\n",
       "      <td>2</td>\n",
       "      <td>3</td>\n",
       "      <td>10000</td>\n",
       "      <td>1</td>\n",
       "      <td>1</td>\n",
       "      <td>N</td>\n",
       "      <td>0.0</td>\n",
       "      <td>0</td>\n",
       "    </tr>\n",
       "    <tr>\n",
       "      <th>55621</th>\n",
       "      <td>85221</td>\n",
       "      <td>02APR2014</td>\n",
       "      <td>SCH</td>\n",
       "      <td>F</td>\n",
       "      <td>42</td>\n",
       "      <td>N</td>\n",
       "      <td>N</td>\n",
       "      <td>2</td>\n",
       "      <td>0</td>\n",
       "      <td>-1.081527</td>\n",
       "      <td>10</td>\n",
       "      <td>50</td>\n",
       "      <td>1</td>\n",
       "      <td>3</td>\n",
       "      <td>25000</td>\n",
       "      <td>1</td>\n",
       "      <td>2</td>\n",
       "      <td>N</td>\n",
       "      <td>1.0</td>\n",
       "      <td>0</td>\n",
       "    </tr>\n",
       "    <tr>\n",
       "      <th>75329</th>\n",
       "      <td>92294</td>\n",
       "      <td>08APR2014</td>\n",
       "      <td>SCH</td>\n",
       "      <td>M</td>\n",
       "      <td>26</td>\n",
       "      <td>N</td>\n",
       "      <td>N</td>\n",
       "      <td>0</td>\n",
       "      <td>0</td>\n",
       "      <td>-1.770187</td>\n",
       "      <td>3</td>\n",
       "      <td>40</td>\n",
       "      <td>2</td>\n",
       "      <td>3</td>\n",
       "      <td>23000</td>\n",
       "      <td>3</td>\n",
       "      <td>2</td>\n",
       "      <td>N</td>\n",
       "      <td>NaN</td>\n",
       "      <td>1</td>\n",
       "    </tr>\n",
       "    <tr>\n",
       "      <th>75096</th>\n",
       "      <td>17716</td>\n",
       "      <td>24JAN2014</td>\n",
       "      <td>SCH</td>\n",
       "      <td>M</td>\n",
       "      <td>36</td>\n",
       "      <td>N</td>\n",
       "      <td>N</td>\n",
       "      <td>0</td>\n",
       "      <td>0</td>\n",
       "      <td>-1.652213</td>\n",
       "      <td>0</td>\n",
       "      <td>50</td>\n",
       "      <td>1</td>\n",
       "      <td>2</td>\n",
       "      <td>5000</td>\n",
       "      <td>1</td>\n",
       "      <td>3</td>\n",
       "      <td>N</td>\n",
       "      <td>NaN</td>\n",
       "      <td>1</td>\n",
       "    </tr>\n",
       "    <tr>\n",
       "      <th>52838</th>\n",
       "      <td>105141</td>\n",
       "      <td>23APR2014</td>\n",
       "      <td>UGR</td>\n",
       "      <td>F</td>\n",
       "      <td>51</td>\n",
       "      <td>N</td>\n",
       "      <td>N</td>\n",
       "      <td>0</td>\n",
       "      <td>0</td>\n",
       "      <td>-2.845945</td>\n",
       "      <td>1</td>\n",
       "      <td>50</td>\n",
       "      <td>2</td>\n",
       "      <td>3</td>\n",
       "      <td>30000</td>\n",
       "      <td>1</td>\n",
       "      <td>3</td>\n",
       "      <td>N</td>\n",
       "      <td>0.0</td>\n",
       "      <td>0</td>\n",
       "    </tr>\n",
       "    <tr>\n",
       "      <th>23336</th>\n",
       "      <td>3598</td>\n",
       "      <td>09JAN2014</td>\n",
       "      <td>UGR</td>\n",
       "      <td>M</td>\n",
       "      <td>41</td>\n",
       "      <td>N</td>\n",
       "      <td>N</td>\n",
       "      <td>0</td>\n",
       "      <td>1</td>\n",
       "      <td>-1.948237</td>\n",
       "      <td>2</td>\n",
       "      <td>50</td>\n",
       "      <td>2</td>\n",
       "      <td>3</td>\n",
       "      <td>43000</td>\n",
       "      <td>4</td>\n",
       "      <td>1</td>\n",
       "      <td>N</td>\n",
       "      <td>0.0</td>\n",
       "      <td>0</td>\n",
       "    </tr>\n",
       "    <tr>\n",
       "      <th>56559</th>\n",
       "      <td>93082</td>\n",
       "      <td>09APR2014</td>\n",
       "      <td>GRD</td>\n",
       "      <td>F</td>\n",
       "      <td>45</td>\n",
       "      <td>Y</td>\n",
       "      <td>Y</td>\n",
       "      <td>0</td>\n",
       "      <td>0</td>\n",
       "      <td>-1.832078</td>\n",
       "      <td>2</td>\n",
       "      <td>40</td>\n",
       "      <td>2</td>\n",
       "      <td>3</td>\n",
       "      <td>90000</td>\n",
       "      <td>3</td>\n",
       "      <td>1</td>\n",
       "      <td>N</td>\n",
       "      <td>1.0</td>\n",
       "      <td>0</td>\n",
       "    </tr>\n",
       "    <tr>\n",
       "      <th>5662</th>\n",
       "      <td>71378</td>\n",
       "      <td>19MAR2014</td>\n",
       "      <td>SCH</td>\n",
       "      <td>F</td>\n",
       "      <td>51</td>\n",
       "      <td>N</td>\n",
       "      <td>N</td>\n",
       "      <td>0</td>\n",
       "      <td>0</td>\n",
       "      <td>-0.877159</td>\n",
       "      <td>4</td>\n",
       "      <td>40</td>\n",
       "      <td>1</td>\n",
       "      <td>2</td>\n",
       "      <td>12000</td>\n",
       "      <td>2</td>\n",
       "      <td>1</td>\n",
       "      <td>N</td>\n",
       "      <td>0.0</td>\n",
       "      <td>0</td>\n",
       "    </tr>\n",
       "    <tr>\n",
       "      <th>39664</th>\n",
       "      <td>52452</td>\n",
       "      <td>01MAR2014</td>\n",
       "      <td>SCH</td>\n",
       "      <td>F</td>\n",
       "      <td>42</td>\n",
       "      <td>N</td>\n",
       "      <td>N</td>\n",
       "      <td>0</td>\n",
       "      <td>0</td>\n",
       "      <td>-2.157743</td>\n",
       "      <td>4</td>\n",
       "      <td>60</td>\n",
       "      <td>2</td>\n",
       "      <td>3</td>\n",
       "      <td>20000</td>\n",
       "      <td>1</td>\n",
       "      <td>4</td>\n",
       "      <td>N</td>\n",
       "      <td>0.0</td>\n",
       "      <td>0</td>\n",
       "    </tr>\n",
       "  </tbody>\n",
       "</table>\n",
       "</div>"
      ],
      "text/plain": [
       "       client_id   app_date education sex  age car car_type  decline_app_cnt  \\\n",
       "28271      81056  29MAR2014       SCH   M   50   N        N                1   \n",
       "22180      53655  02MAR2014       SCH   F   46   N        N                0   \n",
       "55621      85221  02APR2014       SCH   F   42   N        N                2   \n",
       "75329      92294  08APR2014       SCH   M   26   N        N                0   \n",
       "75096      17716  24JAN2014       SCH   M   36   N        N                0   \n",
       "52838     105141  23APR2014       UGR   F   51   N        N                0   \n",
       "23336       3598  09JAN2014       UGR   M   41   N        N                0   \n",
       "56559      93082  09APR2014       GRD   F   45   Y        Y                0   \n",
       "5662       71378  19MAR2014       SCH   F   51   N        N                0   \n",
       "39664      52452  01MAR2014       SCH   F   42   N        N                0   \n",
       "\n",
       "       good_work  score_bki  bki_request_cnt  region_rating  home_address  \\\n",
       "28271          0  -1.743216                0             40             2   \n",
       "22180          1  -1.508508                1             40             2   \n",
       "55621          0  -1.081527               10             50             1   \n",
       "75329          0  -1.770187                3             40             2   \n",
       "75096          0  -1.652213                0             50             1   \n",
       "52838          0  -2.845945                1             50             2   \n",
       "23336          1  -1.948237                2             50             2   \n",
       "56559          0  -1.832078                2             40             2   \n",
       "5662           0  -0.877159                4             40             1   \n",
       "39664          0  -2.157743                4             60             2   \n",
       "\n",
       "       work_address  income  sna  first_time foreign_passport  default  test  \n",
       "28271             3   20000    2           2                N      0.0     0  \n",
       "22180             3   10000    1           1                N      0.0     0  \n",
       "55621             3   25000    1           2                N      1.0     0  \n",
       "75329             3   23000    3           2                N      NaN     1  \n",
       "75096             2    5000    1           3                N      NaN     1  \n",
       "52838             3   30000    1           3                N      0.0     0  \n",
       "23336             3   43000    4           1                N      0.0     0  \n",
       "56559             3   90000    3           1                N      1.0     0  \n",
       "5662              2   12000    2           1                N      0.0     0  \n",
       "39664             3   20000    1           4                N      0.0     0  "
      ]
     },
     "execution_count": 190,
     "metadata": {},
     "output_type": "execute_result"
    }
   ],
   "source": [
    "df_train.sample(10)"
   ]
  },
  {
   "cell_type": "markdown",
   "metadata": {
    "papermill": {
     "duration": 0.048118,
     "end_time": "2021-02-14T20:43:39.960373",
     "exception": false,
     "start_time": "2021-02-14T20:43:39.912255",
     "status": "completed"
    },
    "tags": []
   },
   "source": [
    "Сгруппируем признаки в три категории по типу их обработки (категориальные, бинарные и числовые) для дальнейшего удобного анализа."
   ]
  },
  {
   "cell_type": "code",
   "execution_count": 191,
   "metadata": {
    "papermill": {
     "duration": 0.057803,
     "end_time": "2021-02-14T20:43:40.066744",
     "exception": false,
     "start_time": "2021-02-14T20:43:40.008941",
     "status": "completed"
    },
    "tags": []
   },
   "outputs": [],
   "source": [
    "# бинарные переменные\n",
    "bin_cols = ['sex', 'car', 'car_type', 'good_work', 'foreign_passport']\n",
    "\n",
    "# категориальные переменные\n",
    "cat_cols = ['education', 'home_address', 'work_address', 'sna', 'first_time']\n",
    "\n",
    "# числовые переменные\n",
    "num_cols = ['age', 'score_bki', 'decline_app_cnt',  'bki_request_cnt', 'region_rating', 'income']"
   ]
  },
  {
   "cell_type": "code",
   "execution_count": 192,
   "metadata": {
    "papermill": {
     "duration": 0.058649,
     "end_time": "2021-02-14T20:43:40.173932",
     "exception": false,
     "start_time": "2021-02-14T20:43:40.115283",
     "status": "completed"
    },
    "tags": []
   },
   "outputs": [],
   "source": [
    "# С помощью LabelEncoder преобразуем бинарные переменные\n",
    "def bin_encoder(data):\n",
    "    label_encoder = LabelEncoder()\n",
    "\n",
    "    for column in bin_cols:\n",
    "        data[column] = label_encoder.fit_transform(data[column])\n",
    "    return data"
   ]
  },
  {
   "cell_type": "code",
   "execution_count": 193,
   "metadata": {
    "papermill": {
     "duration": 0.276334,
     "end_time": "2021-02-14T20:43:40.500924",
     "exception": false,
     "start_time": "2021-02-14T20:43:40.224590",
     "status": "completed"
    },
    "tags": []
   },
   "outputs": [],
   "source": [
    "df_train = bin_encoder(df_train)\n",
    "df_test = bin_encoder(df_test)"
   ]
  },
  {
   "cell_type": "code",
   "execution_count": 194,
   "metadata": {
    "papermill": {
     "duration": 0.412893,
     "end_time": "2021-02-14T20:43:40.963428",
     "exception": false,
     "start_time": "2021-02-14T20:43:40.550535",
     "status": "completed"
    },
    "tags": []
   },
   "outputs": [
    {
     "data": {
      "text/plain": [
       "<AxesSubplot:>"
      ]
     },
     "execution_count": 194,
     "metadata": {},
     "output_type": "execute_result"
    },
    {
     "data": {
      "image/png": "[encoded data removed]",
      "text/plain": [
       "<Figure size 432x288 with 2 Axes>"
      ]
     },
     "metadata": {
      "needs_background": "light"
     },
     "output_type": "display_data"
    }
   ],
   "source": [
    "# Посмотрим на корреляцию биарных признаков\n",
    "sns.heatmap(df_train[bin_cols+['default']].corr().abs(), vmin=0, vmax=1)"
   ]
  },
  {
   "cell_type": "markdown",
   "metadata": {
    "papermill": {
     "duration": 0.050734,
     "end_time": "2021-02-14T20:43:41.066175",
     "exception": false,
     "start_time": "2021-02-14T20:43:41.015441",
     "status": "completed"
    },
    "tags": []
   },
   "source": [
    "Бросается в глаза корреляция между 'car', 'car_type'. Корреляция очевидна, но думаю не стоит убирать один из признаков, так как иметь машину или возможность купить иномарку часто показательна."
   ]
  },
  {
   "cell_type": "code",
   "execution_count": 195,
   "metadata": {
    "papermill": {
     "duration": 0.088367,
     "end_time": "2021-02-14T20:43:41.204944",
     "exception": false,
     "start_time": "2021-02-14T20:43:41.116577",
     "status": "completed"
    },
    "tags": []
   },
   "outputs": [
    {
     "data": {
      "text/html": [
       "<div>\n",
       "<style scoped>\n",
       "    .dataframe tbody tr th:only-of-type {\n",
       "        vertical-align: middle;\n",
       "    }\n",
       "\n",
       "    .dataframe tbody tr th {\n",
       "        vertical-align: top;\n",
       "    }\n",
       "\n",
       "    .dataframe thead th {\n",
       "        text-align: right;\n",
       "    }\n",
       "</style>\n",
       "<table border=\"1\" class=\"dataframe\">\n",
       "  <thead>\n",
       "    <tr style=\"text-align: right;\">\n",
       "      <th></th>\n",
       "      <th>sex</th>\n",
       "      <th>car</th>\n",
       "      <th>car_type</th>\n",
       "      <th>good_work</th>\n",
       "      <th>foreign_passport</th>\n",
       "      <th>default</th>\n",
       "    </tr>\n",
       "  </thead>\n",
       "  <tbody>\n",
       "    <tr>\n",
       "      <th>sex</th>\n",
       "      <td>1.000000</td>\n",
       "      <td>0.277470</td>\n",
       "      <td>0.224822</td>\n",
       "      <td>-0.044026</td>\n",
       "      <td>0.085924</td>\n",
       "      <td>0.019619</td>\n",
       "    </tr>\n",
       "    <tr>\n",
       "      <th>car</th>\n",
       "      <td>0.277470</td>\n",
       "      <td>1.000000</td>\n",
       "      <td>0.698760</td>\n",
       "      <td>0.001565</td>\n",
       "      <td>0.106893</td>\n",
       "      <td>-0.043161</td>\n",
       "    </tr>\n",
       "    <tr>\n",
       "      <th>car_type</th>\n",
       "      <td>0.224822</td>\n",
       "      <td>0.698760</td>\n",
       "      <td>1.000000</td>\n",
       "      <td>0.016160</td>\n",
       "      <td>0.145373</td>\n",
       "      <td>-0.057484</td>\n",
       "    </tr>\n",
       "    <tr>\n",
       "      <th>good_work</th>\n",
       "      <td>-0.044026</td>\n",
       "      <td>0.001565</td>\n",
       "      <td>0.016160</td>\n",
       "      <td>1.000000</td>\n",
       "      <td>0.048491</td>\n",
       "      <td>-0.043361</td>\n",
       "    </tr>\n",
       "    <tr>\n",
       "      <th>foreign_passport</th>\n",
       "      <td>0.085924</td>\n",
       "      <td>0.106893</td>\n",
       "      <td>0.145373</td>\n",
       "      <td>0.048491</td>\n",
       "      <td>1.000000</td>\n",
       "      <td>-0.066718</td>\n",
       "    </tr>\n",
       "    <tr>\n",
       "      <th>default</th>\n",
       "      <td>0.019619</td>\n",
       "      <td>-0.043161</td>\n",
       "      <td>-0.057484</td>\n",
       "      <td>-0.043361</td>\n",
       "      <td>-0.066718</td>\n",
       "      <td>1.000000</td>\n",
       "    </tr>\n",
       "  </tbody>\n",
       "</table>\n",
       "</div>"
      ],
      "text/plain": [
       "                       sex       car  car_type  good_work  foreign_passport  \\\n",
       "sex               1.000000  0.277470  0.224822  -0.044026          0.085924   \n",
       "car               0.277470  1.000000  0.698760   0.001565          0.106893   \n",
       "car_type          0.224822  0.698760  1.000000   0.016160          0.145373   \n",
       "good_work        -0.044026  0.001565  0.016160   1.000000          0.048491   \n",
       "foreign_passport  0.085924  0.106893  0.145373   0.048491          1.000000   \n",
       "default           0.019619 -0.043161 -0.057484  -0.043361         -0.066718   \n",
       "\n",
       "                   default  \n",
       "sex               0.019619  \n",
       "car              -0.043161  \n",
       "car_type         -0.057484  \n",
       "good_work        -0.043361  \n",
       "foreign_passport -0.066718  \n",
       "default           1.000000  "
      ]
     },
     "execution_count": 195,
     "metadata": {},
     "output_type": "execute_result"
    }
   ],
   "source": [
    "df_train[bin_cols+['default']].corr()"
   ]
  },
  {
   "cell_type": "markdown",
   "metadata": {
    "papermill": {
     "duration": 0.051396,
     "end_time": "2021-02-14T20:43:41.308966",
     "exception": false,
     "start_time": "2021-02-14T20:43:41.257570",
     "status": "completed"
    },
    "tags": []
   },
   "source": [
    "Согласно матрице, наиболее влиятельные признаки это паспорт и иномарка"
   ]
  },
  {
   "cell_type": "code",
   "execution_count": 196,
   "metadata": {
    "papermill": {
     "duration": 0.31657,
     "end_time": "2021-02-14T20:43:41.677315",
     "exception": false,
     "start_time": "2021-02-14T20:43:41.360745",
     "status": "completed"
    },
    "tags": []
   },
   "outputs": [
    {
     "data": {
      "text/plain": [
       "<AxesSubplot:>"
      ]
     },
     "execution_count": 196,
     "metadata": {},
     "output_type": "execute_result"
    },
    {
     "data": {
      "image/png": "[encoded data removed]",
      "text/plain": [
       "<Figure size 432x288 with 1 Axes>"
      ]
     },
     "metadata": {
      "needs_background": "light"
     },
     "output_type": "display_data"
    }
   ],
   "source": [
    "# Проверим значимость бинарных переменных\n",
    "imp_num = Series(f_classif(df_train.dropna()[bin_cols], df_train.dropna()['default'])[0], index = bin_cols)\n",
    "imp_num.sort_values(inplace = True)\n",
    "imp_num.plot(kind = 'barh')"
   ]
  },
  {
   "cell_type": "markdown",
   "metadata": {
    "papermill": {
     "duration": 0.051572,
     "end_time": "2021-02-14T20:43:41.780487",
     "exception": false,
     "start_time": "2021-02-14T20:43:41.728915",
     "status": "completed"
    },
    "tags": []
   },
   "source": [
    "Полиномиальные признаки на основе бинарных переменных какого-либо значимого эффекта не дали."
   ]
  },
  {
   "cell_type": "code",
   "execution_count": 197,
   "metadata": {
    "papermill": {
     "duration": 0.078556,
     "end_time": "2021-02-14T20:43:41.912603",
     "exception": false,
     "start_time": "2021-02-14T20:43:41.834047",
     "status": "completed"
    },
    "tags": []
   },
   "outputs": [],
   "source": [
    "# На основе бинарных сформируем категориальный признак, который отображает материальное положение в целом (просуммируем 'активы').\n",
    "# df_train['sum_bin'] = df_train[bin_cols].drop('sex', axis=1).sum(axis=1)\n",
    "# df_test['sum_bin'] = df_test[bin_cols].drop('sex', axis=1).sum(axis=1)\n",
    "\n",
    "# cat_cols.append('sum_bin')"
   ]
  },
  {
   "cell_type": "markdown",
   "metadata": {
    "papermill": {
     "duration": 0.051559,
     "end_time": "2021-02-14T20:43:42.017176",
     "exception": false,
     "start_time": "2021-02-14T20:43:41.965617",
     "status": "completed"
    },
    "tags": []
   },
   "source": [
    "Категориальные признаки"
   ]
  },
  {
   "cell_type": "code",
   "execution_count": 198,
   "metadata": {
    "papermill": {
     "duration": 0.093309,
     "end_time": "2021-02-14T20:43:42.162414",
     "exception": false,
     "start_time": "2021-02-14T20:43:42.069105",
     "status": "completed"
    },
    "tags": []
   },
   "outputs": [
    {
     "data": {
      "text/plain": [
       "SCH    57998\n",
       "GRD    34768\n",
       "UGR    14748\n",
       "PGR     1865\n",
       "NaN      478\n",
       "ACD      291\n",
       "Name: education, dtype: int64"
      ]
     },
     "execution_count": 198,
     "metadata": {},
     "output_type": "execute_result"
    }
   ],
   "source": [
    "# education у нас был с пропусками, смотрим значения\n",
    "df_train.education.value_counts(dropna = False)"
   ]
  },
  {
   "cell_type": "code",
   "execution_count": 199,
   "metadata": {
    "papermill": {
     "duration": 0.062846,
     "end_time": "2021-02-14T20:43:42.278629",
     "exception": false,
     "start_time": "2021-02-14T20:43:42.215783",
     "status": "completed"
    },
    "tags": []
   },
   "outputs": [],
   "source": [
    "# Избавимся от пропусков путём заполнения наиболее встречающегося значения. Фаворит SCH.\n",
    "def education_fillna(data):\n",
    "    data.education.fillna('SCH', inplace=True)\n",
    "    return data"
   ]
  },
  {
   "cell_type": "code",
   "execution_count": 200,
   "metadata": {
    "papermill": {
     "duration": 0.079521,
     "end_time": "2021-02-14T20:43:42.410751",
     "exception": false,
     "start_time": "2021-02-14T20:43:42.331230",
     "status": "completed"
    },
    "tags": []
   },
   "outputs": [],
   "source": [
    "df_train = education_fillna(df_train)\n",
    "df_test = education_fillna(df_test)"
   ]
  },
  {
   "cell_type": "code",
   "execution_count": 201,
   "metadata": {
    "papermill": {
     "duration": 0.063099,
     "end_time": "2021-02-14T20:43:42.527623",
     "exception": false,
     "start_time": "2021-02-14T20:43:42.464524",
     "status": "completed"
    },
    "tags": []
   },
   "outputs": [],
   "source": [
    "# Преобразуем education \n",
    "def education_encoder(data):\n",
    "    label_encoder = LabelEncoder()\n",
    "    data['education'] = label_encoder.fit_transform(data['education'])\n",
    "    return data"
   ]
  },
  {
   "cell_type": "code",
   "execution_count": 202,
   "metadata": {
    "papermill": {
     "duration": 0.115739,
     "end_time": "2021-02-14T20:43:42.696836",
     "exception": false,
     "start_time": "2021-02-14T20:43:42.581097",
     "status": "completed"
    },
    "tags": []
   },
   "outputs": [],
   "source": [
    "df_train = education_encoder(df_train)\n",
    "df_test = education_encoder(df_test)"
   ]
  },
  {
   "cell_type": "code",
   "execution_count": 203,
   "metadata": {
    "papermill": {
     "duration": 0.42114,
     "end_time": "2021-02-14T20:43:43.170925",
     "exception": false,
     "start_time": "2021-02-14T20:43:42.749785",
     "status": "completed"
    },
    "tags": []
   },
   "outputs": [
    {
     "data": {
      "text/plain": [
       "<AxesSubplot:>"
      ]
     },
     "execution_count": 203,
     "metadata": {},
     "output_type": "execute_result"
    },
    {
     "data": {
      "image/png": "[encoded data removed]",
      "text/plain": [
       "<Figure size 432x288 with 2 Axes>"
      ]
     },
     "metadata": {
      "needs_background": "light"
     },
     "output_type": "display_data"
    }
   ],
   "source": [
    "# Посмотрим на корреляцию категориальных признаков\n",
    "sns.heatmap(df_train[cat_cols + ['default']].corr().abs(), vmin=0, vmax=1)"
   ]
  },
  {
   "cell_type": "code",
   "execution_count": 204,
   "metadata": {
    "papermill": {
     "duration": 0.09577,
     "end_time": "2021-02-14T20:43:43.321619",
     "exception": false,
     "start_time": "2021-02-14T20:43:43.225849",
     "status": "completed"
    },
    "tags": []
   },
   "outputs": [
    {
     "data": {
      "text/html": [
       "<div>\n",
       "<style scoped>\n",
       "    .dataframe tbody tr th:only-of-type {\n",
       "        vertical-align: middle;\n",
       "    }\n",
       "\n",
       "    .dataframe tbody tr th {\n",
       "        vertical-align: top;\n",
       "    }\n",
       "\n",
       "    .dataframe thead th {\n",
       "        text-align: right;\n",
       "    }\n",
       "</style>\n",
       "<table border=\"1\" class=\"dataframe\">\n",
       "  <thead>\n",
       "    <tr style=\"text-align: right;\">\n",
       "      <th></th>\n",
       "      <th>education</th>\n",
       "      <th>home_address</th>\n",
       "      <th>work_address</th>\n",
       "      <th>sna</th>\n",
       "      <th>first_time</th>\n",
       "      <th>default</th>\n",
       "    </tr>\n",
       "  </thead>\n",
       "  <tbody>\n",
       "    <tr>\n",
       "      <th>education</th>\n",
       "      <td>1.000000</td>\n",
       "      <td>0.011215</td>\n",
       "      <td>0.012201</td>\n",
       "      <td>0.095763</td>\n",
       "      <td>-0.120016</td>\n",
       "      <td>0.071558</td>\n",
       "    </tr>\n",
       "    <tr>\n",
       "      <th>home_address</th>\n",
       "      <td>0.011215</td>\n",
       "      <td>1.000000</td>\n",
       "      <td>0.726535</td>\n",
       "      <td>0.114541</td>\n",
       "      <td>-0.058430</td>\n",
       "      <td>0.084637</td>\n",
       "    </tr>\n",
       "    <tr>\n",
       "      <th>work_address</th>\n",
       "      <td>0.012201</td>\n",
       "      <td>0.726535</td>\n",
       "      <td>1.000000</td>\n",
       "      <td>0.111162</td>\n",
       "      <td>-0.062266</td>\n",
       "      <td>0.081582</td>\n",
       "    </tr>\n",
       "    <tr>\n",
       "      <th>sna</th>\n",
       "      <td>0.095763</td>\n",
       "      <td>0.114541</td>\n",
       "      <td>0.111162</td>\n",
       "      <td>1.000000</td>\n",
       "      <td>-0.526594</td>\n",
       "      <td>0.125832</td>\n",
       "    </tr>\n",
       "    <tr>\n",
       "      <th>first_time</th>\n",
       "      <td>-0.120016</td>\n",
       "      <td>-0.058430</td>\n",
       "      <td>-0.062266</td>\n",
       "      <td>-0.526594</td>\n",
       "      <td>1.000000</td>\n",
       "      <td>-0.105579</td>\n",
       "    </tr>\n",
       "    <tr>\n",
       "      <th>default</th>\n",
       "      <td>0.071558</td>\n",
       "      <td>0.084637</td>\n",
       "      <td>0.081582</td>\n",
       "      <td>0.125832</td>\n",
       "      <td>-0.105579</td>\n",
       "      <td>1.000000</td>\n",
       "    </tr>\n",
       "  </tbody>\n",
       "</table>\n",
       "</div>"
      ],
      "text/plain": [
       "              education  home_address  work_address       sna  first_time  \\\n",
       "education      1.000000      0.011215      0.012201  0.095763   -0.120016   \n",
       "home_address   0.011215      1.000000      0.726535  0.114541   -0.058430   \n",
       "work_address   0.012201      0.726535      1.000000  0.111162   -0.062266   \n",
       "sna            0.095763      0.114541      0.111162  1.000000   -0.526594   \n",
       "first_time    -0.120016     -0.058430     -0.062266 -0.526594    1.000000   \n",
       "default        0.071558      0.084637      0.081582  0.125832   -0.105579   \n",
       "\n",
       "               default  \n",
       "education     0.071558  \n",
       "home_address  0.084637  \n",
       "work_address  0.081582  \n",
       "sna           0.125832  \n",
       "first_time   -0.105579  \n",
       "default       1.000000  "
      ]
     },
     "execution_count": 204,
     "metadata": {},
     "output_type": "execute_result"
    }
   ],
   "source": [
    "df_train[cat_cols + ['default']].corr()"
   ]
  },
  {
   "cell_type": "markdown",
   "metadata": {
    "papermill": {
     "duration": 0.055257,
     "end_time": "2021-02-14T20:43:43.432340",
     "exception": false,
     "start_time": "2021-02-14T20:43:43.377083",
     "status": "completed"
    },
    "tags": []
   },
   "source": [
    "sna и first_time выделяются"
   ]
  },
  {
   "cell_type": "code",
   "execution_count": 205,
   "metadata": {
    "papermill": {
     "duration": 0.404985,
     "end_time": "2021-02-14T20:43:43.898738",
     "exception": false,
     "start_time": "2021-02-14T20:43:43.493753",
     "status": "completed"
    },
    "tags": []
   },
   "outputs": [
    {
     "data": {
      "text/plain": [
       "<AxesSubplot:>"
      ]
     },
     "execution_count": 205,
     "metadata": {},
     "output_type": "execute_result"
    },
    {
     "data": {
      "image/png": "[encoded data removed]",
      "text/plain": [
       "<Figure size 432x288 with 1 Axes>"
      ]
     },
     "metadata": {
      "needs_background": "light"
     },
     "output_type": "display_data"
    }
   ],
   "source": [
    "# Проверим значимость категориальных переменных\n",
    "imp_cat = Series(mutual_info_classif(df_train.dropna().dropna()[cat_cols], df_train.dropna()['default'],\n",
    "                                     discrete_features =True), index = cat_cols)\n",
    "imp_cat.sort_values(inplace = True)\n",
    "imp_cat.plot(kind = 'barh')"
   ]
  },
  {
   "cell_type": "code",
   "execution_count": 206,
   "metadata": {
    "papermill": {
     "duration": 0.708782,
     "end_time": "2021-02-14T20:43:44.664579",
     "exception": false,
     "start_time": "2021-02-14T20:43:43.955797",
     "status": "completed"
    },
    "tags": []
   },
   "outputs": [
    {
     "data": {
      "text/plain": [
       "array([[<AxesSubplot:title={'center':'education'}>,\n",
       "        <AxesSubplot:title={'center':'home_address'}>],\n",
       "       [<AxesSubplot:title={'center':'work_address'}>,\n",
       "        <AxesSubplot:title={'center':'sna'}>],\n",
       "       [<AxesSubplot:title={'center':'first_time'}>, <AxesSubplot:>]],\n",
       "      dtype=object)"
      ]
     },
     "execution_count": 206,
     "metadata": {},
     "output_type": "execute_result"
    },
    {
     "data": {
      "image/png": "[encoded data removed]",
      "text/plain": [
       "<Figure size 432x288 with 6 Axes>"
      ]
     },
     "metadata": {
      "needs_background": "light"
     },
     "output_type": "display_data"
    }
   ],
   "source": [
    "df_train[cat_cols].hist()"
   ]
  },
  {
   "cell_type": "markdown",
   "metadata": {
    "papermill": {
     "duration": 0.057127,
     "end_time": "2021-02-14T20:43:44.779627",
     "exception": false,
     "start_time": "2021-02-14T20:43:44.722500",
     "status": "completed"
    },
    "tags": []
   },
   "source": [
    "Числовые признаки"
   ]
  },
  {
   "cell_type": "code",
   "execution_count": 207,
   "metadata": {
    "papermill": {
     "duration": 0.071858,
     "end_time": "2021-02-14T20:43:44.910357",
     "exception": false,
     "start_time": "2021-02-14T20:43:44.838499",
     "status": "completed"
    },
    "tags": []
   },
   "outputs": [
    {
     "data": {
      "text/plain": [
       "0    01FEB2014\n",
       "1    12MAR2014\n",
       "2    01FEB2014\n",
       "3    23JAN2014\n",
       "4    18APR2014\n",
       "Name: app_date, dtype: object"
      ]
     },
     "execution_count": 207,
     "metadata": {},
     "output_type": "execute_result"
    }
   ],
   "source": [
    "# Думаю, что дату подачи заявки надо отнести к числовым признакам\n",
    "df_train.app_date.head()"
   ]
  },
  {
   "cell_type": "code",
   "execution_count": 208,
   "metadata": {
    "papermill": {
     "duration": 0.069045,
     "end_time": "2021-02-14T20:43:45.038060",
     "exception": false,
     "start_time": "2021-02-14T20:43:44.969015",
     "status": "completed"
    },
    "tags": []
   },
   "outputs": [],
   "source": [
    "# Один из вариантов преобразования - привести к timestamp\n",
    "def strdate_to_int(data):\n",
    "    data.app_date = data.app_date.apply(lambda x: int(datetime.strptime(x,'%d%b%Y').timestamp()))\n",
    "    return data"
   ]
  },
  {
   "cell_type": "code",
   "execution_count": 209,
   "metadata": {
    "papermill": {
     "duration": 2.255866,
     "end_time": "2021-02-14T20:43:47.352290",
     "exception": false,
     "start_time": "2021-02-14T20:43:45.096424",
     "status": "completed"
    },
    "tags": []
   },
   "outputs": [],
   "source": [
    "df_train = strdate_to_int(df_train)\n",
    "df_test = strdate_to_int(df_test)\n",
    "num_cols.append('app_date')"
   ]
  },
  {
   "cell_type": "code",
   "execution_count": 210,
   "metadata": {
    "papermill": {
     "duration": 1.162668,
     "end_time": "2021-02-14T20:43:48.574579",
     "exception": false,
     "start_time": "2021-02-14T20:43:47.411911",
     "status": "completed"
    },
    "tags": []
   },
   "outputs": [
    {
     "data": {
      "text/plain": [
       "array([[<AxesSubplot:title={'center':'age'}>,\n",
       "        <AxesSubplot:title={'center':'score_bki'}>,\n",
       "        <AxesSubplot:title={'center':'decline_app_cnt'}>],\n",
       "       [<AxesSubplot:title={'center':'bki_request_cnt'}>,\n",
       "        <AxesSubplot:title={'center':'region_rating'}>,\n",
       "        <AxesSubplot:title={'center':'income'}>],\n",
       "       [<AxesSubplot:title={'center':'app_date'}>, <AxesSubplot:>,\n",
       "        <AxesSubplot:>]], dtype=object)"
      ]
     },
     "execution_count": 210,
     "metadata": {},
     "output_type": "execute_result"
    },
    {
     "data": {
      "image/png": "[encoded data removed]",
      "text/plain": [
       "<Figure size 432x288 with 9 Axes>"
      ]
     },
     "metadata": {
      "needs_background": "light"
     },
     "output_type": "display_data"
    }
   ],
   "source": [
    "df_train[num_cols].hist()"
   ]
  },
  {
   "cell_type": "code",
   "execution_count": 211,
   "metadata": {
    "papermill": {
     "duration": 0.069833,
     "end_time": "2021-02-14T20:43:48.704000",
     "exception": false,
     "start_time": "2021-02-14T20:43:48.634167",
     "status": "completed"
    },
    "tags": []
   },
   "outputs": [],
   "source": [
    "# Попробуем привести к нормальному распределению путём логарифмирования\n",
    "def log_num_cols(data):\n",
    "    for i in ['age', 'decline_app_cnt', 'bki_request_cnt', 'region_rating', 'income']:\n",
    "        data[i] = np.log(data[i]+1)\n",
    "    return data"
   ]
  },
  {
   "cell_type": "code",
   "execution_count": 212,
   "metadata": {
    "papermill": {
     "duration": 0.148798,
     "end_time": "2021-02-14T20:43:48.913366",
     "exception": false,
     "start_time": "2021-02-14T20:43:48.764568",
     "status": "completed"
    },
    "tags": []
   },
   "outputs": [],
   "source": [
    "df_train = log_num_cols(df_train)\n",
    "df_test = log_num_cols(df_test)"
   ]
  },
  {
   "cell_type": "code",
   "execution_count": 213,
   "metadata": {
    "papermill": {
     "duration": 1.020273,
     "end_time": "2021-02-14T20:43:50.005134",
     "exception": false,
     "start_time": "2021-02-14T20:43:48.984861",
     "status": "completed"
    },
    "tags": []
   },
   "outputs": [
    {
     "data": {
      "text/plain": [
       "array([[<AxesSubplot:title={'center':'age'}>,\n",
       "        <AxesSubplot:title={'center':'score_bki'}>,\n",
       "        <AxesSubplot:title={'center':'decline_app_cnt'}>],\n",
       "       [<AxesSubplot:title={'center':'bki_request_cnt'}>,\n",
       "        <AxesSubplot:title={'center':'region_rating'}>,\n",
       "        <AxesSubplot:title={'center':'income'}>],\n",
       "       [<AxesSubplot:title={'center':'app_date'}>, <AxesSubplot:>,\n",
       "        <AxesSubplot:>]], dtype=object)"
      ]
     },
     "execution_count": 213,
     "metadata": {},
     "output_type": "execute_result"
    },
    {
     "data": {
      "image/png": "[encoded data removed]",
      "text/plain": [
       "<Figure size 432x288 with 9 Axes>"
      ]
     },
     "metadata": {
      "needs_background": "light"
     },
     "output_type": "display_data"
    }
   ],
   "source": [
    "df_train[num_cols].hist()"
   ]
  },
  {
   "cell_type": "code",
   "execution_count": 214,
   "metadata": {
    "papermill": {
     "duration": 1.346717,
     "end_time": "2021-02-14T20:43:51.413527",
     "exception": false,
     "start_time": "2021-02-14T20:43:50.066810",
     "status": "completed"
    },
    "tags": []
   },
   "outputs": [
    {
     "name": "stderr",
     "output_type": "stream",
     "text": [
      "C:\\Users\\belichenko.as\\Anaconda3\\lib\\site-packages\\seaborn\\_decorators.py:36: FutureWarning: Pass the following variable as a keyword arg: x. From version 0.12, the only valid positional argument will be `data`, and passing other arguments without an explicit keyword will result in an error or misinterpretation.\n",
      "  warnings.warn(\n"
     ]
    },
    {
     "data": {
      "image/png": "[encoded data removed]",
      "text/plain": [
       "<Figure size 432x288 with 1 Axes>"
      ]
     },
     "metadata": {
      "needs_background": "light"
     },
     "output_type": "display_data"
    },
    {
     "name": "stderr",
     "output_type": "stream",
     "text": [
      "C:\\Users\\belichenko.as\\Anaconda3\\lib\\site-packages\\seaborn\\_decorators.py:36: FutureWarning: Pass the following variable as a keyword arg: x. From version 0.12, the only valid positional argument will be `data`, and passing other arguments without an explicit keyword will result in an error or misinterpretation.\n",
      "  warnings.warn(\n"
     ]
    },
    {
     "data": {
      "image/png": "[encoded data removed]",
      "text/plain": [
       "<Figure size 432x288 with 1 Axes>"
      ]
     },
     "metadata": {
      "needs_background": "light"
     },
     "output_type": "display_data"
    },
    {
     "name": "stderr",
     "output_type": "stream",
     "text": [
      "C:\\Users\\belichenko.as\\Anaconda3\\lib\\site-packages\\seaborn\\_decorators.py:36: FutureWarning: Pass the following variable as a keyword arg: x. From version 0.12, the only valid positional argument will be `data`, and passing other arguments without an explicit keyword will result in an error or misinterpretation.\n",
      "  warnings.warn(\n"
     ]
    },
    {
     "data": {
      "image/png": "[encoded data removed]",
      "text/plain": [
       "<Figure size 432x288 with 1 Axes>"
      ]
     },
     "metadata": {
      "needs_background": "light"
     },
     "output_type": "display_data"
    },
    {
     "name": "stderr",
     "output_type": "stream",
     "text": [
      "C:\\Users\\belichenko.as\\Anaconda3\\lib\\site-packages\\seaborn\\_decorators.py:36: FutureWarning: Pass the following variable as a keyword arg: x. From version 0.12, the only valid positional argument will be `data`, and passing other arguments without an explicit keyword will result in an error or misinterpretation.\n",
      "  warnings.warn(\n"
     ]
    },
    {
     "data": {
      "image/png": "[encoded data removed]",
      "text/plain": [
       "<Figure size 432x288 with 1 Axes>"
      ]
     },
     "metadata": {
      "needs_background": "light"
     },
     "output_type": "display_data"
    },
    {
     "name": "stderr",
     "output_type": "stream",
     "text": [
      "C:\\Users\\belichenko.as\\Anaconda3\\lib\\site-packages\\seaborn\\_decorators.py:36: FutureWarning: Pass the following variable as a keyword arg: x. From version 0.12, the only valid positional argument will be `data`, and passing other arguments without an explicit keyword will result in an error or misinterpretation.\n",
      "  warnings.warn(\n"
     ]
    },
    {
     "data": {
      "image/png": "[encoded data removed]",
      "text/plain": [
       "<Figure size 432x288 with 1 Axes>"
      ]
     },
     "metadata": {
      "needs_background": "light"
     },
     "output_type": "display_data"
    },
    {
     "name": "stderr",
     "output_type": "stream",
     "text": [
      "C:\\Users\\belichenko.as\\Anaconda3\\lib\\site-packages\\seaborn\\_decorators.py:36: FutureWarning: Pass the following variable as a keyword arg: x. From version 0.12, the only valid positional argument will be `data`, and passing other arguments without an explicit keyword will result in an error or misinterpretation.\n",
      "  warnings.warn(\n"
     ]
    },
    {
     "data": {
      "image/png": "[encoded data removed]",
      "text/plain": [
       "<Figure size 432x288 with 1 Axes>"
      ]
     },
     "metadata": {
      "needs_background": "light"
     },
     "output_type": "display_data"
    },
    {
     "name": "stderr",
     "output_type": "stream",
     "text": [
      "C:\\Users\\belichenko.as\\Anaconda3\\lib\\site-packages\\seaborn\\_decorators.py:36: FutureWarning: Pass the following variable as a keyword arg: x. From version 0.12, the only valid positional argument will be `data`, and passing other arguments without an explicit keyword will result in an error or misinterpretation.\n",
      "  warnings.warn(\n"
     ]
    },
    {
     "data": {
      "image/png": "[encoded data removed]",
      "text/plain": [
       "<Figure size 432x288 with 1 Axes>"
      ]
     },
     "metadata": {
      "needs_background": "light"
     },
     "output_type": "display_data"
    }
   ],
   "source": [
    "# Проверим выбросы\n",
    "for i in num_cols:\n",
    "    plt.figure()\n",
    "    sns.boxplot(df_train[i][df_train[i] > 0].dropna())\n",
    "    plt.title(i)\n",
    "    plt.show()"
   ]
  },
  {
   "cell_type": "markdown",
   "metadata": {
    "papermill": {
     "duration": 0.06875,
     "end_time": "2021-02-14T20:43:51.552325",
     "exception": false,
     "start_time": "2021-02-14T20:43:51.483575",
     "status": "completed"
    },
    "tags": []
   },
   "source": [
    "decline_app_cnt, bki_request_cnt, income содержат заметное количество выбросов."
   ]
  },
  {
   "cell_type": "code",
   "execution_count": 215,
   "metadata": {
    "papermill": {
     "duration": 0.079874,
     "end_time": "2021-02-14T20:43:51.701556",
     "exception": false,
     "start_time": "2021-02-14T20:43:51.621682",
     "status": "completed"
    },
    "tags": []
   },
   "outputs": [],
   "source": [
    "# Функция для расчёта границ выбросов\n",
    "def emissions(col):\n",
    "    median = col.median()\n",
    "    IQR = col.quantile(0.75) - col.quantile(0.25)\n",
    "    perc25 = col.quantile(0.25)\n",
    "    perc75 = col.quantile(0.75)\n",
    "    return perc25 - 1.5*IQR, perc75 + 1.5*IQR"
   ]
  },
  {
   "cell_type": "code",
   "execution_count": 216,
   "metadata": {
    "papermill": {
     "duration": 0.078325,
     "end_time": "2021-02-14T20:43:51.849394",
     "exception": false,
     "start_time": "2021-02-14T20:43:51.771069",
     "status": "completed"
    },
    "tags": []
   },
   "outputs": [],
   "source": [
    "# Отсечение выбросов decline_app_cnt. Сильно отбросило назад. Убираем.\n",
    "#emiss = emissions(df_train['decline_app_cnt'])\n",
    "\n",
    "#df_train = df_train[df_train.decline_app_cnt.between(emiss[0],emiss[1])]"
   ]
  },
  {
   "cell_type": "code",
   "execution_count": 217,
   "metadata": {
    "papermill": {
     "duration": 0.102999,
     "end_time": "2021-02-14T20:43:52.022520",
     "exception": false,
     "start_time": "2021-02-14T20:43:51.919521",
     "status": "completed"
    },
    "tags": []
   },
   "outputs": [],
   "source": [
    "# На итоговом тестировании падают показатели.\n",
    "# emiss = emissions(df_train['bki_request_cnt'])\n",
    "\n",
    "#df_train = df_train[df_train.bki_request_cnt.between(emiss[0],emiss[1])]"
   ]
  },
  {
   "cell_type": "code",
   "execution_count": 218,
   "metadata": {
    "papermill": {
     "duration": 0.102416,
     "end_time": "2021-02-14T20:43:52.194720",
     "exception": false,
     "start_time": "2021-02-14T20:43:52.092304",
     "status": "completed"
    },
    "tags": []
   },
   "outputs": [],
   "source": [
    "# На итоговом тестировании падают показатели.\n",
    "# emiss = emissions(df_train['income'])\n",
    "\n",
    "#df_train = df_train[df_train.income.between(emiss[0],emiss[1])]"
   ]
  },
  {
   "cell_type": "code",
   "execution_count": 219,
   "metadata": {
    "papermill": {
     "duration": 0.468525,
     "end_time": "2021-02-14T20:43:52.734306",
     "exception": false,
     "start_time": "2021-02-14T20:43:52.265781",
     "status": "completed"
    },
    "tags": []
   },
   "outputs": [
    {
     "data": {
      "text/plain": [
       "<AxesSubplot:>"
      ]
     },
     "execution_count": 219,
     "metadata": {},
     "output_type": "execute_result"
    },
    {
     "data": {
      "image/png": "[encoded data removed]",
      "text/plain": [
       "<Figure size 432x288 with 2 Axes>"
      ]
     },
     "metadata": {
      "needs_background": "light"
     },
     "output_type": "display_data"
    }
   ],
   "source": [
    "# Проверим корреляцию числовых признаков\n",
    "sns.heatmap(df_train.dropna()[num_cols + ['default']].corr().abs(), vmin=0, vmax=1)"
   ]
  },
  {
   "cell_type": "code",
   "execution_count": 220,
   "metadata": {
    "papermill": {
     "duration": 0.081866,
     "end_time": "2021-02-14T20:43:52.889163",
     "exception": false,
     "start_time": "2021-02-14T20:43:52.807297",
     "status": "completed"
    },
    "tags": []
   },
   "outputs": [],
   "source": [
    "def num_scaler(data):\n",
    "    # Стандартизация числовых переменных\n",
    "    data[num_cols] = StandardScaler().fit_transform(data[num_cols].values)\n",
    "    return data"
   ]
  },
  {
   "cell_type": "code",
   "execution_count": 221,
   "metadata": {
    "papermill": {
     "duration": 0.455582,
     "end_time": "2021-02-14T20:43:53.416096",
     "exception": false,
     "start_time": "2021-02-14T20:43:52.960514",
     "status": "completed"
    },
    "tags": []
   },
   "outputs": [],
   "source": [
    "df_train = num_scaler(df_train)\n",
    "df_test = num_scaler(df_test)"
   ]
  },
  {
   "cell_type": "code",
   "execution_count": 222,
   "metadata": {
    "papermill": {
     "duration": 0.0813,
     "end_time": "2021-02-14T20:43:53.570813",
     "exception": false,
     "start_time": "2021-02-14T20:43:53.489513",
     "status": "completed"
    },
    "tags": []
   },
   "outputs": [],
   "source": [
    "# Добавим полиномиальных признаков\n",
    "def calculate_poly(data):\n",
    "    # список новых признаков\n",
    "    columns = list()\n",
    "    \n",
    "    poly = PolynomialFeatures(degree=2)\n",
    "    X_poly = poly.fit_transform(data)\n",
    "    # Преобразуем в df\n",
    "    df_poly = pd.DataFrame(X_poly)\n",
    "    \n",
    "    for x in df_poly.columns:\n",
    "        columns.append(x)\n",
    "    \n",
    "    return df_poly, columns"
   ]
  },
  {
   "cell_type": "code",
   "execution_count": 223,
   "metadata": {
    "papermill": {
     "duration": 0.442537,
     "end_time": "2021-02-14T20:43:54.085076",
     "exception": false,
     "start_time": "2021-02-14T20:43:53.642539",
     "status": "completed"
    },
    "tags": []
   },
   "outputs": [
    {
     "data": {
      "text/html": [
       "<div>\n",
       "<style scoped>\n",
       "    .dataframe tbody tr th:only-of-type {\n",
       "        vertical-align: middle;\n",
       "    }\n",
       "\n",
       "    .dataframe tbody tr th {\n",
       "        vertical-align: top;\n",
       "    }\n",
       "\n",
       "    .dataframe thead th {\n",
       "        text-align: right;\n",
       "    }\n",
       "</style>\n",
       "<table border=\"1\" class=\"dataframe\">\n",
       "  <thead>\n",
       "    <tr style=\"text-align: right;\">\n",
       "      <th></th>\n",
       "      <th>client_id</th>\n",
       "      <th>app_date</th>\n",
       "      <th>education</th>\n",
       "      <th>sex</th>\n",
       "      <th>age</th>\n",
       "      <th>car</th>\n",
       "      <th>car_type</th>\n",
       "      <th>decline_app_cnt</th>\n",
       "      <th>good_work</th>\n",
       "      <th>score_bki</th>\n",
       "      <th>...</th>\n",
       "      <th>26</th>\n",
       "      <th>27</th>\n",
       "      <th>28</th>\n",
       "      <th>29</th>\n",
       "      <th>30</th>\n",
       "      <th>31</th>\n",
       "      <th>32</th>\n",
       "      <th>33</th>\n",
       "      <th>34</th>\n",
       "      <th>35</th>\n",
       "    </tr>\n",
       "  </thead>\n",
       "  <tbody>\n",
       "    <tr>\n",
       "      <th>85670</th>\n",
       "      <td>31240</td>\n",
       "      <td>-0.747335</td>\n",
       "      <td>3</td>\n",
       "      <td>0</td>\n",
       "      <td>0.533644</td>\n",
       "      <td>0</td>\n",
       "      <td>0</td>\n",
       "      <td>3.417839</td>\n",
       "      <td>0</td>\n",
       "      <td>0.533368</td>\n",
       "      <td>...</td>\n",
       "      <td>0.111420</td>\n",
       "      <td>0.118554</td>\n",
       "      <td>-0.349747</td>\n",
       "      <td>-0.249458</td>\n",
       "      <td>0.126144</td>\n",
       "      <td>-0.372139</td>\n",
       "      <td>-0.265429</td>\n",
       "      <td>1.097849</td>\n",
       "      <td>0.783045</td>\n",
       "      <td>0.558510</td>\n",
       "    </tr>\n",
       "    <tr>\n",
       "      <th>65297</th>\n",
       "      <td>61647</td>\n",
       "      <td>0.250298</td>\n",
       "      <td>3</td>\n",
       "      <td>1</td>\n",
       "      <td>1.040852</td>\n",
       "      <td>0</td>\n",
       "      <td>0</td>\n",
       "      <td>-0.418815</td>\n",
       "      <td>0</td>\n",
       "      <td>-0.012254</td>\n",
       "      <td>...</td>\n",
       "      <td>0.079406</td>\n",
       "      <td>-0.454755</td>\n",
       "      <td>-0.149119</td>\n",
       "      <td>-0.070531</td>\n",
       "      <td>2.604372</td>\n",
       "      <td>0.854003</td>\n",
       "      <td>0.403932</td>\n",
       "      <td>0.280038</td>\n",
       "      <td>0.132454</td>\n",
       "      <td>0.062649</td>\n",
       "    </tr>\n",
       "    <tr>\n",
       "      <th>101583</th>\n",
       "      <td>51480</td>\n",
       "      <td>-0.092638</td>\n",
       "      <td>1</td>\n",
       "      <td>0</td>\n",
       "      <td>-1.007707</td>\n",
       "      <td>0</td>\n",
       "      <td>0</td>\n",
       "      <td>1.499512</td>\n",
       "      <td>1</td>\n",
       "      <td>-0.632547</td>\n",
       "      <td>...</td>\n",
       "      <td>0.079406</td>\n",
       "      <td>0.123856</td>\n",
       "      <td>0.014888</td>\n",
       "      <td>0.026105</td>\n",
       "      <td>0.193188</td>\n",
       "      <td>0.023222</td>\n",
       "      <td>0.040717</td>\n",
       "      <td>0.002791</td>\n",
       "      <td>0.004894</td>\n",
       "      <td>0.008582</td>\n",
       "    </tr>\n",
       "    <tr>\n",
       "      <th>100092</th>\n",
       "      <td>22957</td>\n",
       "      <td>-0.996743</td>\n",
       "      <td>3</td>\n",
       "      <td>1</td>\n",
       "      <td>-0.059496</td>\n",
       "      <td>1</td>\n",
       "      <td>0</td>\n",
       "      <td>-0.418815</td>\n",
       "      <td>0</td>\n",
       "      <td>-1.235218</td>\n",
       "      <td>...</td>\n",
       "      <td>0.593768</td>\n",
       "      <td>0.273679</td>\n",
       "      <td>0.160952</td>\n",
       "      <td>-0.768054</td>\n",
       "      <td>0.126144</td>\n",
       "      <td>0.074186</td>\n",
       "      <td>-0.354011</td>\n",
       "      <td>0.043629</td>\n",
       "      <td>-0.208196</td>\n",
       "      <td>0.993497</td>\n",
       "    </tr>\n",
       "    <tr>\n",
       "      <th>71167</th>\n",
       "      <td>70588</td>\n",
       "      <td>0.468530</td>\n",
       "      <td>3</td>\n",
       "      <td>0</td>\n",
       "      <td>-1.671590</td>\n",
       "      <td>0</td>\n",
       "      <td>0</td>\n",
       "      <td>-0.418815</td>\n",
       "      <td>1</td>\n",
       "      <td>1.386716</td>\n",
       "      <td>...</td>\n",
       "      <td>0.079406</td>\n",
       "      <td>-0.100083</td>\n",
       "      <td>0.014888</td>\n",
       "      <td>-0.132027</td>\n",
       "      <td>0.126144</td>\n",
       "      <td>-0.018765</td>\n",
       "      <td>0.166407</td>\n",
       "      <td>0.002791</td>\n",
       "      <td>-0.024754</td>\n",
       "      <td>0.219520</td>\n",
       "    </tr>\n",
       "    <tr>\n",
       "      <th>84329</th>\n",
       "      <td>79088</td>\n",
       "      <td>0.749114</td>\n",
       "      <td>3</td>\n",
       "      <td>0</td>\n",
       "      <td>0.120447</td>\n",
       "      <td>0</td>\n",
       "      <td>0</td>\n",
       "      <td>-0.418815</td>\n",
       "      <td>0</td>\n",
       "      <td>-0.270417</td>\n",
       "      <td>...</td>\n",
       "      <td>1.921413</td>\n",
       "      <td>2.236979</td>\n",
       "      <td>0.233482</td>\n",
       "      <td>1.038385</td>\n",
       "      <td>2.604372</td>\n",
       "      <td>0.271828</td>\n",
       "      <td>1.208925</td>\n",
       "      <td>0.028372</td>\n",
       "      <td>0.126180</td>\n",
       "      <td>0.561172</td>\n",
       "    </tr>\n",
       "    <tr>\n",
       "      <th>47340</th>\n",
       "      <td>62497</td>\n",
       "      <td>0.250298</td>\n",
       "      <td>3</td>\n",
       "      <td>1</td>\n",
       "      <td>1.483906</td>\n",
       "      <td>0</td>\n",
       "      <td>0</td>\n",
       "      <td>-0.418815</td>\n",
       "      <td>0</td>\n",
       "      <td>-0.606314</td>\n",
       "      <td>...</td>\n",
       "      <td>0.079406</td>\n",
       "      <td>-0.454755</td>\n",
       "      <td>0.014888</td>\n",
       "      <td>-0.070531</td>\n",
       "      <td>2.604372</td>\n",
       "      <td>-0.085264</td>\n",
       "      <td>0.403932</td>\n",
       "      <td>0.002791</td>\n",
       "      <td>-0.013224</td>\n",
       "      <td>0.062649</td>\n",
       "    </tr>\n",
       "    <tr>\n",
       "      <th>43253</th>\n",
       "      <td>108594</td>\n",
       "      <td>1.746747</td>\n",
       "      <td>1</td>\n",
       "      <td>1</td>\n",
       "      <td>-0.347997</td>\n",
       "      <td>0</td>\n",
       "      <td>0</td>\n",
       "      <td>-0.418815</td>\n",
       "      <td>0</td>\n",
       "      <td>0.009680</td>\n",
       "      <td>...</td>\n",
       "      <td>0.079406</td>\n",
       "      <td>-0.100083</td>\n",
       "      <td>0.088635</td>\n",
       "      <td>-0.492216</td>\n",
       "      <td>0.126144</td>\n",
       "      <td>-0.111716</td>\n",
       "      <td>0.620389</td>\n",
       "      <td>0.098937</td>\n",
       "      <td>-0.549427</td>\n",
       "      <td>3.051125</td>\n",
       "    </tr>\n",
       "    <tr>\n",
       "      <th>94885</th>\n",
       "      <td>81459</td>\n",
       "      <td>0.811466</td>\n",
       "      <td>3</td>\n",
       "      <td>1</td>\n",
       "      <td>-0.347997</td>\n",
       "      <td>0</td>\n",
       "      <td>0</td>\n",
       "      <td>-0.418815</td>\n",
       "      <td>0</td>\n",
       "      <td>-1.354933</td>\n",
       "      <td>...</td>\n",
       "      <td>0.593768</td>\n",
       "      <td>0.273679</td>\n",
       "      <td>-0.040712</td>\n",
       "      <td>0.625286</td>\n",
       "      <td>0.126144</td>\n",
       "      <td>-0.018765</td>\n",
       "      <td>0.288207</td>\n",
       "      <td>0.002791</td>\n",
       "      <td>-0.042873</td>\n",
       "      <td>0.658477</td>\n",
       "    </tr>\n",
       "    <tr>\n",
       "      <th>31163</th>\n",
       "      <td>32062</td>\n",
       "      <td>-0.747335</td>\n",
       "      <td>3</td>\n",
       "      <td>0</td>\n",
       "      <td>-0.773745</td>\n",
       "      <td>0</td>\n",
       "      <td>0</td>\n",
       "      <td>-0.418815</td>\n",
       "      <td>0</td>\n",
       "      <td>-0.789401</td>\n",
       "      <td>...</td>\n",
       "      <td>0.079406</td>\n",
       "      <td>0.123856</td>\n",
       "      <td>0.178893</td>\n",
       "      <td>0.210592</td>\n",
       "      <td>0.193188</td>\n",
       "      <td>0.279034</td>\n",
       "      <td>0.328477</td>\n",
       "      <td>0.403029</td>\n",
       "      <td>0.474442</td>\n",
       "      <td>0.558510</td>\n",
       "    </tr>\n",
       "  </tbody>\n",
       "</table>\n",
       "<p>10 rows × 57 columns</p>\n",
       "</div>"
      ],
      "text/plain": [
       "        client_id  app_date  education  sex       age  car  car_type  \\\n",
       "85670       31240 -0.747335          3    0  0.533644    0         0   \n",
       "65297       61647  0.250298          3    1  1.040852    0         0   \n",
       "101583      51480 -0.092638          1    0 -1.007707    0         0   \n",
       "100092      22957 -0.996743          3    1 -0.059496    1         0   \n",
       "71167       70588  0.468530          3    0 -1.671590    0         0   \n",
       "84329       79088  0.749114          3    0  0.120447    0         0   \n",
       "47340       62497  0.250298          3    1  1.483906    0         0   \n",
       "43253      108594  1.746747          1    1 -0.347997    0         0   \n",
       "94885       81459  0.811466          3    1 -0.347997    0         0   \n",
       "31163       32062 -0.747335          3    0 -0.773745    0         0   \n",
       "\n",
       "        decline_app_cnt  good_work  score_bki  ...        26        27  \\\n",
       "85670          3.417839          0   0.533368  ...  0.111420  0.118554   \n",
       "65297         -0.418815          0  -0.012254  ...  0.079406 -0.454755   \n",
       "101583         1.499512          1  -0.632547  ...  0.079406  0.123856   \n",
       "100092        -0.418815          0  -1.235218  ...  0.593768  0.273679   \n",
       "71167         -0.418815          1   1.386716  ...  0.079406 -0.100083   \n",
       "84329         -0.418815          0  -0.270417  ...  1.921413  2.236979   \n",
       "47340         -0.418815          0  -0.606314  ...  0.079406 -0.454755   \n",
       "43253         -0.418815          0   0.009680  ...  0.079406 -0.100083   \n",
       "94885         -0.418815          0  -1.354933  ...  0.593768  0.273679   \n",
       "31163         -0.418815          0  -0.789401  ...  0.079406  0.123856   \n",
       "\n",
       "              28        29        30        31        32        33        34  \\\n",
       "85670  -0.349747 -0.249458  0.126144 -0.372139 -0.265429  1.097849  0.783045   \n",
       "65297  -0.149119 -0.070531  2.604372  0.854003  0.403932  0.280038  0.132454   \n",
       "101583  0.014888  0.026105  0.193188  0.023222  0.040717  0.002791  0.004894   \n",
       "100092  0.160952 -0.768054  0.126144  0.074186 -0.354011  0.043629 -0.208196   \n",
       "71167   0.014888 -0.132027  0.126144 -0.018765  0.166407  0.002791 -0.024754   \n",
       "84329   0.233482  1.038385  2.604372  0.271828  1.208925  0.028372  0.126180   \n",
       "47340   0.014888 -0.070531  2.604372 -0.085264  0.403932  0.002791 -0.013224   \n",
       "43253   0.088635 -0.492216  0.126144 -0.111716  0.620389  0.098937 -0.549427   \n",
       "94885  -0.040712  0.625286  0.126144 -0.018765  0.288207  0.002791 -0.042873   \n",
       "31163   0.178893  0.210592  0.193188  0.279034  0.328477  0.403029  0.474442   \n",
       "\n",
       "              35  \n",
       "85670   0.558510  \n",
       "65297   0.062649  \n",
       "101583  0.008582  \n",
       "100092  0.993497  \n",
       "71167   0.219520  \n",
       "84329   0.561172  \n",
       "47340   0.062649  \n",
       "43253   3.051125  \n",
       "94885   0.658477  \n",
       "31163   0.558510  \n",
       "\n",
       "[10 rows x 57 columns]"
      ]
     },
     "execution_count": 223,
     "metadata": {},
     "output_type": "execute_result"
    }
   ],
   "source": [
    "df_poly, poly_columns = calculate_poly(df_train[num_cols])\n",
    "df_train = pd.concat([df_train, df_poly], axis=1)\n",
    "df_train.sample(10)"
   ]
  },
  {
   "cell_type": "code",
   "execution_count": 224,
   "metadata": {
    "papermill": {
     "duration": 0.136559,
     "end_time": "2021-02-14T20:43:54.450739",
     "exception": false,
     "start_time": "2021-02-14T20:43:54.314180",
     "status": "completed"
    },
    "tags": []
   },
   "outputs": [],
   "source": [
    "# И тоже самое для тестовых данных\n",
    "df_poly, poly_columns = calculate_poly(df_test[num_cols])\n",
    "df_test = pd.concat([df_test, df_poly], axis=1)"
   ]
  },
  {
   "cell_type": "code",
   "execution_count": 225,
   "metadata": {
    "papermill": {
     "duration": 0.083718,
     "end_time": "2021-02-14T20:43:54.608502",
     "exception": false,
     "start_time": "2021-02-14T20:43:54.524784",
     "status": "completed"
    },
    "tags": []
   },
   "outputs": [],
   "source": [
    "# Расширяем список числовых колонок\n",
    "num_cols += poly_columns"
   ]
  },
  {
   "cell_type": "markdown",
   "metadata": {
    "papermill": {
     "duration": 0.073866,
     "end_time": "2021-02-14T20:43:54.756486",
     "exception": false,
     "start_time": "2021-02-14T20:43:54.682620",
     "status": "completed"
    },
    "tags": []
   },
   "source": [
    "Перед обучением модели, преобразуем ещё категориальные признаки с помощью OneHotEncoder"
   ]
  },
  {
   "cell_type": "code",
   "execution_count": 226,
   "metadata": {
    "papermill": {
     "duration": 0.083663,
     "end_time": "2021-02-14T20:43:54.914967",
     "exception": false,
     "start_time": "2021-02-14T20:43:54.831304",
     "status": "completed"
    },
    "tags": []
   },
   "outputs": [],
   "source": [
    "def cat_o_h_e(data):\n",
    "    cat = OneHotEncoder(sparse = False).fit_transform(data[cat_cols].values)\n",
    "    return cat"
   ]
  },
  {
   "cell_type": "code",
   "execution_count": 227,
   "metadata": {
    "papermill": {
     "duration": 0.197563,
     "end_time": "2021-02-14T20:43:55.186221",
     "exception": false,
     "start_time": "2021-02-14T20:43:54.988658",
     "status": "completed"
    },
    "tags": []
   },
   "outputs": [],
   "source": [
    "# Для тренировочных данных исключаем тестовые\n",
    "X_cat = cat_o_h_e(df_train[df_train.test==0])\n",
    "# Тестовые\n",
    "XT_cat = cat_o_h_e(df_test)"
   ]
  },
  {
   "cell_type": "code",
   "execution_count": 228,
   "metadata": {
    "papermill": {
     "duration": 0.083878,
     "end_time": "2021-02-14T20:43:55.344393",
     "exception": false,
     "start_time": "2021-02-14T20:43:55.260515",
     "status": "completed"
    },
    "tags": []
   },
   "outputs": [],
   "source": [
    "# Собираем обработанные данные.\n",
    "def hstack(data, cat):\n",
    "    X = np.hstack([data[bin_cols + num_cols].values, cat])\n",
    "    return X"
   ]
  },
  {
   "cell_type": "code",
   "execution_count": 229,
   "metadata": {
    "papermill": {
     "duration": 0.231561,
     "end_time": "2021-02-14T20:43:55.650411",
     "exception": false,
     "start_time": "2021-02-14T20:43:55.418850",
     "status": "completed"
    },
    "tags": []
   },
   "outputs": [],
   "source": [
    "X = hstack(df_train[df_train.test==0], X_cat)\n",
    "Y = df_train[df_train.test==0]['default'].values\n",
    "\n",
    "XT = hstack(df_test, XT_cat)"
   ]
  },
  {
   "cell_type": "code",
   "execution_count": 230,
   "metadata": {
    "papermill": {
     "duration": 0.12112,
     "end_time": "2021-02-14T20:43:55.846106",
     "exception": false,
     "start_time": "2021-02-14T20:43:55.724986",
     "status": "completed"
    },
    "tags": []
   },
   "outputs": [],
   "source": [
    "# Разбиваем на тренировочные и валидационные данные. \n",
    "X_train, X_test, y_train, y_test = train_test_split(X, Y, test_size=0.20, random_state=42)"
   ]
  },
  {
   "cell_type": "markdown",
   "metadata": {
    "papermill": {
     "duration": 0.077298,
     "end_time": "2021-02-14T20:43:55.997454",
     "exception": false,
     "start_time": "2021-02-14T20:43:55.920156",
     "status": "completed"
    },
    "tags": []
   },
   "source": [
    "sm = SMOTE (#sampling_strategy = 0.9,\n",
    "    random_state=0,\n",
    "    k_neighbors=4)\n",
    "X_train_res, y_train_res = sm.fit_sample(X_train, y_train) "
   ]
  },
  {
   "cell_type": "markdown",
   "metadata": {
    "papermill": {
     "duration": 0.07344,
     "end_time": "2021-02-14T20:43:56.145024",
     "exception": false,
     "start_time": "2021-02-14T20:43:56.071584",
     "status": "completed"
    },
    "tags": []
   },
   "source": [
    "ros = RandomOverSampler(random_state=0) \n",
    "X_train, y_train = ros.fit_sample(X_train, y_train)"
   ]
  },
  {
   "cell_type": "code",
   "execution_count": 231,
   "metadata": {
    "papermill": {
     "duration": 2.06909,
     "end_time": "2021-02-14T20:43:58.287937",
     "exception": false,
     "start_time": "2021-02-14T20:43:56.218847",
     "status": "completed"
    },
    "tags": []
   },
   "outputs": [
    {
     "name": "stderr",
     "output_type": "stream",
     "text": [
      "C:\\Users\\belichenko.as\\Anaconda3\\lib\\site-packages\\sklearn\\linear_model\\_logistic.py:762: ConvergenceWarning: lbfgs failed to converge (status=1):\n",
      "STOP: TOTAL NO. of ITERATIONS REACHED LIMIT.\n",
      "\n",
      "Increase the number of iterations (max_iter) or scale the data as shown in:\n",
      "    https://scikit-learn.org/stable/modules/preprocessing.html\n",
      "Please also refer to the documentation for alternative solver options:\n",
      "    https://scikit-learn.org/stable/modules/linear_model.html#logistic-regression\n",
      "  n_iter_i = _check_optimize_result(\n"
     ]
    },
    {
     "data": {
      "text/plain": [
       "LogisticRegression()"
      ]
     },
     "execution_count": 231,
     "metadata": {},
     "output_type": "execute_result"
    }
   ],
   "source": [
    "model = LogisticRegression()\n",
    "model.fit(X_train, y_train)"
   ]
  },
  {
   "cell_type": "code",
   "execution_count": 232,
   "metadata": {
    "papermill": {
     "duration": 0.337791,
     "end_time": "2021-02-14T20:43:58.745224",
     "exception": false,
     "start_time": "2021-02-14T20:43:58.407433",
     "status": "completed"
    },
    "tags": []
   },
   "outputs": [
    {
     "data": {
      "image/png": "[encoded data removed]",
      "text/plain": [
       "<Figure size 432x288 with 1 Axes>"
      ]
     },
     "metadata": {
      "needs_background": "light"
     },
     "output_type": "display_data"
    }
   ],
   "source": [
    "probs = model.predict_proba(X_test)\n",
    "probs = probs[:,1]\n",
    "\n",
    "y_predict = model.predict(X_test)\n",
    "\n",
    "fpr, tpr, threshold = roc_curve(y_test, probs)\n",
    "roc_auc = roc_auc_score(y_test, probs)\n",
    "\n",
    "plt.figure()\n",
    "plt.plot([0, 1], label='Baseline', linestyle='--')\n",
    "plt.plot(fpr, tpr, label = 'Regression')\n",
    "plt.title('Logistic Regression ROC AUC = %0.3f' % roc_auc)\n",
    "plt.ylabel('True Positive Rate')\n",
    "plt.xlabel('False Positive Rate')\n",
    "plt.legend(loc = 'lower right')\n",
    "plt.show()"
   ]
  },
  {
   "cell_type": "code",
   "execution_count": 233,
   "metadata": {
    "papermill": {
     "duration": 0.08654,
     "end_time": "2021-02-14T20:43:58.909913",
     "exception": false,
     "start_time": "2021-02-14T20:43:58.823373",
     "status": "completed"
    },
    "tags": []
   },
   "outputs": [],
   "source": [
    "def check_metrics(y_test, y_predict):\n",
    "    print('Matrix: \\n', confusion_matrix(y_test, y_predict))\n",
    "    print('F1_score: \\n',f1_score(y_test, y_predict))"
   ]
  },
  {
   "cell_type": "code",
   "execution_count": 234,
   "metadata": {
    "papermill": {
     "duration": 0.11663,
     "end_time": "2021-02-14T20:43:59.106920",
     "exception": false,
     "start_time": "2021-02-14T20:43:58.990290",
     "status": "completed"
    },
    "tags": []
   },
   "outputs": [
    {
     "name": "stdout",
     "output_type": "stream",
     "text": [
      "Matrix: \n",
      " [[12890    43]\n",
      " [ 1788    39]]\n",
      "F1_score: \n",
      " 0.040859088528025146\n"
     ]
    }
   ],
   "source": [
    "check_metrics(y_test, y_predict)"
   ]
  },
  {
   "cell_type": "markdown",
   "metadata": {},
   "source": [
    "Неплохой ROC AUC, но низкий F1_score и матрица показывает много ошибок первого рода."
   ]
  },
  {
   "cell_type": "code",
   "execution_count": 235,
   "metadata": {
    "papermill": {
     "duration": 410.832018,
     "end_time": "2021-02-14T20:50:50.015788",
     "exception": false,
     "start_time": "2021-02-14T20:43:59.183770",
     "status": "completed"
    },
    "tags": []
   },
   "outputs": [
    {
     "data": {
      "text/plain": [
       "{'C': 1.0,\n",
       " 'class_weight': 'balanced',\n",
       " 'dual': False,\n",
       " 'fit_intercept': True,\n",
       " 'intercept_scaling': 1,\n",
       " 'l1_ratio': None,\n",
       " 'max_iter': 100,\n",
       " 'multi_class': 'auto',\n",
       " 'n_jobs': None,\n",
       " 'penalty': 'l1',\n",
       " 'random_state': None,\n",
       " 'solver': 'liblinear',\n",
       " 'tol': 0.0001,\n",
       " 'verbose': 0,\n",
       " 'warm_start': False}"
      ]
     },
     "execution_count": 235,
     "metadata": {},
     "output_type": "execute_result"
    }
   ],
   "source": [
    "# Подберём гиперпараметры\n",
    "param_grid = [\n",
    "    {'penalty': ['l1'], \n",
    "     'solver': ['liblinear', 'lbfgs'], \n",
    "     'class_weight':['none', 'balanced'], \n",
    "     'multi_class': ['auto','ovr']}, \n",
    "    {'penalty': ['l2'], \n",
    "     'solver': ['newton-cg', 'lbfgs', 'liblinear', 'sag', 'saga'], \n",
    "     'class_weight':['none', 'balanced'], \n",
    "     'multi_class': ['auto','ovr']}, \n",
    "    {'penalty': ['none'], \n",
    "     'solver': ['newton-cg', 'lbfgs', 'sag', 'saga'], \n",
    "     'class_weight':['none', 'balanced'], \n",
    "     'multi_class': ['auto','ovr']}\n",
    "     ]\n",
    "     \n",
    "gridsearch = GridSearchCV(model, param_grid, scoring='f1', n_jobs=-1)\n",
    "gridsearch.fit(X_train, y_train)\n",
    "model = gridsearch.best_estimator_\n",
    "## печатаем параметры\n",
    "best_parameters = model.get_params()\n",
    "best_parameters"
   ]
  },
  {
   "cell_type": "code",
   "execution_count": 241,
   "metadata": {
    "papermill": {
     "duration": 2.440539,
     "end_time": "2021-02-14T20:50:52.533366",
     "exception": false,
     "start_time": "2021-02-14T20:50:50.092827",
     "status": "completed"
    },
    "tags": []
   },
   "outputs": [
    {
     "data": {
      "image/png": "[encoded data removed]",
      "text/plain": [
       "<Figure size 432x288 with 1 Axes>"
      ]
     },
     "metadata": {
      "needs_background": "light"
     },
     "output_type": "display_data"
    }
   ],
   "source": [
    "model = LogisticRegression(C=1.0,\n",
    "                            class_weight='balanced',\n",
    "                            dual=False,\n",
    "                            fit_intercept=True,\n",
    "                            intercept_scaling=1,\n",
    "                            l1_ratio=None,\n",
    "                            max_iter=100,\n",
    "                            multi_class='auto',\n",
    "                            n_jobs=None,\n",
    "                            penalty='l1',\n",
    "                            random_state=None,\n",
    "                            solver='liblinear',\n",
    "                            tol=0.0001,\n",
    "                            verbose=0,\n",
    "                            warm_start=False)\n",
    "model.fit(X_train, y_train)\n",
    "\n",
    "probs = model.predict_proba(X_test)\n",
    "probs = probs[:,1]\n",
    "\n",
    "y_predict = model.predict(X_test)\n",
    "\n",
    "fpr, tpr, threshold = roc_curve(y_test, probs)\n",
    "roc_auc = roc_auc_score(y_test, probs)\n",
    "\n",
    "plt.figure()\n",
    "plt.plot([0, 1], label='Baseline', linestyle='--')\n",
    "plt.plot(fpr, tpr, label = 'Regression')\n",
    "plt.title('Logistic Regression ROC AUC = %0.3f' % roc_auc)\n",
    "plt.ylabel('True Positive Rate')\n",
    "plt.xlabel('False Positive Rate')\n",
    "plt.legend(loc = 'lower right')\n",
    "plt.show()"
   ]
  },
  {
   "cell_type": "code",
   "execution_count": 242,
   "metadata": {
    "papermill": {
     "duration": 0.124207,
     "end_time": "2021-02-14T20:50:52.737679",
     "exception": false,
     "start_time": "2021-02-14T20:50:52.613472",
     "status": "completed"
    },
    "tags": []
   },
   "outputs": [
    {
     "name": "stdout",
     "output_type": "stream",
     "text": [
      "Matrix: \n",
      " [[8613 4320]\n",
      " [ 572 1255]]\n",
      "F1_score: \n",
      " 0.3390975412050797\n"
     ]
    }
   ],
   "source": [
    "check_metrics(y_test, y_predict)"
   ]
  },
  {
   "cell_type": "markdown",
   "metadata": {},
   "source": [
    "ROC AUC остался на уровне. F1-score значительно улучшился и судя по confusion-matrix ошибки первого рода значительно сократились, при этом выросли второго рода. Некий паритет."
   ]
  },
  {
   "cell_type": "code",
   "execution_count": 238,
   "metadata": {
    "papermill": {
     "duration": 0.131063,
     "end_time": "2021-02-14T20:50:52.949930",
     "exception": false,
     "start_time": "2021-02-14T20:50:52.818867",
     "status": "completed"
    },
    "tags": []
   },
   "outputs": [
    {
     "data": {
      "text/html": [
       "<div>\n",
       "<style scoped>\n",
       "    .dataframe tbody tr th:only-of-type {\n",
       "        vertical-align: middle;\n",
       "    }\n",
       "\n",
       "    .dataframe tbody tr th {\n",
       "        vertical-align: top;\n",
       "    }\n",
       "\n",
       "    .dataframe thead th {\n",
       "        text-align: right;\n",
       "    }\n",
       "</style>\n",
       "<table border=\"1\" class=\"dataframe\">\n",
       "  <thead>\n",
       "    <tr style=\"text-align: right;\">\n",
       "      <th></th>\n",
       "      <th>client_id</th>\n",
       "      <th>default</th>\n",
       "    </tr>\n",
       "  </thead>\n",
       "  <tbody>\n",
       "    <tr>\n",
       "      <th>5614</th>\n",
       "      <td>71546</td>\n",
       "      <td>0.022694</td>\n",
       "    </tr>\n",
       "  </tbody>\n",
       "</table>\n",
       "</div>"
      ],
      "text/plain": [
       "      client_id   default\n",
       "5614      71546  0.022694"
      ]
     },
     "execution_count": 238,
     "metadata": {},
     "output_type": "execute_result"
    }
   ],
   "source": [
    "# Посмотрим в каком формате надо вернуть ответ\n",
    "df_sub = pd.read_csv('data/sample_submission.csv')\n",
    "df_sub.sample()"
   ]
  },
  {
   "cell_type": "code",
   "execution_count": 239,
   "metadata": {
    "papermill": {
     "duration": 0.121131,
     "end_time": "2021-02-14T20:50:53.151055",
     "exception": false,
     "start_time": "2021-02-14T20:50:53.029924",
     "status": "completed"
    },
    "tags": []
   },
   "outputs": [
    {
     "data": {
      "text/plain": [
       "array([0.22123785, 0.828307  , 0.3230876 , ..., 0.75738818, 0.59770778,\n",
       "       0.72874084])"
      ]
     },
     "execution_count": 239,
     "metadata": {},
     "output_type": "execute_result"
    }
   ],
   "source": [
    "# Передаём нашей модели тестовые данные\n",
    "y_sub = model.predict(XT)\n",
    "\n",
    "probs = model.predict_proba(XT)\n",
    "probs = probs[:,1]\n",
    "probs"
   ]
  },
  {
   "cell_type": "code",
   "execution_count": 240,
   "metadata": {
    "papermill": {
     "duration": 0.259557,
     "end_time": "2021-02-14T20:50:53.536149",
     "exception": false,
     "start_time": "2021-02-14T20:50:53.276592",
     "status": "completed"
    },
    "tags": []
   },
   "outputs": [
    {
     "data": {
      "text/html": [
       "<div>\n",
       "<style scoped>\n",
       "    .dataframe tbody tr th:only-of-type {\n",
       "        vertical-align: middle;\n",
       "    }\n",
       "\n",
       "    .dataframe tbody tr th {\n",
       "        vertical-align: top;\n",
       "    }\n",
       "\n",
       "    .dataframe thead th {\n",
       "        text-align: right;\n",
       "    }\n",
       "</style>\n",
       "<table border=\"1\" class=\"dataframe\">\n",
       "  <thead>\n",
       "    <tr style=\"text-align: right;\">\n",
       "      <th></th>\n",
       "      <th>client_id</th>\n",
       "      <th>default</th>\n",
       "    </tr>\n",
       "  </thead>\n",
       "  <tbody>\n",
       "    <tr>\n",
       "      <th>0</th>\n",
       "      <td>74835</td>\n",
       "      <td>0.221238</td>\n",
       "    </tr>\n",
       "    <tr>\n",
       "      <th>1</th>\n",
       "      <td>17527</td>\n",
       "      <td>0.828307</td>\n",
       "    </tr>\n",
       "    <tr>\n",
       "      <th>2</th>\n",
       "      <td>75683</td>\n",
       "      <td>0.323088</td>\n",
       "    </tr>\n",
       "    <tr>\n",
       "      <th>3</th>\n",
       "      <td>26883</td>\n",
       "      <td>0.382088</td>\n",
       "    </tr>\n",
       "    <tr>\n",
       "      <th>4</th>\n",
       "      <td>28862</td>\n",
       "      <td>0.125014</td>\n",
       "    </tr>\n",
       "    <tr>\n",
       "      <th>5</th>\n",
       "      <td>99881</td>\n",
       "      <td>0.597744</td>\n",
       "    </tr>\n",
       "    <tr>\n",
       "      <th>6</th>\n",
       "      <td>26630</td>\n",
       "      <td>0.800665</td>\n",
       "    </tr>\n",
       "    <tr>\n",
       "      <th>7</th>\n",
       "      <td>79934</td>\n",
       "      <td>0.190737</td>\n",
       "    </tr>\n",
       "    <tr>\n",
       "      <th>8</th>\n",
       "      <td>16605</td>\n",
       "      <td>0.142985</td>\n",
       "    </tr>\n",
       "    <tr>\n",
       "      <th>9</th>\n",
       "      <td>105449</td>\n",
       "      <td>0.096054</td>\n",
       "    </tr>\n",
       "  </tbody>\n",
       "</table>\n",
       "</div>"
      ],
      "text/plain": [
       "   client_id   default\n",
       "0      74835  0.221238\n",
       "1      17527  0.828307\n",
       "2      75683  0.323088\n",
       "3      26883  0.382088\n",
       "4      28862  0.125014\n",
       "5      99881  0.597744\n",
       "6      26630  0.800665\n",
       "7      79934  0.190737\n",
       "8      16605  0.142985\n",
       "9     105449  0.096054"
      ]
     },
     "execution_count": 240,
     "metadata": {},
     "output_type": "execute_result"
    }
   ],
   "source": [
    "# Формируем файл\n",
    "df_test['default'] = probs\n",
    "df_test[['client_id', 'default']].to_csv('submission.csv', index=False)\n",
    "df_test[['client_id', 'default']].head(10)"
   ]
  },
  {
   "cell_type": "markdown",
   "metadata": {
    "papermill": {
     "duration": 0.080843,
     "end_time": "2021-02-14T20:50:53.698382",
     "exception": false,
     "start_time": "2021-02-14T20:50:53.617539",
     "status": "completed"
    },
    "tags": []
   },
   "source": [
    "Заключение: В случае с несбалансированной целевой переменной получаются низкие значения f1-score. При этом, confusion_matrix показывала жуткое значение ошибок первого рода. Докручивание гиперпараметров приводило матрицу к более меннее адекватному виду и повышает f1-score. Чаще всего, гиперпараметры не оказывали сильного влияния на показатель roc auc."
   ]
  },
  {
   "cell_type": "code",
   "execution_count": null,
   "metadata": {},
   "outputs": [],
   "source": []
  }
 ],
 "metadata": {
  "kernelspec": {
   "display_name": "Python 3",
   "language": "python",
   "name": "python3"
  },
  "language_info": {
   "codemirror_mode": {
    "name": "ipython",
    "version": 3
   },
   "file_extension": ".py",
   "mimetype": "text/x-python",
   "name": "python",
   "nbconvert_exporter": "python",
   "pygments_lexer": "ipython3",
   "version": "3.8.5"
  },
  "papermill": {
   "default_parameters": {},
   "duration": 446.117606,
   "end_time": "2021-02-14T20:50:55.359234",
   "environment_variables": {},
   "exception": null,
   "input_path": "__notebook__.ipynb",
   "output_path": "__notebook__.ipynb",
   "parameters": {},
   "start_time": "2021-02-14T20:43:29.241628",
   "version": "2.2.2"
  }
 },
 "nbformat": 4,
 "nbformat_minor": 4
}
