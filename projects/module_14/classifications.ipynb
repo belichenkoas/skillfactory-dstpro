{
 "cells": [
  {
   "cell_type": "markdown",
   "id": "b40db046-e25e-404d-814d-4d11ab22005c",
   "metadata": {},
   "source": [
    "Задача:\n",
    "\n",
    "- Обучить классификатор: продуктовый запрос vs. всё остальное (продуктовым можно считать запрос, который равен названию или описанию товара).\n",
    "- Добавить логику поиска похожих товаров по продуктовому запросу.\n",
    "- Вся логика должна быть завёрнута в метод get_answer(). Ответ на продуктовый запрос должен иметь вид \"product_id title\".\n"
   ]
  },
  {
   "cell_type": "code",
   "execution_count": 1,
   "id": "22d7b3de-01b0-4eb3-82d9-b652bf4e8b5b",
   "metadata": {
    "tags": []
   },
   "outputs": [],
   "source": [
    "import os\n",
    "import re\n",
    "import string\n",
    "import annoy\n",
    "import codecs\n",
    "import pickle\n",
    "\n",
    "from pymorphy2 import MorphAnalyzer\n",
    "from stop_words import get_stop_words\n",
    "from gensim.models import Word2Vec\n",
    "\n",
    "import numpy as np\n",
    "from tqdm.notebook import tqdm\n",
    "import pandas as pd"
   ]
  },
  {
   "cell_type": "code",
   "execution_count": 2,
   "id": "cdf571b0-94ce-4aee-bce7-9b8a21996433",
   "metadata": {},
   "outputs": [],
   "source": [
    "DATADIR = 'data'\n",
    "STORAGEDIR = 'storage'"
   ]
  },
  {
   "cell_type": "code",
   "execution_count": 3,
   "id": "ca4fbc43-bf51-4f63-ac14-b72b2a6ab4cc",
   "metadata": {
    "tags": []
   },
   "outputs": [
    {
     "data": {
      "text/html": [
       "<div>\n",
       "<style scoped>\n",
       "    .dataframe tbody tr th:only-of-type {\n",
       "        vertical-align: middle;\n",
       "    }\n",
       "\n",
       "    .dataframe tbody tr th {\n",
       "        vertical-align: top;\n",
       "    }\n",
       "\n",
       "    .dataframe thead th {\n",
       "        text-align: right;\n",
       "    }\n",
       "</style>\n",
       "<table border=\"1\" class=\"dataframe\">\n",
       "  <thead>\n",
       "    <tr style=\"text-align: right;\">\n",
       "      <th></th>\n",
       "      <th>title</th>\n",
       "      <th>descrirption</th>\n",
       "      <th>product_id</th>\n",
       "      <th>category_id</th>\n",
       "      <th>subcategory_id</th>\n",
       "      <th>properties</th>\n",
       "      <th>image_links</th>\n",
       "    </tr>\n",
       "  </thead>\n",
       "  <tbody>\n",
       "    <tr>\n",
       "      <th>0</th>\n",
       "      <td>Юбка детская ORBY</td>\n",
       "      <td>Новая, не носили ни разу. В реале красивей чем...</td>\n",
       "      <td>58e3cfe6132ca50e053f5f82</td>\n",
       "      <td>22.0</td>\n",
       "      <td>2211</td>\n",
       "      <td>{'detskie_razmer_rost': '81-86 (1,5 года)'}</td>\n",
       "      <td>http://cache3.youla.io/files/images/360_360/58...</td>\n",
       "    </tr>\n",
       "    <tr>\n",
       "      <th>1</th>\n",
       "      <td>Ботильоны</td>\n",
       "      <td>Новые,привезены из Чехии ,указан размер 40,но ...</td>\n",
       "      <td>5667531b2b7f8d127d838c34</td>\n",
       "      <td>9.0</td>\n",
       "      <td>902</td>\n",
       "      <td>{'zhenskaya_odezhda_tzvet': 'Зеленый', 'visota...</td>\n",
       "      <td>http://cache3.youla.io/files/images/360_360/5b...</td>\n",
       "    </tr>\n",
       "    <tr>\n",
       "      <th>2</th>\n",
       "      <td>Брюки</td>\n",
       "      <td>Размер 40-42. Брюки почти новые - не знаю как ...</td>\n",
       "      <td>59534826aaab284cba337e06</td>\n",
       "      <td>9.0</td>\n",
       "      <td>906</td>\n",
       "      <td>{'zhenskaya_odezhda_dzhinsy_bryuki_tip': 'Брюк...</td>\n",
       "      <td>http://cache3.youla.io/files/images/360_360/59...</td>\n",
       "    </tr>\n",
       "    <tr>\n",
       "      <th>3</th>\n",
       "      <td>Продам детские шапки</td>\n",
       "      <td>Продам шапки,кажда 200р.Розовая и белая проданны.</td>\n",
       "      <td>57de544096ad842e26de8027</td>\n",
       "      <td>22.0</td>\n",
       "      <td>2217</td>\n",
       "      <td>{'detskie_pol': 'Девочкам', 'detskaya_odezhda_...</td>\n",
       "      <td>http://cache3.youla.io/files/images/360_360/57...</td>\n",
       "    </tr>\n",
       "    <tr>\n",
       "      <th>4</th>\n",
       "      <td>Блузка</td>\n",
       "      <td>Темно-синяя, 42 размер,состояние отличное,как ...</td>\n",
       "      <td>5ad4d2626c86cb168d212022</td>\n",
       "      <td>9.0</td>\n",
       "      <td>907</td>\n",
       "      <td>{'zhenskaya_odezhda_tzvet': 'Синий', 'zhenskay...</td>\n",
       "      <td>http://cache3.youla.io/files/images/360_360/5a...</td>\n",
       "    </tr>\n",
       "  </tbody>\n",
       "</table>\n",
       "</div>"
      ],
      "text/plain": [
       "                  title                                       descrirption  \\\n",
       "0     Юбка детская ORBY  Новая, не носили ни разу. В реале красивей чем...   \n",
       "1             Ботильоны  Новые,привезены из Чехии ,указан размер 40,но ...   \n",
       "2                 Брюки  Размер 40-42. Брюки почти новые - не знаю как ...   \n",
       "3  Продам детские шапки  Продам шапки,кажда 200р.Розовая и белая проданны.   \n",
       "4                Блузка  Темно-синяя, 42 размер,состояние отличное,как ...   \n",
       "\n",
       "                 product_id  category_id subcategory_id  \\\n",
       "0  58e3cfe6132ca50e053f5f82         22.0           2211   \n",
       "1  5667531b2b7f8d127d838c34          9.0            902   \n",
       "2  59534826aaab284cba337e06          9.0            906   \n",
       "3  57de544096ad842e26de8027         22.0           2217   \n",
       "4  5ad4d2626c86cb168d212022          9.0            907   \n",
       "\n",
       "                                          properties  \\\n",
       "0        {'detskie_razmer_rost': '81-86 (1,5 года)'}   \n",
       "1  {'zhenskaya_odezhda_tzvet': 'Зеленый', 'visota...   \n",
       "2  {'zhenskaya_odezhda_dzhinsy_bryuki_tip': 'Брюк...   \n",
       "3  {'detskie_pol': 'Девочкам', 'detskaya_odezhda_...   \n",
       "4  {'zhenskaya_odezhda_tzvet': 'Синий', 'zhenskay...   \n",
       "\n",
       "                                         image_links  \n",
       "0  http://cache3.youla.io/files/images/360_360/58...  \n",
       "1  http://cache3.youla.io/files/images/360_360/5b...  \n",
       "2  http://cache3.youla.io/files/images/360_360/59...  \n",
       "3  http://cache3.youla.io/files/images/360_360/57...  \n",
       "4  http://cache3.youla.io/files/images/360_360/5a...  "
      ]
     },
     "execution_count": 3,
     "metadata": {},
     "output_type": "execute_result"
    }
   ],
   "source": [
    "# Загружаем датасет товаров\n",
    "with codecs.open('/'.join([DATADIR, 'ProductsDataset.csv']), 'r', 'utf-8') as file:\n",
    "    data = pd.read_csv(file)\n",
    "data.head()    "
   ]
  },
  {
   "cell_type": "code",
   "execution_count": 4,
   "id": "6fd98df0-ef40-41ea-9105-53b8e06baa5f",
   "metadata": {
    "tags": []
   },
   "outputs": [],
   "source": [
    "# Исправляем ошибки в наименовании колонки\n",
    "data.rename(columns={'descrirption': 'description'}, inplace=True)"
   ]
  },
  {
   "cell_type": "code",
   "execution_count": 5,
   "id": "afbc2d71-d3b5-4b73-812d-ab79c1d42971",
   "metadata": {},
   "outputs": [],
   "source": [
    "# Препроцессинг текста\n",
    "exclude = set(string.punctuation)\n",
    "stop_w = set(get_stop_words(language='ru'))\n",
    "morpher = MorphAnalyzer()"
   ]
  },
  {
   "cell_type": "code",
   "execution_count": 6,
   "id": "fc1ed997-c0b7-4185-be66-737831e53523",
   "metadata": {
    "tags": []
   },
   "outputs": [],
   "source": [
    "# Компилируем шаблоны для быстрой обработки\n",
    "# Спецсимволы и emoji\n",
    "symbols_pattern = re.compile(pattern = \"[\"\n",
    "    u\"\\U0001F600-\\U0001F64F\"  # emoticons\n",
    "    u\"\\U0001F300-\\U0001F5FF\"  # symbols & pictographs\n",
    "    u\"\\U0001F680-\\U0001F6FF\"  # transport & map symbols\n",
    "    u\"\\U0001F1E0-\\U0001F1FF\"  # flags (iOS)\n",
    "    \"@_!#$%^&*()<>?/\\|}{~:√•\"\n",
    "                       \"]+\", flags = re.UNICODE)\n",
    "# Двойные пробелы\n",
    "space_pattern = re.compile('\\s+')"
   ]
  },
  {
   "cell_type": "code",
   "execution_count": 7,
   "id": "16d619ce-505e-4807-82f5-a79e2d1ebbea",
   "metadata": {
    "tags": []
   },
   "outputs": [],
   "source": [
    "def clear_text(text):\n",
    "    \"\"\" Функция удаления спецсимволов\"\"\"\n",
    "    # Удаление спецсимволов и emoji\n",
    "    pre = symbols_pattern.sub(r'',text)\n",
    "    # Удаление двойных пробелов\n",
    "    return space_pattern.sub(' ', pre)"
   ]
  },
  {
   "cell_type": "code",
   "execution_count": 8,
   "id": "e06d1bff-56f4-4d83-8b41-fbb89d5732be",
   "metadata": {
    "tags": []
   },
   "outputs": [],
   "source": [
    "def preprocess_text(text):\n",
    "    \"\"\" Обработка текста \"\"\"\n",
    "    # srip + lower + punctuation\n",
    "    sentence = ''.join([x for x in str(text).strip().lower() if x not in exclude])\n",
    "    # Лемматизация и стопслова\n",
    "    sentence = ' '.join([morpher.parse(word)[0].normal_form for word in sentence.split() if word not in stop_w])\n",
    "    return clear_text(sentence)"
   ]
  },
  {
   "cell_type": "code",
   "execution_count": 9,
   "id": "13eb450e-29d1-4bd7-bdcb-5f87a8b1a44e",
   "metadata": {},
   "outputs": [
    {
     "data": {
      "text/html": [
       "<div>\n",
       "<style scoped>\n",
       "    .dataframe tbody tr th:only-of-type {\n",
       "        vertical-align: middle;\n",
       "    }\n",
       "\n",
       "    .dataframe tbody tr th {\n",
       "        vertical-align: top;\n",
       "    }\n",
       "\n",
       "    .dataframe thead th {\n",
       "        text-align: right;\n",
       "    }\n",
       "</style>\n",
       "<table border=\"1\" class=\"dataframe\">\n",
       "  <thead>\n",
       "    <tr style=\"text-align: right;\">\n",
       "      <th></th>\n",
       "      <th>title</th>\n",
       "      <th>description</th>\n",
       "      <th>product_id</th>\n",
       "      <th>category_id</th>\n",
       "      <th>subcategory_id</th>\n",
       "      <th>properties</th>\n",
       "      <th>image_links</th>\n",
       "    </tr>\n",
       "  </thead>\n",
       "  <tbody>\n",
       "    <tr>\n",
       "      <th>0</th>\n",
       "      <td>юбка детский orby</td>\n",
       "      <td>Новая, не носили ни разу. В реале красивей чем...</td>\n",
       "      <td>58e3cfe6132ca50e053f5f82</td>\n",
       "      <td>22.0</td>\n",
       "      <td>2211</td>\n",
       "      <td>{'detskie_razmer_rost': '81-86 (1,5 года)'}</td>\n",
       "      <td>http://cache3.youla.io/files/images/360_360/58...</td>\n",
       "    </tr>\n",
       "    <tr>\n",
       "      <th>1</th>\n",
       "      <td>ботильон</td>\n",
       "      <td>Новые,привезены из Чехии ,указан размер 40,но ...</td>\n",
       "      <td>5667531b2b7f8d127d838c34</td>\n",
       "      <td>9.0</td>\n",
       "      <td>902</td>\n",
       "      <td>{'zhenskaya_odezhda_tzvet': 'Зеленый', 'visota...</td>\n",
       "      <td>http://cache3.youla.io/files/images/360_360/5b...</td>\n",
       "    </tr>\n",
       "    <tr>\n",
       "      <th>2</th>\n",
       "      <td>брюки</td>\n",
       "      <td>Размер 40-42. Брюки почти новые - не знаю как ...</td>\n",
       "      <td>59534826aaab284cba337e06</td>\n",
       "      <td>9.0</td>\n",
       "      <td>906</td>\n",
       "      <td>{'zhenskaya_odezhda_dzhinsy_bryuki_tip': 'Брюк...</td>\n",
       "      <td>http://cache3.youla.io/files/images/360_360/59...</td>\n",
       "    </tr>\n",
       "    <tr>\n",
       "      <th>3</th>\n",
       "      <td>продать детский шапка</td>\n",
       "      <td>Продам шапки,кажда 200р.Розовая и белая проданны.</td>\n",
       "      <td>57de544096ad842e26de8027</td>\n",
       "      <td>22.0</td>\n",
       "      <td>2217</td>\n",
       "      <td>{'detskie_pol': 'Девочкам', 'detskaya_odezhda_...</td>\n",
       "      <td>http://cache3.youla.io/files/images/360_360/57...</td>\n",
       "    </tr>\n",
       "    <tr>\n",
       "      <th>4</th>\n",
       "      <td>блузка</td>\n",
       "      <td>Темно-синяя, 42 размер,состояние отличное,как ...</td>\n",
       "      <td>5ad4d2626c86cb168d212022</td>\n",
       "      <td>9.0</td>\n",
       "      <td>907</td>\n",
       "      <td>{'zhenskaya_odezhda_tzvet': 'Синий', 'zhenskay...</td>\n",
       "      <td>http://cache3.youla.io/files/images/360_360/5a...</td>\n",
       "    </tr>\n",
       "  </tbody>\n",
       "</table>\n",
       "</div>"
      ],
      "text/plain": [
       "                   title                                        description  \\\n",
       "0      юбка детский orby  Новая, не носили ни разу. В реале красивей чем...   \n",
       "1               ботильон  Новые,привезены из Чехии ,указан размер 40,но ...   \n",
       "2                  брюки  Размер 40-42. Брюки почти новые - не знаю как ...   \n",
       "3  продать детский шапка  Продам шапки,кажда 200р.Розовая и белая проданны.   \n",
       "4                 блузка  Темно-синяя, 42 размер,состояние отличное,как ...   \n",
       "\n",
       "                 product_id  category_id subcategory_id  \\\n",
       "0  58e3cfe6132ca50e053f5f82         22.0           2211   \n",
       "1  5667531b2b7f8d127d838c34          9.0            902   \n",
       "2  59534826aaab284cba337e06          9.0            906   \n",
       "3  57de544096ad842e26de8027         22.0           2217   \n",
       "4  5ad4d2626c86cb168d212022          9.0            907   \n",
       "\n",
       "                                          properties  \\\n",
       "0        {'detskie_razmer_rost': '81-86 (1,5 года)'}   \n",
       "1  {'zhenskaya_odezhda_tzvet': 'Зеленый', 'visota...   \n",
       "2  {'zhenskaya_odezhda_dzhinsy_bryuki_tip': 'Брюк...   \n",
       "3  {'detskie_pol': 'Девочкам', 'detskaya_odezhda_...   \n",
       "4  {'zhenskaya_odezhda_tzvet': 'Синий', 'zhenskay...   \n",
       "\n",
       "                                         image_links  \n",
       "0  http://cache3.youla.io/files/images/360_360/58...  \n",
       "1  http://cache3.youla.io/files/images/360_360/5b...  \n",
       "2  http://cache3.youla.io/files/images/360_360/59...  \n",
       "3  http://cache3.youla.io/files/images/360_360/57...  \n",
       "4  http://cache3.youla.io/files/images/360_360/5a...  "
      ]
     },
     "execution_count": 9,
     "metadata": {},
     "output_type": "execute_result"
    }
   ],
   "source": [
    "# Обработка title\n",
    "data['title'] = data['title'].apply(preprocess_text)\n",
    "data.head()"
   ]
  },
  {
   "cell_type": "code",
   "execution_count": 10,
   "id": "f84c9255-d19f-4360-9ff6-b7307f685fbc",
   "metadata": {
    "tags": []
   },
   "outputs": [
    {
     "data": {
      "text/html": [
       "<div>\n",
       "<style scoped>\n",
       "    .dataframe tbody tr th:only-of-type {\n",
       "        vertical-align: middle;\n",
       "    }\n",
       "\n",
       "    .dataframe tbody tr th {\n",
       "        vertical-align: top;\n",
       "    }\n",
       "\n",
       "    .dataframe thead th {\n",
       "        text-align: right;\n",
       "    }\n",
       "</style>\n",
       "<table border=\"1\" class=\"dataframe\">\n",
       "  <thead>\n",
       "    <tr style=\"text-align: right;\">\n",
       "      <th></th>\n",
       "      <th>title</th>\n",
       "      <th>description</th>\n",
       "      <th>product_id</th>\n",
       "      <th>category_id</th>\n",
       "      <th>subcategory_id</th>\n",
       "      <th>properties</th>\n",
       "      <th>image_links</th>\n",
       "    </tr>\n",
       "  </thead>\n",
       "  <tbody>\n",
       "    <tr>\n",
       "      <th>0</th>\n",
       "      <td>юбка детский orby</td>\n",
       "      <td>новый носить раз реал красивый фото</td>\n",
       "      <td>58e3cfe6132ca50e053f5f82</td>\n",
       "      <td>22.0</td>\n",
       "      <td>2211</td>\n",
       "      <td>{'detskie_razmer_rost': '81-86 (1,5 года)'}</td>\n",
       "      <td>http://cache3.youla.io/files/images/360_360/58...</td>\n",
       "    </tr>\n",
       "    <tr>\n",
       "      <th>1</th>\n",
       "      <td>ботильон</td>\n",
       "      <td>новыепривезти чехия указать размер 40ный малом...</td>\n",
       "      <td>5667531b2b7f8d127d838c34</td>\n",
       "      <td>9.0</td>\n",
       "      <td>902</td>\n",
       "      <td>{'zhenskaya_odezhda_tzvet': 'Зеленый', 'visota...</td>\n",
       "      <td>http://cache3.youla.io/files/images/360_360/5b...</td>\n",
       "    </tr>\n",
       "    <tr>\n",
       "      <th>2</th>\n",
       "      <td>брюки</td>\n",
       "      <td>размер 4042 брюки новый знать мерило покупка н...</td>\n",
       "      <td>59534826aaab284cba337e06</td>\n",
       "      <td>9.0</td>\n",
       "      <td>906</td>\n",
       "      <td>{'zhenskaya_odezhda_dzhinsy_bryuki_tip': 'Брюк...</td>\n",
       "      <td>http://cache3.youla.io/files/images/360_360/59...</td>\n",
       "    </tr>\n",
       "    <tr>\n",
       "      <th>3</th>\n",
       "      <td>продать детский шапка</td>\n",
       "      <td>продать шапкикажда 200ррозовый белый проданна</td>\n",
       "      <td>57de544096ad842e26de8027</td>\n",
       "      <td>22.0</td>\n",
       "      <td>2217</td>\n",
       "      <td>{'detskie_pol': 'Девочкам', 'detskaya_odezhda_...</td>\n",
       "      <td>http://cache3.youla.io/files/images/360_360/57...</td>\n",
       "    </tr>\n",
       "    <tr>\n",
       "      <th>4</th>\n",
       "      <td>блузка</td>\n",
       "      <td>темносиний 42 размерсостояние отличноекак новы...</td>\n",
       "      <td>5ad4d2626c86cb168d212022</td>\n",
       "      <td>9.0</td>\n",
       "      <td>907</td>\n",
       "      <td>{'zhenskaya_odezhda_tzvet': 'Синий', 'zhenskay...</td>\n",
       "      <td>http://cache3.youla.io/files/images/360_360/5a...</td>\n",
       "    </tr>\n",
       "  </tbody>\n",
       "</table>\n",
       "</div>"
      ],
      "text/plain": [
       "                   title                                        description  \\\n",
       "0      юбка детский orby                новый носить раз реал красивый фото   \n",
       "1               ботильон  новыепривезти чехия указать размер 40ный малом...   \n",
       "2                  брюки  размер 4042 брюки новый знать мерило покупка н...   \n",
       "3  продать детский шапка      продать шапкикажда 200ррозовый белый проданна   \n",
       "4                 блузка  темносиний 42 размерсостояние отличноекак новы...   \n",
       "\n",
       "                 product_id  category_id subcategory_id  \\\n",
       "0  58e3cfe6132ca50e053f5f82         22.0           2211   \n",
       "1  5667531b2b7f8d127d838c34          9.0            902   \n",
       "2  59534826aaab284cba337e06          9.0            906   \n",
       "3  57de544096ad842e26de8027         22.0           2217   \n",
       "4  5ad4d2626c86cb168d212022          9.0            907   \n",
       "\n",
       "                                          properties  \\\n",
       "0        {'detskie_razmer_rost': '81-86 (1,5 года)'}   \n",
       "1  {'zhenskaya_odezhda_tzvet': 'Зеленый', 'visota...   \n",
       "2  {'zhenskaya_odezhda_dzhinsy_bryuki_tip': 'Брюк...   \n",
       "3  {'detskie_pol': 'Девочкам', 'detskaya_odezhda_...   \n",
       "4  {'zhenskaya_odezhda_tzvet': 'Синий', 'zhenskay...   \n",
       "\n",
       "                                         image_links  \n",
       "0  http://cache3.youla.io/files/images/360_360/58...  \n",
       "1  http://cache3.youla.io/files/images/360_360/5b...  \n",
       "2  http://cache3.youla.io/files/images/360_360/59...  \n",
       "3  http://cache3.youla.io/files/images/360_360/57...  \n",
       "4  http://cache3.youla.io/files/images/360_360/5a...  "
      ]
     },
     "execution_count": 10,
     "metadata": {},
     "output_type": "execute_result"
    }
   ],
   "source": [
    "# Обработка description\n",
    "data['description'] = data['description'].apply(preprocess_text)\n",
    "data.head()"
   ]
  },
  {
   "cell_type": "code",
   "execution_count": 11,
   "id": "6b1cf12b-f7fa-4ec9-897e-fe7c8c4c489b",
   "metadata": {},
   "outputs": [],
   "source": [
    "# Обучим модель word2vec"
   ]
  },
  {
   "cell_type": "code",
   "execution_count": 12,
   "id": "efbe5b6c-a1f3-4c9e-9833-fa35bcc23e8d",
   "metadata": {
    "tags": []
   },
   "outputs": [],
   "source": [
    "# Для word2vec возьмем title и description\n",
    "sentences = []\n",
    "for sentence in pd.Series(data['title'] + ' ' + data['description']).to_list():\n",
    "    sentences.append(sentence.split())"
   ]
  },
  {
   "cell_type": "code",
   "execution_count": 13,
   "id": "de7f885d-8d46-4627-ac54-0ccc0764008d",
   "metadata": {
    "tags": []
   },
   "outputs": [],
   "source": [
    "sentences = [x for x in sentences if len(x)>2]\n",
    "model_shop = Word2Vec(sentences=sentences, min_count=1, window=5)\n",
    "model_shop.save('/'.join([STORAGEDIR, 'w2v_model_shop']))"
   ]
  },
  {
   "cell_type": "code",
   "execution_count": 14,
   "id": "ed959052-e6cd-4655-a836-2e234d3cec64",
   "metadata": {},
   "outputs": [],
   "source": [
    "def get_vector(sent, model):\n",
    "    \"\"\" Функция возвращает вектор предложения \"\"\"\n",
    "    n_w2v = 0\n",
    "    vector = np.zeros(100)\n",
    "    for word in sent:\n",
    "        if word in model.wv:\n",
    "            vector += model.wv[word]\n",
    "            n_w2v += 1\n",
    "    if n_w2v > 0:\n",
    "        vector = vector / n_w2v\n",
    "    return vector"
   ]
  },
  {
   "cell_type": "code",
   "execution_count": 16,
   "id": "957c746a-7848-4939-b355-ac882390a1bd",
   "metadata": {
    "tags": []
   },
   "outputs": [
    {
     "data": {
      "text/plain": [
       "True"
      ]
     },
     "execution_count": 16,
     "metadata": {},
     "output_type": "execute_result"
    }
   ],
   "source": [
    "# Строим индексы для продаж\n",
    "index = annoy.AnnoyIndex(100, 'angular')\n",
    "\n",
    "index_map = {}\n",
    "counter = 0\n",
    "\n",
    "# Упакуем в индекс 'title', 'description', 'product_id', чтобы всегда можно было вытянуть нужную информацию\n",
    "for line in data[['title', 'description', 'product_id']].values:\n",
    "    index_map[counter] = [line[0], line[1], line[2]]\n",
    "    \n",
    "    title = line[0].split()\n",
    "    index.add_item(counter, get_vector(title, model_shop)) \n",
    "    counter += 1\n",
    "\n",
    "index.build(10)\n",
    "index.save('/'.join([STORAGEDIR, 'idx.ann']))\n",
    "    "
   ]
  },
  {
   "cell_type": "code",
   "execution_count": 17,
   "id": "319bb2d4-94ed-4f13-b2a3-86af61925516",
   "metadata": {},
   "outputs": [],
   "source": [
    "# Датасет вопросов с ответами"
   ]
  },
  {
   "cell_type": "code",
   "execution_count": 18,
   "id": "8b8f1c6b-8ae8-4e1a-928e-e7b2141749ab",
   "metadata": {
    "tags": []
   },
   "outputs": [
    {
     "data": {
      "application/vnd.jupyter.widget-view+json": {
       "model_id": "9d5752d77a454ca48cae12ba1d28802c",
       "version_major": 2,
       "version_minor": 0
      },
      "text/plain": [
       "0it [00:00, ?it/s]"
      ]
     },
     "metadata": {},
     "output_type": "display_data"
    }
   ],
   "source": [
    "# Вопросы с ответами представим в виде словаря\n",
    "questions = {}\n",
    "senteties = []\n",
    "\n",
    "with codecs.open('/'.join([DATADIR, 'Otvety.txt']), 'r', 'utf-8') as file:\n",
    "    for line in tqdm(file):\n",
    "        line = line.strip()\n",
    "        # Предложения между ---, записываем в список. \n",
    "        # Получим, первый элемент - вопрос, последующие - ответы\n",
    "        if line.startswith('---'):\n",
    "            if len(senteties) > 1:\n",
    "                try:\n",
    "                    # Результат сохраняем в dict\n",
    "                    question = senteties.pop(0) # Как мы помним, первый элемент - вопрос\n",
    "                    questions[question] = senteties[0] # Сохраняем только первый ответ для экономии времени обработки\n",
    "                    # Если данных слишком много, можно перенаправить запись в файл\n",
    "                except Exception as err:\n",
    "                    print(senteties, err)\n",
    "            senteties = []\n",
    "        else:\n",
    "            senteties.append(line)"
   ]
  },
  {
   "cell_type": "code",
   "execution_count": 19,
   "id": "2730888b-54fd-4b8a-8419-39231a08c459",
   "metadata": {
    "tags": []
   },
   "outputs": [
    {
     "data": {
      "text/plain": [
       "1158597"
      ]
     },
     "execution_count": 19,
     "metadata": {},
     "output_type": "execute_result"
    }
   ],
   "source": [
    "# Количество вопросов\n",
    "len(questions)"
   ]
  },
  {
   "cell_type": "code",
   "execution_count": 20,
   "id": "d60edb7b-715f-4039-827e-059b91655c5a",
   "metadata": {
    "tags": []
   },
   "outputs": [],
   "source": [
    "# Сохраним результат (questions)\n",
    "with open('/'.join([STORAGEDIR, 'questions.pkl']), 'wb') as file:\n",
    "    pickle.dump(questions, file)"
   ]
  },
  {
   "cell_type": "code",
   "execution_count": 21,
   "id": "355bfd16-0b05-4988-84f6-7774edea7f96",
   "metadata": {
    "tags": []
   },
   "outputs": [
    {
     "data": {
      "application/vnd.jupyter.widget-view+json": {
       "model_id": "c84fec3fd3fc462c804643aca95f2068",
       "version_major": 2,
       "version_minor": 0
      },
      "text/plain": [
       "  0%|          | 0/1158597 [00:00<?, ?it/s]"
      ]
     },
     "metadata": {},
     "output_type": "display_data"
    }
   ],
   "source": [
    "# Подготовим предложения для word2vec\n",
    "sentences = []\n",
    "count = 0\n",
    "for k in tqdm(questions.items()):\n",
    "    # Добавляем вопрос\n",
    "    pre = preprocess_text(k)\n",
    "    sentences.append(pre.split())\n",
    "\n",
    "    count += 1\n",
    "    # Для экономии ресурсов ограничимся 500000\n",
    "    if count > 500000:\n",
    "        break"
   ]
  },
  {
   "cell_type": "code",
   "execution_count": 22,
   "id": "95d2594e-31ef-4486-9e3f-ebcb6a3a8c94",
   "metadata": {
    "tags": []
   },
   "outputs": [],
   "source": [
    "# Сохраним результат\n",
    "with open('/'.join([STORAGEDIR, 'chat_questions_preprocessed.pkl']), 'wb') as file:\n",
    "    pickle.dump(sentences, file)"
   ]
  },
  {
   "cell_type": "code",
   "execution_count": 23,
   "id": "5db00c6a-5d0a-41bc-a4eb-a8c39d7c18d5",
   "metadata": {
    "tags": []
   },
   "outputs": [],
   "source": [
    "# Обучим модель word2vec на наших вопросах\n",
    "sentences = [i for i in sentences if len(i) > 2]\n",
    "model_chat = Word2Vec(sentences=sentences, min_count=1, window=5)\n",
    "model_chat.save('/'.join([STORAGEDIR, 'w2v_model_chat']))"
   ]
  },
  {
   "cell_type": "code",
   "execution_count": 24,
   "id": "0b6923f1-ec92-4829-b9a9-b8362b8665ff",
   "metadata": {
    "tags": []
   },
   "outputs": [
    {
     "data": {
      "application/vnd.jupyter.widget-view+json": {
       "model_id": "36fe0bcc6e9a4b898517a9c6effc2526",
       "version_major": 2,
       "version_minor": 0
      },
      "text/plain": [
       "  0%|          | 0/1158597 [00:00<?, ?it/s]"
      ]
     },
     "metadata": {},
     "output_type": "display_data"
    },
    {
     "data": {
      "text/plain": [
       "True"
      ]
     },
     "execution_count": 24,
     "metadata": {},
     "output_type": "execute_result"
    }
   ],
   "source": [
    "# Формируем индекс для чата\n",
    "index_chat = annoy.AnnoyIndex(100 ,'angular')\n",
    "\n",
    "index_chat_map = {}\n",
    "counter = 0\n",
    "\n",
    "for k, v in tqdm(questions.items()):\n",
    "    # Добавляем ответ\n",
    "    index_chat_map[counter] = v\n",
    "    \n",
    "    question = preprocess_text(k)\n",
    "    index_chat.add_item(counter, get_vector(question, model_chat))\n",
    "    counter += 1\n",
    "\n",
    "index_chat.build(10)\n",
    "index_chat.save('/'.join([STORAGEDIR, 'speaker.ann']))\n"
   ]
  },
  {
   "cell_type": "code",
   "execution_count": null,
   "id": "b0f2fefa-2f14-416c-b63b-887b55578e2a",
   "metadata": {},
   "outputs": [],
   "source": []
  },
  {
   "cell_type": "code",
   "execution_count": 25,
   "id": "65a8d5d9-8d9a-4953-a824-90927a67dafd",
   "metadata": {
    "tags": []
   },
   "outputs": [],
   "source": [
    "# Classifications"
   ]
  },
  {
   "cell_type": "code",
   "execution_count": 26,
   "id": "0aa99b91-105c-46a6-ac2d-e9aa8af1bb97",
   "metadata": {
    "tags": []
   },
   "outputs": [],
   "source": [
    "from sklearn import model_selection\n",
    "from sklearn import linear_model\n",
    "from sklearn import metrics\n",
    "from sklearn.feature_extraction.text import TfidfVectorizer"
   ]
  },
  {
   "cell_type": "code",
   "execution_count": 27,
   "id": "dceb2244-216c-47c3-8782-bcb0d1744e6d",
   "metadata": {},
   "outputs": [],
   "source": [
    "# Подготовим датасет с разметкой, состоящий из двух тематик (продажа товара и чат)"
   ]
  },
  {
   "cell_type": "code",
   "execution_count": 28,
   "id": "3d03609a-57c7-4b25-ab6d-3c13205ac574",
   "metadata": {
    "tags": []
   },
   "outputs": [],
   "source": [
    "# Продажа, target = 1\n",
    "df = pd.DataFrame(pd.concat([data['title'], data['description']], ignore_index=True))\n",
    "df['target'] = 1\n",
    "df.columns = ['data', 'target']"
   ]
  },
  {
   "cell_type": "code",
   "execution_count": 29,
   "id": "a5febf67-d619-4d66-a8ff-e1557cb75854",
   "metadata": {
    "tags": []
   },
   "outputs": [],
   "source": [
    "# Чат, target = 0"
   ]
  },
  {
   "cell_type": "code",
   "execution_count": 30,
   "id": "c848e7a2-19c0-4ef9-a13d-f22713721859",
   "metadata": {
    "tags": []
   },
   "outputs": [],
   "source": [
    "sentences_chat = []\n",
    "count =0\n",
    "\n",
    "for k in questions:\n",
    "    sent = preprocess_text(k)\n",
    "    sentences_chat.append(sent)\n",
    "    \n",
    "    count += 1\n",
    "    if count > 500000:\n",
    "        break"
   ]
  },
  {
   "cell_type": "code",
   "execution_count": 31,
   "id": "e44d6263-8dbb-4b7f-a49b-e0126314b1fc",
   "metadata": {
    "tags": []
   },
   "outputs": [],
   "source": [
    "# Предложение более двух слов\n",
    "sentences_chat = [sent for sent in sentences_chat if len(sent.split())>2]\n",
    "chatdf = pd.DataFrame(sentences_chat)\n",
    "chatdf['target'] = 0\n",
    "chatdf.columns = ['data', 'target']"
   ]
  },
  {
   "cell_type": "code",
   "execution_count": null,
   "id": "b3ec7e22-15d4-48c2-a63d-7c12135835e6",
   "metadata": {
    "tags": []
   },
   "outputs": [],
   "source": []
  },
  {
   "cell_type": "code",
   "execution_count": 32,
   "id": "0a0511b3-60ec-40e1-93ec-fd02ce06606f",
   "metadata": {
    "tags": []
   },
   "outputs": [],
   "source": [
    "# Объединяем в один датасет\n",
    "df = pd.concat([df, chatdf], ignore_index=True)"
   ]
  },
  {
   "cell_type": "code",
   "execution_count": 33,
   "id": "6d570641-7a84-4706-8e69-72dfe778174e",
   "metadata": {
    "tags": []
   },
   "outputs": [],
   "source": [
    "# Разбиваем на обучающую и валидационную выборки.\n",
    "X_train, X_test, y_train, y_test = model_selection.train_test_split(df['data'], \n",
    "                                                                    df['target'], \n",
    "                                                                    test_size=0.3, \n",
    "                                                                    shuffle=True, \n",
    "                                                                    random_state=42)"
   ]
  },
  {
   "cell_type": "code",
   "execution_count": 34,
   "id": "e775a5ed-dedf-45aa-bd18-0ed16d703c8d",
   "metadata": {
    "tags": []
   },
   "outputs": [],
   "source": [
    "# Выполним векторизация с помощью TfidfVectorizer\n",
    "tfidf_vec = TfidfVectorizer().fit(X_train.values)\n",
    "xtrain_tfidf = tfidf_vec.transform(X_train)\n",
    "xvalid_tfidf = tfidf_vec.transform(X_test)"
   ]
  },
  {
   "cell_type": "code",
   "execution_count": 35,
   "id": "58e7440d-f6c9-4a11-ab54-6a62fd3802a2",
   "metadata": {
    "tags": []
   },
   "outputs": [
    {
     "name": "stderr",
     "output_type": "stream",
     "text": [
      "C:\\Users\\Lyo\\Anaconda3\\lib\\site-packages\\sklearn\\linear_model\\_logistic.py:818: ConvergenceWarning: lbfgs failed to converge (status=1):\n",
      "STOP: TOTAL NO. of ITERATIONS REACHED LIMIT.\n",
      "\n",
      "Increase the number of iterations (max_iter) or scale the data as shown in:\n",
      "    https://scikit-learn.org/stable/modules/preprocessing.html\n",
      "Please also refer to the documentation for alternative solver options:\n",
      "    https://scikit-learn.org/stable/modules/linear_model.html#logistic-regression\n",
      "  extra_warning_msg=_LOGISTIC_SOLVER_CONVERGENCE_MSG,\n"
     ]
    }
   ],
   "source": [
    "# Обучение модели\n",
    "# Воспользуемся LogisticRegression\n",
    "lr = linear_model.LogisticRegression()\n",
    "lr.fit(xtrain_tfidf, y_train)\n",
    "\n",
    "predictions = lr.predict(xvalid_tfidf)"
   ]
  },
  {
   "cell_type": "code",
   "execution_count": 36,
   "id": "4e0f8781-c622-4b52-ae67-87448339a7f4",
   "metadata": {
    "tags": []
   },
   "outputs": [
    {
     "data": {
      "text/plain": [
       "0.9840484083403854"
      ]
     },
     "execution_count": 36,
     "metadata": {},
     "output_type": "execute_result"
    }
   ],
   "source": [
    "# Метрики\n",
    "metrics.accuracy_score(y_test, predictions)"
   ]
  },
  {
   "cell_type": "code",
   "execution_count": 37,
   "id": "f259d301-3e02-4ede-a968-313e75e3f6ce",
   "metadata": {},
   "outputs": [],
   "source": [
    "# Если торговля, модель model_shop, если чат - model_chat.\n",
    "def get_answer(question):\n",
    "    \"\"\" Функция вовзращает ответ на вопрос, определяя тематику \"\"\"\n",
    "    question = preprocess_text(question).split()\n",
    "    sent_vec = tfidf_vec.transform(question)\n",
    "    if lr.predict(sent_vec)[0] == 1:\n",
    "        model = model_shop\n",
    "        print('Debug: model_shop')\n",
    "        answer_index = index.get_nns_by_vector(get_vector(question, model), 1)\n",
    "        # По условию возвращаем 'product_id' - [2]. Если потребуется 'description' - [1]\n",
    "        answer = index_map[answer_index[0]][2]\n",
    "    else:\n",
    "        model = model_chat\n",
    "        print('Debug: model_chat')\n",
    "        answer_index = index_chat.get_nns_by_vector(get_vector(question, model), 1)\n",
    "        answer = index_chat_map[answer_index[0]]\n",
    "    return answer\n",
    "            "
   ]
  },
  {
   "cell_type": "code",
   "execution_count": 38,
   "id": "15a50f58-55ac-4bc2-b252-3b11f5905fe1",
   "metadata": {},
   "outputs": [
    {
     "name": "stdout",
     "output_type": "stream",
     "text": [
      "Debug: model_shop\n"
     ]
    }
   ],
   "source": [
    "assert(get_answer('Юбка детская ORBY').startswith('58e3cfe6132ca50e053f5f82'))"
   ]
  },
  {
   "cell_type": "code",
   "execution_count": 39,
   "id": "e779b412-a39f-4d99-9270-c5c8fe313e8e",
   "metadata": {
    "tags": []
   },
   "outputs": [
    {
     "name": "stdout",
     "output_type": "stream",
     "text": [
      "Debug: model_chat\n"
     ]
    }
   ],
   "source": [
    "assert(not get_answer('Где ключи от танка').startswith('5'))"
   ]
  },
  {
   "cell_type": "code",
   "execution_count": 40,
   "id": "b92c82d8-d174-4a0d-a827-b2af7b206635",
   "metadata": {
    "tags": []
   },
   "outputs": [],
   "source": [
    "# Сохраняем модель\n",
    "with open('/'.join([STORAGEDIR, 'model_lr.pkl']), 'wb') as file:\n",
    "    pickle.dump(lr, file)"
   ]
  },
  {
   "cell_type": "markdown",
   "id": "7d0739c5-d878-4810-84f7-1e61f74f9ccb",
   "metadata": {},
   "source": [
    "Вывод: В данном проекте мы решали задачу классификации. Улучшить метрику  можно путём обработки всех данных в датасете чата (метрика accuracy_score стремится к 100). Но уже сейчас можно дописать обёртку и получить виртуального ассистента."
   ]
  }
 ],
 "metadata": {
  "kernelspec": {
   "display_name": "Python 3 (ipykernel)",
   "language": "python",
   "name": "python3"
  },
  "language_info": {
   "codemirror_mode": {
    "name": "ipython",
    "version": 3
   },
   "file_extension": ".py",
   "mimetype": "text/x-python",
   "name": "python",
   "nbconvert_exporter": "python",
   "pygments_lexer": "ipython3",
   "version": "3.7.16"
  }
 },
 "nbformat": 4,
 "nbformat_minor": 5
}
