{
 "cells": [
  {
   "cell_type": "markdown",
   "id": "738c3f87-fe82-4738-a92f-e65827c8d92a",
   "metadata": {},
   "source": [
    "### Проект курса: Рекомендательная система"
   ]
  },
  {
   "cell_type": "markdown",
   "id": "2bb48372-7311-49ad-8e9a-d04de25e0918",
   "metadata": {},
   "source": [
    "#### Постановка задачи\n",
    "- Цель: Повысить прибыль от дополнительных продаж в интернет-магазине на 20%.\n",
    "- Задача: Построить рекомендательную систему на основе предоставленных данных.\n",
    "- Метрика: Precision@3 (какую долю из того, что мы порекомендовали, купил пользователь)"
   ]
  },
  {
   "cell_type": "markdown",
   "id": "1e30f797-3fde-4e77-a036-52697978b6fb",
   "metadata": {},
   "source": [
    "#### Импорт библиотек"
   ]
  },
  {
   "cell_type": "code",
   "execution_count": 1,
   "id": "554f88bc-6f47-4de3-ae14-cafc482df362",
   "metadata": {},
   "outputs": [],
   "source": [
    "import warnings\n",
    "warnings.filterwarnings('ignore')\n",
    "\n",
    "import pandas as pd\n",
    "import numpy as np\n",
    "import seaborn as sns\n",
    "import annoy\n",
    "import pickle\n",
    "import lightfm\n",
    "import xgboost as xgb\n",
    "import matplotlib.pyplot as plt\n",
    "from collections import defaultdict\n",
    "from scipy.sparse import coo_matrix\n",
    "from sklearn import preprocessing\n",
    "from sklearn.metrics import accuracy_score, precision_score\n",
    "\n",
    "from gensim.models import FastText\n",
    "from statsmodels.stats.proportion import proportions_ztest\n",
    "from datetime import datetime"
   ]
  },
  {
   "cell_type": "markdown",
   "id": "b493ae2f-1b56-497f-927f-229b4d758f19",
   "metadata": {},
   "source": [
    "#### Загрузка датасетов"
   ]
  },
  {
   "cell_type": "code",
   "execution_count": 2,
   "id": "5fcb3fd0-d3c1-47aa-a329-217608a14bbb",
   "metadata": {},
   "outputs": [],
   "source": [
    "events = pd.read_csv('data/events.csv')\n",
    "category_tree = pd.read_csv('data/category_tree.csv')\n",
    "item_properties_part1 = pd.read_csv('data/item_properties_part1.csv')\n",
    "item_properties_part2 = pd.read_csv('data/item_properties_part2.csv')"
   ]
  },
  {
   "cell_type": "code",
   "execution_count": 3,
   "id": "9463dcae-4e5c-4c1b-b744-01130c8efc14",
   "metadata": {},
   "outputs": [],
   "source": [
    "# Объединяем item_properties\n",
    "item_properties = pd.concat([item_properties_part1, item_properties_part2])"
   ]
  },
  {
   "cell_type": "markdown",
   "id": "93e188f9-ed48-47bd-b8ef-36ebe893d6be",
   "metadata": {},
   "source": [
    "#### Описание данных. EDA"
   ]
  },
  {
   "cell_type": "markdown",
   "id": "d78bd439-b848-4237-a048-28d98fbfaf19",
   "metadata": {},
   "source": [
    "##### events — датасет с событиями.  \n",
    "timestamp — время события  \n",
    "visitorid — идентификатор пользователя  \n",
    "event — тип события  \n",
    "itemid — идентификатор объекта  \n",
    "transactionid — идентификатор транзакции, если она проходила"
   ]
  },
  {
   "cell_type": "code",
   "execution_count": 4,
   "id": "57a4544c-e379-471b-8fa3-9f89816fc687",
   "metadata": {},
   "outputs": [
    {
     "name": "stdout",
     "output_type": "stream",
     "text": [
      "<class 'pandas.core.frame.DataFrame'>\n",
      "RangeIndex: 2756101 entries, 0 to 2756100\n",
      "Data columns (total 5 columns):\n",
      " #   Column         Dtype  \n",
      "---  ------         -----  \n",
      " 0   timestamp      int64  \n",
      " 1   visitorid      int64  \n",
      " 2   event          object \n",
      " 3   itemid         int64  \n",
      " 4   transactionid  float64\n",
      "dtypes: float64(1), int64(3), object(1)\n",
      "memory usage: 105.1+ MB\n"
     ]
    }
   ],
   "source": [
    "events.info()"
   ]
  },
  {
   "cell_type": "code",
   "execution_count": 5,
   "id": "8f8145e3-24c8-4173-8538-19227eba6356",
   "metadata": {},
   "outputs": [
    {
     "data": {
      "text/html": [
       "<div>\n",
       "<style scoped>\n",
       "    .dataframe tbody tr th:only-of-type {\n",
       "        vertical-align: middle;\n",
       "    }\n",
       "\n",
       "    .dataframe tbody tr th {\n",
       "        vertical-align: top;\n",
       "    }\n",
       "\n",
       "    .dataframe thead th {\n",
       "        text-align: right;\n",
       "    }\n",
       "</style>\n",
       "<table border=\"1\" class=\"dataframe\">\n",
       "  <thead>\n",
       "    <tr style=\"text-align: right;\">\n",
       "      <th></th>\n",
       "      <th>timestamp</th>\n",
       "      <th>visitorid</th>\n",
       "      <th>event</th>\n",
       "      <th>itemid</th>\n",
       "      <th>transactionid</th>\n",
       "    </tr>\n",
       "  </thead>\n",
       "  <tbody>\n",
       "    <tr>\n",
       "      <th>846229</th>\n",
       "      <td>1439605824413</td>\n",
       "      <td>682559</td>\n",
       "      <td>view</td>\n",
       "      <td>204494</td>\n",
       "      <td>NaN</td>\n",
       "    </tr>\n",
       "    <tr>\n",
       "      <th>1825285</th>\n",
       "      <td>1432145187731</td>\n",
       "      <td>211640</td>\n",
       "      <td>view</td>\n",
       "      <td>330785</td>\n",
       "      <td>NaN</td>\n",
       "    </tr>\n",
       "    <tr>\n",
       "      <th>1640743</th>\n",
       "      <td>1431469468333</td>\n",
       "      <td>65471</td>\n",
       "      <td>view</td>\n",
       "      <td>234670</td>\n",
       "      <td>NaN</td>\n",
       "    </tr>\n",
       "    <tr>\n",
       "      <th>1845014</th>\n",
       "      <td>1432230813424</td>\n",
       "      <td>1215108</td>\n",
       "      <td>view</td>\n",
       "      <td>118656</td>\n",
       "      <td>NaN</td>\n",
       "    </tr>\n",
       "    <tr>\n",
       "      <th>1341099</th>\n",
       "      <td>1441945352457</td>\n",
       "      <td>1115940</td>\n",
       "      <td>view</td>\n",
       "      <td>218794</td>\n",
       "      <td>NaN</td>\n",
       "    </tr>\n",
       "  </tbody>\n",
       "</table>\n",
       "</div>"
      ],
      "text/plain": [
       "             timestamp  visitorid event  itemid  transactionid\n",
       "846229   1439605824413     682559  view  204494            NaN\n",
       "1825285  1432145187731     211640  view  330785            NaN\n",
       "1640743  1431469468333      65471  view  234670            NaN\n",
       "1845014  1432230813424    1215108  view  118656            NaN\n",
       "1341099  1441945352457    1115940  view  218794            NaN"
      ]
     },
     "execution_count": 5,
     "metadata": {},
     "output_type": "execute_result"
    }
   ],
   "source": [
    "events.sample(5)"
   ]
  },
  {
   "cell_type": "code",
   "execution_count": 6,
   "id": "dc7e2cad-b8bb-4c3a-baaa-4c6f513f48cd",
   "metadata": {},
   "outputs": [
    {
     "data": {
      "text/plain": [
       "460"
      ]
     },
     "execution_count": 6,
     "metadata": {},
     "output_type": "execute_result"
    }
   ],
   "source": [
    "# Проверим events на дубликаты\n",
    "events.duplicated().sum()"
   ]
  },
  {
   "cell_type": "code",
   "execution_count": 7,
   "id": "cf48134e-9bad-4d96-b868-412e8705cc93",
   "metadata": {},
   "outputs": [],
   "source": [
    "# events содержит дубликаты, почистим\n",
    "events.drop_duplicates(inplace=True)"
   ]
  },
  {
   "cell_type": "code",
   "execution_count": 8,
   "id": "4ef1e6f1-92e6-49ac-94fd-a4a073820993",
   "metadata": {},
   "outputs": [],
   "source": [
    "# Для удобства конвертируем timestamp в datetime\n",
    "events['datetime'] = pd.to_datetime(events.timestamp, unit='ms')"
   ]
  },
  {
   "cell_type": "code",
   "execution_count": 9,
   "id": "5cc6c121-13df-4a8b-ba19-b7d5cd296d41",
   "metadata": {},
   "outputs": [
    {
     "name": "stdout",
     "output_type": "stream",
     "text": [
      "Данные за период: 2015-05-03 03:00:04.384000 - 2015-09-18 02:59:47.788000\n"
     ]
    }
   ],
   "source": [
    "print(f\"Данные за период: {min(events['datetime'])} - {max(events['datetime'])}\")"
   ]
  },
  {
   "cell_type": "code",
   "execution_count": 10,
   "id": "2f410996-81cc-4c3a-a916-1bc8456185e4",
   "metadata": {},
   "outputs": [
    {
     "data": {
      "text/plain": [
       "<AxesSubplot:xlabel='datetime'>"
      ]
     },
     "execution_count": 10,
     "metadata": {},
     "output_type": "execute_result"
    },
    {
     "data": {
      "image/png": "[encoded data removed]",
      "text/plain": [
       "<Figure size 640x480 with 1 Axes>"
      ]
     },
     "metadata": {},
     "output_type": "display_data"
    }
   ],
   "source": [
    "# Визуализируем активность по дате\n",
    "event_date = events.resample('D', on='datetime').count()\n",
    "event_date['event'].plot()"
   ]
  },
  {
   "cell_type": "code",
   "execution_count": 11,
   "id": "6b52f4d2-bd4a-4354-92e7-4113ed9b8d77",
   "metadata": {},
   "outputs": [
    {
     "name": "stdout",
     "output_type": "stream",
     "text": [
      "Уникальных посетителей: 1407580\n"
     ]
    }
   ],
   "source": [
    "# visitorid\n",
    "print(f'Уникальных посетителей: {len(events.visitorid.unique())}')"
   ]
  },
  {
   "cell_type": "code",
   "execution_count": 12,
   "id": "a7956dda-c4f7-4d4c-bc06-200b4a070c87",
   "metadata": {},
   "outputs": [
    {
     "data": {
      "text/plain": [
       "array(['view', 'addtocart', 'transaction'], dtype=object)"
      ]
     },
     "execution_count": 12,
     "metadata": {},
     "output_type": "execute_result"
    }
   ],
   "source": [
    "# event\n",
    "events.event.unique()"
   ]
  },
  {
   "cell_type": "markdown",
   "id": "0463ae76-10ef-42fa-b54a-ecee152b1dd3",
   "metadata": {},
   "source": [
    "Датасет содержит три типа события: просмотр, добавление товара в корзину и покупка (транзакция)"
   ]
  },
  {
   "cell_type": "code",
   "execution_count": 13,
   "id": "7bfbe6ef-f057-4bf2-800c-34f5fca1df6b",
   "metadata": {},
   "outputs": [
    {
     "data": {
      "text/plain": [
       "<AxesSubplot:xlabel='event', ylabel='count'>"
      ]
     },
     "execution_count": 13,
     "metadata": {},
     "output_type": "execute_result"
    },
    {
     "data": {
      "image/png": "[encoded data removed]",
      "text/plain": [
       "<Figure size 640x480 with 1 Axes>"
      ]
     },
     "metadata": {},
     "output_type": "display_data"
    }
   ],
   "source": [
    "# Посмотрим на соотношение\n",
    "sns.countplot(data=events, x='event')"
   ]
  },
  {
   "cell_type": "markdown",
   "id": "75d2c9d6-f1ff-4646-bfbf-0975df65c031",
   "metadata": {},
   "source": [
    "Датасет не сбалансирован. Категория view значительно преобладает над остальными"
   ]
  },
  {
   "cell_type": "code",
   "execution_count": 14,
   "id": "526e5eb6-dfa2-4da8-bf90-220a968de4f2",
   "metadata": {},
   "outputs": [
    {
     "data": {
      "text/plain": [
       "0.842911503488078"
      ]
     },
     "execution_count": 14,
     "metadata": {},
     "output_type": "execute_result"
    }
   ],
   "source": [
    "# Purchase rate\n",
    "len(events[events.event == 'transaction']) / len(events[events.event == 'view']) * 100"
   ]
  },
  {
   "cell_type": "markdown",
   "id": "bfe35c35-8f61-4632-8710-721001bbec5c",
   "metadata": {},
   "source": [
    "Purchase rate менее одного процента"
   ]
  },
  {
   "cell_type": "code",
   "execution_count": 15,
   "id": "bd83fb7a-2adf-4f92-bddd-4c83f5726c79",
   "metadata": {},
   "outputs": [
    {
     "data": {
      "text/plain": [
       "1150086    7757\n",
       "530559     4328\n",
       "152963     3024\n",
       "895999     2474\n",
       "163561     2410\n",
       "371606     2345\n",
       "286616     2252\n",
       "684514     2246\n",
       "892013     2024\n",
       "861299     1991\n",
       "Name: visitorid, dtype: int64"
      ]
     },
     "execution_count": 15,
     "metadata": {},
     "output_type": "execute_result"
    }
   ],
   "source": [
    "# Топ 10 активных посетителей\n",
    "events.visitorid.value_counts().head(10)"
   ]
  },
  {
   "cell_type": "code",
   "execution_count": 16,
   "id": "3cb711fa-0334-4611-98be-c91f2957198d",
   "metadata": {},
   "outputs": [
    {
     "data": {
      "text/html": [
       "<div>\n",
       "<style scoped>\n",
       "    .dataframe tbody tr th:only-of-type {\n",
       "        vertical-align: middle;\n",
       "    }\n",
       "\n",
       "    .dataframe tbody tr th {\n",
       "        vertical-align: top;\n",
       "    }\n",
       "\n",
       "    .dataframe thead th {\n",
       "        text-align: right;\n",
       "    }\n",
       "</style>\n",
       "<table border=\"1\" class=\"dataframe\">\n",
       "  <thead>\n",
       "    <tr style=\"text-align: right;\">\n",
       "      <th></th>\n",
       "      <th>number of transactions</th>\n",
       "    </tr>\n",
       "    <tr>\n",
       "      <th>visitorid</th>\n",
       "      <th></th>\n",
       "    </tr>\n",
       "  </thead>\n",
       "  <tbody>\n",
       "    <tr>\n",
       "      <th>1150086</th>\n",
       "      <td>559</td>\n",
       "    </tr>\n",
       "    <tr>\n",
       "      <th>152963</th>\n",
       "      <td>349</td>\n",
       "    </tr>\n",
       "    <tr>\n",
       "      <th>530559</th>\n",
       "      <td>286</td>\n",
       "    </tr>\n",
       "    <tr>\n",
       "      <th>684514</th>\n",
       "      <td>189</td>\n",
       "    </tr>\n",
       "    <tr>\n",
       "      <th>861299</th>\n",
       "      <td>188</td>\n",
       "    </tr>\n",
       "    <tr>\n",
       "      <th>76757</th>\n",
       "      <td>185</td>\n",
       "    </tr>\n",
       "    <tr>\n",
       "      <th>138131</th>\n",
       "      <td>173</td>\n",
       "    </tr>\n",
       "    <tr>\n",
       "      <th>890980</th>\n",
       "      <td>145</td>\n",
       "    </tr>\n",
       "    <tr>\n",
       "      <th>1297062</th>\n",
       "      <td>136</td>\n",
       "    </tr>\n",
       "    <tr>\n",
       "      <th>247235</th>\n",
       "      <td>132</td>\n",
       "    </tr>\n",
       "  </tbody>\n",
       "</table>\n",
       "</div>"
      ],
      "text/plain": [
       "           number of transactions\n",
       "visitorid                        \n",
       "1150086                       559\n",
       "152963                        349\n",
       "530559                        286\n",
       "684514                        189\n",
       "861299                        188\n",
       "76757                         185\n",
       "138131                        173\n",
       "890980                        145\n",
       "1297062                       136\n",
       "247235                        132"
      ]
     },
     "execution_count": 16,
     "metadata": {},
     "output_type": "execute_result"
    }
   ],
   "source": [
    "# Топ 10 покупателей\n",
    "df_top_tran = events[events.transactionid>=0][['visitorid', 'transactionid']].groupby('visitorid').agg(len).astype('uint16').sort_values(by='transactionid', ascending=False).head(10)\n",
    "df_top_tran.columns=['number of transactions']\n",
    "df_top_tran"
   ]
  },
  {
   "cell_type": "code",
   "execution_count": 17,
   "id": "e559fe13-342e-47b3-9330-44f0baf12f17",
   "metadata": {},
   "outputs": [
    {
     "name": "stdout",
     "output_type": "stream",
     "text": [
      "Уникальных товаров: 235061\n"
     ]
    }
   ],
   "source": [
    "# Уникальных товаров в событиях\n",
    "print(f'Уникальных товаров: {len(events.itemid.unique())}')"
   ]
  },
  {
   "cell_type": "markdown",
   "id": "64ff0d05-b117-4f72-bb26-c60c3b84f56b",
   "metadata": {},
   "source": [
    "##### category_tree — файл с деревом категорий\n",
    "categoryid — идентификатор категорий  \n",
    "parentid — идентификатор родительской категории"
   ]
  },
  {
   "cell_type": "code",
   "execution_count": 18,
   "id": "e44fd9e8-1ba2-4657-b7db-38b459da9364",
   "metadata": {},
   "outputs": [
    {
     "name": "stdout",
     "output_type": "stream",
     "text": [
      "<class 'pandas.core.frame.DataFrame'>\n",
      "RangeIndex: 1669 entries, 0 to 1668\n",
      "Data columns (total 2 columns):\n",
      " #   Column      Non-Null Count  Dtype  \n",
      "---  ------      --------------  -----  \n",
      " 0   categoryid  1669 non-null   int64  \n",
      " 1   parentid    1644 non-null   float64\n",
      "dtypes: float64(1), int64(1)\n",
      "memory usage: 26.2 KB\n"
     ]
    }
   ],
   "source": [
    "category_tree.info()"
   ]
  },
  {
   "cell_type": "code",
   "execution_count": 19,
   "id": "464556d4-ffcf-439d-915d-2b648de5d283",
   "metadata": {},
   "outputs": [
    {
     "data": {
      "text/html": [
       "<div>\n",
       "<style scoped>\n",
       "    .dataframe tbody tr th:only-of-type {\n",
       "        vertical-align: middle;\n",
       "    }\n",
       "\n",
       "    .dataframe tbody tr th {\n",
       "        vertical-align: top;\n",
       "    }\n",
       "\n",
       "    .dataframe thead th {\n",
       "        text-align: right;\n",
       "    }\n",
       "</style>\n",
       "<table border=\"1\" class=\"dataframe\">\n",
       "  <thead>\n",
       "    <tr style=\"text-align: right;\">\n",
       "      <th></th>\n",
       "      <th>categoryid</th>\n",
       "      <th>parentid</th>\n",
       "    </tr>\n",
       "  </thead>\n",
       "  <tbody>\n",
       "    <tr>\n",
       "      <th>0</th>\n",
       "      <td>1016</td>\n",
       "      <td>213.0</td>\n",
       "    </tr>\n",
       "    <tr>\n",
       "      <th>1</th>\n",
       "      <td>809</td>\n",
       "      <td>169.0</td>\n",
       "    </tr>\n",
       "    <tr>\n",
       "      <th>2</th>\n",
       "      <td>570</td>\n",
       "      <td>9.0</td>\n",
       "    </tr>\n",
       "    <tr>\n",
       "      <th>3</th>\n",
       "      <td>1691</td>\n",
       "      <td>885.0</td>\n",
       "    </tr>\n",
       "    <tr>\n",
       "      <th>4</th>\n",
       "      <td>536</td>\n",
       "      <td>1691.0</td>\n",
       "    </tr>\n",
       "  </tbody>\n",
       "</table>\n",
       "</div>"
      ],
      "text/plain": [
       "   categoryid  parentid\n",
       "0        1016     213.0\n",
       "1         809     169.0\n",
       "2         570       9.0\n",
       "3        1691     885.0\n",
       "4         536    1691.0"
      ]
     },
     "execution_count": 19,
     "metadata": {},
     "output_type": "execute_result"
    }
   ],
   "source": [
    "category_tree.head()"
   ]
  },
  {
   "cell_type": "markdown",
   "id": "840c00d8-a94e-43f0-bf7a-8b707fcdc2b8",
   "metadata": {},
   "source": [
    "У ряда категорий отсутсвует родительская (пропущенные значения) -> вершина"
   ]
  },
  {
   "cell_type": "code",
   "execution_count": 20,
   "id": "50fb6c92-2e93-435b-a329-c9552a16ab09",
   "metadata": {},
   "outputs": [
    {
     "data": {
      "text/plain": [
       "0"
      ]
     },
     "execution_count": 20,
     "metadata": {},
     "output_type": "execute_result"
    }
   ],
   "source": [
    "# Проверим category_tree на дубликаты\n",
    "category_tree.duplicated().sum()"
   ]
  },
  {
   "cell_type": "code",
   "execution_count": 21,
   "id": "9a87487f-bbfa-465c-8c4a-33b5cbcb27df",
   "metadata": {},
   "outputs": [
    {
     "name": "stdout",
     "output_type": "stream",
     "text": [
      "categoryid 1669\n",
      "parentid 363\n"
     ]
    }
   ],
   "source": [
    "print('categoryid', len(category_tree.categoryid.unique()))\n",
    "print('parentid', len(category_tree.parentid.unique()))"
   ]
  },
  {
   "cell_type": "markdown",
   "id": "eb1da424-5961-4269-8d75-8ebe6f9a29fc",
   "metadata": {},
   "source": [
    "##### item_properties — файл со свойствами товаров\n",
    "timestamp — момент записи значения свойства  \n",
    "item_id — идентификатор объекта  \n",
    "property — свойства, захешированы  \n",
    "value — значение свойства"
   ]
  },
  {
   "cell_type": "code",
   "execution_count": 22,
   "id": "c461a19b-70f9-4eb7-acf0-db08aba7621c",
   "metadata": {},
   "outputs": [
    {
     "name": "stdout",
     "output_type": "stream",
     "text": [
      "<class 'pandas.core.frame.DataFrame'>\n",
      "Int64Index: 20275902 entries, 0 to 9275902\n",
      "Data columns (total 4 columns):\n",
      " #   Column     Dtype \n",
      "---  ------     ----- \n",
      " 0   timestamp  int64 \n",
      " 1   itemid     int64 \n",
      " 2   property   object\n",
      " 3   value      object\n",
      "dtypes: int64(2), object(2)\n",
      "memory usage: 773.5+ MB\n"
     ]
    }
   ],
   "source": [
    "item_properties.info()"
   ]
  },
  {
   "cell_type": "code",
   "execution_count": 23,
   "id": "62dd19f4-5cc4-4a3e-a5d5-4e34dd215d5f",
   "metadata": {},
   "outputs": [
    {
     "data": {
      "text/html": [
       "<div>\n",
       "<style scoped>\n",
       "    .dataframe tbody tr th:only-of-type {\n",
       "        vertical-align: middle;\n",
       "    }\n",
       "\n",
       "    .dataframe tbody tr th {\n",
       "        vertical-align: top;\n",
       "    }\n",
       "\n",
       "    .dataframe thead th {\n",
       "        text-align: right;\n",
       "    }\n",
       "</style>\n",
       "<table border=\"1\" class=\"dataframe\">\n",
       "  <thead>\n",
       "    <tr style=\"text-align: right;\">\n",
       "      <th></th>\n",
       "      <th>timestamp</th>\n",
       "      <th>itemid</th>\n",
       "      <th>property</th>\n",
       "      <th>value</th>\n",
       "    </tr>\n",
       "  </thead>\n",
       "  <tbody>\n",
       "    <tr>\n",
       "      <th>0</th>\n",
       "      <td>1435460400000</td>\n",
       "      <td>460429</td>\n",
       "      <td>categoryid</td>\n",
       "      <td>1338</td>\n",
       "    </tr>\n",
       "    <tr>\n",
       "      <th>1</th>\n",
       "      <td>1441508400000</td>\n",
       "      <td>206783</td>\n",
       "      <td>888</td>\n",
       "      <td>1116713 960601 n277.200</td>\n",
       "    </tr>\n",
       "    <tr>\n",
       "      <th>2</th>\n",
       "      <td>1439089200000</td>\n",
       "      <td>395014</td>\n",
       "      <td>400</td>\n",
       "      <td>n552.000 639502 n720.000 424566</td>\n",
       "    </tr>\n",
       "    <tr>\n",
       "      <th>3</th>\n",
       "      <td>1431226800000</td>\n",
       "      <td>59481</td>\n",
       "      <td>790</td>\n",
       "      <td>n15360.000</td>\n",
       "    </tr>\n",
       "    <tr>\n",
       "      <th>4</th>\n",
       "      <td>1431831600000</td>\n",
       "      <td>156781</td>\n",
       "      <td>917</td>\n",
       "      <td>828513</td>\n",
       "    </tr>\n",
       "  </tbody>\n",
       "</table>\n",
       "</div>"
      ],
      "text/plain": [
       "       timestamp  itemid    property                            value\n",
       "0  1435460400000  460429  categoryid                             1338\n",
       "1  1441508400000  206783         888          1116713 960601 n277.200\n",
       "2  1439089200000  395014         400  n552.000 639502 n720.000 424566\n",
       "3  1431226800000   59481         790                       n15360.000\n",
       "4  1431831600000  156781         917                           828513"
      ]
     },
     "execution_count": 23,
     "metadata": {},
     "output_type": "execute_result"
    }
   ],
   "source": [
    "item_properties.head()"
   ]
  },
  {
   "cell_type": "markdown",
   "id": "0a2a27cd-5f79-4043-9e63-441338c3c180",
   "metadata": {},
   "source": [
    "Значения параметров закодированы"
   ]
  },
  {
   "cell_type": "code",
   "execution_count": 24,
   "id": "6cd50948-aca4-41f9-89c2-aec4b4dbda79",
   "metadata": {},
   "outputs": [
    {
     "data": {
      "text/plain": [
       "0"
      ]
     },
     "execution_count": 24,
     "metadata": {},
     "output_type": "execute_result"
    }
   ],
   "source": [
    "# Проверим на дудликаты\n",
    "item_properties.duplicated().sum()"
   ]
  },
  {
   "cell_type": "code",
   "execution_count": 25,
   "id": "ad0b0077-889a-4f81-85ad-1ce2aa2b9f01",
   "metadata": {},
   "outputs": [
    {
     "name": "stdout",
     "output_type": "stream",
     "text": [
      "Количетсво товаров в справочнике: 417053\n"
     ]
    }
   ],
   "source": [
    "print(f'Количетсво товаров в справочнике: {len(item_properties.itemid.unique())}')"
   ]
  },
  {
   "cell_type": "markdown",
   "id": "28b6e4d2-31d5-454b-9a15-3d577730de57",
   "metadata": {},
   "source": [
    "#### Понижение размерности"
   ]
  },
  {
   "cell_type": "code",
   "execution_count": 26,
   "id": "4c0b04e4-38b3-49ef-a446-370f6b1316a2",
   "metadata": {},
   "outputs": [
    {
     "name": "stdout",
     "output_type": "stream",
     "text": [
      "1265\n",
      "11165\n"
     ]
    }
   ],
   "source": [
    "# Установим минимальное значение\n",
    "min_count = 50\n",
    "\n",
    "# Посчитаем действия посетителей\n",
    "visitors_events = events[['visitorid', 'event']].groupby(['visitorid']).count().reset_index()\n",
    "# Отбросим неактивных (менее min_count действий)\n",
    "visitors = visitors_events[visitors_events.event >= min_count].visitorid.to_list()\n",
    "print(len(visitors))\n",
    "\n",
    "# Посчитаем популярные товары\n",
    "popular_items = events.groupby(['itemid']).count().reset_index()[['itemid','event']].sort_values('event', ascending=False)\n",
    "# Отбросим менее востребованные (менее min_count действий)\n",
    "items = popular_items[popular_items.event >= min_count].itemid.to_list()\n",
    "print(len(items))"
   ]
  },
  {
   "cell_type": "code",
   "execution_count": 27,
   "id": "ad885f63-5245-4f16-9308-ac38a6fb40b3",
   "metadata": {},
   "outputs": [],
   "source": [
    "events = events[events.visitorid.isin(visitors) & events.itemid.isin(items)]"
   ]
  },
  {
   "cell_type": "markdown",
   "id": "2bf7a113-fea6-40c3-9bb2-9f8c88865950",
   "metadata": {},
   "source": [
    "Понижение размерности заметно улучшает результат"
   ]
  },
  {
   "cell_type": "markdown",
   "id": "be8caad4-eb02-4226-bf47-1ee4dbf1c0c6",
   "metadata": {},
   "source": [
    "#### Разаделение данных на обучающую и валидационную выборку"
   ]
  },
  {
   "cell_type": "markdown",
   "id": "6342a5a6-576a-4f52-bf9c-9966bdb1bc56",
   "metadata": {},
   "source": [
    "Разделим данные по дате 01.07.2015"
   ]
  },
  {
   "cell_type": "code",
   "execution_count": 28,
   "id": "d17fb6a8-94cb-4b87-89cd-ddd763146d09",
   "metadata": {},
   "outputs": [],
   "source": [
    "events_train = events[events.datetime <= '2015-07-01']\n",
    "events_valid = events[events.datetime > '2015-07-01']"
   ]
  },
  {
   "cell_type": "markdown",
   "id": "de8265a7-4da4-40b8-bc7b-3d656f62784b",
   "metadata": {
    "tags": []
   },
   "source": [
    "#### Статистический анализ данных"
   ]
  },
  {
   "cell_type": "code",
   "execution_count": 29,
   "id": "217385eb-d274-48cd-84af-a0c0b32683b3",
   "metadata": {},
   "outputs": [],
   "source": [
    "# Отфильтруем тестовую выборку\n",
    "events_valid = events_valid[(events_valid['visitorid'].isin(events_train['visitorid'])) \n",
    "                          & (events_valid['itemid'].isin(events_train['itemid']))]"
   ]
  },
  {
   "cell_type": "code",
   "execution_count": 30,
   "id": "49da52bd-4e23-44dc-ba6d-5ba18b8048b9",
   "metadata": {},
   "outputs": [
    {
     "name": "stdout",
     "output_type": "stream",
     "text": [
      "(57160, 6)\n",
      "(21007, 6)\n"
     ]
    }
   ],
   "source": [
    "print(events_train.shape)\n",
    "print(events_valid.shape)"
   ]
  },
  {
   "cell_type": "code",
   "execution_count": 31,
   "id": "de689a06-a932-4bee-a1b4-cb139fe12755",
   "metadata": {
    "tags": []
   },
   "outputs": [],
   "source": [
    "# События представим в виде отдельных признаков\n",
    "def dummy_events(df):\n",
    "    return pd.get_dummies(data=df, columns=['event'])"
   ]
  },
  {
   "cell_type": "code",
   "execution_count": 32,
   "id": "1d674a61-6e4f-4f75-a2bf-a9c94e51dbab",
   "metadata": {},
   "outputs": [],
   "source": [
    "events_train_d = dummy_events(events_train)\n",
    "events_valid_d = dummy_events(events_valid)"
   ]
  },
  {
   "cell_type": "markdown",
   "id": "12a68d58-b871-482c-897b-7c083da770c1",
   "metadata": {},
   "source": [
    "Проведём оценку равности долей (Z-test)"
   ]
  },
  {
   "cell_type": "code",
   "execution_count": 33,
   "id": "1cee1764-af4c-4d2d-a134-0bd0c540f718",
   "metadata": {},
   "outputs": [
    {
     "data": {
      "text/html": [
       "<div>\n",
       "<style scoped>\n",
       "    .dataframe tbody tr th:only-of-type {\n",
       "        vertical-align: middle;\n",
       "    }\n",
       "\n",
       "    .dataframe tbody tr th {\n",
       "        vertical-align: top;\n",
       "    }\n",
       "\n",
       "    .dataframe thead th {\n",
       "        text-align: right;\n",
       "    }\n",
       "</style>\n",
       "<table border=\"1\" class=\"dataframe\">\n",
       "  <thead>\n",
       "    <tr style=\"text-align: right;\">\n",
       "      <th></th>\n",
       "      <th>timestamp</th>\n",
       "      <th>visitorid</th>\n",
       "      <th>itemid</th>\n",
       "      <th>transactionid</th>\n",
       "      <th>datetime</th>\n",
       "      <th>event_addtocart</th>\n",
       "      <th>event_transaction</th>\n",
       "      <th>event_view</th>\n",
       "    </tr>\n",
       "  </thead>\n",
       "  <tbody>\n",
       "    <tr>\n",
       "      <th>110</th>\n",
       "      <td>1433221740333</td>\n",
       "      <td>712443</td>\n",
       "      <td>346655</td>\n",
       "      <td>NaN</td>\n",
       "      <td>2015-06-02 05:09:00.333</td>\n",
       "      <td>0</td>\n",
       "      <td>0</td>\n",
       "      <td>1</td>\n",
       "    </tr>\n",
       "    <tr>\n",
       "      <th>137</th>\n",
       "      <td>1433221523348</td>\n",
       "      <td>1118731</td>\n",
       "      <td>350689</td>\n",
       "      <td>NaN</td>\n",
       "      <td>2015-06-02 05:05:23.348</td>\n",
       "      <td>0</td>\n",
       "      <td>0</td>\n",
       "      <td>1</td>\n",
       "    </tr>\n",
       "    <tr>\n",
       "      <th>194</th>\n",
       "      <td>1433193990704</td>\n",
       "      <td>85734</td>\n",
       "      <td>331725</td>\n",
       "      <td>NaN</td>\n",
       "      <td>2015-06-01 21:26:30.704</td>\n",
       "      <td>0</td>\n",
       "      <td>0</td>\n",
       "      <td>1</td>\n",
       "    </tr>\n",
       "    <tr>\n",
       "      <th>196</th>\n",
       "      <td>1433193535886</td>\n",
       "      <td>820159</td>\n",
       "      <td>369447</td>\n",
       "      <td>NaN</td>\n",
       "      <td>2015-06-01 21:18:55.886</td>\n",
       "      <td>0</td>\n",
       "      <td>0</td>\n",
       "      <td>1</td>\n",
       "    </tr>\n",
       "    <tr>\n",
       "      <th>211</th>\n",
       "      <td>1433194177067</td>\n",
       "      <td>1185234</td>\n",
       "      <td>154912</td>\n",
       "      <td>NaN</td>\n",
       "      <td>2015-06-01 21:29:37.067</td>\n",
       "      <td>0</td>\n",
       "      <td>0</td>\n",
       "      <td>1</td>\n",
       "    </tr>\n",
       "  </tbody>\n",
       "</table>\n",
       "</div>"
      ],
      "text/plain": [
       "         timestamp  visitorid  itemid  transactionid                datetime  \\\n",
       "110  1433221740333     712443  346655            NaN 2015-06-02 05:09:00.333   \n",
       "137  1433221523348    1118731  350689            NaN 2015-06-02 05:05:23.348   \n",
       "194  1433193990704      85734  331725            NaN 2015-06-01 21:26:30.704   \n",
       "196  1433193535886     820159  369447            NaN 2015-06-01 21:18:55.886   \n",
       "211  1433194177067    1185234  154912            NaN 2015-06-01 21:29:37.067   \n",
       "\n",
       "     event_addtocart  event_transaction  event_view  \n",
       "110                0                  0           1  \n",
       "137                0                  0           1  \n",
       "194                0                  0           1  \n",
       "196                0                  0           1  \n",
       "211                0                  0           1  "
      ]
     },
     "execution_count": 33,
     "metadata": {},
     "output_type": "execute_result"
    }
   ],
   "source": [
    "events_train_d.head()"
   ]
  },
  {
   "cell_type": "code",
   "execution_count": 34,
   "id": "5c2109e4-f48a-4219-899a-04b87ff96aeb",
   "metadata": {},
   "outputs": [],
   "source": [
    "def get_ztest_metrics(df1, df2, column):\n",
    "    \"\"\" Тест на равенство долей \"\"\"\n",
    "    count = [df1[column].sum(), df2[column].sum()]\n",
    "    nobs = [len(df1[column]), len(df2[column])]\n",
    "    stat, pval = proportions_ztest(count, nobs)\n",
    "    print(f'p-value: {pval}')\n",
    "    print(f'Тест на равенство долей: {pval > alpha}')\n",
    "    return pval"
   ]
  },
  {
   "cell_type": "code",
   "execution_count": 35,
   "id": "9c8070af-f193-40af-a1e3-fadde61c1ebc",
   "metadata": {},
   "outputs": [
    {
     "name": "stdout",
     "output_type": "stream",
     "text": [
      "event_addtocart\n",
      "p-value: 0.2542956885740091\n",
      "Тест на равенство долей: True\n",
      "\n",
      "event_transaction\n",
      "p-value: 0.7593252070517664\n",
      "Тест на равенство долей: True\n",
      "\n",
      "event_view\n",
      "p-value: 0.26205928745208973\n",
      "Тест на равенство долей: True\n",
      "\n"
     ]
    }
   ],
   "source": [
    "alpha = 0.05\n",
    "\n",
    "for column in ['event_addtocart','event_transaction','event_view']:\n",
    "    print(column)\n",
    "    pvalue = get_ztest_metrics(events_train_d, events_valid_d, column)\n",
    "    print()"
   ]
  },
  {
   "cell_type": "markdown",
   "id": "5ca33368-6ade-46ac-a04d-e9e83cc299d4",
   "metadata": {},
   "source": [
    "Получили положительный результат по всем признакам"
   ]
  },
  {
   "cell_type": "markdown",
   "id": "533e520e-7ef8-4c4f-ade8-c31ba77c0121",
   "metadata": {},
   "source": [
    "#### Генерация признаков"
   ]
  },
  {
   "cell_type": "markdown",
   "id": "1051fce6-f3c8-4ff6-988e-f325981c8107",
   "metadata": {},
   "source": [
    "Сформируем рейтинг исходя из действий посетителей"
   ]
  },
  {
   "cell_type": "code",
   "execution_count": 36,
   "id": "8bed0cb6-162e-4918-8a4e-1aaa46ed6284",
   "metadata": {},
   "outputs": [],
   "source": [
    "# Опишем dict\n",
    "event_to_rating = {\n",
    "    'view': 1, \n",
    "    'addtocart': 2, \n",
    "    'transaction': 3\n",
    "}"
   ]
  },
  {
   "cell_type": "code",
   "execution_count": 37,
   "id": "ce118cef-5851-4a5e-bc31-ac1747700ac2",
   "metadata": {},
   "outputs": [],
   "source": [
    "def get_ratings(df):\n",
    "    df['action'] = df.event.map(event_to_rating)\n",
    "    df_with_ratings = df[['datetime', 'visitorid', 'itemid', 'action']].groupby(['visitorid', 'itemid']).agg(max).reset_index()\n",
    "    df_with_ratings.columns=['visitorid', 'itemid', 'datetime', 'rating']\n",
    "    return df_with_ratings"
   ]
  },
  {
   "cell_type": "code",
   "execution_count": 38,
   "id": "559482a3-d9b4-4388-912c-ec185e07b341",
   "metadata": {},
   "outputs": [],
   "source": [
    "events_train_ratings = get_ratings(events_train)\n",
    "events_valid_ratings = get_ratings(events_valid)"
   ]
  },
  {
   "cell_type": "code",
   "execution_count": 39,
   "id": "c615585d-722d-4539-8258-0ce0321bb41e",
   "metadata": {},
   "outputs": [
    {
     "data": {
      "text/html": [
       "<div>\n",
       "<style scoped>\n",
       "    .dataframe tbody tr th:only-of-type {\n",
       "        vertical-align: middle;\n",
       "    }\n",
       "\n",
       "    .dataframe tbody tr th {\n",
       "        vertical-align: top;\n",
       "    }\n",
       "\n",
       "    .dataframe thead th {\n",
       "        text-align: right;\n",
       "    }\n",
       "</style>\n",
       "<table border=\"1\" class=\"dataframe\">\n",
       "  <thead>\n",
       "    <tr style=\"text-align: right;\">\n",
       "      <th></th>\n",
       "      <th>visitorid</th>\n",
       "      <th>itemid</th>\n",
       "      <th>datetime</th>\n",
       "      <th>rating</th>\n",
       "    </tr>\n",
       "  </thead>\n",
       "  <tbody>\n",
       "    <tr>\n",
       "      <th>10987</th>\n",
       "      <td>530033</td>\n",
       "      <td>247376</td>\n",
       "      <td>2015-06-04 20:18:15.634</td>\n",
       "      <td>1</td>\n",
       "    </tr>\n",
       "    <tr>\n",
       "      <th>25542</th>\n",
       "      <td>1352334</td>\n",
       "      <td>75152</td>\n",
       "      <td>2015-05-19 04:05:25.235</td>\n",
       "      <td>1</td>\n",
       "    </tr>\n",
       "    <tr>\n",
       "      <th>6374</th>\n",
       "      <td>286616</td>\n",
       "      <td>372169</td>\n",
       "      <td>2015-06-06 23:14:37.811</td>\n",
       "      <td>1</td>\n",
       "    </tr>\n",
       "    <tr>\n",
       "      <th>15080</th>\n",
       "      <td>765630</td>\n",
       "      <td>16344</td>\n",
       "      <td>2015-06-23 18:01:23.429</td>\n",
       "      <td>1</td>\n",
       "    </tr>\n",
       "    <tr>\n",
       "      <th>3449</th>\n",
       "      <td>138604</td>\n",
       "      <td>387318</td>\n",
       "      <td>2015-06-15 22:37:49.903</td>\n",
       "      <td>1</td>\n",
       "    </tr>\n",
       "  </tbody>\n",
       "</table>\n",
       "</div>"
      ],
      "text/plain": [
       "       visitorid  itemid                datetime  rating\n",
       "10987     530033  247376 2015-06-04 20:18:15.634       1\n",
       "25542    1352334   75152 2015-05-19 04:05:25.235       1\n",
       "6374      286616  372169 2015-06-06 23:14:37.811       1\n",
       "15080     765630   16344 2015-06-23 18:01:23.429       1\n",
       "3449      138604  387318 2015-06-15 22:37:49.903       1"
      ]
     },
     "execution_count": 39,
     "metadata": {},
     "output_type": "execute_result"
    }
   ],
   "source": [
    "events_train_ratings.sample(5)"
   ]
  },
  {
   "cell_type": "code",
   "execution_count": 40,
   "id": "3ad406d2-81b0-46f8-b62c-50a2c4f2440c",
   "metadata": {
    "tags": []
   },
   "outputs": [
    {
     "data": {
      "text/plain": [
       "1    22861\n",
       "3     2003\n",
       "2     1341\n",
       "Name: rating, dtype: int64"
      ]
     },
     "execution_count": 40,
     "metadata": {},
     "output_type": "execute_result"
    }
   ],
   "source": [
    "events_train_ratings.rating.value_counts()"
   ]
  },
  {
   "cell_type": "code",
   "execution_count": 41,
   "id": "08c9096f-6159-493e-83e6-0504e4679008",
   "metadata": {},
   "outputs": [],
   "source": [
    "### Future "
   ]
  },
  {
   "cell_type": "markdown",
   "id": "84336e99-4347-4f12-bc3a-15b1da6bd0ab",
   "metadata": {},
   "source": [
    "Признаки на основе даты"
   ]
  },
  {
   "cell_type": "code",
   "execution_count": 42,
   "id": "e2730c1d-e053-4a4f-88e2-93dcb715a25a",
   "metadata": {},
   "outputs": [],
   "source": [
    "def get_feature_datetime(df):\n",
    "    \"\"\" Добавляет признаки на основе даты \"\"\"\n",
    "    df['month'] = df.datetime.map(lambda x: x.month)\n",
    "    df['week'] = df.datetime.map(lambda x: x.week)\n",
    "    df['day_of_week'] = df.datetime.map(lambda x: x.weekday())\n",
    "    df['day'] = df.datetime.map(lambda x: x.day)\n",
    "    df['hour'] = df.datetime.map(lambda x: x.hour)\n",
    "    return df"
   ]
  },
  {
   "cell_type": "code",
   "execution_count": 43,
   "id": "a1921165-37ce-4e2e-bb51-4bdc801ae647",
   "metadata": {
    "tags": []
   },
   "outputs": [],
   "source": [
    "events = get_feature_datetime(events.copy())"
   ]
  },
  {
   "cell_type": "code",
   "execution_count": 44,
   "id": "791ea23b-e64e-4428-8428-4e2e22145f53",
   "metadata": {},
   "outputs": [],
   "source": [
    "# events['grouped_param'] = events.timestamp.apply(str) + '_' + events.visitorid.apply(str) + '_' + events.itemid.apply(str)\n",
    "# events.head()"
   ]
  },
  {
   "cell_type": "markdown",
   "id": "f9ee7c29-a600-483b-be4d-e11f4409b402",
   "metadata": {},
   "source": [
    "##### Item-based признаки"
   ]
  },
  {
   "cell_type": "code",
   "execution_count": 45,
   "id": "145fb93f-6e8d-4f11-8d0b-901b124b8a9d",
   "metadata": {},
   "outputs": [
    {
     "data": {
      "text/html": [
       "<div>\n",
       "<style scoped>\n",
       "    .dataframe tbody tr th:only-of-type {\n",
       "        vertical-align: middle;\n",
       "    }\n",
       "\n",
       "    .dataframe tbody tr th {\n",
       "        vertical-align: top;\n",
       "    }\n",
       "\n",
       "    .dataframe thead th {\n",
       "        text-align: right;\n",
       "    }\n",
       "</style>\n",
       "<table border=\"1\" class=\"dataframe\">\n",
       "  <thead>\n",
       "    <tr style=\"text-align: right;\">\n",
       "      <th></th>\n",
       "      <th>itemid</th>\n",
       "      <th>property</th>\n",
       "      <th>value</th>\n",
       "      <th>categoryid</th>\n",
       "      <th>parentid</th>\n",
       "    </tr>\n",
       "  </thead>\n",
       "  <tbody>\n",
       "    <tr>\n",
       "      <th>0</th>\n",
       "      <td>460429</td>\n",
       "      <td>categoryid</td>\n",
       "      <td>1338</td>\n",
       "      <td>1338.0</td>\n",
       "      <td>1278.0</td>\n",
       "    </tr>\n",
       "    <tr>\n",
       "      <th>1</th>\n",
       "      <td>281245</td>\n",
       "      <td>categoryid</td>\n",
       "      <td>1277</td>\n",
       "      <td>1277.0</td>\n",
       "      <td>312.0</td>\n",
       "    </tr>\n",
       "    <tr>\n",
       "      <th>2</th>\n",
       "      <td>35575</td>\n",
       "      <td>categoryid</td>\n",
       "      <td>1059</td>\n",
       "      <td>1059.0</td>\n",
       "      <td>1696.0</td>\n",
       "    </tr>\n",
       "    <tr>\n",
       "      <th>3</th>\n",
       "      <td>8313</td>\n",
       "      <td>categoryid</td>\n",
       "      <td>1147</td>\n",
       "      <td>1147.0</td>\n",
       "      <td>1027.0</td>\n",
       "    </tr>\n",
       "    <tr>\n",
       "      <th>4</th>\n",
       "      <td>55102</td>\n",
       "      <td>categoryid</td>\n",
       "      <td>47</td>\n",
       "      <td>47.0</td>\n",
       "      <td>381.0</td>\n",
       "    </tr>\n",
       "  </tbody>\n",
       "</table>\n",
       "</div>"
      ],
      "text/plain": [
       "   itemid    property  value  categoryid  parentid\n",
       "0  460429  categoryid   1338      1338.0    1278.0\n",
       "1  281245  categoryid   1277      1277.0     312.0\n",
       "2   35575  categoryid   1059      1059.0    1696.0\n",
       "3    8313  categoryid   1147      1147.0    1027.0\n",
       "4   55102  categoryid     47        47.0     381.0"
      ]
     },
     "execution_count": 45,
     "metadata": {},
     "output_type": "execute_result"
    }
   ],
   "source": [
    "# Добавим признаки categoryid, parentid\n",
    "need_prop = ['categoryid']\n",
    "item_cat = item_properties[item_properties.property.isin(need_prop)][['itemid', 'property', 'value']]\n",
    "# Удалим дубликаты\n",
    "item_cat.drop_duplicates(inplace=True)\n",
    "item_cat.value = item_cat.value.astype('int64')\n",
    "# Мержим\n",
    "item_cat = item_cat.merge(category_tree, how='left', left_on='value', right_on='categoryid')\n",
    "\n",
    "item_cat.head()"
   ]
  },
  {
   "cell_type": "code",
   "execution_count": 46,
   "id": "ea2fa009-3c37-4287-ae9d-639059e908f3",
   "metadata": {},
   "outputs": [
    {
     "data": {
      "text/html": [
       "<div>\n",
       "<style scoped>\n",
       "    .dataframe tbody tr th:only-of-type {\n",
       "        vertical-align: middle;\n",
       "    }\n",
       "\n",
       "    .dataframe tbody tr th {\n",
       "        vertical-align: top;\n",
       "    }\n",
       "\n",
       "    .dataframe thead th {\n",
       "        text-align: right;\n",
       "    }\n",
       "</style>\n",
       "<table border=\"1\" class=\"dataframe\">\n",
       "  <thead>\n",
       "    <tr style=\"text-align: right;\">\n",
       "      <th></th>\n",
       "      <th>timestamp</th>\n",
       "      <th>visitorid</th>\n",
       "      <th>event</th>\n",
       "      <th>itemid</th>\n",
       "      <th>transactionid</th>\n",
       "      <th>datetime</th>\n",
       "      <th>month</th>\n",
       "      <th>week</th>\n",
       "      <th>day_of_week</th>\n",
       "      <th>day</th>\n",
       "      <th>hour</th>\n",
       "      <th>categoryid</th>\n",
       "      <th>parentid</th>\n",
       "    </tr>\n",
       "  </thead>\n",
       "  <tbody>\n",
       "    <tr>\n",
       "      <th>0</th>\n",
       "      <td>1433221740333</td>\n",
       "      <td>712443</td>\n",
       "      <td>view</td>\n",
       "      <td>346655</td>\n",
       "      <td>NaN</td>\n",
       "      <td>2015-06-02 05:09:00.333</td>\n",
       "      <td>6</td>\n",
       "      <td>23</td>\n",
       "      <td>1</td>\n",
       "      <td>2</td>\n",
       "      <td>5</td>\n",
       "      <td>1220.0</td>\n",
       "      <td>125.0</td>\n",
       "    </tr>\n",
       "    <tr>\n",
       "      <th>1</th>\n",
       "      <td>1433221523348</td>\n",
       "      <td>1118731</td>\n",
       "      <td>view</td>\n",
       "      <td>350689</td>\n",
       "      <td>NaN</td>\n",
       "      <td>2015-06-02 05:05:23.348</td>\n",
       "      <td>6</td>\n",
       "      <td>23</td>\n",
       "      <td>1</td>\n",
       "      <td>2</td>\n",
       "      <td>5</td>\n",
       "      <td>1634.0</td>\n",
       "      <td>143.0</td>\n",
       "    </tr>\n",
       "    <tr>\n",
       "      <th>2</th>\n",
       "      <td>1433193990704</td>\n",
       "      <td>85734</td>\n",
       "      <td>view</td>\n",
       "      <td>331725</td>\n",
       "      <td>NaN</td>\n",
       "      <td>2015-06-01 21:26:30.704</td>\n",
       "      <td>6</td>\n",
       "      <td>23</td>\n",
       "      <td>0</td>\n",
       "      <td>1</td>\n",
       "      <td>21</td>\n",
       "      <td>1584.0</td>\n",
       "      <td>1562.0</td>\n",
       "    </tr>\n",
       "    <tr>\n",
       "      <th>3</th>\n",
       "      <td>1433193535886</td>\n",
       "      <td>820159</td>\n",
       "      <td>view</td>\n",
       "      <td>369447</td>\n",
       "      <td>NaN</td>\n",
       "      <td>2015-06-01 21:18:55.886</td>\n",
       "      <td>6</td>\n",
       "      <td>23</td>\n",
       "      <td>0</td>\n",
       "      <td>1</td>\n",
       "      <td>21</td>\n",
       "      <td>48.0</td>\n",
       "      <td>500.0</td>\n",
       "    </tr>\n",
       "    <tr>\n",
       "      <th>4</th>\n",
       "      <td>1433194177067</td>\n",
       "      <td>1185234</td>\n",
       "      <td>view</td>\n",
       "      <td>154912</td>\n",
       "      <td>NaN</td>\n",
       "      <td>2015-06-01 21:29:37.067</td>\n",
       "      <td>6</td>\n",
       "      <td>23</td>\n",
       "      <td>0</td>\n",
       "      <td>1</td>\n",
       "      <td>21</td>\n",
       "      <td>1503.0</td>\n",
       "      <td>580.0</td>\n",
       "    </tr>\n",
       "  </tbody>\n",
       "</table>\n",
       "</div>"
      ],
      "text/plain": [
       "       timestamp  visitorid event  itemid  transactionid  \\\n",
       "0  1433221740333     712443  view  346655            NaN   \n",
       "1  1433221523348    1118731  view  350689            NaN   \n",
       "2  1433193990704      85734  view  331725            NaN   \n",
       "3  1433193535886     820159  view  369447            NaN   \n",
       "4  1433194177067    1185234  view  154912            NaN   \n",
       "\n",
       "                 datetime  month  week  day_of_week  day  hour  categoryid  \\\n",
       "0 2015-06-02 05:09:00.333      6    23            1    2     5      1220.0   \n",
       "1 2015-06-02 05:05:23.348      6    23            1    2     5      1634.0   \n",
       "2 2015-06-01 21:26:30.704      6    23            0    1    21      1584.0   \n",
       "3 2015-06-01 21:18:55.886      6    23            0    1    21        48.0   \n",
       "4 2015-06-01 21:29:37.067      6    23            0    1    21      1503.0   \n",
       "\n",
       "   parentid  \n",
       "0     125.0  \n",
       "1     143.0  \n",
       "2    1562.0  \n",
       "3     500.0  \n",
       "4     580.0  "
      ]
     },
     "execution_count": 46,
     "metadata": {},
     "output_type": "execute_result"
    }
   ],
   "source": [
    "# Мержим\n",
    "events = events.merge(item_cat[['itemid', 'categoryid', 'parentid']], how='left', on='itemid')\n",
    "events.head()"
   ]
  },
  {
   "cell_type": "code",
   "execution_count": 47,
   "id": "76317749-bbe9-4e33-ac64-37d63fdd9c05",
   "metadata": {},
   "outputs": [],
   "source": [
    "# Выполним encoding\n",
    "events = pd.get_dummies(data=events, columns=['event'])"
   ]
  },
  {
   "cell_type": "code",
   "execution_count": 48,
   "id": "2f6af691-7141-4d57-b2d4-372dcf1bf8a1",
   "metadata": {},
   "outputs": [
    {
     "data": {
      "text/html": [
       "<div>\n",
       "<style scoped>\n",
       "    .dataframe tbody tr th:only-of-type {\n",
       "        vertical-align: middle;\n",
       "    }\n",
       "\n",
       "    .dataframe tbody tr th {\n",
       "        vertical-align: top;\n",
       "    }\n",
       "\n",
       "    .dataframe thead th {\n",
       "        text-align: right;\n",
       "    }\n",
       "</style>\n",
       "<table border=\"1\" class=\"dataframe\">\n",
       "  <thead>\n",
       "    <tr style=\"text-align: right;\">\n",
       "      <th></th>\n",
       "      <th>itemid</th>\n",
       "      <th>visitors_count</th>\n",
       "      <th>event_addtocart_count</th>\n",
       "      <th>event_transaction_count</th>\n",
       "      <th>event_view_count</th>\n",
       "    </tr>\n",
       "  </thead>\n",
       "  <tbody>\n",
       "    <tr>\n",
       "      <th>2235</th>\n",
       "      <td>119736</td>\n",
       "      <td>675</td>\n",
       "      <td>27</td>\n",
       "      <td>93</td>\n",
       "      <td>555.0</td>\n",
       "    </tr>\n",
       "    <tr>\n",
       "      <th>3990</th>\n",
       "      <td>213834</td>\n",
       "      <td>141</td>\n",
       "      <td>4</td>\n",
       "      <td>28</td>\n",
       "      <td>109.0</td>\n",
       "    </tr>\n",
       "    <tr>\n",
       "      <th>6097</th>\n",
       "      <td>320130</td>\n",
       "      <td>336</td>\n",
       "      <td>36</td>\n",
       "      <td>28</td>\n",
       "      <td>272.0</td>\n",
       "    </tr>\n",
       "    <tr>\n",
       "      <th>832</th>\n",
       "      <td>46156</td>\n",
       "      <td>176</td>\n",
       "      <td>32</td>\n",
       "      <td>20</td>\n",
       "      <td>124.0</td>\n",
       "    </tr>\n",
       "    <tr>\n",
       "      <th>8754</th>\n",
       "      <td>461686</td>\n",
       "      <td>280</td>\n",
       "      <td>27</td>\n",
       "      <td>15</td>\n",
       "      <td>238.0</td>\n",
       "    </tr>\n",
       "  </tbody>\n",
       "</table>\n",
       "</div>"
      ],
      "text/plain": [
       "      itemid  visitors_count  event_addtocart_count  event_transaction_count  \\\n",
       "2235  119736             675                     27                       93   \n",
       "3990  213834             141                      4                       28   \n",
       "6097  320130             336                     36                       28   \n",
       "832    46156             176                     32                       20   \n",
       "8754  461686             280                     27                       15   \n",
       "\n",
       "      event_view_count  \n",
       "2235             555.0  \n",
       "3990             109.0  \n",
       "6097             272.0  \n",
       "832              124.0  \n",
       "8754             238.0  "
      ]
     },
     "execution_count": 48,
     "metadata": {},
     "output_type": "execute_result"
    }
   ],
   "source": [
    "# Популярность товара\n",
    "item_pop = events[['visitorid', 'itemid', 'event_addtocart', 'event_transaction', 'event_view']].groupby('itemid').agg(\n",
    "    {'visitorid': 'count',\n",
    "    'event_addtocart': 'sum',\n",
    "    'event_transaction': 'sum',\n",
    "    'event_view': 'sum'\n",
    "    }).reset_index()\n",
    "item_pop.columns = ['itemid', 'visitors_count', 'event_addtocart_count', 'event_transaction_count', 'event_view_count']\n",
    "item_pop.sort_values(by='event_transaction_count', ascending=False).head()"
   ]
  },
  {
   "cell_type": "code",
   "execution_count": 49,
   "id": "03457253-68e7-4269-a210-6a8db1c5b0f7",
   "metadata": {},
   "outputs": [
    {
     "data": {
      "text/html": [
       "<div>\n",
       "<style scoped>\n",
       "    .dataframe tbody tr th:only-of-type {\n",
       "        vertical-align: middle;\n",
       "    }\n",
       "\n",
       "    .dataframe tbody tr th {\n",
       "        vertical-align: top;\n",
       "    }\n",
       "\n",
       "    .dataframe thead th {\n",
       "        text-align: right;\n",
       "    }\n",
       "</style>\n",
       "<table border=\"1\" class=\"dataframe\">\n",
       "  <thead>\n",
       "    <tr style=\"text-align: right;\">\n",
       "      <th></th>\n",
       "      <th>itemid</th>\n",
       "      <th>visitors_count</th>\n",
       "      <th>event_addtocart_count</th>\n",
       "      <th>event_transaction_count</th>\n",
       "      <th>event_view_count</th>\n",
       "      <th>purchase_rate</th>\n",
       "    </tr>\n",
       "  </thead>\n",
       "  <tbody>\n",
       "    <tr>\n",
       "      <th>3612</th>\n",
       "      <td>193908</td>\n",
       "      <td>3</td>\n",
       "      <td>0</td>\n",
       "      <td>2</td>\n",
       "      <td>1.0</td>\n",
       "      <td>2.0</td>\n",
       "    </tr>\n",
       "    <tr>\n",
       "      <th>821</th>\n",
       "      <td>45330</td>\n",
       "      <td>3</td>\n",
       "      <td>1</td>\n",
       "      <td>1</td>\n",
       "      <td>1.0</td>\n",
       "      <td>1.0</td>\n",
       "    </tr>\n",
       "    <tr>\n",
       "      <th>2498</th>\n",
       "      <td>134322</td>\n",
       "      <td>3</td>\n",
       "      <td>1</td>\n",
       "      <td>1</td>\n",
       "      <td>1.0</td>\n",
       "      <td>1.0</td>\n",
       "    </tr>\n",
       "    <tr>\n",
       "      <th>8340</th>\n",
       "      <td>440129</td>\n",
       "      <td>3</td>\n",
       "      <td>1</td>\n",
       "      <td>1</td>\n",
       "      <td>1.0</td>\n",
       "      <td>1.0</td>\n",
       "    </tr>\n",
       "    <tr>\n",
       "      <th>7323</th>\n",
       "      <td>384605</td>\n",
       "      <td>3</td>\n",
       "      <td>1</td>\n",
       "      <td>1</td>\n",
       "      <td>1.0</td>\n",
       "      <td>1.0</td>\n",
       "    </tr>\n",
       "    <tr>\n",
       "      <th>260</th>\n",
       "      <td>15212</td>\n",
       "      <td>6</td>\n",
       "      <td>2</td>\n",
       "      <td>2</td>\n",
       "      <td>2.0</td>\n",
       "      <td>1.0</td>\n",
       "    </tr>\n",
       "    <tr>\n",
       "      <th>3987</th>\n",
       "      <td>213785</td>\n",
       "      <td>7</td>\n",
       "      <td>3</td>\n",
       "      <td>2</td>\n",
       "      <td>2.0</td>\n",
       "      <td>1.0</td>\n",
       "    </tr>\n",
       "    <tr>\n",
       "      <th>6365</th>\n",
       "      <td>335913</td>\n",
       "      <td>6</td>\n",
       "      <td>2</td>\n",
       "      <td>2</td>\n",
       "      <td>2.0</td>\n",
       "      <td>1.0</td>\n",
       "    </tr>\n",
       "    <tr>\n",
       "      <th>7168</th>\n",
       "      <td>376944</td>\n",
       "      <td>3</td>\n",
       "      <td>1</td>\n",
       "      <td>1</td>\n",
       "      <td>1.0</td>\n",
       "      <td>1.0</td>\n",
       "    </tr>\n",
       "    <tr>\n",
       "      <th>1548</th>\n",
       "      <td>83995</td>\n",
       "      <td>3</td>\n",
       "      <td>1</td>\n",
       "      <td>1</td>\n",
       "      <td>1.0</td>\n",
       "      <td>1.0</td>\n",
       "    </tr>\n",
       "  </tbody>\n",
       "</table>\n",
       "</div>"
      ],
      "text/plain": [
       "      itemid  visitors_count  event_addtocart_count  event_transaction_count  \\\n",
       "3612  193908               3                      0                        2   \n",
       "821    45330               3                      1                        1   \n",
       "2498  134322               3                      1                        1   \n",
       "8340  440129               3                      1                        1   \n",
       "7323  384605               3                      1                        1   \n",
       "260    15212               6                      2                        2   \n",
       "3987  213785               7                      3                        2   \n",
       "6365  335913               6                      2                        2   \n",
       "7168  376944               3                      1                        1   \n",
       "1548   83995               3                      1                        1   \n",
       "\n",
       "      event_view_count  purchase_rate  \n",
       "3612               1.0            2.0  \n",
       "821                1.0            1.0  \n",
       "2498               1.0            1.0  \n",
       "8340               1.0            1.0  \n",
       "7323               1.0            1.0  \n",
       "260                2.0            1.0  \n",
       "3987               2.0            1.0  \n",
       "6365               2.0            1.0  \n",
       "7168               1.0            1.0  \n",
       "1548               1.0            1.0  "
      ]
     },
     "execution_count": 49,
     "metadata": {},
     "output_type": "execute_result"
    }
   ],
   "source": [
    "# Purchase rate\n",
    "item_pop['purchase_rate'] = item_pop.event_transaction_count/item_pop.event_view_count\n",
    "# Есть несколько транзакций без просмотра\n",
    "item_pop.purchase_rate = item_pop.purchase_rate.replace(np.inf, np.nan).fillna(1)\n",
    "\n",
    "item_pop.sort_values(by='purchase_rate', ascending=False).head(10)"
   ]
  },
  {
   "cell_type": "markdown",
   "id": "5dca182b-3405-4ac2-8886-a8d86ba4fe66",
   "metadata": {},
   "source": [
    "Можно выделить наиболее популярные категории"
   ]
  },
  {
   "cell_type": "code",
   "execution_count": 50,
   "id": "9821abf3-5fe5-471b-bf1d-23489a8e54fa",
   "metadata": {},
   "outputs": [
    {
     "data": {
      "text/html": [
       "<div>\n",
       "<style scoped>\n",
       "    .dataframe tbody tr th:only-of-type {\n",
       "        vertical-align: middle;\n",
       "    }\n",
       "\n",
       "    .dataframe tbody tr th {\n",
       "        vertical-align: top;\n",
       "    }\n",
       "\n",
       "    .dataframe thead th {\n",
       "        text-align: right;\n",
       "    }\n",
       "</style>\n",
       "<table border=\"1\" class=\"dataframe\">\n",
       "  <thead>\n",
       "    <tr style=\"text-align: right;\">\n",
       "      <th></th>\n",
       "      <th>timestamp</th>\n",
       "      <th>visitorid</th>\n",
       "      <th>itemid</th>\n",
       "      <th>transactionid</th>\n",
       "      <th>datetime</th>\n",
       "      <th>month</th>\n",
       "      <th>week</th>\n",
       "      <th>day_of_week</th>\n",
       "      <th>day</th>\n",
       "      <th>hour</th>\n",
       "      <th>categoryid</th>\n",
       "      <th>parentid</th>\n",
       "      <th>event_addtocart</th>\n",
       "      <th>event_transaction</th>\n",
       "      <th>event_view</th>\n",
       "      <th>category_pop</th>\n",
       "    </tr>\n",
       "  </thead>\n",
       "  <tbody>\n",
       "    <tr>\n",
       "      <th>0</th>\n",
       "      <td>1433221740333</td>\n",
       "      <td>712443</td>\n",
       "      <td>346655</td>\n",
       "      <td>NaN</td>\n",
       "      <td>2015-06-02 05:09:00.333</td>\n",
       "      <td>6</td>\n",
       "      <td>23</td>\n",
       "      <td>1</td>\n",
       "      <td>2</td>\n",
       "      <td>5</td>\n",
       "      <td>1220.0</td>\n",
       "      <td>125.0</td>\n",
       "      <td>0</td>\n",
       "      <td>0</td>\n",
       "      <td>1</td>\n",
       "      <td>1.0</td>\n",
       "    </tr>\n",
       "    <tr>\n",
       "      <th>1</th>\n",
       "      <td>1433221523348</td>\n",
       "      <td>1118731</td>\n",
       "      <td>350689</td>\n",
       "      <td>NaN</td>\n",
       "      <td>2015-06-02 05:05:23.348</td>\n",
       "      <td>6</td>\n",
       "      <td>23</td>\n",
       "      <td>1</td>\n",
       "      <td>2</td>\n",
       "      <td>5</td>\n",
       "      <td>1634.0</td>\n",
       "      <td>143.0</td>\n",
       "      <td>0</td>\n",
       "      <td>0</td>\n",
       "      <td>1</td>\n",
       "      <td>0.0</td>\n",
       "    </tr>\n",
       "    <tr>\n",
       "      <th>2</th>\n",
       "      <td>1433193990704</td>\n",
       "      <td>85734</td>\n",
       "      <td>331725</td>\n",
       "      <td>NaN</td>\n",
       "      <td>2015-06-01 21:26:30.704</td>\n",
       "      <td>6</td>\n",
       "      <td>23</td>\n",
       "      <td>0</td>\n",
       "      <td>1</td>\n",
       "      <td>21</td>\n",
       "      <td>1584.0</td>\n",
       "      <td>1562.0</td>\n",
       "      <td>0</td>\n",
       "      <td>0</td>\n",
       "      <td>1</td>\n",
       "      <td>1.0</td>\n",
       "    </tr>\n",
       "    <tr>\n",
       "      <th>3</th>\n",
       "      <td>1433193535886</td>\n",
       "      <td>820159</td>\n",
       "      <td>369447</td>\n",
       "      <td>NaN</td>\n",
       "      <td>2015-06-01 21:18:55.886</td>\n",
       "      <td>6</td>\n",
       "      <td>23</td>\n",
       "      <td>0</td>\n",
       "      <td>1</td>\n",
       "      <td>21</td>\n",
       "      <td>48.0</td>\n",
       "      <td>500.0</td>\n",
       "      <td>0</td>\n",
       "      <td>0</td>\n",
       "      <td>1</td>\n",
       "      <td>1.0</td>\n",
       "    </tr>\n",
       "    <tr>\n",
       "      <th>4</th>\n",
       "      <td>1433194177067</td>\n",
       "      <td>1185234</td>\n",
       "      <td>154912</td>\n",
       "      <td>NaN</td>\n",
       "      <td>2015-06-01 21:29:37.067</td>\n",
       "      <td>6</td>\n",
       "      <td>23</td>\n",
       "      <td>0</td>\n",
       "      <td>1</td>\n",
       "      <td>21</td>\n",
       "      <td>1503.0</td>\n",
       "      <td>580.0</td>\n",
       "      <td>0</td>\n",
       "      <td>0</td>\n",
       "      <td>1</td>\n",
       "      <td>1.0</td>\n",
       "    </tr>\n",
       "  </tbody>\n",
       "</table>\n",
       "</div>"
      ],
      "text/plain": [
       "       timestamp  visitorid  itemid  transactionid                datetime  \\\n",
       "0  1433221740333     712443  346655            NaN 2015-06-02 05:09:00.333   \n",
       "1  1433221523348    1118731  350689            NaN 2015-06-02 05:05:23.348   \n",
       "2  1433193990704      85734  331725            NaN 2015-06-01 21:26:30.704   \n",
       "3  1433193535886     820159  369447            NaN 2015-06-01 21:18:55.886   \n",
       "4  1433194177067    1185234  154912            NaN 2015-06-01 21:29:37.067   \n",
       "\n",
       "   month  week  day_of_week  day  hour  categoryid  parentid  event_addtocart  \\\n",
       "0      6    23            1    2     5      1220.0     125.0                0   \n",
       "1      6    23            1    2     5      1634.0     143.0                0   \n",
       "2      6    23            0    1    21      1584.0    1562.0                0   \n",
       "3      6    23            0    1    21        48.0     500.0                0   \n",
       "4      6    23            0    1    21      1503.0     580.0                0   \n",
       "\n",
       "   event_transaction  event_view  category_pop  \n",
       "0                  0           1           1.0  \n",
       "1                  0           1           0.0  \n",
       "2                  0           1           1.0  \n",
       "3                  0           1           1.0  \n",
       "4                  0           1           1.0  "
      ]
     },
     "execution_count": 50,
     "metadata": {},
     "output_type": "execute_result"
    }
   ],
   "source": [
    "# Популярные категории\n",
    "category_pop = events[['event_transaction', 'categoryid']].groupby('categoryid').agg(sum).sort_values(by='event_transaction', ascending=False)\n",
    "\n",
    "# Будем считать, что наиболее популярные категории >= 75% квантиля (по транзакциям)\n",
    "quantile_75 = np.quantile(category_pop.event_transaction, 0.75, axis=0)\n",
    "\n",
    "category_pop['category_pop'] = (category_pop.event_transaction > quantile_75).astype('int8')\n",
    "category_pop.reset_index(inplace=True)\n",
    "# Мержим\n",
    "events = events.merge(category_pop[['categoryid', 'category_pop']], how='left', on='categoryid')\n",
    "events.category_pop = events.category_pop.fillna(0)\n",
    "events.head()\n"
   ]
  },
  {
   "cell_type": "markdown",
   "id": "7c74dba3-fc3c-48d9-8771-438636a8b601",
   "metadata": {},
   "source": [
    "##### User-based признаки"
   ]
  },
  {
   "cell_type": "code",
   "execution_count": 51,
   "id": "a8a55936-7a44-4f31-8a45-d905eacaa8b7",
   "metadata": {},
   "outputs": [
    {
     "data": {
      "text/html": [
       "<div>\n",
       "<style scoped>\n",
       "    .dataframe tbody tr th:only-of-type {\n",
       "        vertical-align: middle;\n",
       "    }\n",
       "\n",
       "    .dataframe tbody tr th {\n",
       "        vertical-align: top;\n",
       "    }\n",
       "\n",
       "    .dataframe thead tr th {\n",
       "        text-align: left;\n",
       "    }\n",
       "</style>\n",
       "<table border=\"1\" class=\"dataframe\">\n",
       "  <thead>\n",
       "    <tr>\n",
       "      <th></th>\n",
       "      <th>visitorid</th>\n",
       "      <th>itemid</th>\n",
       "      <th>parentid</th>\n",
       "      <th colspan=\"2\" halign=\"left\">timestamp</th>\n",
       "    </tr>\n",
       "    <tr>\n",
       "      <th></th>\n",
       "      <th></th>\n",
       "      <th>count</th>\n",
       "      <th>nunique</th>\n",
       "      <th>min</th>\n",
       "      <th>max</th>\n",
       "    </tr>\n",
       "  </thead>\n",
       "  <tbody>\n",
       "    <tr>\n",
       "      <th>0</th>\n",
       "      <td>1722</td>\n",
       "      <td>80</td>\n",
       "      <td>1</td>\n",
       "      <td>1430847780195</td>\n",
       "      <td>1434035279146</td>\n",
       "    </tr>\n",
       "    <tr>\n",
       "      <th>1</th>\n",
       "      <td>1879</td>\n",
       "      <td>55</td>\n",
       "      <td>17</td>\n",
       "      <td>1430929545966</td>\n",
       "      <td>1440784311705</td>\n",
       "    </tr>\n",
       "    <tr>\n",
       "      <th>2</th>\n",
       "      <td>2194</td>\n",
       "      <td>57</td>\n",
       "      <td>11</td>\n",
       "      <td>1440215427937</td>\n",
       "      <td>1441799043411</td>\n",
       "    </tr>\n",
       "    <tr>\n",
       "      <th>3</th>\n",
       "      <td>6699</td>\n",
       "      <td>87</td>\n",
       "      <td>19</td>\n",
       "      <td>1431034227547</td>\n",
       "      <td>1431054066009</td>\n",
       "    </tr>\n",
       "    <tr>\n",
       "      <th>4</th>\n",
       "      <td>6958</td>\n",
       "      <td>70</td>\n",
       "      <td>3</td>\n",
       "      <td>1435525675076</td>\n",
       "      <td>1436736821356</td>\n",
       "    </tr>\n",
       "  </tbody>\n",
       "</table>\n",
       "</div>"
      ],
      "text/plain": [
       "  visitorid itemid parentid      timestamp               \n",
       "             count  nunique            min            max\n",
       "0      1722     80        1  1430847780195  1434035279146\n",
       "1      1879     55       17  1430929545966  1440784311705\n",
       "2      2194     57       11  1440215427937  1441799043411\n",
       "3      6699     87       19  1431034227547  1431054066009\n",
       "4      6958     70        3  1435525675076  1436736821356"
      ]
     },
     "execution_count": 51,
     "metadata": {},
     "output_type": "execute_result"
    }
   ],
   "source": [
    "# Опеределим поведение пользователей\n",
    "users_data = events.groupby('visitorid').agg({\n",
    "    'itemid': 'count',\n",
    "    'parentid': 'nunique',\n",
    "    'timestamp': ['min', 'max']\n",
    "}).reset_index()\n",
    "users_data.head()"
   ]
  },
  {
   "cell_type": "code",
   "execution_count": 52,
   "id": "4ef27a1d-1ef9-491f-8498-5b9d47f295ae",
   "metadata": {},
   "outputs": [
    {
     "data": {
      "text/html": [
       "<div>\n",
       "<style scoped>\n",
       "    .dataframe tbody tr th:only-of-type {\n",
       "        vertical-align: middle;\n",
       "    }\n",
       "\n",
       "    .dataframe tbody tr th {\n",
       "        vertical-align: top;\n",
       "    }\n",
       "\n",
       "    .dataframe thead th {\n",
       "        text-align: right;\n",
       "    }\n",
       "</style>\n",
       "<table border=\"1\" class=\"dataframe\">\n",
       "  <thead>\n",
       "    <tr style=\"text-align: right;\">\n",
       "      <th></th>\n",
       "      <th>visitorid</th>\n",
       "      <th>item_count</th>\n",
       "      <th>category_count</th>\n",
       "      <th>first_action</th>\n",
       "      <th>last_action</th>\n",
       "      <th>alltime</th>\n",
       "      <th>time_on_action</th>\n",
       "    </tr>\n",
       "  </thead>\n",
       "  <tbody>\n",
       "    <tr>\n",
       "      <th>0</th>\n",
       "      <td>1722</td>\n",
       "      <td>80</td>\n",
       "      <td>1</td>\n",
       "      <td>1430847780195</td>\n",
       "      <td>1434035279146</td>\n",
       "      <td>3187498951</td>\n",
       "      <td>3.984374e+07</td>\n",
       "    </tr>\n",
       "    <tr>\n",
       "      <th>1</th>\n",
       "      <td>1879</td>\n",
       "      <td>55</td>\n",
       "      <td>17</td>\n",
       "      <td>1430929545966</td>\n",
       "      <td>1440784311705</td>\n",
       "      <td>9854765739</td>\n",
       "      <td>1.791776e+08</td>\n",
       "    </tr>\n",
       "    <tr>\n",
       "      <th>2</th>\n",
       "      <td>2194</td>\n",
       "      <td>57</td>\n",
       "      <td>11</td>\n",
       "      <td>1440215427937</td>\n",
       "      <td>1441799043411</td>\n",
       "      <td>1583615474</td>\n",
       "      <td>2.778273e+07</td>\n",
       "    </tr>\n",
       "    <tr>\n",
       "      <th>3</th>\n",
       "      <td>6699</td>\n",
       "      <td>87</td>\n",
       "      <td>19</td>\n",
       "      <td>1431034227547</td>\n",
       "      <td>1431054066009</td>\n",
       "      <td>19838462</td>\n",
       "      <td>2.280283e+05</td>\n",
       "    </tr>\n",
       "    <tr>\n",
       "      <th>4</th>\n",
       "      <td>6958</td>\n",
       "      <td>70</td>\n",
       "      <td>3</td>\n",
       "      <td>1435525675076</td>\n",
       "      <td>1436736821356</td>\n",
       "      <td>1211146280</td>\n",
       "      <td>1.730209e+07</td>\n",
       "    </tr>\n",
       "  </tbody>\n",
       "</table>\n",
       "</div>"
      ],
      "text/plain": [
       "   visitorid  item_count  category_count   first_action    last_action  \\\n",
       "0       1722          80               1  1430847780195  1434035279146   \n",
       "1       1879          55              17  1430929545966  1440784311705   \n",
       "2       2194          57              11  1440215427937  1441799043411   \n",
       "3       6699          87              19  1431034227547  1431054066009   \n",
       "4       6958          70               3  1435525675076  1436736821356   \n",
       "\n",
       "      alltime  time_on_action  \n",
       "0  3187498951    3.984374e+07  \n",
       "1  9854765739    1.791776e+08  \n",
       "2  1583615474    2.778273e+07  \n",
       "3    19838462    2.280283e+05  \n",
       "4  1211146280    1.730209e+07  "
      ]
     },
     "execution_count": 52,
     "metadata": {},
     "output_type": "execute_result"
    }
   ],
   "source": [
    "users_data.columns = ['visitorid', 'item_count', 'category_count', 'first_action', 'last_action']\n",
    "users_data['alltime'] = users_data['last_action'] - users_data['first_action']\n",
    "users_data['time_on_action'] = users_data['alltime'] / (users_data['item_count'])\n",
    "users_data.head()"
   ]
  },
  {
   "cell_type": "code",
   "execution_count": 53,
   "id": "90a33cad-2dbf-4734-a2c0-2e42ad3cfe13",
   "metadata": {},
   "outputs": [],
   "source": [
    "### END of Feature generating #####"
   ]
  },
  {
   "cell_type": "markdown",
   "id": "b0f78560-9129-4b2a-8e7f-6606ace02e82",
   "metadata": {},
   "source": [
    "#### Проведение экспериментов"
   ]
  },
  {
   "cell_type": "markdown",
   "id": "c3a2ffa6-6f42-486b-b260-77dd6e07c19b",
   "metadata": {},
   "source": [
    "##### SVD"
   ]
  },
  {
   "cell_type": "code",
   "execution_count": 54,
   "id": "e7c7ea26-5d06-4b5c-b6c8-33de13a0933a",
   "metadata": {},
   "outputs": [],
   "source": [
    "from surprise import KNNWithMeans, KNNBasic, SVD\n",
    "from surprise import Dataset\n",
    "from surprise import accuracy\n",
    "from surprise import Reader\n",
    "from surprise.model_selection import cross_validate, KFold"
   ]
  },
  {
   "cell_type": "code",
   "execution_count": 55,
   "id": "bcc87f59-89a6-4a9c-88be-597dc18a0065",
   "metadata": {},
   "outputs": [],
   "source": [
    "def prepare_dataset(df):\n",
    "    \"\"\" Подготовка датасета для surprise \"\"\"\n",
    "    dataset = df[['visitorid', 'itemid', 'rating']].rename({\n",
    "    \"visitorid\": \"uid\",\n",
    "    \"itemid\": \"iid\"})\n",
    "    reader = Reader(rating_scale=(1, 3))\n",
    "    return Dataset.load_from_df(dataset, reader)"
   ]
  },
  {
   "cell_type": "code",
   "execution_count": 56,
   "id": "9b0182ab-9250-4986-9121-068dae551b09",
   "metadata": {},
   "outputs": [],
   "source": [
    "def precision_recall_at_k(predictions, k=3, threshold=2):\n",
    "    \"\"\"Return precision and recall at k metrics for each user\"\"\"\n",
    "\n",
    "    # First map the predictions to each user.\n",
    "    user_est_true = defaultdict(list)\n",
    "    for uid, _, true_r, est, _ in predictions:\n",
    "        user_est_true[uid].append((est, true_r))\n",
    "\n",
    "    precisions = dict()\n",
    "    recalls = dict()\n",
    "    for uid, user_ratings in user_est_true.items():\n",
    "\n",
    "        # Sort user ratings by estimated value\n",
    "        user_ratings.sort(key=lambda x: x[0], reverse=True)\n",
    "\n",
    "        # Number of relevant items\n",
    "        n_rel = sum((true_r >= threshold) for (_, true_r) in user_ratings)\n",
    "\n",
    "        # Number of recommended items in top k\n",
    "        n_rec_k = sum((est >= threshold) for (est, _) in user_ratings[:k])\n",
    "\n",
    "        # Number of relevant and recommended items in top k\n",
    "        n_rel_and_rec_k = sum(\n",
    "            ((true_r >= threshold) and (est >= threshold))\n",
    "            for (est, true_r) in user_ratings[:k]\n",
    "        )\n",
    "\n",
    "        # Precision@K: Proportion of recommended items that are relevant\n",
    "        # When n_rec_k is 0, Precision is undefined. We here set it to 0.\n",
    "\n",
    "        precisions[uid] = n_rel_and_rec_k / n_rec_k if n_rec_k != 0 else 0\n",
    "\n",
    "        # Recall@K: Proportion of relevant items that are recommended\n",
    "        # When n_rel is 0, Recall is undefined. We here set it to 0.\n",
    "\n",
    "        recalls[uid] = n_rel_and_rec_k / n_rel if n_rel != 0 else 0\n",
    "\n",
    "    return precisions, recalls"
   ]
  },
  {
   "cell_type": "code",
   "execution_count": 57,
   "id": "282d42e6-2b21-499a-8fb8-67f5ece51516",
   "metadata": {
    "tags": []
   },
   "outputs": [],
   "source": [
    "def precision_recall_at_k_mean(predictions):\n",
    "    precisions, recalls = precision_recall_at_k(predictions, k=3, threshold=2)\n",
    "\n",
    "    # Precision and recall can then be averaged over all users\n",
    "    print(round(sum(prec for prec in precisions.values()) / len(precisions), 5))\n",
    "    print(round(sum(rec for rec in recalls.values()) / len(recalls), 5))"
   ]
  },
  {
   "cell_type": "code",
   "execution_count": 58,
   "id": "bbc7b8e6-a590-4482-8606-23df0cb605a0",
   "metadata": {},
   "outputs": [],
   "source": [
    "# Подготовим данные\n",
    "trainset, testset = prepare_dataset(events_train_ratings), prepare_dataset(events_valid_ratings)"
   ]
  },
  {
   "cell_type": "code",
   "execution_count": 59,
   "id": "a7504a22-2279-42f0-a764-26480f82bbcf",
   "metadata": {},
   "outputs": [],
   "source": [
    "# Для валидации сформируем список\n",
    "testset = [testset.df.loc[i].to_list() for i in range(len(testset.df))]"
   ]
  },
  {
   "cell_type": "code",
   "execution_count": 60,
   "id": "ecb8d88f-91b1-4bb0-86a1-7732311c0568",
   "metadata": {},
   "outputs": [],
   "source": [
    "model = SVD()"
   ]
  },
  {
   "cell_type": "markdown",
   "id": "7ebf0924-d98e-470d-95d0-487fa94413f2",
   "metadata": {},
   "source": [
    "Ради эксперимента сделаем два варианта разделения на обучающую и валидационные выборки:\n",
    "- Кросс-валидация\n",
    "- Разделение по дате 01.07.2015"
   ]
  },
  {
   "cell_type": "code",
   "execution_count": 61,
   "id": "fa5bca77-2230-4fb7-84c8-2a4190e9da2c",
   "metadata": {},
   "outputs": [
    {
     "name": "stdout",
     "output_type": "stream",
     "text": [
      "Evaluating RMSE, MAE of algorithm SVD on 5 split(s).\n",
      "\n",
      "                  Fold 1  Fold 2  Fold 3  Fold 4  Fold 5  Mean    Std     \n",
      "RMSE (testset)    0.5404  0.5305  0.5388  0.5516  0.5459  0.5414  0.0071  \n",
      "MAE (testset)     0.3258  0.3220  0.3253  0.3331  0.3302  0.3273  0.0039  \n",
      "Fit time          1.23    1.27    1.41    1.29    1.19    1.28    0.07    \n",
      "Test time         0.03    0.03    0.04    0.03    0.03    0.03    0.00    \n"
     ]
    },
    {
     "data": {
      "text/plain": [
       "{'test_rmse': array([0.54039827, 0.53050584, 0.53876623, 0.55157416, 0.54591589]),\n",
       " 'test_mae': array([0.32582031, 0.32203067, 0.32532786, 0.33312334, 0.33023167]),\n",
       " 'fit_time': (1.2333157062530518,\n",
       "  1.2689208984375,\n",
       "  1.4051766395568848,\n",
       "  1.291294813156128,\n",
       "  1.1949596405029297),\n",
       " 'test_time': (0.03487873077392578,\n",
       "  0.03142118453979492,\n",
       "  0.0377049446105957,\n",
       "  0.030344724655151367,\n",
       "  0.03468918800354004)}"
      ]
     },
     "execution_count": 61,
     "metadata": {},
     "output_type": "execute_result"
    }
   ],
   "source": [
    "# 1) cross-validate\n",
    "cross_validate(model, trainset, measures=['RMSE', 'MAE'], cv=5, verbose=True)"
   ]
  },
  {
   "cell_type": "code",
   "execution_count": 62,
   "id": "839f5efc-a792-4b00-ad99-a2d6b26a162c",
   "metadata": {
    "tags": []
   },
   "outputs": [
    {
     "name": "stdout",
     "output_type": "stream",
     "text": [
      "RMSE: 0.5377\n"
     ]
    },
    {
     "data": {
      "text/plain": [
       "0.5376918179227063"
      ]
     },
     "execution_count": 62,
     "metadata": {},
     "output_type": "execute_result"
    }
   ],
   "source": [
    "predictions = model.test(testset)\n",
    "accuracy.rmse(predictions)"
   ]
  },
  {
   "cell_type": "code",
   "execution_count": 63,
   "id": "7280ce74-7a13-4fe6-8574-03ba0dc6c342",
   "metadata": {},
   "outputs": [
    {
     "name": "stdout",
     "output_type": "stream",
     "text": [
      "0.01245\n",
      "0.0036\n"
     ]
    }
   ],
   "source": [
    "precision_recall_at_k_mean(predictions)"
   ]
  },
  {
   "cell_type": "markdown",
   "id": "2da822ac-7955-4470-ac6f-d00f0043b8bc",
   "metadata": {},
   "source": [
    "Результат: precision@3 = 1,0%"
   ]
  },
  {
   "cell_type": "code",
   "execution_count": 64,
   "id": "5f7d63f4-0361-4de2-a485-95d2a2b7c77c",
   "metadata": {},
   "outputs": [
    {
     "data": {
      "text/plain": [
       "<surprise.prediction_algorithms.matrix_factorization.SVD at 0x23993c2a108>"
      ]
     },
     "execution_count": 64,
     "metadata": {},
     "output_type": "execute_result"
    }
   ],
   "source": [
    "# 2) Basic fit\n",
    "model = SVD()\n",
    "trainset = trainset.build_full_trainset()\n",
    "model.fit(trainset)"
   ]
  },
  {
   "cell_type": "code",
   "execution_count": 65,
   "id": "09ae265b-36ae-4792-9d8a-019eb15cde1f",
   "metadata": {},
   "outputs": [
    {
     "name": "stdout",
     "output_type": "stream",
     "text": [
      "RMSE: 0.5401\n"
     ]
    },
    {
     "data": {
      "text/plain": [
       "0.5401366705768567"
      ]
     },
     "execution_count": 65,
     "metadata": {},
     "output_type": "execute_result"
    }
   ],
   "source": [
    "predictions = model.test(testset)\n",
    "accuracy.rmse(predictions)"
   ]
  },
  {
   "cell_type": "code",
   "execution_count": 66,
   "id": "927f38ed-24ee-470e-8627-efda5543e1b4",
   "metadata": {},
   "outputs": [
    {
     "name": "stdout",
     "output_type": "stream",
     "text": [
      "0.00952\n",
      "0.00331\n"
     ]
    }
   ],
   "source": [
    "precision_recall_at_k_mean(predictions)"
   ]
  },
  {
   "cell_type": "markdown",
   "id": "b256b8d8-9ec3-4b92-9b7a-6f3cc38ec049",
   "metadata": {},
   "source": [
    "Результат: precision@3 = 1,1%"
   ]
  },
  {
   "cell_type": "markdown",
   "id": "570034df-f1ee-4949-a3e0-f5f94749ffd5",
   "metadata": {},
   "source": [
    "**Вывод:** разделение данных для обучения и валидации относительно даты даёт немного лучше результат и составляет precision@3 = 1,1%"
   ]
  },
  {
   "cell_type": "markdown",
   "id": "62a617dc-41e6-40ee-a9f7-c550d473f43e",
   "metadata": {},
   "source": [
    "##### Коллаборативная фильтрация"
   ]
  },
  {
   "cell_type": "markdown",
   "id": "95224ce7-b942-4030-98d9-f0fd1ad01b1a",
   "metadata": {},
   "source": [
    "Реализация классической коллаборативной фильтрации находится в классе KNNWithMeans.  \n",
    "Для определения гиперпараметров используем GridSearchCV из пакета surprise"
   ]
  },
  {
   "cell_type": "markdown",
   "id": "1b563614-8584-4bff-847e-d74aeb6b1e3b",
   "metadata": {},
   "source": [
    "##### Подбор гиперпараметров"
   ]
  },
  {
   "cell_type": "code",
   "execution_count": 67,
   "id": "61278f7a-0cac-46c8-9f5f-061d4efd4e55",
   "metadata": {},
   "outputs": [],
   "source": [
    "from surprise.model_selection.search import GridSearchCV"
   ]
  },
  {
   "cell_type": "code",
   "execution_count": 68,
   "id": "607eb384-e800-4c67-a5f6-715adf0cf8c7",
   "metadata": {},
   "outputs": [],
   "source": [
    "param_grid = {'k': [k for k in range(10,60,10)],\n",
    "              'sim_options': {'name': ['pearson_baseline', 'cosine'],\n",
    "                              'user_based': [True, False]}\n",
    "              }"
   ]
  },
  {
   "cell_type": "code",
   "execution_count": 69,
   "id": "316e8eb1-07b7-4e43-a47a-727029bd3d5e",
   "metadata": {},
   "outputs": [],
   "source": [
    "gs = GridSearchCV(KNNWithMeans, param_grid, measures=['rmse', 'mae'], cv=3)"
   ]
  },
  {
   "cell_type": "code",
   "execution_count": 70,
   "id": "d41eb4be-0905-474e-b256-7a4281df744e",
   "metadata": {
    "collapsed": true,
    "jupyter": {
     "outputs_hidden": true
    },
    "tags": []
   },
   "outputs": [
    {
     "name": "stdout",
     "output_type": "stream",
     "text": [
      "Estimating biases using als...\n",
      "Computing the pearson_baseline similarity matrix...\n",
      "Done computing similarity matrix.\n",
      "Estimating biases using als...\n",
      "Computing the pearson_baseline similarity matrix...\n",
      "Done computing similarity matrix.\n",
      "Estimating biases using als...\n",
      "Computing the pearson_baseline similarity matrix...\n",
      "Done computing similarity matrix.\n",
      "Estimating biases using als...\n",
      "Computing the pearson_baseline similarity matrix...\n",
      "Done computing similarity matrix.\n",
      "Estimating biases using als...\n",
      "Computing the pearson_baseline similarity matrix...\n",
      "Done computing similarity matrix.\n",
      "Estimating biases using als...\n",
      "Computing the pearson_baseline similarity matrix...\n",
      "Done computing similarity matrix.\n",
      "Computing the cosine similarity matrix...\n",
      "Done computing similarity matrix.\n",
      "Computing the cosine similarity matrix...\n",
      "Done computing similarity matrix.\n",
      "Computing the cosine similarity matrix...\n",
      "Done computing similarity matrix.\n",
      "Computing the cosine similarity matrix...\n",
      "Done computing similarity matrix.\n",
      "Computing the cosine similarity matrix...\n",
      "Done computing similarity matrix.\n",
      "Computing the cosine similarity matrix...\n",
      "Done computing similarity matrix.\n",
      "Estimating biases using als...\n",
      "Computing the pearson_baseline similarity matrix...\n",
      "Done computing similarity matrix.\n",
      "Estimating biases using als...\n",
      "Computing the pearson_baseline similarity matrix...\n",
      "Done computing similarity matrix.\n",
      "Estimating biases using als...\n",
      "Computing the pearson_baseline similarity matrix...\n",
      "Done computing similarity matrix.\n",
      "Estimating biases using als...\n",
      "Computing the pearson_baseline similarity matrix...\n",
      "Done computing similarity matrix.\n",
      "Estimating biases using als...\n",
      "Computing the pearson_baseline similarity matrix...\n",
      "Done computing similarity matrix.\n",
      "Estimating biases using als...\n",
      "Computing the pearson_baseline similarity matrix...\n",
      "Done computing similarity matrix.\n",
      "Computing the cosine similarity matrix...\n",
      "Done computing similarity matrix.\n",
      "Computing the cosine similarity matrix...\n",
      "Done computing similarity matrix.\n",
      "Computing the cosine similarity matrix...\n",
      "Done computing similarity matrix.\n",
      "Computing the cosine similarity matrix...\n",
      "Done computing similarity matrix.\n",
      "Computing the cosine similarity matrix...\n",
      "Done computing similarity matrix.\n",
      "Computing the cosine similarity matrix...\n",
      "Done computing similarity matrix.\n",
      "Estimating biases using als...\n",
      "Computing the pearson_baseline similarity matrix...\n",
      "Done computing similarity matrix.\n",
      "Estimating biases using als...\n",
      "Computing the pearson_baseline similarity matrix...\n",
      "Done computing similarity matrix.\n",
      "Estimating biases using als...\n",
      "Computing the pearson_baseline similarity matrix...\n",
      "Done computing similarity matrix.\n",
      "Estimating biases using als...\n",
      "Computing the pearson_baseline similarity matrix...\n",
      "Done computing similarity matrix.\n",
      "Estimating biases using als...\n",
      "Computing the pearson_baseline similarity matrix...\n",
      "Done computing similarity matrix.\n",
      "Estimating biases using als...\n",
      "Computing the pearson_baseline similarity matrix...\n",
      "Done computing similarity matrix.\n",
      "Computing the cosine similarity matrix...\n",
      "Done computing similarity matrix.\n",
      "Computing the cosine similarity matrix...\n",
      "Done computing similarity matrix.\n",
      "Computing the cosine similarity matrix...\n",
      "Done computing similarity matrix.\n",
      "Computing the cosine similarity matrix...\n",
      "Done computing similarity matrix.\n",
      "Computing the cosine similarity matrix...\n",
      "Done computing similarity matrix.\n",
      "Computing the cosine similarity matrix...\n",
      "Done computing similarity matrix.\n",
      "Estimating biases using als...\n",
      "Computing the pearson_baseline similarity matrix...\n",
      "Done computing similarity matrix.\n",
      "Estimating biases using als...\n",
      "Computing the pearson_baseline similarity matrix...\n",
      "Done computing similarity matrix.\n",
      "Estimating biases using als...\n",
      "Computing the pearson_baseline similarity matrix...\n",
      "Done computing similarity matrix.\n",
      "Estimating biases using als...\n",
      "Computing the pearson_baseline similarity matrix...\n",
      "Done computing similarity matrix.\n",
      "Estimating biases using als...\n",
      "Computing the pearson_baseline similarity matrix...\n",
      "Done computing similarity matrix.\n",
      "Estimating biases using als...\n",
      "Computing the pearson_baseline similarity matrix...\n",
      "Done computing similarity matrix.\n",
      "Computing the cosine similarity matrix...\n",
      "Done computing similarity matrix.\n",
      "Computing the cosine similarity matrix...\n",
      "Done computing similarity matrix.\n",
      "Computing the cosine similarity matrix...\n",
      "Done computing similarity matrix.\n",
      "Computing the cosine similarity matrix...\n",
      "Done computing similarity matrix.\n",
      "Computing the cosine similarity matrix...\n",
      "Done computing similarity matrix.\n",
      "Computing the cosine similarity matrix...\n",
      "Done computing similarity matrix.\n",
      "Estimating biases using als...\n",
      "Computing the pearson_baseline similarity matrix...\n",
      "Done computing similarity matrix.\n",
      "Estimating biases using als...\n",
      "Computing the pearson_baseline similarity matrix...\n",
      "Done computing similarity matrix.\n",
      "Estimating biases using als...\n",
      "Computing the pearson_baseline similarity matrix...\n",
      "Done computing similarity matrix.\n",
      "Estimating biases using als...\n",
      "Computing the pearson_baseline similarity matrix...\n",
      "Done computing similarity matrix.\n",
      "Estimating biases using als...\n",
      "Computing the pearson_baseline similarity matrix...\n",
      "Done computing similarity matrix.\n",
      "Estimating biases using als...\n",
      "Computing the pearson_baseline similarity matrix...\n",
      "Done computing similarity matrix.\n",
      "Computing the cosine similarity matrix...\n",
      "Done computing similarity matrix.\n",
      "Computing the cosine similarity matrix...\n",
      "Done computing similarity matrix.\n",
      "Computing the cosine similarity matrix...\n",
      "Done computing similarity matrix.\n",
      "Computing the cosine similarity matrix...\n",
      "Done computing similarity matrix.\n",
      "Computing the cosine similarity matrix...\n",
      "Done computing similarity matrix.\n",
      "Computing the cosine similarity matrix...\n",
      "Done computing similarity matrix.\n"
     ]
    }
   ],
   "source": [
    "gs.fit(prepare_dataset(pd.concat([events_train_ratings,events_valid_ratings])))"
   ]
  },
  {
   "cell_type": "code",
   "execution_count": 71,
   "id": "0ee27f6e-a888-4a04-b99d-20b58d7d1125",
   "metadata": {},
   "outputs": [
    {
     "name": "stdout",
     "output_type": "stream",
     "text": [
      "0.5997918584582783\n",
      "{'k': 40, 'sim_options': {'name': 'cosine', 'user_based': True}}\n"
     ]
    }
   ],
   "source": [
    "algo = gs.best_estimator['rmse']\n",
    "print(gs.best_score['rmse'])\n",
    "print(gs.best_params['rmse'])"
   ]
  },
  {
   "cell_type": "markdown",
   "id": "df3d087c-ae49-4384-85f9-9864bb6983eb",
   "metadata": {},
   "source": [
    "GridSearchCV определил параметры  {'k': 40, 'sim_options': {'name': 'cosine', 'user_based': True}} как наиболее оптимальные."
   ]
  },
  {
   "cell_type": "code",
   "execution_count": 72,
   "id": "1bf26ca5-ea1e-4070-a3d3-a83b8b7516aa",
   "metadata": {
    "tags": []
   },
   "outputs": [],
   "source": [
    "# Подготовим данные\n",
    "trainset, testset = prepare_dataset(events_train_ratings), prepare_dataset(events_valid_ratings)\n",
    "trainset = trainset.build_full_trainset()\n",
    "# Для валидации сформируем список\n",
    "testset = [testset.df.loc[i].to_list() for i in range(len(testset.df))]"
   ]
  },
  {
   "cell_type": "code",
   "execution_count": 73,
   "id": "fa274fe1-0b45-4234-9a57-91828c092aa9",
   "metadata": {
    "id": "UhhlGqdsLrOr",
    "outputId": "c868f98b-c5bb-43a3-e002-2b97ad84ec3e"
   },
   "outputs": [
    {
     "name": "stdout",
     "output_type": "stream",
     "text": [
      "Computing the cosine similarity matrix...\n",
      "Done computing similarity matrix.\n"
     ]
    },
    {
     "data": {
      "text/plain": [
       "<surprise.prediction_algorithms.knns.KNNWithMeans at 0x23993e6bd48>"
      ]
     },
     "execution_count": 73,
     "metadata": {},
     "output_type": "execute_result"
    }
   ],
   "source": [
    "# 1)  В качестве гиперпараметров будем использовать пареметры от GridSearchCV (best_params)\n",
    "sim_options = {'name': 'cosine', 'user_based': True}\n",
    "# Обучаем модель\n",
    "model_knn = KNNWithMeans(k=40, sim_options=sim_options)\n",
    "model_knn.fit(trainset)"
   ]
  },
  {
   "cell_type": "code",
   "execution_count": 74,
   "id": "5dd5165f-fb13-42f5-924c-07fa74faa756",
   "metadata": {
    "id": "Cb7QoZzRLrOs"
   },
   "outputs": [],
   "source": [
    "# Выполняем прогноз\n",
    "predictions = model_knn.test(testset)"
   ]
  },
  {
   "cell_type": "markdown",
   "id": "49133054-f17d-4078-a3ad-880ef49cd360",
   "metadata": {
    "id": "JYZzawwGLrOs"
   },
   "source": [
    "Считаем RMSE:"
   ]
  },
  {
   "cell_type": "code",
   "execution_count": 75,
   "id": "6dc0d087-21b8-4fd8-a893-76fceed1659a",
   "metadata": {
    "id": "QChf0HHeLrOt",
    "outputId": "bd9ea2ee-d26e-4ee5-bc69-875d212d2e7d"
   },
   "outputs": [
    {
     "name": "stdout",
     "output_type": "stream",
     "text": [
      "RMSE: 0.6001\n"
     ]
    },
    {
     "data": {
      "text/plain": [
       "0.6001159067004287"
      ]
     },
     "execution_count": 75,
     "metadata": {},
     "output_type": "execute_result"
    }
   ],
   "source": [
    "accuracy.rmse(predictions, verbose=True)"
   ]
  },
  {
   "cell_type": "code",
   "execution_count": 76,
   "id": "cd2425d3-e8bb-442f-bb9a-6ede3fc362df",
   "metadata": {},
   "outputs": [
    {
     "name": "stdout",
     "output_type": "stream",
     "text": [
      "0.03333\n",
      "0.01824\n"
     ]
    }
   ],
   "source": [
    "precision_recall_at_k_mean(predictions)"
   ]
  },
  {
   "cell_type": "markdown",
   "id": "f5f349c6-6b92-481b-b12e-86076e2fdab2",
   "metadata": {},
   "source": [
    "Результат: precision@3 = 3,3%"
   ]
  },
  {
   "cell_type": "code",
   "execution_count": 77,
   "id": "cb677f4d-0369-4675-8d1c-7d7bec60832c",
   "metadata": {},
   "outputs": [
    {
     "name": "stdout",
     "output_type": "stream",
     "text": [
      "Estimating biases using als...\n",
      "Computing the pearson_baseline similarity matrix...\n",
      "Done computing similarity matrix.\n"
     ]
    }
   ],
   "source": [
    "# 2. Эксперимент. В качестве гиперпараметров будем использовать коэффициент корреляции Пирсона\n",
    "sim_options = {'name': 'pearson_baseline', 'user_based': False}\n",
    "# Обучаем модель\n",
    "model_knn = KNNWithMeans(k=50, sim_options=sim_options)\n",
    "predictions = model_knn.fit(trainset).test(testset)"
   ]
  },
  {
   "cell_type": "code",
   "execution_count": 78,
   "id": "e316042f-2f3f-42e5-9e95-c789d795a9bb",
   "metadata": {},
   "outputs": [
    {
     "name": "stdout",
     "output_type": "stream",
     "text": [
      "RMSE: 0.6360\n"
     ]
    },
    {
     "data": {
      "text/plain": [
       "0.6360011150392296"
      ]
     },
     "execution_count": 78,
     "metadata": {},
     "output_type": "execute_result"
    }
   ],
   "source": [
    "accuracy.rmse(predictions, verbose=True)"
   ]
  },
  {
   "cell_type": "code",
   "execution_count": 79,
   "id": "d9604064-a420-455d-b34a-1fcba3774ef8",
   "metadata": {},
   "outputs": [
    {
     "name": "stdout",
     "output_type": "stream",
     "text": [
      "0.06227\n",
      "0.03281\n"
     ]
    }
   ],
   "source": [
    "precision_recall_at_k_mean(predictions)"
   ]
  },
  {
   "cell_type": "markdown",
   "id": "ead8ac03-68d4-48fd-8e6a-2b65acd5f7ea",
   "metadata": {},
   "source": [
    "**Вывод:** Результат: precision@3 = 6,2%"
   ]
  },
  {
   "cell_type": "markdown",
   "id": "3a8a692a-62b0-4725-ba21-eb2545f7d848",
   "metadata": {},
   "source": [
    "RMSE хуже подоброннаго GridSearchCV, но с этими параметрами наша метрика precision@3 лучше."
   ]
  },
  {
   "cell_type": "markdown",
   "id": "79e528fd-bda6-466f-8334-582847b0d872",
   "metadata": {},
   "source": [
    "##### Экспорт данных"
   ]
  },
  {
   "cell_type": "code",
   "execution_count": 80,
   "id": "b4d2216b-64ad-4164-954e-71f1b912a07d",
   "metadata": {},
   "outputs": [],
   "source": [
    "# Экспорт данных для сервиса\n",
    "# testset (для отображения метрик)\n",
    "with open('export/testset.pickle', 'wb') as file:\n",
    "    pickle.dump(testset, file)\n",
    "# Модель KNNWithMeans (для прогноза)\n",
    "with open('export/model_knn.pickle', 'wb') as file:\n",
    "    pickle.dump(model_knn, file)"
   ]
  },
  {
   "cell_type": "markdown",
   "id": "5324d39a-58e8-433f-ad4f-92747febca0c",
   "metadata": {
    "tags": []
   },
   "source": [
    "##### Подбор рекомендаций"
   ]
  },
  {
   "cell_type": "code",
   "execution_count": 81,
   "id": "bb690312-40c9-49e3-9fbf-1677ad97e07c",
   "metadata": {
    "tags": []
   },
   "outputs": [
    {
     "data": {
      "text/plain": [
       "832"
      ]
     },
     "execution_count": 81,
     "metadata": {},
     "output_type": "execute_result"
    }
   ],
   "source": [
    "# Рассмотрим методы, которые нам понадобятся\n",
    "# Отображение uid (visitorid)\n",
    "model_knn.trainset.to_inner_uid(1403769)"
   ]
  },
  {
   "cell_type": "code",
   "execution_count": 82,
   "id": "74ff1ed1-c87f-4d44-84df-f7335247b44e",
   "metadata": {
    "tags": []
   },
   "outputs": [
    {
     "data": {
      "text/plain": [
       "4871"
      ]
     },
     "execution_count": 82,
     "metadata": {},
     "output_type": "execute_result"
    }
   ],
   "source": [
    "# Отображение iid (itemid)\n",
    "model_knn.trainset.to_inner_iid(248605)"
   ]
  },
  {
   "cell_type": "code",
   "execution_count": 83,
   "id": "376a18c9-1d34-485c-b960-6f4d9944b27b",
   "metadata": {},
   "outputs": [
    {
     "data": {
      "text/plain": [
       "False"
      ]
     },
     "execution_count": 83,
     "metadata": {},
     "output_type": "execute_result"
    }
   ],
   "source": [
    "# Проверка на содержание item в модели (для анализа некорректного ввода)\n",
    "model_knn.trainset.knows_item(248605)"
   ]
  },
  {
   "cell_type": "code",
   "execution_count": 84,
   "id": "cb66b8e2-c3ce-4947-9738-d951d088c092",
   "metadata": {
    "tags": []
   },
   "outputs": [],
   "source": [
    "# Формируем список товаров известных модели\n",
    "items_all = events_train_ratings.itemid.unique().tolist()"
   ]
  },
  {
   "cell_type": "code",
   "execution_count": 85,
   "id": "8630144b-dded-4ec8-8eec-5097b66c4841",
   "metadata": {},
   "outputs": [],
   "source": [
    "def get_predict(model, uid, iid):\n",
    "    \"\"\" Возвращает прогноз по заданным признакам \"\"\"\n",
    "    return model.predict(uid=uid, iid=iid)"
   ]
  },
  {
   "cell_type": "code",
   "execution_count": 86,
   "id": "01557d47-a685-4861-9fa6-10f2a318418b",
   "metadata": {},
   "outputs": [
    {
     "data": {
      "text/plain": [
       "Prediction(uid=6958, iid=248605, r_ui=None, est=1, details={'actual_k': 0, 'was_impossible': False})"
      ]
     },
     "execution_count": 86,
     "metadata": {},
     "output_type": "execute_result"
    }
   ],
   "source": [
    "# Получить прогоз с параметрами uid=6958, iid=248605\n",
    "get_predict(model_knn, 6958, 248605)"
   ]
  },
  {
   "cell_type": "markdown",
   "id": "397b896b-d764-4a90-96be-0b8f064731ec",
   "metadata": {},
   "source": [
    "est=1"
   ]
  },
  {
   "cell_type": "code",
   "execution_count": 87,
   "id": "e8dbd98f-c865-4c46-a111-9847b55e4eb7",
   "metadata": {},
   "outputs": [],
   "source": [
    "# Выполнить прогноз для uid=6958 по всем товарам\n",
    "predict_1404178 = [get_predict(model_knn, 6958, x) for x in items_all]"
   ]
  },
  {
   "cell_type": "code",
   "execution_count": 129,
   "id": "9e6ff24f-b5cb-4961-aec6-a0c14deaceb9",
   "metadata": {
    "tags": []
   },
   "outputs": [
    {
     "data": {
      "text/plain": [
       "[Prediction(uid=6958, iid=381314, r_ui=None, est=1, details={'actual_k': 0, 'was_impossible': False}),\n",
       " Prediction(uid=6958, iid=10572, r_ui=None, est=1.3333333333333333, details={'actual_k': 0, 'was_impossible': False}),\n",
       " Prediction(uid=6958, iid=29167, r_ui=None, est=1.25, details={'actual_k': 0, 'was_impossible': False}),\n",
       " Prediction(uid=6958, iid=29863, r_ui=None, est=1.125, details={'actual_k': 0, 'was_impossible': False}),\n",
       " Prediction(uid=6958, iid=42002, r_ui=None, est=1.391304347826087, details={'actual_k': 0, 'was_impossible': False}),\n",
       " Prediction(uid=6958, iid=114250, r_ui=None, est=1, details={'actual_k': 0, 'was_impossible': False}),\n",
       " Prediction(uid=6958, iid=126929, r_ui=None, est=1.4285714285714286, details={'actual_k': 0, 'was_impossible': False}),\n",
       " Prediction(uid=6958, iid=251394, r_ui=None, est=1, details={'actual_k': 0, 'was_impossible': False}),\n",
       " Prediction(uid=6958, iid=297765, r_ui=None, est=1, details={'actual_k': 0, 'was_impossible': False}),\n",
       " Prediction(uid=6958, iid=310764, r_ui=None, est=1, details={'actual_k': 0, 'was_impossible': False})]"
      ]
     },
     "execution_count": 129,
     "metadata": {},
     "output_type": "execute_result"
    }
   ],
   "source": [
    "predict_1404178[:10]"
   ]
  },
  {
   "cell_type": "code",
   "execution_count": 89,
   "id": "2cbb3aa0-577a-4240-88ad-9b7df0b18ad1",
   "metadata": {},
   "outputs": [],
   "source": [
    "def get_k_similar_items(iid, k=3):\n",
    "    \"\"\" Получить k рекомендаций похожих товаров \"\"\"\n",
    "    inner_iid = model_knn.trainset.to_inner_iid(iid)\n",
    "    model_knn.get_neighbors(inner_iid, 3)\n",
    "    return [model_knn.trainset.to_raw_iid(x) for x in model_knn.get_neighbors(inner_iid, k)]"
   ]
  },
  {
   "cell_type": "code",
   "execution_count": 90,
   "id": "8a0d93aa-2c16-40e3-9edf-baedfe869bd7",
   "metadata": {},
   "outputs": [
    {
     "data": {
      "text/plain": [
       "[381314, 10572, 29167]"
      ]
     },
     "execution_count": 90,
     "metadata": {},
     "output_type": "execute_result"
    }
   ],
   "source": [
    "# Получить k похожих товаров\n",
    "pred_iid = 1879\n",
    "get_k_similar_items(pred_iid)"
   ]
  },
  {
   "cell_type": "code",
   "execution_count": 91,
   "id": "c6adac14-718e-4a8a-9619-51bfa41c81f6",
   "metadata": {},
   "outputs": [
    {
     "data": {
      "text/html": [
       "<div>\n",
       "<style scoped>\n",
       "    .dataframe tbody tr th:only-of-type {\n",
       "        vertical-align: middle;\n",
       "    }\n",
       "\n",
       "    .dataframe tbody tr th {\n",
       "        vertical-align: top;\n",
       "    }\n",
       "\n",
       "    .dataframe thead th {\n",
       "        text-align: right;\n",
       "    }\n",
       "</style>\n",
       "<table border=\"1\" class=\"dataframe\">\n",
       "  <thead>\n",
       "    <tr style=\"text-align: right;\">\n",
       "      <th></th>\n",
       "      <th>visitorid</th>\n",
       "      <th>itemid</th>\n",
       "      <th>datetime</th>\n",
       "      <th>rating</th>\n",
       "    </tr>\n",
       "  </thead>\n",
       "  <tbody>\n",
       "    <tr>\n",
       "      <th>9681</th>\n",
       "      <td>1403769</td>\n",
       "      <td>73123</td>\n",
       "      <td>2015-08-11 17:31:52.970</td>\n",
       "      <td>3</td>\n",
       "    </tr>\n",
       "    <tr>\n",
       "      <th>9704</th>\n",
       "      <td>1403769</td>\n",
       "      <td>248605</td>\n",
       "      <td>2015-08-04 01:02:55.495</td>\n",
       "      <td>2</td>\n",
       "    </tr>\n",
       "    <tr>\n",
       "      <th>9711</th>\n",
       "      <td>1403769</td>\n",
       "      <td>312728</td>\n",
       "      <td>2015-09-11 21:15:35.187</td>\n",
       "      <td>3</td>\n",
       "    </tr>\n",
       "    <tr>\n",
       "      <th>9724</th>\n",
       "      <td>1403769</td>\n",
       "      <td>409804</td>\n",
       "      <td>2015-07-15 00:37:46.159</td>\n",
       "      <td>3</td>\n",
       "    </tr>\n",
       "  </tbody>\n",
       "</table>\n",
       "</div>"
      ],
      "text/plain": [
       "      visitorid  itemid                datetime  rating\n",
       "9681    1403769   73123 2015-08-11 17:31:52.970       3\n",
       "9704    1403769  248605 2015-08-04 01:02:55.495       2\n",
       "9711    1403769  312728 2015-09-11 21:15:35.187       3\n",
       "9724    1403769  409804 2015-07-15 00:37:46.159       3"
      ]
     },
     "execution_count": 91,
     "metadata": {},
     "output_type": "execute_result"
    }
   ],
   "source": [
    "pred_uid = 1403769\n",
    "# Показать действия посетителя pred_uid\n",
    "events_valid_ratings[(events_valid_ratings.visitorid == pred_uid) & (events_valid_ratings.rating > 1)]"
   ]
  },
  {
   "cell_type": "code",
   "execution_count": 92,
   "id": "00d6dfd9-7ed1-4353-87ad-f1f9db14b6fb",
   "metadata": {},
   "outputs": [
    {
     "data": {
      "text/html": [
       "<div>\n",
       "<style scoped>\n",
       "    .dataframe tbody tr th:only-of-type {\n",
       "        vertical-align: middle;\n",
       "    }\n",
       "\n",
       "    .dataframe tbody tr th {\n",
       "        vertical-align: top;\n",
       "    }\n",
       "\n",
       "    .dataframe thead th {\n",
       "        text-align: right;\n",
       "    }\n",
       "</style>\n",
       "<table border=\"1\" class=\"dataframe\">\n",
       "  <thead>\n",
       "    <tr style=\"text-align: right;\">\n",
       "      <th></th>\n",
       "      <th>uid</th>\n",
       "      <th>iid</th>\n",
       "      <th>r_ui</th>\n",
       "      <th>est</th>\n",
       "      <th>details</th>\n",
       "    </tr>\n",
       "  </thead>\n",
       "  <tbody>\n",
       "    <tr>\n",
       "      <th>1169</th>\n",
       "      <td>1403769</td>\n",
       "      <td>68708</td>\n",
       "      <td>None</td>\n",
       "      <td>3.0</td>\n",
       "      <td>{'actual_k': 0, 'was_impossible': False}</td>\n",
       "    </tr>\n",
       "    <tr>\n",
       "      <th>2155</th>\n",
       "      <td>1403769</td>\n",
       "      <td>388308</td>\n",
       "      <td>None</td>\n",
       "      <td>3.0</td>\n",
       "      <td>{'actual_k': 0, 'was_impossible': False}</td>\n",
       "    </tr>\n",
       "    <tr>\n",
       "      <th>3498</th>\n",
       "      <td>1403769</td>\n",
       "      <td>230605</td>\n",
       "      <td>None</td>\n",
       "      <td>3.0</td>\n",
       "      <td>{'actual_k': 0, 'was_impossible': False}</td>\n",
       "    </tr>\n",
       "  </tbody>\n",
       "</table>\n",
       "</div>"
      ],
      "text/plain": [
       "          uid     iid  r_ui  est                                   details\n",
       "1169  1403769   68708  None  3.0  {'actual_k': 0, 'was_impossible': False}\n",
       "2155  1403769  388308  None  3.0  {'actual_k': 0, 'was_impossible': False}\n",
       "3498  1403769  230605  None  3.0  {'actual_k': 0, 'was_impossible': False}"
      ]
     },
     "execution_count": 92,
     "metadata": {},
     "output_type": "execute_result"
    }
   ],
   "source": [
    "# Выполнить прогнозирование для pred_uid по всем товарам и показать top 3\n",
    "pd.DataFrame([model_knn.predict(pred_uid, iid) for iid in items_all]).sort_values('est', ascending=False)[:3] #.iid.to_list()"
   ]
  },
  {
   "cell_type": "markdown",
   "id": "b4a91ac6-58db-4dee-acd8-31d4f044c0de",
   "metadata": {},
   "source": [
    "##### Обработка ошибок"
   ]
  },
  {
   "cell_type": "code",
   "execution_count": 93,
   "id": "11262dbf-87ec-4c44-8cdd-468b81ef9b32",
   "metadata": {},
   "outputs": [],
   "source": [
    "# Получим raw_iid/raw_uid\n",
    "items_all = [model_knn.trainset.to_raw_iid(x) for x in model_knn.trainset.all_items()]\n",
    "user_all = [model_knn.trainset.to_raw_uid(x) for x in model_knn.trainset.all_users()]"
   ]
  },
  {
   "cell_type": "code",
   "execution_count": 94,
   "id": "0d80d4b2-64ed-4207-92ea-348ed31bdfac",
   "metadata": {},
   "outputs": [],
   "source": [
    "# Обработка ошибки неивзестного посетителя\n",
    "user_id = 1403769\n",
    "if user_id not in user_all:\n",
    "    print('Неизвестный посетитель')"
   ]
  },
  {
   "cell_type": "code",
   "execution_count": 95,
   "id": "b49873a3-46d6-41e2-9d3d-e3e0c9788efd",
   "metadata": {},
   "outputs": [
    {
     "name": "stdout",
     "output_type": "stream",
     "text": [
      "Неизвестный товар\n"
     ]
    }
   ],
   "source": [
    "# Обработка ошибки неивзестного товара\n",
    "items_id = 5462121\n",
    "if items_id not in items_all:\n",
    "    print('Неизвестный товар')"
   ]
  },
  {
   "cell_type": "markdown",
   "id": "df0bff90-5302-42b8-8b74-8e0146bb88d1",
   "metadata": {
    "tags": []
   },
   "source": [
    "##### ALS"
   ]
  },
  {
   "cell_type": "code",
   "execution_count": 96,
   "id": "55e577ce-9716-4abb-be25-e42831235e3a",
   "metadata": {},
   "outputs": [],
   "source": [
    "import scipy\n",
    "\n",
    "from implicit.als import AlternatingLeastSquares\n",
    "from implicit.evaluation import mean_average_precision_at_k"
   ]
  },
  {
   "cell_type": "code",
   "execution_count": 97,
   "id": "d2d3c9ba-48e5-4b74-8169-2f9aa231afe8",
   "metadata": {},
   "outputs": [],
   "source": [
    "# Задаем наименования колонкам\n",
    "events_train_ratings.columns = ['user_id', 'item_id', 'datetime', 'rating']\n",
    "events_valid_ratings.columns = ['user_id', 'item_id', 'datetime', 'rating']"
   ]
  },
  {
   "cell_type": "code",
   "execution_count": 98,
   "id": "c9e1cd5a-7959-4ab4-a9f8-b703612a02d4",
   "metadata": {},
   "outputs": [],
   "source": [
    "events_train_ratings['score'] = (events_train_ratings['rating'] > 1).apply(int)\n",
    "events_valid_ratings['score'] = (events_valid_ratings['rating'] > 1).apply(int)"
   ]
  },
  {
   "cell_type": "code",
   "execution_count": 99,
   "id": "2612bcc1-20c1-4bfd-b9a8-ae98c69f01f7",
   "metadata": {
    "tags": []
   },
   "outputs": [],
   "source": [
    "# Выполняем LabelEncoder\n",
    "id_cols=['user_id','item_id']\n",
    "\n",
    "trans_cat_train = dict()\n",
    "trans_cat_test = dict()\n",
    "\n",
    "for k in id_cols:\n",
    "    cat_enc = preprocessing.LabelEncoder()\n",
    "    trans_cat_train[k] = cat_enc.fit_transform(events_train_ratings[k].values)\n",
    "    trans_cat_test[k] = cat_enc.transform(events_valid_ratings[k].values)"
   ]
  },
  {
   "cell_type": "code",
   "execution_count": 100,
   "id": "80c78f6c-e0da-4060-8a98-d35274b939ce",
   "metadata": {},
   "outputs": [
    {
     "data": {
      "text/plain": [
       "{'user_id': array([  0,   1,   1, ..., 833, 833, 833], dtype=int64),\n",
       " 'item_id': array([5923,  151,  424, ..., 6226, 6815, 6898], dtype=int64)}"
      ]
     },
     "execution_count": 100,
     "metadata": {},
     "output_type": "execute_result"
    }
   ],
   "source": [
    "trans_cat_train"
   ]
  },
  {
   "cell_type": "code",
   "execution_count": 101,
   "id": "ddf5b992-3f9b-40c5-8986-be743542366b",
   "metadata": {},
   "outputs": [],
   "source": [
    "ratings = dict()\n",
    "\n",
    "ratings['train'] = events_train_ratings.rating.values\n",
    "ratings['test'] = events_valid_ratings.rating.values"
   ]
  },
  {
   "cell_type": "code",
   "execution_count": 102,
   "id": "72b58dcf-aa24-46e4-8cde-fb98125c1857",
   "metadata": {},
   "outputs": [],
   "source": [
    "n_users=len(np.unique(trans_cat_train[id_cols[0]]))\n",
    "n_items=len(np.unique(trans_cat_train[id_cols[1]]))"
   ]
  },
  {
   "cell_type": "code",
   "execution_count": 103,
   "id": "ef745bab-378f-4400-a8cc-8681febbb2e0",
   "metadata": {},
   "outputs": [
    {
     "name": "stdout",
     "output_type": "stream",
     "text": [
      "834\n",
      "7238\n"
     ]
    }
   ],
   "source": [
    "print(n_users)\n",
    "print(n_items)"
   ]
  },
  {
   "cell_type": "code",
   "execution_count": 104,
   "id": "424f9218-17ef-4096-93d7-dab4ac960316",
   "metadata": {},
   "outputs": [],
   "source": [
    "# Формируем разреженные матрицы\n",
    "rate_matrix = dict()"
   ]
  },
  {
   "cell_type": "code",
   "execution_count": 105,
   "id": "ce0470cd-94fa-4443-8ed1-f7b26e177560",
   "metadata": {},
   "outputs": [],
   "source": [
    "rate_matrix['train'] = coo_matrix((ratings['train'], \n",
    "                                   (trans_cat_train[id_cols[0]], \n",
    "                                    trans_cat_train[id_cols[1]])), \n",
    "                                    shape=(n_users,n_items))"
   ]
  },
  {
   "cell_type": "code",
   "execution_count": 106,
   "id": "d1dbf521-ef70-4220-99a5-00814e0122a4",
   "metadata": {},
   "outputs": [],
   "source": [
    "rate_matrix['test'] = coo_matrix((ratings['test'], \n",
    "                                   (trans_cat_test[id_cols[0]], \n",
    "                                    trans_cat_test[id_cols[1]])), \n",
    "                                    shape=(n_users,n_items))"
   ]
  },
  {
   "cell_type": "code",
   "execution_count": 107,
   "id": "a3d53abc-3e31-43a7-9d2c-934eaef30dbc",
   "metadata": {},
   "outputs": [
    {
     "data": {
      "text/plain": [
       "<834x7238 sparse matrix of type '<class 'numpy.int64'>'\n",
       "\twith 26205 stored elements in COOrdinate format>"
      ]
     },
     "execution_count": 107,
     "metadata": {},
     "output_type": "execute_result"
    }
   ],
   "source": [
    "rate_matrix['train']"
   ]
  },
  {
   "cell_type": "code",
   "execution_count": 108,
   "id": "80a6cd8a-2479-44c2-ae29-358db04c4f80",
   "metadata": {},
   "outputs": [
    {
     "data": {
      "application/vnd.jupyter.widget-view+json": {
       "model_id": "1119bdeb470a444d937e14b8659b8b3a",
       "version_major": 2,
       "version_minor": 0
      },
      "text/plain": [
       "  0%|          | 0/15 [00:00<?, ?it/s]"
      ]
     },
     "metadata": {},
     "output_type": "display_data"
    }
   ],
   "source": [
    "# Обучаем модель ALS\n",
    "model_als = AlternatingLeastSquares(factors=10, random_state=42)\n",
    "model_als.fit(rate_matrix['train'])"
   ]
  },
  {
   "cell_type": "code",
   "execution_count": 109,
   "id": "fd354994-19a4-445c-854b-20642bb41266",
   "metadata": {},
   "outputs": [
    {
     "data": {
      "application/vnd.jupyter.widget-view+json": {
       "model_id": "7c9d5e0f1d884797902fcfc506c5826e",
       "version_major": 2,
       "version_minor": 0
      },
      "text/plain": [
       "  0%|          | 0/455 [00:00<?, ?it/s]"
      ]
     },
     "metadata": {},
     "output_type": "display_data"
    },
    {
     "name": "stdout",
     "output_type": "stream",
     "text": [
      "Mean Average Precision at 3: 0.0134\n"
     ]
    }
   ],
   "source": [
    "# Смотрим метрику Precision@3\n",
    "map_at3 = mean_average_precision_at_k(model_als, rate_matrix['train'], rate_matrix['test'], K=3)\n",
    "print('Mean Average Precision at 3: {:.4f}'.format(map_at3))"
   ]
  },
  {
   "cell_type": "markdown",
   "id": "a9c418e6-96bc-4aaa-877a-fcb1f5f34727",
   "metadata": {},
   "source": [
    "**Вывод**: Результат модели ALS, Precision@3 = 1,3%"
   ]
  },
  {
   "cell_type": "code",
   "execution_count": 110,
   "id": "2862ec23-ffd8-4621-bfcd-ce8da795a147",
   "metadata": {},
   "outputs": [],
   "source": [
    "# Экспорт данных\n",
    "# model_als.save('model_als.dump')\n",
    "# with open('model_als.pickle', 'wb') as file:\n",
    "#    pickle.dump(model_als, file)\n",
    "# with open('rate_matrix.pickle', 'wb') as file:\n",
    "#     pickle.dump(rate_matrix, file)\n",
    "# with open('trans_cat_train.pickle', 'wb') as file:\n",
    "#     pickle.dump(trans_cat_train, file)"
   ]
  },
  {
   "cell_type": "markdown",
   "id": "79455173-582d-4915-a908-7383887344d3",
   "metadata": {},
   "source": [
    "##### LightFM"
   ]
  },
  {
   "cell_type": "code",
   "execution_count": 111,
   "id": "b624fb2e-1031-4d1c-938e-b91cada0f434",
   "metadata": {},
   "outputs": [],
   "source": [
    "from lightfm import LightFM\n",
    "from lightfm.evaluation import auc_score, precision_at_k"
   ]
  },
  {
   "cell_type": "code",
   "execution_count": 112,
   "id": "55a0b8cb-8a6b-498e-83b7-bfe30df6bf6f",
   "metadata": {
    "tags": []
   },
   "outputs": [
    {
     "data": {
      "text/plain": [
       "<lightfm.lightfm.LightFM at 0x2399a0caf08>"
      ]
     },
     "execution_count": 112,
     "metadata": {},
     "output_type": "execute_result"
    }
   ],
   "source": [
    "# Обучаем модель LightFM\n",
    "model_lfm = LightFM(no_components=10, loss='warp', random_state=42)\n",
    "model_lfm.fit(rate_matrix['train'], epochs=100)"
   ]
  },
  {
   "cell_type": "code",
   "execution_count": 113,
   "id": "974cd292-f841-4f6f-aac2-d32ee9c0d838",
   "metadata": {},
   "outputs": [
    {
     "data": {
      "text/plain": [
       "0.7137851"
      ]
     },
     "execution_count": 113,
     "metadata": {},
     "output_type": "execute_result"
    }
   ],
   "source": [
    "auc_score(model_lfm, rate_matrix['test'], num_threads=10).mean()"
   ]
  },
  {
   "cell_type": "code",
   "execution_count": 114,
   "id": "3433c212-86d9-4136-bb55-6a830fc62302",
   "metadata": {},
   "outputs": [],
   "source": [
    "def model_evaluate(model):\n",
    "    ''' Оценка модели, Precision at 3 '''\n",
    "    item_ids = np.arange(0, rate_matrix['train'].shape[1])\n",
    "    list_pred = model.predict(user_id, item_ids)\n",
    "    recomendations_ids = np.argsort(-list_pred)[:3]\n",
    "    recomendations = unique_items[recomendations_ids]\n",
    "    print('Recomendations for user {}: {}'.format(user_id, recomendations))\n",
    "    \n",
    "    map_at3 = precision_at_k(model, rate_matrix['test'], k=3).mean()\n",
    "    print('Mean Average Precision at 3: {:.3f}'.format(map_at3))"
   ]
  },
  {
   "cell_type": "code",
   "execution_count": 115,
   "id": "9d5affca-f9d3-46da-9b16-ab20ca279e27",
   "metadata": {},
   "outputs": [
    {
     "name": "stdout",
     "output_type": "stream",
     "text": [
      "Recomendations for user 14: [5526 2025  545]\n",
      "Mean Average Precision at 3: 0.046\n"
     ]
    }
   ],
   "source": [
    "unique_items = np.array(trans_cat_train[id_cols[1]])\n",
    "user_id = 14\n",
    "\n",
    "model_evaluate(model_lfm)"
   ]
  },
  {
   "cell_type": "markdown",
   "id": "329351a6-31e5-413d-9eeb-05dfb3eeba80",
   "metadata": {},
   "source": [
    "**Вывод:** Результат модели LightFM, Precision@3 = 4,6%"
   ]
  },
  {
   "cell_type": "code",
   "execution_count": 116,
   "id": "8bfb77b6-ff7e-4775-a0f5-070992f6894b",
   "metadata": {},
   "outputs": [],
   "source": [
    "# Экспорт данных\n",
    "# with open('model_lfm.pickle', 'wb') as file:\n",
    "#    pickle.dump(model_lfm, file)"
   ]
  },
  {
   "cell_type": "code",
   "execution_count": 117,
   "id": "e1d8bf55-4827-4a86-9f8e-b2b454b9f2fe",
   "metadata": {},
   "outputs": [
    {
     "data": {
      "text/plain": [
       "array([  0,   1,   1, ..., 833, 833, 833], dtype=int64)"
      ]
     },
     "execution_count": 117,
     "metadata": {},
     "output_type": "execute_result"
    }
   ],
   "source": [
    "trans_cat_train[id_cols[0]]"
   ]
  },
  {
   "cell_type": "code",
   "execution_count": 118,
   "id": "61b38dd7-f5ce-46ee-b2a5-4eecca2ed3c1",
   "metadata": {},
   "outputs": [
    {
     "name": "stdout",
     "output_type": "stream",
     "text": [
      "[ 486 1412  545]\n",
      "[3475 2610 5907]\n"
     ]
    }
   ],
   "source": [
    "# Показать 3 рекомендации товаров для user_id\n",
    "item_ids = np.arange(0, rate_matrix['train'].shape[1])\n",
    "list_pred = model_lfm.predict(user_id, item_ids)\n",
    "\n",
    "print(np.argsort(-list_pred)[:3])\n",
    "print(np.argsort(list_pred)[:3])"
   ]
  },
  {
   "cell_type": "markdown",
   "id": "3706a01c-a61c-4d6b-96ec-417e95651b94",
   "metadata": {},
   "source": [
    "##### XGBoost"
   ]
  },
  {
   "cell_type": "code",
   "execution_count": 119,
   "id": "b860e832-8265-4802-9973-17e54c85816b",
   "metadata": {},
   "outputs": [],
   "source": [
    "def get_label(df):\n",
    "    if (df.event_transaction):\n",
    "        return 2\n",
    "    elif (df.event_addtocart):\n",
    "        return 1\n",
    "    else:\n",
    "        return 0"
   ]
  },
  {
   "cell_type": "code",
   "execution_count": 120,
   "id": "d3d59c50-af11-4498-9c13-fe926d6f0b93",
   "metadata": {},
   "outputs": [],
   "source": [
    "events['y'] = events.apply(get_label, axis=1)"
   ]
  },
  {
   "cell_type": "code",
   "execution_count": 121,
   "id": "273b496c-e5a1-4f74-a62c-4296e33ba9f0",
   "metadata": {},
   "outputs": [],
   "source": [
    "for column in ['categoryid', 'parentid']: \n",
    "    events[column] = events[column].fillna(0).astype('int64')"
   ]
  },
  {
   "cell_type": "code",
   "execution_count": 122,
   "id": "6992dbb8-ce52-419c-91c8-f47d2ba809c4",
   "metadata": {},
   "outputs": [],
   "source": [
    "# Разобъём датасет на обучающую и валидацционную выборку\n",
    "events_train = events[events.datetime <= '2015-07-01']\n",
    "events_valid = events[events.datetime > '2015-07-01']"
   ]
  },
  {
   "cell_type": "code",
   "execution_count": 123,
   "id": "73c3a50a-7206-409c-b044-7295a1fa3775",
   "metadata": {},
   "outputs": [],
   "source": [
    "X_train = events_train[['visitorid','itemid','month','week','day_of_week','day','hour','categoryid','parentid','category_pop']]\n",
    "y_train = events_train['y']\n",
    "X_test = events_valid[['visitorid','itemid','month','week','day_of_week','day','hour','categoryid','parentid','category_pop']]\n",
    "y_test = events_valid['y']"
   ]
  },
  {
   "cell_type": "code",
   "execution_count": 124,
   "id": "840799ae-d4a5-4b3f-8cf3-64957480094f",
   "metadata": {},
   "outputs": [
    {
     "data": {
      "text/plain": [
       "XGBClassifier(base_score=0.5, booster='gbtree', callbacks=None,\n",
       "              colsample_bylevel=1, colsample_bynode=1, colsample_bytree=1,\n",
       "              early_stopping_rounds=None, enable_categorical=False,\n",
       "              eval_metric=None, gamma=0, gpu_id=-1, grow_policy='depthwise',\n",
       "              importance_type=None, interaction_constraints='',\n",
       "              learning_rate=0.300000012, max_bin=256, max_cat_to_onehot=4,\n",
       "              max_delta_step=0, max_depth=6, max_leaves=0, min_child_weight=1,\n",
       "              missing=nan, monotone_constraints='()', n_estimators=100,\n",
       "              n_jobs=0, num_parallel_tree=1, objective='multi:softprob',\n",
       "              predictor='auto', random_state=0, reg_alpha=0, ...)"
      ]
     },
     "execution_count": 124,
     "metadata": {},
     "output_type": "execute_result"
    }
   ],
   "source": [
    "# Обучение модели\n",
    "param = {\n",
    "   'max_depth': 3,\n",
    "   'eta': 0.3, \n",
    "   'objective': 'multi:softprob',\n",
    "   'num_class': 3}\n",
    "num_round = 20\n",
    "\n",
    "model = xgb.XGBClassifier(param)\n",
    "\n",
    "model.fit(X_train, y_train)"
   ]
  },
  {
   "cell_type": "code",
   "execution_count": 125,
   "id": "4f58a5db-3bf5-4f93-8658-802c221c4f34",
   "metadata": {},
   "outputs": [],
   "source": [
    "predictions = model.predict(X_test)"
   ]
  },
  {
   "cell_type": "code",
   "execution_count": 126,
   "id": "764c2f97-1f0e-42cd-a673-431f0b57cc9c",
   "metadata": {},
   "outputs": [
    {
     "data": {
      "text/plain": [
       "0.8848839071257005"
      ]
     },
     "execution_count": 126,
     "metadata": {},
     "output_type": "execute_result"
    }
   ],
   "source": [
    "accuracy = accuracy_score(y_test, predictions)\n",
    "accuracy"
   ]
  },
  {
   "cell_type": "markdown",
   "id": "60eb359e-f00a-43a4-96dc-240d0c032f6f",
   "metadata": {},
   "source": [
    "##### Вывод  \n",
    "Лучший результат метрики Precision@3 показали:\n",
    "- метод коллаборативной фильтрации с результатом Precision@3 = 6,2%\n",
    "- LightFM, с результатом Precision@3 = 4,6%  \n",
    "\n",
    "Подготовим сервис на основе модели KNNWithMeans от surprise"
   ]
  },
  {
   "cell_type": "markdown",
   "id": "2236637f-9e7b-4c75-930c-57e1db46563b",
   "metadata": {},
   "source": [
    "#### Подготовка сервиса"
   ]
  },
  {
   "cell_type": "markdown",
   "id": "8fc8cb96-15f3-41c1-93b2-387b16eb8333",
   "metadata": {},
   "source": [
    "##### Создание docker-образа"
   ]
  },
  {
   "cell_type": "markdown",
   "id": "455433d5-40c2-4c96-8e6e-1018bd07b5aa",
   "metadata": {},
   "source": [
    "Структура каталогов:\n",
    "```\n",
    ".\n",
    "├── Dockerfile\n",
    "├── export\n",
    "│   ├── model_knn.pickle\n",
    "│   └── testset.pickle\n",
    "├── requirements.txt\n",
    "└── webservice\n",
    "    ├── app.py\n",
    "    ├── data\n",
    "    └── ml_model_knn.py\n",
    "```"
   ]
  },
  {
   "cell_type": "markdown",
   "id": "2f5075b5-a7e6-4481-969c-9752302f6a21",
   "metadata": {},
   "source": [
    "Подготовим Dockerfile  \n",
    "В производственной среде не стоит запускать чистый flask. Запустим сервис через wsgi - waitress-serve:  \n",
    "```FROM python:3.10.13-slim-bullseye\n",
    "\n",
    "RUN apt update &&  apt install -y gcc\n",
    "\n",
    "COPY requirements.txt /\n",
    "\n",
    "RUN pip3 install --upgrade pip\n",
    "\n",
    "RUN pip3 install -r /requirements.txt\n",
    "\n",
    "EXPOSE 8080\n",
    "\n",
    "WORKDIR /opt/app\n",
    "\n",
    "COPY webservice .\n",
    "COPY export ./data\n",
    "\n",
    "ENTRYPOINT [\"waitress-serve\", \"--host\", \"0.0.0.0\", \"app:app\"]\n",
    "```"
   ]
  },
  {
   "cell_type": "markdown",
   "id": "66cc7a81-0333-4ed8-9532-af3dacde1cc1",
   "metadata": {},
   "source": [
    "Команда для создания образа     \n",
    "`docker build -t belichenkoas/recommend:latest -f Dockerfile .`"
   ]
  },
  {
   "cell_type": "markdown",
   "id": "de346d7a-5c7b-48d7-bb08-0fd82750037a",
   "metadata": {},
   "source": [
    "Опубликовать docker-образ  \n",
    "*Предварительно следует авторизоваться `docker login`*  \n",
    "`docker push belichenkoas/recommend:latest`"
   ]
  },
  {
   "cell_type": "markdown",
   "id": "7eb06d79-9ee4-40d0-8463-961aa1b60aa4",
   "metadata": {},
   "source": [
    "Чтобы скачать **готовый образ** с dockerhub нужно выполнить команду:  \n",
    "`docker pull belichenkoas/recommend:latest`"
   ]
  },
  {
   "cell_type": "markdown",
   "id": "e7878d83-48ae-4d26-a94a-ad89f6eb8da3",
   "metadata": {},
   "source": [
    "##### Запуск сервиса  \n",
    "`docker run -d --name recommendation_system -p 8080:8080 belichenkoas/recommend:latest`"
   ]
  },
  {
   "cell_type": "markdown",
   "id": "399a750c-1c6b-464b-85cc-f8990f60abcc",
   "metadata": {},
   "source": [
    "##### Описание API"
   ]
  },
  {
   "cell_type": "markdown",
   "id": "b0b0f8ce-aa3f-4710-b60d-65b8cc37582c",
   "metadata": {},
   "source": [
    "Сервис рекомендательной системы.  \n",
    "Возвращает рекомендации Топ 3 товаров для посетителя"
   ]
  },
  {
   "cell_type": "markdown",
   "id": "c450c92b-ab9c-499d-8303-3603c69c45cd",
   "metadata": {},
   "source": [
    "***Точка входа:***  \n",
    "http://localhost:8080\n",
    "\n",
    "Спецификация json.  \n",
    "В ответе содержится статус и результат исполнения запроса.  \n",
    "\"Status\" может принимать значение \"Successful\" или \"Error\".\n"
   ]
  },
  {
   "cell_type": "markdown",
   "id": "bf823635-a33f-46ec-9560-b79fedca550c",
   "metadata": {},
   "source": [
    "***Проверка подключения***  \n",
    "`Описание:` Позволяет проверить связь с сервисом\n",
    "---\n",
    "`Method:` /api/healthz  \n",
    "`Request Method:` GET  \n",
    "`Request URL:` http://localhost:8080/api/healthz  \n",
    "---\n",
    "Пример:\n",
    "```\n",
    "curl --location --request GET 'http://localhost:8080/api/healthz' \\\n",
    "--header 'Content-Type: application/json'\n",
    "```\n",
    "\n",
    "В случае успешного ответа, вернётся следующее значение:\n",
    "```\n",
    "{\n",
    "  \"Result\": \"Ok\",\n",
    "  \"Status\": \"Success\"\n",
    "}\n",
    "```"
   ]
  },
  {
   "cell_type": "markdown",
   "id": "b32b545e-5640-4bf7-8056-0860f6bd54dd",
   "metadata": {},
   "source": [
    "***Получение списка рекомендаций***  \n",
    "`Описание:` метод возвращает топ 3 рекомендации товара для заданного посетителя\n",
    "---\n",
    "`Method:` /api/get_recommendations/<user_id\\>  \n",
    "`Request Method:` GET  \n",
    "`Request URL:` http://localhost:8080/api/get_recommendations/<user_id\\>\n",
    "\n",
    "Где <user_id\\> - Id посетителя\n",
    "\n",
    "---\n",
    "Пример:\n",
    "```\n",
    "curl --location --request GET 'http://localhost:8080/api/get_recommendations/1311615' \\\n",
    "--header 'Content-Type: application/json'\n",
    "```\n",
    "\n",
    "В случае успешного ответа, вернётся следующее значение:\n",
    "```\n",
    "{\n",
    "  \"Result\": {\n",
    "    \"Recommendations for user 1311615\": [\n",
    "      381314,\n",
    "      98893,\n",
    "      262169\n",
    "    ]\n",
    "  },\n",
    "  \"Status\": \"Success\"\n",
    "}\n",
    "```"
   ]
  },
  {
   "cell_type": "markdown",
   "id": "6ded2862-d326-4ecd-8659-8f3cb9dd735d",
   "metadata": {},
   "source": [
    "В случае некорректного ввода данных, сервис предложит варианты:\n",
    "```\n",
    "{\n",
    "  \"Result\": \"Unknown visitor. Hint: you can use these ids (random 5): [121914, 1142436, 321381, 623304, 167489]\",\n",
    "  \"Status\": \"Error\"\n",
    "}\n",
    "```"
   ]
  },
  {
   "cell_type": "markdown",
   "id": "8cbdfa6a-737a-475f-8a56-a954b39e7083",
   "metadata": {},
   "source": [
    "***Получение метрики***  \n",
    "`Описание:` метод возвращает значение метрик для активной модели\n",
    "---\n",
    "`Method:` /api/get_metrics  \n",
    "`Request Method:` GET  \n",
    "`Request URL:` http://localhost:8080/api/get_metrics  \n",
    "---\n",
    "Пример:\n",
    "```\n",
    "curl --location --request GET 'http://localhost:8080/api/get_metrics' \\\n",
    "--header 'Content-Type: application/json'\n",
    "```\n",
    "\n",
    "В случае успешного ответа, вернётся следующее значение:\n",
    "```\n",
    "{\n",
    "  \"Result\": {\n",
    "    \"Precision at 3\": 0.06227,\n",
    "    \"Recall at 3\": 0.03281,\n",
    "    \"Rmse\": 0.6361\n",
    "  },\n",
    "  \"Status\": \"Success\"\n",
    "}\n",
    "```"
   ]
  }
 ],
 "metadata": {
  "kernelspec": {
   "display_name": "Python 3 (ipykernel)",
   "language": "python",
   "name": "python3"
  },
  "language_info": {
   "codemirror_mode": {
    "name": "ipython",
    "version": 3
   },
   "file_extension": ".py",
   "mimetype": "text/x-python",
   "name": "python",
   "nbconvert_exporter": "python",
   "pygments_lexer": "ipython3",
   "version": "3.7.16"
  }
 },
 "nbformat": 4,
 "nbformat_minor": 5
}
