{
 "cells": [
  {
   "cell_type": "code",
   "execution_count": 1,
   "metadata": {},
   "outputs": [],
   "source": [
    "import os\n",
    "import pandas as pd\n",
    "import numpy as np\n",
    "import re\n",
    "import json\n",
    "import requests\n",
    "import time\n",
    "import seaborn as sns\n",
    "import matplotlib as plt\n",
    "from datetime import datetime\n",
    "from bs4 import BeautifulSoup"
   ]
  },
  {
   "cell_type": "code",
   "execution_count": 2,
   "metadata": {},
   "outputs": [],
   "source": [
    "def outliers_iqr(data):\n",
    "    \"\"\" Функция для поиска выбросов \"\"\"\n",
    "    quartile_1, quartile_3 = np.percentile(data, [25,75])\n",
    "    iqr = quartile_3 - quartile_1\n",
    "    lower_bound = quartile_1 - (iqr * 1.5)\n",
    "    upper_bound = quartile_3 + (iqr * 1.5)\n",
    "    return [lower_bound, upper_bound]"
   ]
  },
  {
   "cell_type": "code",
   "execution_count": 3,
   "metadata": {},
   "outputs": [],
   "source": [
    "df = pd.read_csv('data\\main_task.csv')"
   ]
  },
  {
   "cell_type": "code",
   "execution_count": 4,
   "metadata": {},
   "outputs": [
    {
     "name": "stdout",
     "output_type": "stream",
     "text": [
      "<class 'pandas.core.frame.DataFrame'>\n",
      "RangeIndex: 40000 entries, 0 to 39999\n",
      "Data columns (total 10 columns):\n",
      " #   Column             Non-Null Count  Dtype  \n",
      "---  ------             --------------  -----  \n",
      " 0   Restaurant_id      40000 non-null  object \n",
      " 1   City               40000 non-null  object \n",
      " 2   Cuisine Style      30717 non-null  object \n",
      " 3   Ranking            40000 non-null  float64\n",
      " 4   Rating             40000 non-null  float64\n",
      " 5   Price Range        26114 non-null  object \n",
      " 6   Number of Reviews  37457 non-null  float64\n",
      " 7   Reviews            40000 non-null  object \n",
      " 8   URL_TA             40000 non-null  object \n",
      " 9   ID_TA              40000 non-null  object \n",
      "dtypes: float64(3), object(7)\n",
      "memory usage: 3.1+ MB\n"
     ]
    }
   ],
   "source": [
    "df.info()"
   ]
  },
  {
   "cell_type": "code",
   "execution_count": 5,
   "metadata": {},
   "outputs": [
    {
     "data": {
      "text/plain": [
       "Restaurant_id        11909\n",
       "City                    31\n",
       "Cuisine Style         9008\n",
       "Ranking              11936\n",
       "Rating                   9\n",
       "Price Range              4\n",
       "Number of Reviews     1460\n",
       "Reviews              33516\n",
       "URL_TA               39980\n",
       "ID_TA                39980\n",
       "dtype: int64"
      ]
     },
     "execution_count": 5,
     "metadata": {},
     "output_type": "execute_result"
    }
   ],
   "source": [
    "# Уникальные значения признаков\n",
    "df.nunique(dropna=False)"
   ]
  },
  {
   "cell_type": "markdown",
   "metadata": {},
   "source": [
    "В датасете только три признака представлены типом float64. Семь признаков типа object. Три признака содержат пропуски."
   ]
  },
  {
   "cell_type": "code",
   "execution_count": 6,
   "metadata": {},
   "outputs": [],
   "source": [
    "#Для удобства работы с датасетом, приведём названия колонок к нижнему регистру и заменим пробел на подчеркивание\n",
    "def rename_col(name):\n",
    "    return name.lower().replace(' ', '_')    \n",
    "\n",
    "df.columns = [rename_col(x) for x in df.columns]"
   ]
  },
  {
   "cell_type": "code",
   "execution_count": 7,
   "metadata": {},
   "outputs": [
    {
     "data": {
      "text/plain": [
       "Index(['restaurant_id', 'city', 'cuisine_style', 'ranking', 'rating',\n",
       "       'price_range', 'number_of_reviews', 'reviews', 'url_ta', 'id_ta'],\n",
       "      dtype='object')"
      ]
     },
     "execution_count": 7,
     "metadata": {},
     "output_type": "execute_result"
    }
   ],
   "source": [
    "df.columns"
   ]
  },
  {
   "cell_type": "code",
   "execution_count": 8,
   "metadata": {},
   "outputs": [
    {
     "name": "stdout",
     "output_type": "stream",
     "text": [
      "Всего 64% строк без пропущенных значений\n"
     ]
    }
   ],
   "source": [
    "print('Всего {}% строк без пропущенных значений'.format(round(df.dropna().shape[0] / df.shape[0]*100),1))"
   ]
  },
  {
   "cell_type": "markdown",
   "metadata": {},
   "source": [
    "Рассмотрим каждый признак по отдельности"
   ]
  },
  {
   "cell_type": "markdown",
   "metadata": {},
   "source": [
    "#### restaurant_id — идентификационный номер ресторана / сети ресторанов;"
   ]
  },
  {
   "cell_type": "code",
   "execution_count": 9,
   "metadata": {},
   "outputs": [
    {
     "data": {
      "text/plain": [
       "id_871      18\n",
       "id_436      18\n",
       "id_227      18\n",
       "id_633      18\n",
       "id_321      17\n",
       "            ..\n",
       "id_9721      1\n",
       "id_10561     1\n",
       "id_13621     1\n",
       "id_10769     1\n",
       "id_12015     1\n",
       "Name: restaurant_id, Length: 11909, dtype: int64"
      ]
     },
     "execution_count": 9,
     "metadata": {},
     "output_type": "execute_result"
    }
   ],
   "source": [
    "# Посмотрим на значения этого признака\n",
    "df.restaurant_id.value_counts()"
   ]
  },
  {
   "cell_type": "code",
   "execution_count": 10,
   "metadata": {},
   "outputs": [
    {
     "data": {
      "text/html": [
       "<div>\n",
       "<style scoped>\n",
       "    .dataframe tbody tr th:only-of-type {\n",
       "        vertical-align: middle;\n",
       "    }\n",
       "\n",
       "    .dataframe tbody tr th {\n",
       "        vertical-align: top;\n",
       "    }\n",
       "\n",
       "    .dataframe thead th {\n",
       "        text-align: right;\n",
       "    }\n",
       "</style>\n",
       "<table border=\"1\" class=\"dataframe\">\n",
       "  <thead>\n",
       "    <tr style=\"text-align: right;\">\n",
       "      <th></th>\n",
       "      <th>restaurant_id</th>\n",
       "      <th>city</th>\n",
       "      <th>cuisine_style</th>\n",
       "      <th>ranking</th>\n",
       "      <th>rating</th>\n",
       "      <th>price_range</th>\n",
       "      <th>number_of_reviews</th>\n",
       "      <th>reviews</th>\n",
       "      <th>url_ta</th>\n",
       "      <th>id_ta</th>\n",
       "    </tr>\n",
       "  </thead>\n",
       "  <tbody>\n",
       "    <tr>\n",
       "      <th>2955</th>\n",
       "      <td>id_436</td>\n",
       "      <td>Barcelona</td>\n",
       "      <td>['Seafood', 'Mediterranean', 'Spanish', 'Glute...</td>\n",
       "      <td>437.0</td>\n",
       "      <td>4.5</td>\n",
       "      <td>$$ - $$$</td>\n",
       "      <td>546.0</td>\n",
       "      <td>[['Fresh Fish', 'Perfect concept'], ['01/03/20...</td>\n",
       "      <td>/Restaurant_Review-g187497-d1592613-Reviews-La...</td>\n",
       "      <td>d1592613</td>\n",
       "    </tr>\n",
       "    <tr>\n",
       "      <th>4674</th>\n",
       "      <td>id_436</td>\n",
       "      <td>Copenhagen</td>\n",
       "      <td>['European', 'Spanish', 'Mediterranean', 'Vege...</td>\n",
       "      <td>437.0</td>\n",
       "      <td>4.0</td>\n",
       "      <td>$$ - $$$</td>\n",
       "      <td>89.0</td>\n",
       "      <td>[['Lovely restaurant', 'Great atmosphere and g...</td>\n",
       "      <td>/Restaurant_Review-g189541-d8738362-Reviews-To...</td>\n",
       "      <td>d8738362</td>\n",
       "    </tr>\n",
       "    <tr>\n",
       "      <th>6118</th>\n",
       "      <td>id_436</td>\n",
       "      <td>Oporto</td>\n",
       "      <td>['European', 'Portuguese', 'Soups', 'Cafe', 'V...</td>\n",
       "      <td>437.0</td>\n",
       "      <td>4.5</td>\n",
       "      <td>$</td>\n",
       "      <td>71.0</td>\n",
       "      <td>[['Super nice healthy and good', 'Great lunch ...</td>\n",
       "      <td>/Restaurant_Review-g189180-d9463122-Reviews-Ca...</td>\n",
       "      <td>d9463122</td>\n",
       "    </tr>\n",
       "    <tr>\n",
       "      <th>6215</th>\n",
       "      <td>id_436</td>\n",
       "      <td>Budapest</td>\n",
       "      <td>['American', 'Vegetarian Friendly', 'Vegan Opt...</td>\n",
       "      <td>437.0</td>\n",
       "      <td>4.5</td>\n",
       "      <td>$</td>\n",
       "      <td>68.0</td>\n",
       "      <td>[['Excellent', 'Best burger ever!'], ['12/05/2...</td>\n",
       "      <td>/Restaurant_Review-g274887-d10438365-Reviews-B...</td>\n",
       "      <td>d10438365</td>\n",
       "    </tr>\n",
       "    <tr>\n",
       "      <th>7377</th>\n",
       "      <td>id_436</td>\n",
       "      <td>Luxembourg</td>\n",
       "      <td>['Asian']</td>\n",
       "      <td>437.0</td>\n",
       "      <td>4.5</td>\n",
       "      <td>NaN</td>\n",
       "      <td>2.0</td>\n",
       "      <td>[['ZEN'], ['06/11/2016']]</td>\n",
       "      <td>/Restaurant_Review-g190356-d743888-Reviews-Zen...</td>\n",
       "      <td>d743888</td>\n",
       "    </tr>\n",
       "  </tbody>\n",
       "</table>\n",
       "</div>"
      ],
      "text/plain": [
       "     restaurant_id        city  \\\n",
       "2955        id_436   Barcelona   \n",
       "4674        id_436  Copenhagen   \n",
       "6118        id_436      Oporto   \n",
       "6215        id_436    Budapest   \n",
       "7377        id_436  Luxembourg   \n",
       "\n",
       "                                          cuisine_style  ranking  rating  \\\n",
       "2955  ['Seafood', 'Mediterranean', 'Spanish', 'Glute...    437.0     4.5   \n",
       "4674  ['European', 'Spanish', 'Mediterranean', 'Vege...    437.0     4.0   \n",
       "6118  ['European', 'Portuguese', 'Soups', 'Cafe', 'V...    437.0     4.5   \n",
       "6215  ['American', 'Vegetarian Friendly', 'Vegan Opt...    437.0     4.5   \n",
       "7377                                          ['Asian']    437.0     4.5   \n",
       "\n",
       "     price_range  number_of_reviews  \\\n",
       "2955    $$ - $$$              546.0   \n",
       "4674    $$ - $$$               89.0   \n",
       "6118           $               71.0   \n",
       "6215           $               68.0   \n",
       "7377         NaN                2.0   \n",
       "\n",
       "                                                reviews  \\\n",
       "2955  [['Fresh Fish', 'Perfect concept'], ['01/03/20...   \n",
       "4674  [['Lovely restaurant', 'Great atmosphere and g...   \n",
       "6118  [['Super nice healthy and good', 'Great lunch ...   \n",
       "6215  [['Excellent', 'Best burger ever!'], ['12/05/2...   \n",
       "7377                          [['ZEN'], ['06/11/2016']]   \n",
       "\n",
       "                                                 url_ta      id_ta  \n",
       "2955  /Restaurant_Review-g187497-d1592613-Reviews-La...   d1592613  \n",
       "4674  /Restaurant_Review-g189541-d8738362-Reviews-To...   d8738362  \n",
       "6118  /Restaurant_Review-g189180-d9463122-Reviews-Ca...   d9463122  \n",
       "6215  /Restaurant_Review-g274887-d10438365-Reviews-B...  d10438365  \n",
       "7377  /Restaurant_Review-g190356-d743888-Reviews-Zen...    d743888  "
      ]
     },
     "execution_count": 10,
     "metadata": {},
     "output_type": "execute_result"
    }
   ],
   "source": [
    "df[df.restaurant_id == 'id_436'].head(5)"
   ]
  },
  {
   "cell_type": "markdown",
   "metadata": {},
   "source": [
    "Рестораны одной сети имеют одинаковый restaurant_id, но разный id_ta. Стоит отметить, что у каждого ресторана одной сети - одинаковый ranking, то есть оценка распространяется на всю сеть. При этом, каждый ресторан по шкале TA имеет свой рейтинг."
   ]
  },
  {
   "cell_type": "markdown",
   "metadata": {},
   "source": [
    "Можно сформировать новый признак - количество ресторанов одной сети.\n",
    "Есть вероятность, что сетевые рестораны более известные и могут пользоваться большей популярностью.\n",
    "\n",
    "Можно сформировать новый признак - количество ресторанов одной сети. Есть вероятность, что сетевые рестораны более известные и могут пользоваться большей популярностью.\n",
    "\n",
    "Но попытки выделить этот признак лишь ухудшали результат."
   ]
  },
  {
   "cell_type": "code",
   "execution_count": 11,
   "metadata": {},
   "outputs": [],
   "source": [
    "# counts_rest = dict(df.restaurant_id.value_counts())\n",
    "# df['network'] = df.restaurant_id.apply(lambda x: counts_rest[x])"
   ]
  },
  {
   "cell_type": "code",
   "execution_count": null,
   "metadata": {},
   "outputs": [],
   "source": []
  },
  {
   "cell_type": "markdown",
   "metadata": {},
   "source": [
    "#### city — город, в котором находится ресторан;"
   ]
  },
  {
   "cell_type": "code",
   "execution_count": 12,
   "metadata": {},
   "outputs": [
    {
     "data": {
      "text/plain": [
       "<AxesSubplot:>"
      ]
     },
     "execution_count": 12,
     "metadata": {},
     "output_type": "execute_result"
    },
    {
     "data": {
      "image/png": "[encoded data removed]",
      "text/plain": [
       "<Figure size 432x288 with 1 Axes>"
      ]
     },
     "metadata": {
      "needs_background": "light"
     },
     "output_type": "display_data"
    }
   ],
   "source": [
    "df.city.value_counts().plot.bar()"
   ]
  },
  {
   "cell_type": "markdown",
   "metadata": {},
   "source": [
    "Больше всего ресторанов в Лондоне и Париже."
   ]
  },
  {
   "cell_type": "markdown",
   "metadata": {},
   "source": [
    "Используя признак сity, добавим новые - страны и население."
   ]
  },
  {
   "cell_type": "code",
   "execution_count": 13,
   "metadata": {},
   "outputs": [],
   "source": [
    "# Загружаем данные (страны и население) по нужным городам. Eсли файл отсутствует, формируем данные из интернета путём парсинга сайта www.geonames.org.\n",
    "# Ремарка. Поиск готовых и нужных чистых датасетов в этом случае (31 город), заняло бы больше времени, чем парсинг.\n",
    "try:\n",
    "    # Файл, сформированый кодом ниже. Если он отсутствует, то сайт парсится снова\n",
    "    with open('data/cities.csv', 'r') as f:\n",
    "        cities = json.load(f)\n",
    "except:\n",
    "    # Залить данные с сервиса geonames.org\n",
    "    cities = dict()\n",
    "    # Шаблон для парсинга данных в поиске страны\n",
    "    countries_tmpl = re.compile('countries\\/([\\w|-]+)\\/([\\w-]+).html\\\"\\>([\\w\\s\\-]+)\\<\\/a\\>')\n",
    "    # Шаблон для парсинга данных в поиске населения\n",
    "    population_tmpl = re.compile('population\\s([\\d\\,]+)<\\/small\\>')\n",
    "    # Выбираем нужные города из нашего датасета\n",
    "    cities_from_df = [city for city in df.city.unique()]\n",
    "    \n",
    "    for city in cities_from_df:\n",
    "        url = 'https://www.geonames.org/search.html?q={}&country='.format(city)\n",
    "        try:\n",
    "            html = requests.get(url)\n",
    "            country = None\n",
    "            population = None\n",
    "            # Если ответ успешный, парсим данные\n",
    "            if html.status_code == 200:\n",
    "                soup = BeautifulSoup (html.text, 'html.parser')\n",
    "                # Парсим таблицу с результатом, выбираем первое совпадение (наиболее релевантное)\n",
    "                match = re.search(countries_tmpl, str(soup.findAll('table', {\"class\": \"restable\"})))\n",
    "                if match:\n",
    "                    # Сохраняем в формате ('GB', 'united-kingdom', 'United Kingdom')\n",
    "                    country = match.groups()\n",
    "                    \n",
    "                    # Определяем население\n",
    "                    match = re.search(population_tmpl, str(soup.findAll('table', {\"class\": \"restable\"})))\n",
    "                    if match:\n",
    "                        population = int(match.group(1).replace(',', ''))\n",
    "                \n",
    "                    # Итоговые данные заносим в словарь\n",
    "                cities[city] = {'country': country, 'population': population}\n",
    "        except:\n",
    "            print('Error')\n",
    "        \n",
    "        # Чтобы не досить сервер, делаем маленькую паузу\n",
    "        time.sleep(0.5)\n",
    "\n",
    "    # Результат сохраняем, чтобы не дёргать ресурс повторно\n",
    "    try:\n",
    "        with open('data\\cities.csv', 'w') as write_f:\n",
    "            json.dump(cities, write_f)\n",
    "    except:\n",
    "        print('Error writing to file')"
   ]
  },
  {
   "cell_type": "code",
   "execution_count": 14,
   "metadata": {},
   "outputs": [],
   "source": [
    "# Формируем новый признак - страны\n",
    "def get_country(city):\n",
    "    \"\"\" Функция принимает на вход город, возвращает страну \"\"\"\n",
    "    if city in cities:\n",
    "        return cities[city]['country'][2]\n",
    "    else:\n",
    "        return None\n",
    "        \n",
    "df['country'] = df.city.apply(get_country)\n"
   ]
  },
  {
   "cell_type": "code",
   "execution_count": 15,
   "metadata": {},
   "outputs": [
    {
     "data": {
      "text/plain": [
       "United Kingdom    6353\n",
       "Spain             5842\n",
       "France            5789\n",
       "Italy             4211\n",
       "Germany           3997\n",
       "Portugal          1813\n",
       "Czechia           1443\n",
       "Poland            1170\n",
       "Austria           1166\n",
       "Netherlands       1086\n",
       "Belgium           1060\n",
       "Switzerland       1019\n",
       "Sweden             820\n",
       "Hungary            816\n",
       "Ireland            673\n",
       "Denmark            659\n",
       "Greece             628\n",
       "Norway             385\n",
       "Finland            376\n",
       "Slovakia           301\n",
       "Luxembourg         210\n",
       "Slovenia           183\n",
       "Name: country, dtype: int64"
      ]
     },
     "execution_count": 15,
     "metadata": {},
     "output_type": "execute_result"
    }
   ],
   "source": [
    "# Посмотрим на страны\n",
    "df.country.value_counts()"
   ]
  },
  {
   "cell_type": "code",
   "execution_count": 16,
   "metadata": {},
   "outputs": [],
   "source": [
    "# Формируем новый признак - население\n",
    "def get_population(city):\n",
    "    \"\"\" Функция принимает на вход город, возвращает количество проживающих человек \"\"\"\n",
    "    if city in cities:\n",
    "        return cities[city]['population']\n",
    "    else:\n",
    "        return None\n",
    "        \n",
    "df['population'] = df.city.apply(get_population)"
   ]
  },
  {
   "cell_type": "code",
   "execution_count": 17,
   "metadata": {},
   "outputs": [
    {
     "data": {
      "text/plain": [
       "0    2138551\n",
       "1    1515017\n",
       "2    7556900\n",
       "3    3442675\n",
       "4    1260391\n",
       "Name: population, dtype: int64"
      ]
     },
     "execution_count": 17,
     "metadata": {},
     "output_type": "execute_result"
    }
   ],
   "source": [
    "df.population.head(5)"
   ]
  },
  {
   "cell_type": "code",
   "execution_count": 18,
   "metadata": {},
   "outputs": [],
   "source": [
    "# Сформируем ещё один признак (отношение ресторанов в городе к признаку ranking)\n",
    "rest_counts = dict(df.city.value_counts())\n",
    "df['rank_k'] = df.apply(lambda x: rest_counts[x.city]/x.ranking, 1)"
   ]
  },
  {
   "cell_type": "markdown",
   "metadata": {},
   "source": [
    "Признак city не содержит пропусков. Безусловно лидирует Англия, Франция и Испания (Лондон, Париж и Мадрид). Вот куда надо ехать гурманам. На основе этого признака, мы смогли добавить несколько новых. Посмотрим, как повлияют на результат."
   ]
  },
  {
   "cell_type": "markdown",
   "metadata": {},
   "source": [
    "#### cuisine_style — кухня или кухни, к которым можно отнести блюда, предлагаемые в ресторане;"
   ]
  },
  {
   "cell_type": "code",
   "execution_count": 19,
   "metadata": {},
   "outputs": [
    {
     "name": "stdout",
     "output_type": "stream",
     "text": [
      "Всего 77% строк без пропущенных значений\n"
     ]
    }
   ],
   "source": [
    "print('Всего {}% строк без пропущенных значений'.format(round(df.cuisine_style.dropna().shape[0] / df.cuisine_style.shape[0]*100),1))"
   ]
  },
  {
   "cell_type": "code",
   "execution_count": 20,
   "metadata": {},
   "outputs": [],
   "source": [
    "# У некоторых кухонь нет значения, обозначим их Other, предварительно сохранив информацию по NaN"
   ]
  },
  {
   "cell_type": "code",
   "execution_count": 21,
   "metadata": {},
   "outputs": [],
   "source": [
    "df['cuisine_style_isNaN'] = pd.isna(df.cuisine_style).astype('uint8')\n",
    "df.cuisine_style = df.cuisine_style.fillna(\"['Other']\")"
   ]
  },
  {
   "cell_type": "markdown",
   "metadata": {},
   "source": [
    "Конвертируем перечень в список"
   ]
  },
  {
   "cell_type": "code",
   "execution_count": 22,
   "metadata": {},
   "outputs": [],
   "source": [
    "# df['cuisine_list'] = df.cuisine_style.to_list()  # у этого метода возникают пропуски"
   ]
  },
  {
   "cell_type": "code",
   "execution_count": 23,
   "metadata": {},
   "outputs": [],
   "source": [
    "def cuisines_to_list(cusines_s):\n",
    "    \"\"\" Конвертирует str в список cusines\"\"\"\n",
    "    return [cuisine.strip()[1:-1] for cuisine in cusines_s[1:-1].split(',')]"
   ]
  },
  {
   "cell_type": "code",
   "execution_count": 24,
   "metadata": {},
   "outputs": [],
   "source": [
    "# Заменяем кухни на список для удобства обработки\n",
    "# df['cuisine_list'] = df.cuisine_style.to_list() # этот метод теряет часть значений\n",
    "df['cuisine_list'] = df['cuisine_style'].apply(cuisines_to_list)"
   ]
  },
  {
   "cell_type": "code",
   "execution_count": 25,
   "metadata": {},
   "outputs": [
    {
     "data": {
      "text/plain": [
       "126"
      ]
     },
     "execution_count": 25,
     "metadata": {},
     "output_type": "execute_result"
    }
   ],
   "source": [
    "# Узнаем, какое количество представлено в датасете\n",
    "cuisines_set = set()\n",
    "for cuisines in df['cuisine_list'].dropna():\n",
    "    for cuisine in cuisines:\n",
    "        cuisines_set.add(cuisine)\n",
    "len(cuisines_set)"
   ]
  },
  {
   "cell_type": "markdown",
   "metadata": {},
   "source": [
    "Посмотрим, какая кухня представлена в наибольшем количестве ресторанов"
   ]
  },
  {
   "cell_type": "code",
   "execution_count": 26,
   "metadata": {},
   "outputs": [
    {
     "name": "stdout",
     "output_type": "stream",
     "text": [
      "Vegetarian Friendly\n"
     ]
    }
   ],
   "source": [
    "# Словарь для подсчета ресторанов используемых кухонь\n",
    "cuisines_dict = {x: 0 for x in cuisines_set}\n",
    "\n",
    "for cuisines in df['cuisine_list'].dropna():\n",
    "    for cuisine in cuisines:\n",
    "        cuisines_dict[cuisine] += 1\n",
    "\n",
    "print(max(cuisines_dict, key=lambda k: cuisines_dict[k]))"
   ]
  },
  {
   "cell_type": "code",
   "execution_count": 27,
   "metadata": {},
   "outputs": [],
   "source": [
    "# Вегетарианцы набирают популярность."
   ]
  },
  {
   "cell_type": "code",
   "execution_count": 28,
   "metadata": {},
   "outputs": [],
   "source": [
    "# Сформируем новый признак - количество кухонь, предлагаемых в ресторане\n",
    "df['cuisine_num'] = df['cuisine_list'].apply(lambda x: len(x))"
   ]
  },
  {
   "cell_type": "code",
   "execution_count": 29,
   "metadata": {},
   "outputs": [
    {
     "data": {
      "text/plain": [
       "cuisine_style    False\n",
       "cuisine_list     False\n",
       "cuisine_num      False\n",
       "dtype: bool"
      ]
     },
     "execution_count": 29,
     "metadata": {},
     "output_type": "execute_result"
    }
   ],
   "source": [
    "# Как и предпологалось, cuisine_style, cuisine_list и cuisine_num не содержат пропусков\n",
    "df[['cuisine_style', 'cuisine_list', 'cuisine_num']].isnull().any()"
   ]
  },
  {
   "cell_type": "code",
   "execution_count": 30,
   "metadata": {},
   "outputs": [
    {
     "data": {
      "text/plain": [
       "2.6224"
      ]
     },
     "execution_count": 30,
     "metadata": {},
     "output_type": "execute_result"
    }
   ],
   "source": [
    "# Сколько в среднем кухонь в ресторанах\n",
    "df.cuisine_num.mean()"
   ]
  },
  {
   "cell_type": "code",
   "execution_count": 31,
   "metadata": {},
   "outputs": [
    {
     "data": {
      "text/plain": [
       "<AxesSubplot:xlabel='cuisine_num'>"
      ]
     },
     "execution_count": 31,
     "metadata": {},
     "output_type": "execute_result"
    },
    {
     "data": {
      "image/png": "[encoded data removed]",
      "text/plain": [
       "<Figure size 432x288 with 1 Axes>"
      ]
     },
     "metadata": {
      "needs_background": "light"
     },
     "output_type": "display_data"
    }
   ],
   "source": [
    "# Посмотрим на выбросы\n",
    "sns.boxplot(df.cuisine_num)"
   ]
  },
  {
   "cell_type": "code",
   "execution_count": 32,
   "metadata": {},
   "outputs": [],
   "source": [
    "# Попытка убрать выбросы ухудшила прогноз \n",
    "# df = df[df.cuisine_num < outliers_iqr(df.cuisine_num)[1]]\n",
    "# df.cuisine_num.hist(bins=30)"
   ]
  },
  {
   "cell_type": "markdown",
   "metadata": {},
   "source": [
    "Итого, в списке представлено 126 видов кухонь, наиболее популярнае из которых - вегетарианская. Неизвестные мы обозначили как Other, тем самым избавившись от пропусков. На основе этих данных мы сформировали новый признак - количество кухонь в ресторане."
   ]
  },
  {
   "cell_type": "code",
   "execution_count": null,
   "metadata": {},
   "outputs": [],
   "source": []
  },
  {
   "cell_type": "markdown",
   "metadata": {},
   "source": [
    "#### ranking — место, которое занимает данный ресторан среди всех ресторанов своего города;"
   ]
  },
  {
   "cell_type": "code",
   "execution_count": 33,
   "metadata": {},
   "outputs": [
    {
     "data": {
      "text/plain": [
       "False"
      ]
     },
     "execution_count": 33,
     "metadata": {},
     "output_type": "execute_result"
    }
   ],
   "source": [
    "df.ranking.isna().any()"
   ]
  },
  {
   "cell_type": "code",
   "execution_count": 34,
   "metadata": {},
   "outputs": [],
   "source": [
    "# ranking не содержит пропусков"
   ]
  },
  {
   "cell_type": "code",
   "execution_count": 35,
   "metadata": {},
   "outputs": [
    {
     "data": {
      "text/plain": [
       "<AxesSubplot:>"
      ]
     },
     "execution_count": 35,
     "metadata": {},
     "output_type": "execute_result"
    },
    {
     "data": {
      "image/png": "[encoded data removed]",
      "text/plain": [
       "<Figure size 432x288 with 1 Axes>"
      ]
     },
     "metadata": {
      "needs_background": "light"
     },
     "output_type": "display_data"
    }
   ],
   "source": [
    "# Посмотрим распределение\n",
    "df.ranking.hist(bins=100)"
   ]
  },
  {
   "cell_type": "code",
   "execution_count": 36,
   "metadata": {},
   "outputs": [
    {
     "data": {
      "text/plain": [
       "2285.0"
      ]
     },
     "execution_count": 36,
     "metadata": {},
     "output_type": "execute_result"
    }
   ],
   "source": [
    "# Медиана\n",
    "df.ranking.median()"
   ]
  },
  {
   "cell_type": "code",
   "execution_count": 37,
   "metadata": {},
   "outputs": [],
   "source": [
    "# Основная часть значений до ~ 2000"
   ]
  },
  {
   "cell_type": "code",
   "execution_count": 38,
   "metadata": {},
   "outputs": [
    {
     "data": {
      "text/plain": [
       "<AxesSubplot:xlabel='ranking'>"
      ]
     },
     "execution_count": 38,
     "metadata": {},
     "output_type": "execute_result"
    },
    {
     "data": {
      "image/png": "[encoded data removed]",
      "text/plain": [
       "<Figure size 432x288 with 1 Axes>"
      ]
     },
     "metadata": {
      "needs_background": "light"
     },
     "output_type": "display_data"
    }
   ],
   "source": [
    "sns.boxplot(df.ranking)"
   ]
  },
  {
   "cell_type": "markdown",
   "metadata": {},
   "source": [
    "Данный признак не имеет пропусков, а выбросы довольно плотно представлены с правой стороны. Но его модификация сильно влияет на прогноз (пока что, в сторону ухудшения), так как этот признак единственный, кто показывает корреляцию с целевой переменной."
   ]
  },
  {
   "cell_type": "code",
   "execution_count": null,
   "metadata": {},
   "outputs": [],
   "source": []
  },
  {
   "cell_type": "markdown",
   "metadata": {},
   "source": [
    "#### rating — рейтинг ресторана по данным TripAdvisor (именно это значение должна будет предсказывать модель);"
   ]
  },
  {
   "cell_type": "code",
   "execution_count": 39,
   "metadata": {},
   "outputs": [
    {
     "data": {
      "text/plain": [
       "4.0    13692\n",
       "4.5    10929\n",
       "3.5     6824\n",
       "5.0     3879\n",
       "3.0     2955\n",
       "2.5      915\n",
       "2.0      466\n",
       "1.0      201\n",
       "1.5      139\n",
       "Name: rating, dtype: int64"
      ]
     },
     "execution_count": 39,
     "metadata": {},
     "output_type": "execute_result"
    }
   ],
   "source": [
    "# Основная часть оценок 4 - 4.5\n",
    "df.rating.value_counts()"
   ]
  },
  {
   "cell_type": "code",
   "execution_count": 40,
   "metadata": {},
   "outputs": [
    {
     "data": {
      "text/plain": [
       "<AxesSubplot:>"
      ]
     },
     "execution_count": 40,
     "metadata": {},
     "output_type": "execute_result"
    },
    {
     "data": {
      "image/png": "[encoded data removed]",
      "text/plain": [
       "<Figure size 432x288 with 1 Axes>"
      ]
     },
     "metadata": {
      "needs_background": "light"
     },
     "output_type": "display_data"
    }
   ],
   "source": [
    "df.rating.hist(bins=20)"
   ]
  },
  {
   "cell_type": "code",
   "execution_count": null,
   "metadata": {},
   "outputs": [],
   "source": []
  },
  {
   "cell_type": "markdown",
   "metadata": {},
   "source": [
    "#### price_range — диапазон цен в ресторане;"
   ]
  },
  {
   "cell_type": "code",
   "execution_count": 41,
   "metadata": {},
   "outputs": [
    {
     "data": {
      "text/plain": [
       "$$ - $$$    18412\n",
       "NaN         13886\n",
       "$            6279\n",
       "$$$$         1423\n",
       "Name: price_range, dtype: int64"
      ]
     },
     "execution_count": 41,
     "metadata": {},
     "output_type": "execute_result"
    }
   ],
   "source": [
    "df['price_range'].value_counts(dropna=False)"
   ]
  },
  {
   "cell_type": "code",
   "execution_count": 42,
   "metadata": {},
   "outputs": [
    {
     "name": "stdout",
     "output_type": "stream",
     "text": [
      "Всего 65% строк без пропущенных значений\n"
     ]
    }
   ],
   "source": [
    "print('Всего {}% строк без пропущенных значений'.format(round(df.price_range.dropna().shape[0] / df.price_range.shape[0]*100),1))"
   ]
  },
  {
   "cell_type": "code",
   "execution_count": 43,
   "metadata": {},
   "outputs": [],
   "source": [
    "# Данный признак можно привести к числовому виду, для использования в прогнозе\n",
    "price_dict = {\n",
    "    '$': 0,\n",
    "    '$$ - $$$': 1,\n",
    "    '$$$$': 2\n",
    "}\n",
    "df['price_range_upd']= df['price_range'].replace(to_replace=price_dict)\n"
   ]
  },
  {
   "cell_type": "code",
   "execution_count": 44,
   "metadata": {},
   "outputs": [
    {
     "data": {
      "text/plain": [
       "1.0    18412\n",
       "NaN    13886\n",
       "0.0     6279\n",
       "2.0     1423\n",
       "Name: price_range_upd, dtype: int64"
      ]
     },
     "execution_count": 44,
     "metadata": {},
     "output_type": "execute_result"
    }
   ],
   "source": [
    "df.price_range_upd.value_counts(dropna=False)"
   ]
  },
  {
   "cell_type": "code",
   "execution_count": 45,
   "metadata": {},
   "outputs": [],
   "source": [
    "# Сохраняем данные о пропусках\n",
    "df['price_range_upd_isNaN'] = pd.isna(df['price_range_upd']).astype('uint8')"
   ]
  },
  {
   "cell_type": "code",
   "execution_count": 46,
   "metadata": {},
   "outputs": [],
   "source": [
    "# Заполняем медианой, то есть 1\n",
    "df['price_range_upd'] = df['price_range_upd'].fillna(1)"
   ]
  },
  {
   "cell_type": "code",
   "execution_count": 47,
   "metadata": {},
   "outputs": [
    {
     "data": {
      "text/plain": [
       "<AxesSubplot:>"
      ]
     },
     "execution_count": 47,
     "metadata": {},
     "output_type": "execute_result"
    },
    {
     "data": {
      "image/png": "[encoded data removed]",
      "text/plain": [
       "<Figure size 432x288 with 1 Axes>"
      ]
     },
     "metadata": {
      "needs_background": "light"
     },
     "output_type": "display_data"
    }
   ],
   "source": [
    "df.price_range_upd.hist(bins=3)"
   ]
  },
  {
   "cell_type": "code",
   "execution_count": 48,
   "metadata": {},
   "outputs": [],
   "source": [
    "# Основную долю рынка занимают рестораны с средним ценообразованием $$ - $$$."
   ]
  },
  {
   "cell_type": "code",
   "execution_count": null,
   "metadata": {},
   "outputs": [],
   "source": []
  },
  {
   "cell_type": "markdown",
   "metadata": {},
   "source": [
    "### number_of_reviews — количество отзывов о ресторане;"
   ]
  },
  {
   "cell_type": "code",
   "execution_count": 49,
   "metadata": {},
   "outputs": [
    {
     "data": {
      "text/plain": [
       "NaN       2543\n",
       "2.0       1916\n",
       "3.0       1636\n",
       "4.0       1370\n",
       "5.0       1181\n",
       "          ... \n",
       "2123.0       1\n",
       "1633.0       1\n",
       "1480.0       1\n",
       "1924.0       1\n",
       "1383.0       1\n",
       "Name: number_of_reviews, Length: 1460, dtype: int64"
      ]
     },
     "execution_count": 49,
     "metadata": {},
     "output_type": "execute_result"
    }
   ],
   "source": [
    "df.number_of_reviews.value_counts(dropna=False)"
   ]
  },
  {
   "cell_type": "code",
   "execution_count": 50,
   "metadata": {},
   "outputs": [
    {
     "data": {
      "text/plain": [
       "<AxesSubplot:>"
      ]
     },
     "execution_count": 50,
     "metadata": {},
     "output_type": "execute_result"
    },
    {
     "data": {
      "image/png": "[encoded data removed]",
      "text/plain": [
       "<Figure size 432x288 with 1 Axes>"
      ]
     },
     "metadata": {
      "needs_background": "light"
     },
     "output_type": "display_data"
    }
   ],
   "source": [
    "df.number_of_reviews.hist(bins=100)"
   ]
  },
  {
   "cell_type": "code",
   "execution_count": 51,
   "metadata": {},
   "outputs": [
    {
     "name": "stdout",
     "output_type": "stream",
     "text": [
      "Всего 94% строк без пропущенных значений\n"
     ]
    }
   ],
   "source": [
    "print('Всего {}% строк без пропущенных значений'.format(round(df.number_of_reviews.dropna().shape[0] / df.number_of_reviews.shape[0]*100),1))"
   ]
  },
  {
   "cell_type": "code",
   "execution_count": 52,
   "metadata": {},
   "outputs": [],
   "source": [
    "# Если данных по отзывам нет, то скорее всего - молодые рестораны."
   ]
  },
  {
   "cell_type": "code",
   "execution_count": 53,
   "metadata": {},
   "outputs": [],
   "source": [
    "# Сохраняем NaN\n",
    "df['number_of_reviews_isNaN'] = pd.isna(df['number_of_reviews']).astype('uint8')"
   ]
  },
  {
   "cell_type": "code",
   "execution_count": 54,
   "metadata": {},
   "outputs": [],
   "source": [
    "# Заполним пустые значения медианой в разрезе города"
   ]
  },
  {
   "cell_type": "code",
   "execution_count": 55,
   "metadata": {},
   "outputs": [],
   "source": [
    "def median_by_city(city, column):\n",
    "    \"\"\" Вычисление медианы в разрезе города \"\"\"\n",
    "    return df[df.city == city][column].median()"
   ]
  },
  {
   "cell_type": "code",
   "execution_count": 56,
   "metadata": {},
   "outputs": [],
   "source": [
    "# Сформируем словарь значений, где ключом является город, а значением - медиана признака по этому городу\n",
    "city_median = {k: median_by_city(k, 'number_of_reviews') for k in df.city.unique() }"
   ]
  },
  {
   "cell_type": "code",
   "execution_count": 57,
   "metadata": {},
   "outputs": [
    {
     "data": {
      "text/plain": [
       "{'Paris': 46.0,\n",
       " 'Stockholm': 19.0,\n",
       " 'London': 38.0,\n",
       " 'Berlin': 16.0,\n",
       " 'Munich': 29.0,\n",
       " 'Oporto': 39.5,\n",
       " 'Milan': 50.0,\n",
       " 'Bratislava': 10.0,\n",
       " 'Vienna': 22.0,\n",
       " 'Rome': 117.0,\n",
       " 'Barcelona': 34.0,\n",
       " 'Madrid': 27.0,\n",
       " 'Dublin': 44.0,\n",
       " 'Brussels': 28.0,\n",
       " 'Zurich': 32.0,\n",
       " 'Warsaw': 17.0,\n",
       " 'Budapest': 24.0,\n",
       " 'Copenhagen': 35.0,\n",
       " 'Amsterdam': 47.0,\n",
       " 'Lyon': 31.0,\n",
       " 'Hamburg': 16.0,\n",
       " 'Lisbon': 31.0,\n",
       " 'Prague': 20.0,\n",
       " 'Oslo': 28.0,\n",
       " 'Helsinki': 20.0,\n",
       " 'Edinburgh': 73.0,\n",
       " 'Geneva': 31.0,\n",
       " 'Ljubljana': 18.5,\n",
       " 'Athens': 20.0,\n",
       " 'Luxembourg': 34.0,\n",
       " 'Krakow': 28.0}"
      ]
     },
     "execution_count": 57,
     "metadata": {},
     "output_type": "execute_result"
    }
   ],
   "source": [
    "city_median"
   ]
  },
  {
   "cell_type": "code",
   "execution_count": 58,
   "metadata": {},
   "outputs": [],
   "source": [
    "# Заполняем пустые значения\n",
    "df.number_of_reviews = df.apply(lambda x: city_median[x.city] if pd.isna(x.number_of_reviews) else x.number_of_reviews, 1)"
   ]
  },
  {
   "cell_type": "code",
   "execution_count": 59,
   "metadata": {},
   "outputs": [
    {
     "data": {
      "text/plain": [
       "<AxesSubplot:>"
      ]
     },
     "execution_count": 59,
     "metadata": {},
     "output_type": "execute_result"
    },
    {
     "data": {
      "image/png": "[encoded data removed]",
      "text/plain": [
       "<Figure size 432x288 with 1 Axes>"
      ]
     },
     "metadata": {
      "needs_background": "light"
     },
     "output_type": "display_data"
    }
   ],
   "source": [
    "df.number_of_reviews.hist(bins=100)"
   ]
  },
  {
   "cell_type": "code",
   "execution_count": 60,
   "metadata": {},
   "outputs": [
    {
     "data": {
      "text/plain": [
       "<AxesSubplot:>"
      ]
     },
     "execution_count": 60,
     "metadata": {},
     "output_type": "execute_result"
    },
    {
     "data": {
      "image/png": "[encoded data removed]",
      "text/plain": [
       "<Figure size 432x288 with 1 Axes>"
      ]
     },
     "metadata": {
      "needs_background": "light"
     },
     "output_type": "display_data"
    }
   ],
   "source": [
    "# Посмотрим как выглядит гистограмма, отфильтровав верхние выбросы\n",
    "df[df.number_of_reviews < outliers_iqr(df.number_of_reviews)[1]].number_of_reviews.hist(bins=100) "
   ]
  },
  {
   "cell_type": "code",
   "execution_count": 61,
   "metadata": {},
   "outputs": [
    {
     "data": {
      "text/plain": [
       "<AxesSubplot:xlabel='number_of_reviews'>"
      ]
     },
     "execution_count": 61,
     "metadata": {},
     "output_type": "execute_result"
    },
    {
     "data": {
      "image/png": "[encoded data removed]",
      "text/plain": [
       "<Figure size 432x288 with 1 Axes>"
      ]
     },
     "metadata": {
      "needs_background": "light"
     },
     "output_type": "display_data"
    }
   ],
   "source": [
    "sns.boxplot(df.number_of_reviews)"
   ]
  },
  {
   "cell_type": "code",
   "execution_count": 62,
   "metadata": {},
   "outputs": [],
   "source": [
    "# Жуткие выбросы"
   ]
  },
  {
   "cell_type": "code",
   "execution_count": 63,
   "metadata": {},
   "outputs": [
    {
     "data": {
      "text/plain": [
       "[-134.0, 250.0]"
      ]
     },
     "execution_count": 63,
     "metadata": {},
     "output_type": "execute_result"
    }
   ],
   "source": [
    "# Определим пороги выбросов\n",
    "outliers_iqr(df.number_of_reviews)"
   ]
  },
  {
   "cell_type": "code",
   "execution_count": 64,
   "metadata": {},
   "outputs": [
    {
     "data": {
      "text/plain": [
       "4794"
      ]
     },
     "execution_count": 64,
     "metadata": {},
     "output_type": "execute_result"
    }
   ],
   "source": [
    "# Если отсеять данные, то потеряем довольно много записей.\n",
    "len(df[df.number_of_reviews > outliers_iqr(df.number_of_reviews)[1]])"
   ]
  },
  {
   "cell_type": "markdown",
   "metadata": {},
   "source": [
    "Наибольшее количество ресторанов имеют до 50 отзывов. Количество отзывов о ресторане может служить важной информацией при прогнозировании. При этом, отсеивание выбросов такого количества может значительно повлиять на результат. Пока оставим."
   ]
  },
  {
   "cell_type": "code",
   "execution_count": null,
   "metadata": {},
   "outputs": [],
   "source": []
  },
  {
   "cell_type": "markdown",
   "metadata": {},
   "source": [
    "#### reviews — данные о двух отзывах, которые отображаются на сайте ресторана;"
   ]
  },
  {
   "cell_type": "code",
   "execution_count": 65,
   "metadata": {},
   "outputs": [
    {
     "data": {
      "text/plain": [
       "[[], []]                                                                                                      6471\n",
       "[['Good Lebanese food', 'Decent place'], ['07/19/2017', '03/17/2017']]                                           2\n",
       "[['The real codido madrileño'], ['03/31/2017']]                                                                  2\n",
       "[['Very good all around', 'Our first Madrid restaurant'], ['11/20/2017', '10/11/2017']]                          2\n",
       "[['Happened to drop in', 'Right for a quick bite'], ['11/30/2016', '06/20/2015']]                                2\n",
       "                                                                                                              ... \n",
       "[['Terrible.', 'This place has really gone downhill'], ['10/28/2017', '08/20/2017']]                             1\n",
       "[['Great atmosphere and really good service!', 'Excellent food'], ['02/26/2018', '02/23/2018']]                  1\n",
       "[['Authentic Restaurants', 'I am afraid to write a review because this...'], ['01/09/2018', '12/25/2017']]       1\n",
       "[['great place for lunch menu', 'Great pizza'], ['10/24/2017', '06/12/2017']]                                    1\n",
       "[['Good food', 'good little curry house'], ['08/11/2015', '01/13/2015']]                                         1\n",
       "Name: reviews, Length: 33516, dtype: int64"
      ]
     },
     "execution_count": 65,
     "metadata": {},
     "output_type": "execute_result"
    }
   ],
   "source": [
    "df.reviews.value_counts()"
   ]
  },
  {
   "cell_type": "code",
   "execution_count": 66,
   "metadata": {},
   "outputs": [],
   "source": [
    "# Более 6К ресторанов не имеют отзывов."
   ]
  },
  {
   "cell_type": "code",
   "execution_count": 67,
   "metadata": {},
   "outputs": [],
   "source": [
    "# Нас интересуют даты последних отзывов. Мы можем использовать фильтр, чтобы определить последнюю, или разницу между двумя датами.\n",
    "template_1dt = re.compile(\"'(\\d\\d\\/\\d\\d\\/\\d{4})'\")\n",
    "# Для вычисления дельты\n",
    "template_2dt = re.compile(\"'(\\d\\d\\/\\d\\d\\/\\d{4})', '(\\d\\d\\/\\d\\d\\/\\d{4})'\")"
   ]
  },
  {
   "cell_type": "code",
   "execution_count": 68,
   "metadata": {},
   "outputs": [],
   "source": [
    "def date_from_review(date_string):\n",
    "    \"\"\" Преобразование строки в datetime \"\"\"\n",
    "    date = datetime.strptime(date_string, '%m/%d/%Y')\n",
    "    return date"
   ]
  },
  {
   "cell_type": "code",
   "execution_count": 69,
   "metadata": {},
   "outputs": [],
   "source": [
    "def get_last_date_review(review):\n",
    "    \"\"\" Извлечение последней даты из отзыва колонки Reviews \"\"\"\n",
    "    if pd.notnull(review):\n",
    "        match = re.search(template_1dt, review)\n",
    "        if match:\n",
    "            return date_from_review(match.group(1))\n",
    "    return None"
   ]
  },
  {
   "cell_type": "code",
   "execution_count": 70,
   "metadata": {},
   "outputs": [],
   "source": [
    "# Дата последнего отзыва (первая в reviews), datetime\n",
    "df['review_last'] = df['reviews'].apply(get_last_date_review)"
   ]
  },
  {
   "cell_type": "code",
   "execution_count": 71,
   "metadata": {},
   "outputs": [
    {
     "data": {
      "text/plain": [
       "<AxesSubplot:>"
      ]
     },
     "execution_count": 71,
     "metadata": {},
     "output_type": "execute_result"
    },
    {
     "data": {
      "image/png": "[encoded data removed]",
      "text/plain": [
       "<Figure size 432x288 with 1 Axes>"
      ]
     },
     "metadata": {
      "needs_background": "light"
     },
     "output_type": "display_data"
    }
   ],
   "source": [
    "df['review_last'].hist(bins=100)"
   ]
  },
  {
   "cell_type": "code",
   "execution_count": 72,
   "metadata": {},
   "outputs": [
    {
     "data": {
      "text/plain": [
       "Timestamp('2004-04-21 00:00:00')"
      ]
     },
     "execution_count": 72,
     "metadata": {},
     "output_type": "execute_result"
    }
   ],
   "source": [
    "df['review_last'].min()"
   ]
  },
  {
   "cell_type": "code",
   "execution_count": 73,
   "metadata": {},
   "outputs": [],
   "source": [
    "# Попались рестораны с последним отзывом 2004 года. Есть вероятность, что уже и не функционируют.\n",
    "# Возможно стоит отфильтровать слишком старые, но попытка убрать - ухудшила прогноз"
   ]
  },
  {
   "cell_type": "code",
   "execution_count": 74,
   "metadata": {},
   "outputs": [],
   "source": [
    "def get_delta_review(review):\n",
    "    \"\"\" Возвращает разницу в днях между отзывами колонки Reviews \"\"\"\n",
    "    if pd.notnull(review):\n",
    "        match = re.search(template_2dt, review)\n",
    "        if match:\n",
    "            # Дата последнего отзыва\n",
    "            dt_1 = date_from_review(match.group(1))\n",
    "            # Дата предпоследнего отзыва\n",
    "            dt_2 = date_from_review(match.group(2))\n",
    "            # Дельта\n",
    "            delta = np.abs(dt_1 - dt_2)\n",
    "            return delta.days\n",
    "    # Есть признаки, где только одна дата. Поэтому, получим больше None.\n",
    "    return None"
   ]
  },
  {
   "cell_type": "code",
   "execution_count": 75,
   "metadata": {},
   "outputs": [],
   "source": [
    "# Разница между отзывами (в днях)\n",
    "df['review_delta'] = df['reviews'].apply(get_delta_review)"
   ]
  },
  {
   "cell_type": "code",
   "execution_count": 76,
   "metadata": {},
   "outputs": [
    {
     "data": {
      "text/plain": [
       "<AxesSubplot:>"
      ]
     },
     "execution_count": 76,
     "metadata": {},
     "output_type": "execute_result"
    },
    {
     "data": {
      "image/png": "[encoded data removed]",
      "text/plain": [
       "<Figure size 432x288 with 1 Axes>"
      ]
     },
     "metadata": {
      "needs_background": "light"
     },
     "output_type": "display_data"
    }
   ],
   "source": [
    "df['review_delta'].hist(bins=100)"
   ]
  },
  {
   "cell_type": "code",
   "execution_count": 77,
   "metadata": {},
   "outputs": [
    {
     "data": {
      "text/plain": [
       "<AxesSubplot:>"
      ]
     },
     "execution_count": 77,
     "metadata": {},
     "output_type": "execute_result"
    },
    {
     "data": {
      "image/png": "[encoded data removed]",
      "text/plain": [
       "<Figure size 432x288 with 1 Axes>"
      ]
     },
     "metadata": {
      "needs_background": "light"
     },
     "output_type": "display_data"
    }
   ],
   "source": [
    "# Чуть увеличим\n",
    "df[df.review_delta < outliers_iqr(df.review_delta.dropna())[1]].review_delta.hist(bins=100)"
   ]
  },
  {
   "cell_type": "code",
   "execution_count": 78,
   "metadata": {},
   "outputs": [],
   "source": [
    "# Заполним NaN медианой\n",
    "review_delta_median = df['review_delta'].median()"
   ]
  },
  {
   "cell_type": "code",
   "execution_count": 79,
   "metadata": {},
   "outputs": [],
   "source": [
    "# Сохраним значения NaN отдельно\n",
    "df['review_delta_isNaN'] = pd.isnull(df.review_delta).astype('uint8')"
   ]
  },
  {
   "cell_type": "code",
   "execution_count": 80,
   "metadata": {},
   "outputs": [],
   "source": [
    "# Заменяем медианой\n",
    "df['review_delta'].fillna(review_delta_median, inplace=True)"
   ]
  },
  {
   "cell_type": "code",
   "execution_count": 81,
   "metadata": {},
   "outputs": [
    {
     "data": {
      "text/plain": [
       "<AxesSubplot:>"
      ]
     },
     "execution_count": 81,
     "metadata": {},
     "output_type": "execute_result"
    },
    {
     "data": {
      "image/png": "[encoded data removed]",
      "text/plain": [
       "<Figure size 432x288 with 1 Axes>"
      ]
     },
     "metadata": {
      "needs_background": "light"
     },
     "output_type": "display_data"
    }
   ],
   "source": [
    "df['review_delta'].hist(bins=100)"
   ]
  },
  {
   "cell_type": "markdown",
   "metadata": {},
   "source": [
    "Посчитаем разницу между последним отзывом и текущем временем."
   ]
  },
  {
   "cell_type": "code",
   "execution_count": 82,
   "metadata": {},
   "outputs": [],
   "source": [
    "# Зафиксируем дату, чтобы получать относительно стабильный результат\n",
    "today = datetime(2020, 10, 18)"
   ]
  },
  {
   "cell_type": "code",
   "execution_count": 83,
   "metadata": {},
   "outputs": [],
   "source": [
    "def review_diff_now(date_review):\n",
    "    \"\"\" Возвращает разницу последнего отзыва с настоящим временем, в днях \"\"\"\n",
    "    delta = today - date_review\n",
    "    return delta.days"
   ]
  },
  {
   "cell_type": "code",
   "execution_count": 84,
   "metadata": {},
   "outputs": [],
   "source": [
    "df['reviews_last_diff'] = df.apply(lambda x: review_diff_now(x['review_last']), 1)"
   ]
  },
  {
   "cell_type": "code",
   "execution_count": 85,
   "metadata": {},
   "outputs": [
    {
     "data": {
      "text/plain": [
       "NaN       6471\n",
       "1015.0     486\n",
       "1019.0     433\n",
       "1016.0     396\n",
       "1014.0     377\n",
       "          ... \n",
       "2786.0       1\n",
       "2472.0       1\n",
       "2484.0       1\n",
       "3344.0       1\n",
       "2859.0       1\n",
       "Name: reviews_last_diff, Length: 1881, dtype: int64"
      ]
     },
     "execution_count": 85,
     "metadata": {},
     "output_type": "execute_result"
    }
   ],
   "source": [
    "df['reviews_last_diff'].value_counts(dropna=False)"
   ]
  },
  {
   "cell_type": "code",
   "execution_count": 86,
   "metadata": {},
   "outputs": [],
   "source": [
    "# Избавимся от NaN, предварительно сохранив о них информацию\n",
    "df['reviews_last_diff_isNaN'] = pd.isna(df.reviews_last_diff).astype('uint8')"
   ]
  },
  {
   "cell_type": "code",
   "execution_count": 87,
   "metadata": {},
   "outputs": [],
   "source": [
    "# Заполним max\n",
    "df.reviews_last_diff = df.reviews_last_diff.fillna(df.reviews_last_diff.max())"
   ]
  },
  {
   "cell_type": "code",
   "execution_count": 88,
   "metadata": {},
   "outputs": [
    {
     "data": {
      "text/plain": [
       "<AxesSubplot:>"
      ]
     },
     "execution_count": 88,
     "metadata": {},
     "output_type": "execute_result"
    },
    {
     "data": {
      "image/png": "[encoded data removed]",
      "text/plain": [
       "<Figure size 432x288 with 1 Axes>"
      ]
     },
     "metadata": {
      "needs_background": "light"
     },
     "output_type": "display_data"
    }
   ],
   "source": [
    "# Образовались аутсайдеры\n",
    "df.reviews_last_diff.hist(bins=100)"
   ]
  },
  {
   "cell_type": "markdown",
   "metadata": {},
   "source": [
    "Много отзывов отсутствует, многие содержат только одну дату. Мы постарались извлечь из этого информацию, сформировав два новых признака: Дельта от последнего отзыва до текущих дней и разницу между двумя ближайшими последними отзывами.\n",
    "\n",
    "\n"
   ]
  },
  {
   "cell_type": "code",
   "execution_count": null,
   "metadata": {},
   "outputs": [],
   "source": []
  },
  {
   "cell_type": "markdown",
   "metadata": {},
   "source": [
    "### id_ta — идентификатор ресторана в базе данных TripAdvisor."
   ]
  },
  {
   "cell_type": "code",
   "execution_count": 89,
   "metadata": {},
   "outputs": [
    {
     "data": {
      "text/plain": [
       "d7342803     2\n",
       "d13002276    2\n",
       "d9877640     2\n",
       "d7337366     2\n",
       "d9802625     2\n",
       "            ..\n",
       "d1554191     1\n",
       "d4988076     1\n",
       "d8729343     1\n",
       "d12447364    1\n",
       "d10061930    1\n",
       "Name: id_ta, Length: 39980, dtype: int64"
      ]
     },
     "execution_count": 89,
     "metadata": {},
     "output_type": "execute_result"
    }
   ],
   "source": [
    "df.id_ta.value_counts()"
   ]
  },
  {
   "cell_type": "code",
   "execution_count": 90,
   "metadata": {},
   "outputs": [
    {
     "data": {
      "text/html": [
       "<div>\n",
       "<style scoped>\n",
       "    .dataframe tbody tr th:only-of-type {\n",
       "        vertical-align: middle;\n",
       "    }\n",
       "\n",
       "    .dataframe tbody tr th {\n",
       "        vertical-align: top;\n",
       "    }\n",
       "\n",
       "    .dataframe thead th {\n",
       "        text-align: right;\n",
       "    }\n",
       "</style>\n",
       "<table border=\"1\" class=\"dataframe\">\n",
       "  <thead>\n",
       "    <tr style=\"text-align: right;\">\n",
       "      <th></th>\n",
       "      <th>restaurant_id</th>\n",
       "      <th>city</th>\n",
       "      <th>cuisine_style</th>\n",
       "      <th>ranking</th>\n",
       "      <th>rating</th>\n",
       "      <th>price_range</th>\n",
       "      <th>number_of_reviews</th>\n",
       "      <th>reviews</th>\n",
       "      <th>url_ta</th>\n",
       "      <th>id_ta</th>\n",
       "      <th>...</th>\n",
       "      <th>cuisine_list</th>\n",
       "      <th>cuisine_num</th>\n",
       "      <th>price_range_upd</th>\n",
       "      <th>price_range_upd_isNaN</th>\n",
       "      <th>number_of_reviews_isNaN</th>\n",
       "      <th>review_last</th>\n",
       "      <th>review_delta</th>\n",
       "      <th>review_delta_isNaN</th>\n",
       "      <th>reviews_last_diff</th>\n",
       "      <th>reviews_last_diff_isNaN</th>\n",
       "    </tr>\n",
       "  </thead>\n",
       "  <tbody>\n",
       "    <tr>\n",
       "      <th>13942</th>\n",
       "      <td>id_1103</td>\n",
       "      <td>Madrid</td>\n",
       "      <td>['Spanish']</td>\n",
       "      <td>1104.0</td>\n",
       "      <td>4.5</td>\n",
       "      <td>$$ - $$$</td>\n",
       "      <td>73.0</td>\n",
       "      <td>[['ok for beer, not for dinner'], ['12/20/2017']]</td>\n",
       "      <td>/Restaurant_Review-g187514-d8753348-Reviews-Tr...</td>\n",
       "      <td>d8753348</td>\n",
       "      <td>...</td>\n",
       "      <td>[Spanish]</td>\n",
       "      <td>1</td>\n",
       "      <td>1.0</td>\n",
       "      <td>0</td>\n",
       "      <td>0</td>\n",
       "      <td>2017-12-20</td>\n",
       "      <td>67.0</td>\n",
       "      <td>1</td>\n",
       "      <td>1033.0</td>\n",
       "      <td>0</td>\n",
       "    </tr>\n",
       "    <tr>\n",
       "      <th>31238</th>\n",
       "      <td>id_1212</td>\n",
       "      <td>Madrid</td>\n",
       "      <td>['Spanish']</td>\n",
       "      <td>1213.0</td>\n",
       "      <td>4.5</td>\n",
       "      <td>$$ - $$$</td>\n",
       "      <td>73.0</td>\n",
       "      <td>[['ok for beer, not for dinner'], ['12/20/2017']]</td>\n",
       "      <td>/Restaurant_Review-g187514-d8753348-Reviews-Tr...</td>\n",
       "      <td>d8753348</td>\n",
       "      <td>...</td>\n",
       "      <td>[Spanish]</td>\n",
       "      <td>1</td>\n",
       "      <td>1.0</td>\n",
       "      <td>0</td>\n",
       "      <td>0</td>\n",
       "      <td>2017-12-20</td>\n",
       "      <td>67.0</td>\n",
       "      <td>1</td>\n",
       "      <td>1033.0</td>\n",
       "      <td>0</td>\n",
       "    </tr>\n",
       "  </tbody>\n",
       "</table>\n",
       "<p>2 rows × 24 columns</p>\n",
       "</div>"
      ],
      "text/plain": [
       "      restaurant_id    city cuisine_style  ranking  rating price_range  \\\n",
       "13942       id_1103  Madrid   ['Spanish']   1104.0     4.5    $$ - $$$   \n",
       "31238       id_1212  Madrid   ['Spanish']   1213.0     4.5    $$ - $$$   \n",
       "\n",
       "       number_of_reviews                                            reviews  \\\n",
       "13942               73.0  [['ok for beer, not for dinner'], ['12/20/2017']]   \n",
       "31238               73.0  [['ok for beer, not for dinner'], ['12/20/2017']]   \n",
       "\n",
       "                                                  url_ta     id_ta  ...  \\\n",
       "13942  /Restaurant_Review-g187514-d8753348-Reviews-Tr...  d8753348  ...   \n",
       "31238  /Restaurant_Review-g187514-d8753348-Reviews-Tr...  d8753348  ...   \n",
       "\n",
       "      cuisine_list  cuisine_num  price_range_upd  price_range_upd_isNaN  \\\n",
       "13942    [Spanish]            1              1.0                      0   \n",
       "31238    [Spanish]            1              1.0                      0   \n",
       "\n",
       "      number_of_reviews_isNaN  review_last  review_delta  review_delta_isNaN  \\\n",
       "13942                       0   2017-12-20          67.0                   1   \n",
       "31238                       0   2017-12-20          67.0                   1   \n",
       "\n",
       "       reviews_last_diff reviews_last_diff_isNaN  \n",
       "13942             1033.0                       0  \n",
       "31238             1033.0                       0  \n",
       "\n",
       "[2 rows x 24 columns]"
      ]
     },
     "execution_count": 90,
     "metadata": {},
     "output_type": "execute_result"
    }
   ],
   "source": [
    "df[df.id_ta == 'd8753348']"
   ]
  },
  {
   "cell_type": "code",
   "execution_count": 91,
   "metadata": {},
   "outputs": [],
   "source": [
    "# Похоже, что есть незначительные ошибки в данных этого признака. Удаляем дубликаты."
   ]
  },
  {
   "cell_type": "code",
   "execution_count": null,
   "metadata": {},
   "outputs": [],
   "source": []
  },
  {
   "cell_type": "code",
   "execution_count": 92,
   "metadata": {},
   "outputs": [
    {
     "data": {
      "text/html": [
       "<div>\n",
       "<style scoped>\n",
       "    .dataframe tbody tr th:only-of-type {\n",
       "        vertical-align: middle;\n",
       "    }\n",
       "\n",
       "    .dataframe tbody tr th {\n",
       "        vertical-align: top;\n",
       "    }\n",
       "\n",
       "    .dataframe thead th {\n",
       "        text-align: right;\n",
       "    }\n",
       "</style>\n",
       "<table border=\"1\" class=\"dataframe\">\n",
       "  <thead>\n",
       "    <tr style=\"text-align: right;\">\n",
       "      <th></th>\n",
       "      <th>ranking</th>\n",
       "      <th>rating</th>\n",
       "      <th>number_of_reviews</th>\n",
       "      <th>population</th>\n",
       "      <th>rank_k</th>\n",
       "      <th>cuisine_style_isNaN</th>\n",
       "      <th>cuisine_num</th>\n",
       "      <th>price_range_upd</th>\n",
       "      <th>price_range_upd_isNaN</th>\n",
       "      <th>number_of_reviews_isNaN</th>\n",
       "      <th>review_delta</th>\n",
       "      <th>review_delta_isNaN</th>\n",
       "      <th>reviews_last_diff</th>\n",
       "      <th>reviews_last_diff_isNaN</th>\n",
       "    </tr>\n",
       "  </thead>\n",
       "  <tbody>\n",
       "    <tr>\n",
       "      <th>ranking</th>\n",
       "      <td>1.000000</td>\n",
       "      <td>-0.368371</td>\n",
       "      <td>-0.218678</td>\n",
       "      <td>0.559914</td>\n",
       "      <td>-0.060076</td>\n",
       "      <td>0.147995</td>\n",
       "      <td>-0.320250</td>\n",
       "      <td>-0.026525</td>\n",
       "      <td>0.233043</td>\n",
       "      <td>0.094078</td>\n",
       "      <td>0.091467</td>\n",
       "      <td>0.148478</td>\n",
       "      <td>0.138724</td>\n",
       "      <td>0.106386</td>\n",
       "    </tr>\n",
       "    <tr>\n",
       "      <th>rating</th>\n",
       "      <td>-0.368371</td>\n",
       "      <td>1.000000</td>\n",
       "      <td>0.027849</td>\n",
       "      <td>-0.037007</td>\n",
       "      <td>0.057244</td>\n",
       "      <td>-0.038263</td>\n",
       "      <td>0.120059</td>\n",
       "      <td>-0.028588</td>\n",
       "      <td>-0.064567</td>\n",
       "      <td>0.008386</td>\n",
       "      <td>-0.070799</td>\n",
       "      <td>-0.014332</td>\n",
       "      <td>-0.041325</td>\n",
       "      <td>-0.024727</td>\n",
       "    </tr>\n",
       "    <tr>\n",
       "      <th>number_of_reviews</th>\n",
       "      <td>-0.218678</td>\n",
       "      <td>0.027849</td>\n",
       "      <td>1.000000</td>\n",
       "      <td>-0.006783</td>\n",
       "      <td>0.119255</td>\n",
       "      <td>-0.196823</td>\n",
       "      <td>0.401719</td>\n",
       "      <td>0.108577</td>\n",
       "      <td>-0.260214</td>\n",
       "      <td>-0.078522</td>\n",
       "      <td>-0.127777</td>\n",
       "      <td>-0.215481</td>\n",
       "      <td>-0.188839</td>\n",
       "      <td>-0.154844</td>\n",
       "    </tr>\n",
       "    <tr>\n",
       "      <th>population</th>\n",
       "      <td>0.559914</td>\n",
       "      <td>-0.037007</td>\n",
       "      <td>-0.006783</td>\n",
       "      <td>1.000000</td>\n",
       "      <td>0.007217</td>\n",
       "      <td>-0.029095</td>\n",
       "      <td>0.022272</td>\n",
       "      <td>-0.000935</td>\n",
       "      <td>-0.025612</td>\n",
       "      <td>0.001363</td>\n",
       "      <td>-0.039528</td>\n",
       "      <td>-0.137550</td>\n",
       "      <td>-0.134724</td>\n",
       "      <td>-0.126453</td>\n",
       "    </tr>\n",
       "    <tr>\n",
       "      <th>rank_k</th>\n",
       "      <td>-0.060076</td>\n",
       "      <td>0.057244</td>\n",
       "      <td>0.119255</td>\n",
       "      <td>0.007217</td>\n",
       "      <td>1.000000</td>\n",
       "      <td>-0.034501</td>\n",
       "      <td>0.087315</td>\n",
       "      <td>0.034342</td>\n",
       "      <td>-0.045752</td>\n",
       "      <td>-0.016948</td>\n",
       "      <td>-0.033120</td>\n",
       "      <td>-0.038927</td>\n",
       "      <td>-0.035560</td>\n",
       "      <td>-0.027916</td>\n",
       "    </tr>\n",
       "    <tr>\n",
       "      <th>cuisine_style_isNaN</th>\n",
       "      <td>0.147995</td>\n",
       "      <td>-0.038263</td>\n",
       "      <td>-0.196823</td>\n",
       "      <td>-0.029095</td>\n",
       "      <td>-0.034501</td>\n",
       "      <td>1.000000</td>\n",
       "      <td>-0.490787</td>\n",
       "      <td>0.158268</td>\n",
       "      <td>0.753881</td>\n",
       "      <td>0.186118</td>\n",
       "      <td>0.042113</td>\n",
       "      <td>0.359266</td>\n",
       "      <td>0.295445</td>\n",
       "      <td>0.272140</td>\n",
       "    </tr>\n",
       "    <tr>\n",
       "      <th>cuisine_num</th>\n",
       "      <td>-0.320250</td>\n",
       "      <td>0.120059</td>\n",
       "      <td>0.401719</td>\n",
       "      <td>0.022272</td>\n",
       "      <td>0.087315</td>\n",
       "      <td>-0.490787</td>\n",
       "      <td>1.000000</td>\n",
       "      <td>0.003177</td>\n",
       "      <td>-0.566692</td>\n",
       "      <td>-0.175335</td>\n",
       "      <td>-0.184014</td>\n",
       "      <td>-0.393607</td>\n",
       "      <td>-0.341548</td>\n",
       "      <td>-0.286146</td>\n",
       "    </tr>\n",
       "    <tr>\n",
       "      <th>price_range_upd</th>\n",
       "      <td>-0.026525</td>\n",
       "      <td>-0.028588</td>\n",
       "      <td>0.108577</td>\n",
       "      <td>-0.000935</td>\n",
       "      <td>0.034342</td>\n",
       "      <td>0.158268</td>\n",
       "      <td>0.003177</td>\n",
       "      <td>1.000000</td>\n",
       "      <td>0.209937</td>\n",
       "      <td>0.040268</td>\n",
       "      <td>-0.030718</td>\n",
       "      <td>0.063775</td>\n",
       "      <td>0.080107</td>\n",
       "      <td>0.079144</td>\n",
       "    </tr>\n",
       "    <tr>\n",
       "      <th>price_range_upd_isNaN</th>\n",
       "      <td>0.233043</td>\n",
       "      <td>-0.064567</td>\n",
       "      <td>-0.260214</td>\n",
       "      <td>-0.025612</td>\n",
       "      <td>-0.045752</td>\n",
       "      <td>0.753881</td>\n",
       "      <td>-0.566692</td>\n",
       "      <td>0.209937</td>\n",
       "      <td>1.000000</td>\n",
       "      <td>0.266923</td>\n",
       "      <td>0.074536</td>\n",
       "      <td>0.514967</td>\n",
       "      <td>0.460253</td>\n",
       "      <td>0.414213</td>\n",
       "    </tr>\n",
       "    <tr>\n",
       "      <th>number_of_reviews_isNaN</th>\n",
       "      <td>0.094078</td>\n",
       "      <td>0.008386</td>\n",
       "      <td>-0.078522</td>\n",
       "      <td>0.001363</td>\n",
       "      <td>-0.016948</td>\n",
       "      <td>0.186118</td>\n",
       "      <td>-0.175335</td>\n",
       "      <td>0.040268</td>\n",
       "      <td>0.266923</td>\n",
       "      <td>1.000000</td>\n",
       "      <td>-0.073761</td>\n",
       "      <td>0.422352</td>\n",
       "      <td>0.343832</td>\n",
       "      <td>0.329887</td>\n",
       "    </tr>\n",
       "    <tr>\n",
       "      <th>review_delta</th>\n",
       "      <td>0.091467</td>\n",
       "      <td>-0.070799</td>\n",
       "      <td>-0.127777</td>\n",
       "      <td>-0.039528</td>\n",
       "      <td>-0.033120</td>\n",
       "      <td>0.042113</td>\n",
       "      <td>-0.184014</td>\n",
       "      <td>-0.030718</td>\n",
       "      <td>0.074536</td>\n",
       "      <td>-0.073761</td>\n",
       "      <td>1.000000</td>\n",
       "      <td>-0.174644</td>\n",
       "      <td>-0.098945</td>\n",
       "      <td>-0.124365</td>\n",
       "    </tr>\n",
       "    <tr>\n",
       "      <th>review_delta_isNaN</th>\n",
       "      <td>0.148478</td>\n",
       "      <td>-0.014332</td>\n",
       "      <td>-0.215481</td>\n",
       "      <td>-0.137550</td>\n",
       "      <td>-0.038927</td>\n",
       "      <td>0.359266</td>\n",
       "      <td>-0.393607</td>\n",
       "      <td>0.063775</td>\n",
       "      <td>0.514967</td>\n",
       "      <td>0.422352</td>\n",
       "      <td>-0.174644</td>\n",
       "      <td>1.000000</td>\n",
       "      <td>0.749486</td>\n",
       "      <td>0.712104</td>\n",
       "    </tr>\n",
       "    <tr>\n",
       "      <th>reviews_last_diff</th>\n",
       "      <td>0.138724</td>\n",
       "      <td>-0.041325</td>\n",
       "      <td>-0.188839</td>\n",
       "      <td>-0.134724</td>\n",
       "      <td>-0.035560</td>\n",
       "      <td>0.295445</td>\n",
       "      <td>-0.341548</td>\n",
       "      <td>0.080107</td>\n",
       "      <td>0.460253</td>\n",
       "      <td>0.343832</td>\n",
       "      <td>-0.098945</td>\n",
       "      <td>0.749486</td>\n",
       "      <td>1.000000</td>\n",
       "      <td>0.982563</td>\n",
       "    </tr>\n",
       "    <tr>\n",
       "      <th>reviews_last_diff_isNaN</th>\n",
       "      <td>0.106386</td>\n",
       "      <td>-0.024727</td>\n",
       "      <td>-0.154844</td>\n",
       "      <td>-0.126453</td>\n",
       "      <td>-0.027916</td>\n",
       "      <td>0.272140</td>\n",
       "      <td>-0.286146</td>\n",
       "      <td>0.079144</td>\n",
       "      <td>0.414213</td>\n",
       "      <td>0.329887</td>\n",
       "      <td>-0.124365</td>\n",
       "      <td>0.712104</td>\n",
       "      <td>0.982563</td>\n",
       "      <td>1.000000</td>\n",
       "    </tr>\n",
       "  </tbody>\n",
       "</table>\n",
       "</div>"
      ],
      "text/plain": [
       "                          ranking    rating  number_of_reviews  population  \\\n",
       "ranking                  1.000000 -0.368371          -0.218678    0.559914   \n",
       "rating                  -0.368371  1.000000           0.027849   -0.037007   \n",
       "number_of_reviews       -0.218678  0.027849           1.000000   -0.006783   \n",
       "population               0.559914 -0.037007          -0.006783    1.000000   \n",
       "rank_k                  -0.060076  0.057244           0.119255    0.007217   \n",
       "cuisine_style_isNaN      0.147995 -0.038263          -0.196823   -0.029095   \n",
       "cuisine_num             -0.320250  0.120059           0.401719    0.022272   \n",
       "price_range_upd         -0.026525 -0.028588           0.108577   -0.000935   \n",
       "price_range_upd_isNaN    0.233043 -0.064567          -0.260214   -0.025612   \n",
       "number_of_reviews_isNaN  0.094078  0.008386          -0.078522    0.001363   \n",
       "review_delta             0.091467 -0.070799          -0.127777   -0.039528   \n",
       "review_delta_isNaN       0.148478 -0.014332          -0.215481   -0.137550   \n",
       "reviews_last_diff        0.138724 -0.041325          -0.188839   -0.134724   \n",
       "reviews_last_diff_isNaN  0.106386 -0.024727          -0.154844   -0.126453   \n",
       "\n",
       "                           rank_k  cuisine_style_isNaN  cuisine_num  \\\n",
       "ranking                 -0.060076             0.147995    -0.320250   \n",
       "rating                   0.057244            -0.038263     0.120059   \n",
       "number_of_reviews        0.119255            -0.196823     0.401719   \n",
       "population               0.007217            -0.029095     0.022272   \n",
       "rank_k                   1.000000            -0.034501     0.087315   \n",
       "cuisine_style_isNaN     -0.034501             1.000000    -0.490787   \n",
       "cuisine_num              0.087315            -0.490787     1.000000   \n",
       "price_range_upd          0.034342             0.158268     0.003177   \n",
       "price_range_upd_isNaN   -0.045752             0.753881    -0.566692   \n",
       "number_of_reviews_isNaN -0.016948             0.186118    -0.175335   \n",
       "review_delta            -0.033120             0.042113    -0.184014   \n",
       "review_delta_isNaN      -0.038927             0.359266    -0.393607   \n",
       "reviews_last_diff       -0.035560             0.295445    -0.341548   \n",
       "reviews_last_diff_isNaN -0.027916             0.272140    -0.286146   \n",
       "\n",
       "                         price_range_upd  price_range_upd_isNaN  \\\n",
       "ranking                        -0.026525               0.233043   \n",
       "rating                         -0.028588              -0.064567   \n",
       "number_of_reviews               0.108577              -0.260214   \n",
       "population                     -0.000935              -0.025612   \n",
       "rank_k                          0.034342              -0.045752   \n",
       "cuisine_style_isNaN             0.158268               0.753881   \n",
       "cuisine_num                     0.003177              -0.566692   \n",
       "price_range_upd                 1.000000               0.209937   \n",
       "price_range_upd_isNaN           0.209937               1.000000   \n",
       "number_of_reviews_isNaN         0.040268               0.266923   \n",
       "review_delta                   -0.030718               0.074536   \n",
       "review_delta_isNaN              0.063775               0.514967   \n",
       "reviews_last_diff               0.080107               0.460253   \n",
       "reviews_last_diff_isNaN         0.079144               0.414213   \n",
       "\n",
       "                         number_of_reviews_isNaN  review_delta  \\\n",
       "ranking                                 0.094078      0.091467   \n",
       "rating                                  0.008386     -0.070799   \n",
       "number_of_reviews                      -0.078522     -0.127777   \n",
       "population                              0.001363     -0.039528   \n",
       "rank_k                                 -0.016948     -0.033120   \n",
       "cuisine_style_isNaN                     0.186118      0.042113   \n",
       "cuisine_num                            -0.175335     -0.184014   \n",
       "price_range_upd                         0.040268     -0.030718   \n",
       "price_range_upd_isNaN                   0.266923      0.074536   \n",
       "number_of_reviews_isNaN                 1.000000     -0.073761   \n",
       "review_delta                           -0.073761      1.000000   \n",
       "review_delta_isNaN                      0.422352     -0.174644   \n",
       "reviews_last_diff                       0.343832     -0.098945   \n",
       "reviews_last_diff_isNaN                 0.329887     -0.124365   \n",
       "\n",
       "                         review_delta_isNaN  reviews_last_diff  \\\n",
       "ranking                            0.148478           0.138724   \n",
       "rating                            -0.014332          -0.041325   \n",
       "number_of_reviews                 -0.215481          -0.188839   \n",
       "population                        -0.137550          -0.134724   \n",
       "rank_k                            -0.038927          -0.035560   \n",
       "cuisine_style_isNaN                0.359266           0.295445   \n",
       "cuisine_num                       -0.393607          -0.341548   \n",
       "price_range_upd                    0.063775           0.080107   \n",
       "price_range_upd_isNaN              0.514967           0.460253   \n",
       "number_of_reviews_isNaN            0.422352           0.343832   \n",
       "review_delta                      -0.174644          -0.098945   \n",
       "review_delta_isNaN                 1.000000           0.749486   \n",
       "reviews_last_diff                  0.749486           1.000000   \n",
       "reviews_last_diff_isNaN            0.712104           0.982563   \n",
       "\n",
       "                         reviews_last_diff_isNaN  \n",
       "ranking                                 0.106386  \n",
       "rating                                 -0.024727  \n",
       "number_of_reviews                      -0.154844  \n",
       "population                             -0.126453  \n",
       "rank_k                                 -0.027916  \n",
       "cuisine_style_isNaN                     0.272140  \n",
       "cuisine_num                            -0.286146  \n",
       "price_range_upd                         0.079144  \n",
       "price_range_upd_isNaN                   0.414213  \n",
       "number_of_reviews_isNaN                 0.329887  \n",
       "review_delta                           -0.124365  \n",
       "review_delta_isNaN                      0.712104  \n",
       "reviews_last_diff                       0.982563  \n",
       "reviews_last_diff_isNaN                 1.000000  "
      ]
     },
     "execution_count": 92,
     "metadata": {},
     "output_type": "execute_result"
    }
   ],
   "source": [
    "# Мало признаков коррелирующие с целевой переменной. Но многие, лучше коррелируют с ranking.\n",
    "df.corr()"
   ]
  },
  {
   "cell_type": "code",
   "execution_count": null,
   "metadata": {},
   "outputs": [],
   "source": []
  },
  {
   "cell_type": "code",
   "execution_count": 93,
   "metadata": {},
   "outputs": [],
   "source": [
    "# Создаем dummy переменные из признака city\n",
    "data_with_dummies = pd.get_dummies(df, columns=['city'], dtype=float)"
   ]
  },
  {
   "cell_type": "code",
   "execution_count": 94,
   "metadata": {},
   "outputs": [],
   "source": [
    "# Подчищаем, удалем признаки object и datetime\n",
    "object_columns = [x for x in data_with_dummies.columns if str(data_with_dummies[x].dtypes) == 'object' or str(data_with_dummies[x].dtypes) == 'datetime64[ns]']\n",
    "data_with_dummies = data_with_dummies.drop(object_columns, axis=1)"
   ]
  },
  {
   "cell_type": "code",
   "execution_count": null,
   "metadata": {},
   "outputs": [],
   "source": []
  },
  {
   "cell_type": "code",
   "execution_count": 95,
   "metadata": {},
   "outputs": [
    {
     "data": {
      "text/plain": [
       "<AxesSubplot:>"
      ]
     },
     "execution_count": 95,
     "metadata": {},
     "output_type": "execute_result"
    },
    {
     "data": {
      "image/png": "[encoded data removed]",
      "text/plain": [
       "<Figure size 432x288 with 2 Axes>"
      ]
     },
     "metadata": {
      "needs_background": "light"
     },
     "output_type": "display_data"
    }
   ],
   "source": [
    "sns.heatmap(data_with_dummies.corr(method=\"pearson\"))"
   ]
  },
  {
   "cell_type": "code",
   "execution_count": 96,
   "metadata": {},
   "outputs": [],
   "source": [
    "# Нормализация признаков"
   ]
  },
  {
   "cell_type": "code",
   "execution_count": 97,
   "metadata": {},
   "outputs": [],
   "source": [
    "# from sklearn.preprocessing import StandardScaler\n",
    "# scaler = StandardScaler()"
   ]
  },
  {
   "cell_type": "code",
   "execution_count": 98,
   "metadata": {},
   "outputs": [],
   "source": [
    "# for col in data_with_dummies.columns:\n",
    "#    if col not in ['rating']:\n",
    "#        data_with_dummies[col] = scaler.fit_transform(pd.DataFrame(data_with_dummies[col]))"
   ]
  },
  {
   "cell_type": "code",
   "execution_count": null,
   "metadata": {},
   "outputs": [],
   "source": []
  },
  {
   "cell_type": "markdown",
   "metadata": {},
   "source": [
    "## Разбиваем датафрейм на части, необходимые для обучения и тестирования модели"
   ]
  },
  {
   "cell_type": "code",
   "execution_count": 99,
   "metadata": {},
   "outputs": [],
   "source": [
    "X = data_with_dummies.drop(['rating'], axis = 1)\n",
    "y = data_with_dummies['rating']"
   ]
  },
  {
   "cell_type": "code",
   "execution_count": 100,
   "metadata": {},
   "outputs": [],
   "source": [
    "# Загружаем специальный инструмент для разбивки:\n",
    "from sklearn.model_selection import train_test_split"
   ]
  },
  {
   "cell_type": "code",
   "execution_count": 101,
   "metadata": {},
   "outputs": [],
   "source": [
    "# Наборы данных с меткой \"train\" будут использоваться для обучения модели, \"test\" - для тестирования.\n",
    "# Для тестирования мы будем использовать 25% от исходного датасета.\n",
    "X_train, X_test, y_train, y_test = train_test_split(X, y, test_size=0.25)"
   ]
  },
  {
   "cell_type": "markdown",
   "metadata": {},
   "source": [
    "# Создаём, обучаем и тестируем модель"
   ]
  },
  {
   "cell_type": "code",
   "execution_count": 102,
   "metadata": {},
   "outputs": [],
   "source": [
    "# Импортируем необходимые библиотеки:\n",
    "from sklearn.ensemble import RandomForestRegressor # инструмент для создания и обучения модели\n",
    "from sklearn import metrics # инструменты для оценки точности модели"
   ]
  },
  {
   "cell_type": "code",
   "execution_count": 103,
   "metadata": {},
   "outputs": [],
   "source": [
    "RANDOM_SEED = 42"
   ]
  },
  {
   "cell_type": "code",
   "execution_count": null,
   "metadata": {},
   "outputs": [],
   "source": [
    "# Создаём модель\n",
    "regr = RandomForestRegressor(n_estimators=100, random_state=RANDOM_SEED)\n",
    "\n",
    "\n",
    "# Обучаем модель на тестовом наборе данных\n",
    "regr.fit(X_train, y_train)\n",
    "\n",
    "# Используем обученную модель для предсказания рейтинга ресторанов в тестовой выборке.\n",
    "# Предсказанные значения записываем в переменную y_pred\n",
    "y_pred = regr.predict(X_test)"
   ]
  },
  {
   "cell_type": "code",
   "execution_count": null,
   "metadata": {},
   "outputs": [],
   "source": [
    "# Сравниваем предсказанные значения (y_pred) с реальными (y_test), и смотрим насколько они в среднем отличаются\n",
    "# Метрика называется Mean Absolute Error (MAE) и показывает среднее отклонение предсказанных значений от фактических.\n",
    "print('MAE:', metrics.mean_absolute_error(y_test, y_pred))"
   ]
  },
  {
   "cell_type": "code",
   "execution_count": null,
   "metadata": {},
   "outputs": [],
   "source": []
  },
  {
   "cell_type": "code",
   "execution_count": null,
   "metadata": {},
   "outputs": [],
   "source": [
    "# Проверим важные признаки данной модели\n",
    "plt.rcParams['figure.figsize'] = (10,8)\n",
    "feat_importances = pd.Series(regr.feature_importances_, index=X.columns)\n",
    "feat_importances.nlargest(20).plot(kind='barh')"
   ]
  },
  {
   "cell_type": "code",
   "execution_count": null,
   "metadata": {},
   "outputs": [],
   "source": [
    "# Результат MAE: 0.2047365 - 0.2065444, но можно дожать ещё процентов 10"
   ]
  }
 ],
 "metadata": {
  "kernelspec": {
   "display_name": "Python 3",
   "language": "python",
   "name": "python3"
  },
  "language_info": {
   "codemirror_mode": {
    "name": "ipython",
    "version": 3
   },
   "file_extension": ".py",
   "mimetype": "text/x-python",
   "name": "python",
   "nbconvert_exporter": "python",
   "pygments_lexer": "ipython3",
   "version": "3.7.3"
  }
 },
 "nbformat": 4,
 "nbformat_minor": 4
}
