{
 "cells": [
  {
   "cell_type": "markdown",
   "id": "a52803d4-376e-4943-bc8b-808b5e80ce70",
   "metadata": {},
   "source": [
    "ПОСТАНОВКА ЗАДАЧИ\n",
    "\n",
    "Нам предоставлены результаты A/A/B-тестирования от одного известного маркетплейса. \n",
    "\n",
    "sample_a,  sample_c — АА-группы,  \n",
    "sample_b — отдельная группа. \n",
    "\n",
    "В каждом датасете есть три типа действий пользователей: 0 — клик, 1 — просмотр и 2 — покупка (пользователь просматривает выдачу товаров, кликает на понравившийся товар и совершает покупку).\n",
    "\n",
    "Маркетплейс ориентируется на следующие метрики:\n",
    "\n",
    "ctr (отношение кликов к просмотрам товаров);  \n",
    "purchase rate (отношение покупок к просмотрам товаров);  \n",
    "gmv (оборот, сумма произведений количества покупок на стоимость покупки), где считаем 1 сессию за 1 точку (1 сессия на 1 пользователя).  \n",
    "\n",
    "Требуется провести анализ A/A/B тестирования."
   ]
  },
  {
   "cell_type": "code",
   "execution_count": 1,
   "id": "d47d1e08-0db4-43d7-b1c5-4d6c38eed95a",
   "metadata": {},
   "outputs": [],
   "source": [
    "import pandas as pd\n",
    "import numpy as np\n",
    "from scipy.stats import shapiro\n",
    "from statsmodels.stats.weightstats import ztest\n",
    "from statsmodels.stats.multitest import multipletests\n",
    "from statsmodels.stats.proportion import proportions_ztest\n",
    "\n",
    "import seaborn as sns\n",
    "import matplotlib.pyplot as plt"
   ]
  },
  {
   "cell_type": "code",
   "execution_count": 2,
   "id": "ff3226d9-eed3-4cea-a07f-a6b52381562a",
   "metadata": {},
   "outputs": [],
   "source": [
    "# Импорт данных\n",
    "DATADIR = 'data/10/'\n",
    "df_item = pd.read_csv(DATADIR + 'item_prices.csv')\n",
    "df_a = pd.read_csv(DATADIR + 'sample_a.csv')\n",
    "df_b = pd.read_csv(DATADIR + 'sample_b.csv')\n",
    "df_c = pd.read_csv(DATADIR + 'sample_c.csv')"
   ]
  },
  {
   "cell_type": "code",
   "execution_count": 3,
   "id": "4bec6b49-0da6-4608-96d1-98e4add2444a",
   "metadata": {},
   "outputs": [
    {
     "data": {
      "text/html": [
       "<div>\n",
       "<style scoped>\n",
       "    .dataframe tbody tr th:only-of-type {\n",
       "        vertical-align: middle;\n",
       "    }\n",
       "\n",
       "    .dataframe tbody tr th {\n",
       "        vertical-align: top;\n",
       "    }\n",
       "\n",
       "    .dataframe thead th {\n",
       "        text-align: right;\n",
       "    }\n",
       "</style>\n",
       "<table border=\"1\" class=\"dataframe\">\n",
       "  <thead>\n",
       "    <tr style=\"text-align: right;\">\n",
       "      <th></th>\n",
       "      <th>item_id</th>\n",
       "      <th>item_price</th>\n",
       "    </tr>\n",
       "  </thead>\n",
       "  <tbody>\n",
       "    <tr>\n",
       "      <th>0</th>\n",
       "      <td>338</td>\n",
       "      <td>1501</td>\n",
       "    </tr>\n",
       "    <tr>\n",
       "      <th>1</th>\n",
       "      <td>74</td>\n",
       "      <td>647</td>\n",
       "    </tr>\n",
       "    <tr>\n",
       "      <th>2</th>\n",
       "      <td>7696</td>\n",
       "      <td>825</td>\n",
       "    </tr>\n",
       "    <tr>\n",
       "      <th>3</th>\n",
       "      <td>866</td>\n",
       "      <td>875</td>\n",
       "    </tr>\n",
       "    <tr>\n",
       "      <th>4</th>\n",
       "      <td>5876</td>\n",
       "      <td>804</td>\n",
       "    </tr>\n",
       "  </tbody>\n",
       "</table>\n",
       "</div>"
      ],
      "text/plain": [
       "   item_id  item_price\n",
       "0      338        1501\n",
       "1       74         647\n",
       "2     7696         825\n",
       "3      866         875\n",
       "4     5876         804"
      ]
     },
     "execution_count": 3,
     "metadata": {},
     "output_type": "execute_result"
    }
   ],
   "source": [
    "df_item.head()"
   ]
  },
  {
   "cell_type": "code",
   "execution_count": 4,
   "id": "0c91a940-146a-417c-9979-185f03a039a5",
   "metadata": {},
   "outputs": [
    {
     "data": {
      "text/html": [
       "<div>\n",
       "<style scoped>\n",
       "    .dataframe tbody tr th:only-of-type {\n",
       "        vertical-align: middle;\n",
       "    }\n",
       "\n",
       "    .dataframe tbody tr th {\n",
       "        vertical-align: top;\n",
       "    }\n",
       "\n",
       "    .dataframe thead th {\n",
       "        text-align: right;\n",
       "    }\n",
       "</style>\n",
       "<table border=\"1\" class=\"dataframe\">\n",
       "  <thead>\n",
       "    <tr style=\"text-align: right;\">\n",
       "      <th></th>\n",
       "      <th>user_id</th>\n",
       "      <th>item_id</th>\n",
       "      <th>action_id</th>\n",
       "    </tr>\n",
       "  </thead>\n",
       "  <tbody>\n",
       "    <tr>\n",
       "      <th>0</th>\n",
       "      <td>84636</td>\n",
       "      <td>360</td>\n",
       "      <td>1</td>\n",
       "    </tr>\n",
       "    <tr>\n",
       "      <th>1</th>\n",
       "      <td>21217</td>\n",
       "      <td>9635</td>\n",
       "      <td>1</td>\n",
       "    </tr>\n",
       "    <tr>\n",
       "      <th>2</th>\n",
       "      <td>13445</td>\n",
       "      <td>8590</td>\n",
       "      <td>1</td>\n",
       "    </tr>\n",
       "    <tr>\n",
       "      <th>3</th>\n",
       "      <td>38450</td>\n",
       "      <td>5585</td>\n",
       "      <td>1</td>\n",
       "    </tr>\n",
       "    <tr>\n",
       "      <th>4</th>\n",
       "      <td>14160</td>\n",
       "      <td>2383</td>\n",
       "      <td>0</td>\n",
       "    </tr>\n",
       "  </tbody>\n",
       "</table>\n",
       "</div>"
      ],
      "text/plain": [
       "   user_id  item_id  action_id\n",
       "0    84636      360          1\n",
       "1    21217     9635          1\n",
       "2    13445     8590          1\n",
       "3    38450     5585          1\n",
       "4    14160     2383          0"
      ]
     },
     "execution_count": 4,
     "metadata": {},
     "output_type": "execute_result"
    }
   ],
   "source": [
    "df_a.head()"
   ]
  },
  {
   "cell_type": "code",
   "execution_count": 5,
   "id": "08ea0940-8f91-440b-b1dc-813fa9ce5160",
   "metadata": {},
   "outputs": [],
   "source": [
    "def view_data(data):\n",
    "    \"\"\" Анализ датасета \"\"\"\n",
    "    df = data.copy()\n",
    "    print('Дубликаты')\n",
    "    print(df.duplicated().sum())\n",
    "    \n",
    "    print('Shape')\n",
    "    print(df.shape)\n"
   ]
  },
  {
   "cell_type": "code",
   "execution_count": 6,
   "id": "c41bc79a-182f-4f5d-a6e5-de47ac423b18",
   "metadata": {},
   "outputs": [
    {
     "name": "stdout",
     "output_type": "stream",
     "text": [
      "Дубликаты\n",
      "0\n",
      "Shape\n",
      "(1188912, 3)\n",
      "Дубликаты\n",
      "0\n",
      "Shape\n",
      "(1198438, 3)\n",
      "Дубликаты\n",
      "0\n",
      "Shape\n",
      "(1205510, 3)\n"
     ]
    }
   ],
   "source": [
    "for df in [df_a, df_b, df_c]:\n",
    "    view_data(df)"
   ]
  },
  {
   "cell_type": "markdown",
   "id": "68574fe2-1bbb-463f-9f5b-b41aa9e73177",
   "metadata": {},
   "source": [
    "Наборы данных практически совпадают по количеству наблюдений.  \n",
    "Дубликаты отсутствуют"
   ]
  },
  {
   "cell_type": "code",
   "execution_count": 7,
   "id": "59a77df9-21b3-41d5-bfb6-a529e8ac7f58",
   "metadata": {},
   "outputs": [
    {
     "data": {
      "text/plain": [
       "array([1, 0, 2], dtype=int64)"
      ]
     },
     "execution_count": 7,
     "metadata": {},
     "output_type": "execute_result"
    }
   ],
   "source": [
    "df_a.action_id.unique()"
   ]
  },
  {
   "cell_type": "markdown",
   "id": "e41f0cdb-52f7-4a18-a904-23b9831a7af7",
   "metadata": {},
   "source": [
    "Типы событий - согласно описанию  \n",
    "0 — клик, 1 — просмотр и 2 — покупка"
   ]
  },
  {
   "cell_type": "code",
   "execution_count": 8,
   "id": "d37a3c0c-d1a8-40b9-aaa0-45653df99cf3",
   "metadata": {},
   "outputs": [],
   "source": [
    "# Категориальные признаки приведём к читаемому виду\n",
    "ds = [df_a, df_b, df_c]\n",
    "\n",
    "actions_dict = {0: 'click', 1: 'view', 2: 'buy'}\n",
    "\n",
    "for sample in ds:\n",
    "    sample['action_cat'] = sample.action_id.map(actions_dict)"
   ]
  },
  {
   "cell_type": "code",
   "execution_count": 9,
   "id": "1be1d811-c871-4464-95db-78a7bd8fa1d1",
   "metadata": {},
   "outputs": [
    {
     "data": {
      "text/plain": [
       "<AxesSubplot:xlabel='action_cat', ylabel='count'>"
      ]
     },
     "execution_count": 9,
     "metadata": {},
     "output_type": "execute_result"
    },
    {
     "data": {
      "image/png": "[encoded data removed]",
      "text/plain": [
       "<Figure size 640x480 with 1 Axes>"
      ]
     },
     "metadata": {},
     "output_type": "display_data"
    }
   ],
   "source": [
    "# Отобразим данные на графике\n",
    "df_a['sample'] = 'Sample_A'\n",
    "df_b['sample'] = 'Sample_B'\n",
    "df_c['sample'] = 'Sample_C'\n",
    "\n",
    "df_abc = pd.concat([df_a, df_b, df_c])\n",
    "sns.countplot(data=df_abc, x='action_cat', hue='sample')"
   ]
  },
  {
   "cell_type": "markdown",
   "id": "b45f0c34-a3b0-4d31-b1f4-b8ef38e7ef32",
   "metadata": {},
   "source": [
    "Согласно полученному графику, можно сделать следующий вывод:  \n",
    "Поведение пользователей A/C в целом схожи. У \"C\", результативность чуть лучше.    \n",
    "Поведение пользователей A/B уже заметно отличаются. При одинаковом количестве просмотров, у \"B\" меньше переходов (click), но при этом больше покупок(buy)."
   ]
  },
  {
   "cell_type": "markdown",
   "id": "ccd53404-e10c-4515-ac2f-9534e063ab31",
   "metadata": {},
   "source": [
    "Преобразуем наши датасеты трансформируя категориальные признаки"
   ]
  },
  {
   "cell_type": "code",
   "execution_count": 10,
   "id": "d2198160-6e7d-42c8-ba88-4955f382809e",
   "metadata": {},
   "outputs": [],
   "source": [
    "def transform(data):\n",
    "    \"\"\" Транфсормирует категориальные признаки \"\"\"\n",
    "    data['action_id'] = 1\n",
    "    newdf = pd.pivot_table(data, \n",
    "                           index=['user_id', 'item_id'],\n",
    "                           columns=['action_cat'],\n",
    "                           values='action_id')\n",
    "    newdf = newdf.fillna(0)\n",
    "    newdf = newdf.reset_index()\n",
    "    \n",
    "    return newdf"
   ]
  },
  {
   "cell_type": "code",
   "execution_count": 11,
   "id": "a55c1ade-140a-4a13-841e-41d6b73ab8f3",
   "metadata": {},
   "outputs": [],
   "source": [
    "df_a = transform(df_a)\n",
    "df_b = transform(df_b)\n",
    "df_c = transform(df_c)"
   ]
  },
  {
   "cell_type": "code",
   "execution_count": 12,
   "id": "e83a7e41-3648-46cc-bef7-023511c3f707",
   "metadata": {},
   "outputs": [
    {
     "data": {
      "text/html": [
       "<div>\n",
       "<style scoped>\n",
       "    .dataframe tbody tr th:only-of-type {\n",
       "        vertical-align: middle;\n",
       "    }\n",
       "\n",
       "    .dataframe tbody tr th {\n",
       "        vertical-align: top;\n",
       "    }\n",
       "\n",
       "    .dataframe thead th {\n",
       "        text-align: right;\n",
       "    }\n",
       "</style>\n",
       "<table border=\"1\" class=\"dataframe\">\n",
       "  <thead>\n",
       "    <tr style=\"text-align: right;\">\n",
       "      <th>action_cat</th>\n",
       "      <th>user_id</th>\n",
       "      <th>item_id</th>\n",
       "      <th>buy</th>\n",
       "      <th>click</th>\n",
       "      <th>view</th>\n",
       "    </tr>\n",
       "  </thead>\n",
       "  <tbody>\n",
       "    <tr>\n",
       "      <th>0</th>\n",
       "      <td>241</td>\n",
       "      <td>21</td>\n",
       "      <td>0.0</td>\n",
       "      <td>0.0</td>\n",
       "      <td>1.0</td>\n",
       "    </tr>\n",
       "    <tr>\n",
       "      <th>1</th>\n",
       "      <td>241</td>\n",
       "      <td>36</td>\n",
       "      <td>0.0</td>\n",
       "      <td>0.0</td>\n",
       "      <td>1.0</td>\n",
       "    </tr>\n",
       "    <tr>\n",
       "      <th>2</th>\n",
       "      <td>241</td>\n",
       "      <td>39</td>\n",
       "      <td>0.0</td>\n",
       "      <td>0.0</td>\n",
       "      <td>1.0</td>\n",
       "    </tr>\n",
       "    <tr>\n",
       "      <th>3</th>\n",
       "      <td>241</td>\n",
       "      <td>50</td>\n",
       "      <td>0.0</td>\n",
       "      <td>0.0</td>\n",
       "      <td>1.0</td>\n",
       "    </tr>\n",
       "    <tr>\n",
       "      <th>4</th>\n",
       "      <td>241</td>\n",
       "      <td>64</td>\n",
       "      <td>0.0</td>\n",
       "      <td>0.0</td>\n",
       "      <td>1.0</td>\n",
       "    </tr>\n",
       "    <tr>\n",
       "      <th>...</th>\n",
       "      <td>...</td>\n",
       "      <td>...</td>\n",
       "      <td>...</td>\n",
       "      <td>...</td>\n",
       "      <td>...</td>\n",
       "    </tr>\n",
       "    <tr>\n",
       "      <th>951125</th>\n",
       "      <td>99880</td>\n",
       "      <td>9936</td>\n",
       "      <td>0.0</td>\n",
       "      <td>0.0</td>\n",
       "      <td>1.0</td>\n",
       "    </tr>\n",
       "    <tr>\n",
       "      <th>951126</th>\n",
       "      <td>99880</td>\n",
       "      <td>9944</td>\n",
       "      <td>0.0</td>\n",
       "      <td>0.0</td>\n",
       "      <td>1.0</td>\n",
       "    </tr>\n",
       "    <tr>\n",
       "      <th>951127</th>\n",
       "      <td>99880</td>\n",
       "      <td>9958</td>\n",
       "      <td>0.0</td>\n",
       "      <td>0.0</td>\n",
       "      <td>1.0</td>\n",
       "    </tr>\n",
       "    <tr>\n",
       "      <th>951128</th>\n",
       "      <td>99880</td>\n",
       "      <td>9989</td>\n",
       "      <td>0.0</td>\n",
       "      <td>0.0</td>\n",
       "      <td>1.0</td>\n",
       "    </tr>\n",
       "    <tr>\n",
       "      <th>951129</th>\n",
       "      <td>99880</td>\n",
       "      <td>9994</td>\n",
       "      <td>0.0</td>\n",
       "      <td>0.0</td>\n",
       "      <td>1.0</td>\n",
       "    </tr>\n",
       "  </tbody>\n",
       "</table>\n",
       "<p>951130 rows × 5 columns</p>\n",
       "</div>"
      ],
      "text/plain": [
       "action_cat  user_id  item_id  buy  click  view\n",
       "0               241       21  0.0    0.0   1.0\n",
       "1               241       36  0.0    0.0   1.0\n",
       "2               241       39  0.0    0.0   1.0\n",
       "3               241       50  0.0    0.0   1.0\n",
       "4               241       64  0.0    0.0   1.0\n",
       "...             ...      ...  ...    ...   ...\n",
       "951125        99880     9936  0.0    0.0   1.0\n",
       "951126        99880     9944  0.0    0.0   1.0\n",
       "951127        99880     9958  0.0    0.0   1.0\n",
       "951128        99880     9989  0.0    0.0   1.0\n",
       "951129        99880     9994  0.0    0.0   1.0\n",
       "\n",
       "[951130 rows x 5 columns]"
      ]
     },
     "execution_count": 12,
     "metadata": {},
     "output_type": "execute_result"
    }
   ],
   "source": [
    "df_a"
   ]
  },
  {
   "cell_type": "markdown",
   "id": "5643e98a-93b3-41a2-a691-7aa58dda1e08",
   "metadata": {},
   "source": [
    "Проверим есть ли наблюдения, в которых есть покупка или клик без просмотра"
   ]
  },
  {
   "cell_type": "code",
   "execution_count": 13,
   "id": "1182bf83-5d4a-4859-b56a-fe273226c5ed",
   "metadata": {},
   "outputs": [
    {
     "name": "stdout",
     "output_type": "stream",
     "text": [
      "buy  click  view\n",
      "0.0  0.0    1.0     722858\n",
      "     1.0    1.0     180716\n",
      "1.0  0.0    1.0      38046\n",
      "     1.0    1.0       9510\n",
      "dtype: int64\n",
      "buy  click  view\n",
      "0.0  0.0    1.0     719023\n",
      "     1.0    1.0     137004\n",
      "1.0  0.0    1.0      79935\n",
      "     1.0    1.0      15179\n",
      "dtype: int64\n",
      "buy  click  view\n",
      "0.0  0.0    1.0     704875\n",
      "     1.0    1.0     187393\n",
      "1.0  0.0    1.0      45010\n",
      "     1.0    1.0      11943\n",
      "dtype: int64\n"
     ]
    }
   ],
   "source": [
    "# Datasets\n",
    "ds = [df_a, df_b, df_c]\n",
    "\n",
    "def get_counts(data):\n",
    "    print(data[['buy','click','view']].value_counts())\n",
    "\n",
    "for sample in ds:\n",
    "    get_counts(sample)"
   ]
  },
  {
   "cell_type": "markdown",
   "id": "82cf4a7c-89eb-4047-a9c1-3b9ec6073b59",
   "metadata": {},
   "source": [
    "Мы можем наблюдать, что действие view применимо к 100% товаров.  \n",
    "Но при этом, есть покупки без кликов: buy=1, click=0."
   ]
  },
  {
   "cell_type": "code",
   "execution_count": 14,
   "id": "27248f4f-3ae8-4024-8b5c-d7da9af6c222",
   "metadata": {},
   "outputs": [],
   "source": [
    "# Если это действие недопустимо, заложим в наш сценарий возможность очистки.\n",
    "# def remove_zeroclick(data):\n",
    "#    \"\"\" Удаляет наблюдения с покупками без кликов \"\"\"\n",
    "#    return data.drop(data[(data.click==0) & (data.buy==1)].index)\n",
    "#\n",
    "# df_a = remove_zeroclick(df_a)\n",
    "# df_b = remove_zeroclick(df_b)\n",
    "# df_c = remove_zeroclick(df_c)"
   ]
  },
  {
   "cell_type": "markdown",
   "id": "2b683bb8-e537-4566-9830-fbfb242e7332",
   "metadata": {},
   "source": [
    "Маркетплейс ориентируется на следующие метрики:\n",
    "\n",
    "- ctr (отношение кликов к просмотрам товаров);\n",
    "- purchase rate (отношение покупок к просмотрам товаров);\n",
    "- gmv (оборот, сумма произведений количества покупок на стоимость покупки), где считаем 1 сессию за 1 точку (1 сессия на 1 пользователя)."
   ]
  },
  {
   "cell_type": "code",
   "execution_count": 15,
   "id": "9e2543b0-a6bf-40a7-8f9b-3e77f80c8cc4",
   "metadata": {},
   "outputs": [],
   "source": [
    "df_sum = pd.DataFrame({'sample':['sample_a','sample_b','sample_c']})"
   ]
  },
  {
   "cell_type": "code",
   "execution_count": 16,
   "id": "230303d9-5632-4b3d-9bc8-eb53bd299f94",
   "metadata": {},
   "outputs": [],
   "source": [
    "# Вычислим ctr\n",
    "def calc_ctr(data):\n",
    "    \"\"\" Вычисляет ctr \"\"\"\n",
    "    return round(data.click.sum()/data.view.sum(), 4)*100\n",
    "\n",
    "ctr = []\n",
    "for sample in ds:\n",
    "    ctr.append(calc_ctr(sample))\n",
    "df_sum['ctr'] = ctr"
   ]
  },
  {
   "cell_type": "code",
   "execution_count": 17,
   "id": "301f6f32-10a9-4424-9f72-da7f68720891",
   "metadata": {},
   "outputs": [],
   "source": [
    "# Вычислим purchase rate\n",
    "def calc_purchase_rate(data):\n",
    "    \"\"\" Вычисляет purchase rate \"\"\"\n",
    "    return round(data.buy.sum()/data.view.sum(), 4)*100\n",
    "\n",
    "purchase_rate = []\n",
    "for sample in ds:\n",
    "    purchase_rate.append(calc_purchase_rate(sample))\n",
    "df_sum['purchase_rate'] = purchase_rate"
   ]
  },
  {
   "cell_type": "code",
   "execution_count": 18,
   "id": "6bbd1dce-2eb4-46fb-963f-dfd3140b8b3e",
   "metadata": {},
   "outputs": [],
   "source": [
    "# Вычислим GMV\n",
    "def get_price(data):\n",
    "    \"\"\" Объединение с прайсом \"\"\"\n",
    "    return data.merge(df_item, on='item_id', how='left')\n",
    "\n",
    "df_a = get_price(df_a)\n",
    "df_b = get_price(df_b)\n",
    "df_c = get_price(df_c)\n",
    "\n",
    "ds = [df_a, df_b, df_c]\n",
    "gmv = []\n",
    "for sample in ds:\n",
    "    gmv.append(round(sample[sample.buy == 1].item_price.sum(), 4))\n",
    "df_sum['gmv'] = gmv"
   ]
  },
  {
   "cell_type": "code",
   "execution_count": 19,
   "id": "76d3d889-7ebe-466e-b052-fcc850ba0446",
   "metadata": {},
   "outputs": [
    {
     "data": {
      "text/html": [
       "<div>\n",
       "<style scoped>\n",
       "    .dataframe tbody tr th:only-of-type {\n",
       "        vertical-align: middle;\n",
       "    }\n",
       "\n",
       "    .dataframe tbody tr th {\n",
       "        vertical-align: top;\n",
       "    }\n",
       "\n",
       "    .dataframe thead th {\n",
       "        text-align: right;\n",
       "    }\n",
       "</style>\n",
       "<table border=\"1\" class=\"dataframe\">\n",
       "  <thead>\n",
       "    <tr style=\"text-align: right;\">\n",
       "      <th></th>\n",
       "      <th>sample</th>\n",
       "      <th>ctr</th>\n",
       "      <th>purchase_rate</th>\n",
       "      <th>gmv</th>\n",
       "    </tr>\n",
       "  </thead>\n",
       "  <tbody>\n",
       "    <tr>\n",
       "      <th>0</th>\n",
       "      <td>sample_a</td>\n",
       "      <td>20.0</td>\n",
       "      <td>5.0</td>\n",
       "      <td>53060177</td>\n",
       "    </tr>\n",
       "    <tr>\n",
       "      <th>1</th>\n",
       "      <td>sample_b</td>\n",
       "      <td>16.0</td>\n",
       "      <td>10.0</td>\n",
       "      <td>106047378</td>\n",
       "    </tr>\n",
       "    <tr>\n",
       "      <th>2</th>\n",
       "      <td>sample_c</td>\n",
       "      <td>21.0</td>\n",
       "      <td>6.0</td>\n",
       "      <td>63614910</td>\n",
       "    </tr>\n",
       "  </tbody>\n",
       "</table>\n",
       "</div>"
      ],
      "text/plain": [
       "     sample   ctr  purchase_rate        gmv\n",
       "0  sample_a  20.0            5.0   53060177\n",
       "1  sample_b  16.0           10.0  106047378\n",
       "2  sample_c  21.0            6.0   63614910"
      ]
     },
     "execution_count": 19,
     "metadata": {},
     "output_type": "execute_result"
    }
   ],
   "source": [
    "df_sum"
   ]
  },
  {
   "cell_type": "code",
   "execution_count": 20,
   "id": "2d003d5c-84fd-4890-bf15-8e35ea2652b7",
   "metadata": {},
   "outputs": [
    {
     "name": "stderr",
     "output_type": "stream",
     "text": [
      "C:\\Users\\Lyo\\Anaconda3\\lib\\site-packages\\ipykernel_launcher.py:22: UserWarning: Matplotlib is currently using module://matplotlib_inline.backend_inline, which is a non-GUI backend, so cannot show the figure.\n"
     ]
    },
    {
     "data": {
      "image/png": "[encoded data removed]",
      "text/plain": [
       "<Figure size 2500x500 with 3 Axes>"
      ]
     },
     "metadata": {},
     "output_type": "display_data"
    }
   ],
   "source": [
    "# Визуализируем полученные метрики\n",
    "fig, axs = plt.subplots(1,3, figsize=(25, 5))\n",
    "\n",
    "sns.barplot(ax=axs[0],\n",
    "            x=\"sample\",\n",
    "            y=\"ctr\",\n",
    "            data=df_sum,\n",
    "            palette=\"bright\").set(title=\"CTR\")\n",
    "\n",
    "sns.barplot(ax=axs[1],\n",
    "            x=\"sample\",\n",
    "            y=\"purchase_rate\",\n",
    "            data=df_sum,\n",
    "            palette=\"bright\").set(title=\"Purchase rate\")\n",
    "\n",
    "sns.barplot(ax=axs[2],\n",
    "            x=\"sample\",\n",
    "            y=\"gmv\",\n",
    "            data=df_sum,\n",
    "            palette=\"bright\").set(title=\"GMV\")\n",
    "\n",
    "fig.show()"
   ]
  },
  {
   "cell_type": "markdown",
   "id": "f37b7bb5-e0d2-41d3-81de-81cf2dfe726d",
   "metadata": {},
   "source": [
    "Согласно полученным данным, Sample_A и Sample_C показывают одинаковую динамику, хотя показатели Sample_C несколько выше.  \n",
    "Sample_B заметно отличается поведением. Кликабельность(CTR) Sample_B ниже, но при этом Purshase rate и GMV - заметно выше."
   ]
  },
  {
   "cell_type": "markdown",
   "id": "b593742b-b953-4cab-adf4-2c0158473753",
   "metadata": {},
   "source": [
    "Проведем тест Шапиро-Уилка на нормальность"
   ]
  },
  {
   "cell_type": "code",
   "execution_count": 21,
   "id": "7d4e741a-6789-438d-89c4-5c0bfd15d6df",
   "metadata": {},
   "outputs": [],
   "source": [
    "# Проанализируем датасеты в разрезе пользователя\n",
    "def customer_metrics(data):\n",
    "    \"\"\" Группировка по пользователю \"\"\"\n",
    "    # Стоимость покупок для подсчёта gmv\n",
    "    data['purchase'] = data['buy'] * data['item_price']\n",
    "    \n",
    "    data = data[['user_id', 'buy', 'click', 'view', 'purchase']].groupby('user_id').agg(sum)\n",
    "    data['ctr'] = 100 * data.click / data.view\n",
    "    data['purchase_rate'] = 100 * data.buy / data.click\n",
    "    data['gmv'] = data['purchase']\n",
    "    return data\n",
    "\n",
    "df_customer_a = customer_metrics(df_a)\n",
    "df_customer_b = customer_metrics(df_b)\n",
    "df_customer_c = customer_metrics(df_c)\n",
    "\n",
    "df_customer_a['sample'] = 'sample_a'\n",
    "df_customer_b['sample'] = 'sample_b'\n",
    "df_customer_c['sample'] = 'sample_c'"
   ]
  },
  {
   "cell_type": "code",
   "execution_count": 22,
   "id": "ef6694c3-65e0-4a51-842d-7d4dba8e37c0",
   "metadata": {},
   "outputs": [],
   "source": [
    "# CTR\n",
    "ds = [df_customer_a, df_customer_b, df_customer_c]\n",
    "ctr_pvalue = []\n",
    "for sample in ds:\n",
    "    ctr_pvalue.append(shapiro(sample.ctr).pvalue)\n",
    "df_sum['ctr_pvalue'] = ctr_pvalue"
   ]
  },
  {
   "cell_type": "code",
   "execution_count": 23,
   "id": "e90fd0d0-ce36-484d-af57-cfe1ed2a8159",
   "metadata": {},
   "outputs": [],
   "source": [
    "# Purchase rate\n",
    "pr_pvalue = []\n",
    "for sample in ds:\n",
    "    pr_pvalue.append(shapiro(sample.purchase_rate).pvalue)\n",
    "df_sum['pr_pvalue'] = pr_pvalue"
   ]
  },
  {
   "cell_type": "code",
   "execution_count": 24,
   "id": "5e3cf484-2b8e-4c1e-b454-095e56c17b2d",
   "metadata": {},
   "outputs": [
    {
     "data": {
      "text/html": [
       "<div>\n",
       "<style scoped>\n",
       "    .dataframe tbody tr th:only-of-type {\n",
       "        vertical-align: middle;\n",
       "    }\n",
       "\n",
       "    .dataframe tbody tr th {\n",
       "        vertical-align: top;\n",
       "    }\n",
       "\n",
       "    .dataframe thead th {\n",
       "        text-align: right;\n",
       "    }\n",
       "</style>\n",
       "<table border=\"1\" class=\"dataframe\">\n",
       "  <thead>\n",
       "    <tr style=\"text-align: right;\">\n",
       "      <th></th>\n",
       "      <th>sample</th>\n",
       "      <th>ctr</th>\n",
       "      <th>purchase_rate</th>\n",
       "      <th>gmv</th>\n",
       "      <th>ctr_pvalue</th>\n",
       "      <th>pr_pvalue</th>\n",
       "      <th>gmv_pvalue</th>\n",
       "    </tr>\n",
       "  </thead>\n",
       "  <tbody>\n",
       "    <tr>\n",
       "      <th>0</th>\n",
       "      <td>sample_a</td>\n",
       "      <td>20.0</td>\n",
       "      <td>5.0</td>\n",
       "      <td>53060177</td>\n",
       "      <td>0.004503</td>\n",
       "      <td>0.001463</td>\n",
       "      <td>0.125194</td>\n",
       "    </tr>\n",
       "    <tr>\n",
       "      <th>1</th>\n",
       "      <td>sample_b</td>\n",
       "      <td>16.0</td>\n",
       "      <td>10.0</td>\n",
       "      <td>106047378</td>\n",
       "      <td>0.710634</td>\n",
       "      <td>0.003972</td>\n",
       "      <td>0.845828</td>\n",
       "    </tr>\n",
       "    <tr>\n",
       "      <th>2</th>\n",
       "      <td>sample_c</td>\n",
       "      <td>21.0</td>\n",
       "      <td>6.0</td>\n",
       "      <td>63614910</td>\n",
       "      <td>0.129967</td>\n",
       "      <td>0.004231</td>\n",
       "      <td>0.019793</td>\n",
       "    </tr>\n",
       "  </tbody>\n",
       "</table>\n",
       "</div>"
      ],
      "text/plain": [
       "     sample   ctr  purchase_rate        gmv  ctr_pvalue  pr_pvalue  gmv_pvalue\n",
       "0  sample_a  20.0            5.0   53060177    0.004503   0.001463    0.125194\n",
       "1  sample_b  16.0           10.0  106047378    0.710634   0.003972    0.845828\n",
       "2  sample_c  21.0            6.0   63614910    0.129967   0.004231    0.019793"
      ]
     },
     "execution_count": 24,
     "metadata": {},
     "output_type": "execute_result"
    }
   ],
   "source": [
    "# GMV\n",
    "gmv_pvalue = []\n",
    "for sample in ds:\n",
    "    gmv_pvalue.append(shapiro(sample.gmv).pvalue)\n",
    "df_sum['gmv_pvalue'] = gmv_pvalue\n",
    "df_sum"
   ]
  },
  {
   "cell_type": "code",
   "execution_count": 25,
   "id": "e569a150-2919-4758-b5bb-df8d882a66dd",
   "metadata": {},
   "outputs": [],
   "source": [
    "alpha = 0.01"
   ]
  },
  {
   "cell_type": "code",
   "execution_count": 26,
   "id": "35f4473a-7d6c-4fb5-b6c1-047d3c13b051",
   "metadata": {},
   "outputs": [],
   "source": [
    "df_sum['ctr_normal'] = (df_sum.ctr_pvalue > alpha)\n",
    "df_sum['pr_normal'] = (df_sum.pr_pvalue > alpha)\n",
    "df_sum['gmv_normal'] = (df_sum.gmv_pvalue > alpha)"
   ]
  },
  {
   "cell_type": "code",
   "execution_count": 27,
   "id": "5c5def29-8ff3-4cff-8f1a-feb5a36e5a48",
   "metadata": {},
   "outputs": [
    {
     "data": {
      "text/html": [
       "<div>\n",
       "<style scoped>\n",
       "    .dataframe tbody tr th:only-of-type {\n",
       "        vertical-align: middle;\n",
       "    }\n",
       "\n",
       "    .dataframe tbody tr th {\n",
       "        vertical-align: top;\n",
       "    }\n",
       "\n",
       "    .dataframe thead th {\n",
       "        text-align: right;\n",
       "    }\n",
       "</style>\n",
       "<table border=\"1\" class=\"dataframe\">\n",
       "  <thead>\n",
       "    <tr style=\"text-align: right;\">\n",
       "      <th></th>\n",
       "      <th>sample</th>\n",
       "      <th>ctr</th>\n",
       "      <th>purchase_rate</th>\n",
       "      <th>gmv</th>\n",
       "      <th>ctr_pvalue</th>\n",
       "      <th>pr_pvalue</th>\n",
       "      <th>gmv_pvalue</th>\n",
       "      <th>ctr_normal</th>\n",
       "      <th>pr_normal</th>\n",
       "      <th>gmv_normal</th>\n",
       "    </tr>\n",
       "  </thead>\n",
       "  <tbody>\n",
       "    <tr>\n",
       "      <th>0</th>\n",
       "      <td>sample_a</td>\n",
       "      <td>20.0</td>\n",
       "      <td>5.0</td>\n",
       "      <td>53060177</td>\n",
       "      <td>0.004503</td>\n",
       "      <td>0.001463</td>\n",
       "      <td>0.125194</td>\n",
       "      <td>False</td>\n",
       "      <td>False</td>\n",
       "      <td>True</td>\n",
       "    </tr>\n",
       "    <tr>\n",
       "      <th>1</th>\n",
       "      <td>sample_b</td>\n",
       "      <td>16.0</td>\n",
       "      <td>10.0</td>\n",
       "      <td>106047378</td>\n",
       "      <td>0.710634</td>\n",
       "      <td>0.003972</td>\n",
       "      <td>0.845828</td>\n",
       "      <td>True</td>\n",
       "      <td>False</td>\n",
       "      <td>True</td>\n",
       "    </tr>\n",
       "    <tr>\n",
       "      <th>2</th>\n",
       "      <td>sample_c</td>\n",
       "      <td>21.0</td>\n",
       "      <td>6.0</td>\n",
       "      <td>63614910</td>\n",
       "      <td>0.129967</td>\n",
       "      <td>0.004231</td>\n",
       "      <td>0.019793</td>\n",
       "      <td>True</td>\n",
       "      <td>False</td>\n",
       "      <td>True</td>\n",
       "    </tr>\n",
       "  </tbody>\n",
       "</table>\n",
       "</div>"
      ],
      "text/plain": [
       "     sample   ctr  purchase_rate        gmv  ctr_pvalue  pr_pvalue  \\\n",
       "0  sample_a  20.0            5.0   53060177    0.004503   0.001463   \n",
       "1  sample_b  16.0           10.0  106047378    0.710634   0.003972   \n",
       "2  sample_c  21.0            6.0   63614910    0.129967   0.004231   \n",
       "\n",
       "   gmv_pvalue  ctr_normal  pr_normal  gmv_normal  \n",
       "0    0.125194       False      False        True  \n",
       "1    0.845828        True      False        True  \n",
       "2    0.019793        True      False        True  "
      ]
     },
     "execution_count": 27,
     "metadata": {},
     "output_type": "execute_result"
    }
   ],
   "source": [
    "df_sum"
   ]
  },
  {
   "cell_type": "markdown",
   "id": "320969c5-1d8f-4e4c-9694-8c7a7a0e2473",
   "metadata": {},
   "source": [
    "При уровне значимости равным 0.01, во всех датасетах \"Purchase rate\", а так же ctr у Sample_A не имеют нормального распределения.  \n",
    "Похоже, что в наблюдениях поведение пользователей сильно отличается."
   ]
  },
  {
   "cell_type": "code",
   "execution_count": 28,
   "id": "de1988fc-0fa7-49a0-8774-ec720a77a136",
   "metadata": {},
   "outputs": [
    {
     "data": {
      "text/plain": [
       "[Text(0.5, 1.0, 'Gmv')]"
      ]
     },
     "execution_count": 28,
     "metadata": {},
     "output_type": "execute_result"
    },
    {
     "data": {
      "image/png": "[encoded data removed]",
      "text/plain": [
       "<Figure size 2000x400 with 3 Axes>"
      ]
     },
     "metadata": {},
     "output_type": "display_data"
    }
   ],
   "source": [
    "# Визуализация распределения (kernel density estimation)\n",
    "df_customer_sum = pd.concat([df_customer_a, df_customer_b, df_customer_c], ignore_index=True)\n",
    "\n",
    "f, axs = plt.subplots(1,3, figsize=(20, 4))\n",
    "\n",
    "sns.kdeplot(ax=axs[0],\n",
    "            x=\"ctr\",\n",
    "            hue=\"sample\",\n",
    "            data=df_customer_sum,\n",
    "            palette=\"bright\").set(title=\"CTR\")\n",
    "\n",
    "sns.kdeplot(ax=axs[1],\n",
    "            x=\"purchase_rate\",\n",
    "            hue=\"sample\",\n",
    "            data=df_customer_sum,\n",
    "            palette=\"bright\").set(title=\"Purchase rate\")\n",
    "\n",
    "sns.kdeplot(ax=axs[2],\n",
    "            x=\"gmv\",\n",
    "            hue=\"sample\",\n",
    "            data=df_customer_sum,\n",
    "            palette=\"bright\").set(title=\"Gmv\")"
   ]
  },
  {
   "cell_type": "markdown",
   "id": "e4215f61-d410-4421-a90c-d0d4c7ea6a04",
   "metadata": {},
   "source": [
    "Проведём оценку равности долей (Z-test)"
   ]
  },
  {
   "cell_type": "code",
   "execution_count": 29,
   "id": "42ea143e-1b20-49d3-8bce-2b087d5a8250",
   "metadata": {},
   "outputs": [],
   "source": [
    "alpha = 0.05"
   ]
  },
  {
   "cell_type": "code",
   "execution_count": 30,
   "id": "88a514b8-8084-465f-854e-4b3dea85b412",
   "metadata": {},
   "outputs": [],
   "source": [
    "def get_ztest_metrics(df1, df2, column):\n",
    "    \"\"\" Тест на равенство долей \"\"\"\n",
    "    count = [df1[column].sum(), df2[column].sum()]\n",
    "    nobs = [len(df1[column]), len(df2[column])]\n",
    "    stat, pval = proportions_ztest(count, nobs)\n",
    "    print(f'p-value: {pval}')\n",
    "    print(f'Тест на равенство долей: {pval > alpha}')\n",
    "    return pval"
   ]
  },
  {
   "cell_type": "code",
   "execution_count": 31,
   "id": "747445bc-ce6b-4bd5-8b8c-8535d0ba672f",
   "metadata": {},
   "outputs": [],
   "source": [
    "# Итоговый DataFrame\n",
    "df_abtest = pd.DataFrame({'Datasets': [], 'Column': [], 'Pvalue': [], 'Similar': []})"
   ]
  },
  {
   "cell_type": "markdown",
   "id": "7f7248e3-cbc4-4c65-8a40-488c123da341",
   "metadata": {},
   "source": [
    "Тест равенства долей A/C"
   ]
  },
  {
   "cell_type": "code",
   "execution_count": 32,
   "id": "9c579d8f-6801-4df6-973f-aba693cb27f1",
   "metadata": {},
   "outputs": [
    {
     "name": "stdout",
     "output_type": "stream",
     "text": [
      "click\n",
      "p-value: 7.030828728094025e-67\n",
      "Тест на равенство долей: False\n",
      "buy\n",
      "p-value: 1.959683539900351e-214\n",
      "Тест на равенство долей: False\n"
     ]
    }
   ],
   "source": [
    "for column in ['click', 'buy']:\n",
    "    print(column)\n",
    "    pvalue = get_ztest_metrics(df_a, df_c, column)\n",
    "    df_abtest.loc[len(df_abtest)] = ['df_a/df_c', column, pvalue, pvalue > alpha]"
   ]
  },
  {
   "cell_type": "markdown",
   "id": "a49bf596-cd6a-4fa5-b228-44a3290305a1",
   "metadata": {},
   "source": [
    "Тест равенства долей A/B"
   ]
  },
  {
   "cell_type": "code",
   "execution_count": 33,
   "id": "ccbbf7ff-974b-465c-b0ba-6e12e4d88598",
   "metadata": {},
   "outputs": [
    {
     "name": "stdout",
     "output_type": "stream",
     "text": [
      "click\n",
      "p-value: 0.0\n",
      "Тест на равенство долей: False\n",
      "buy\n",
      "p-value: 0.0\n",
      "Тест на равенство долей: False\n"
     ]
    }
   ],
   "source": [
    "for column in ['click', 'buy']:\n",
    "    print(column)\n",
    "    pvalue = get_ztest_metrics(df_a, df_b, column)\n",
    "    df_abtest.loc[len(df_abtest)] = ['df_a/df_b', column, pvalue, pvalue > alpha]"
   ]
  },
  {
   "cell_type": "code",
   "execution_count": 34,
   "id": "95ff31a1-db3e-4844-af3d-e6c4a255f447",
   "metadata": {},
   "outputs": [
    {
     "data": {
      "text/html": [
       "<div>\n",
       "<style scoped>\n",
       "    .dataframe tbody tr th:only-of-type {\n",
       "        vertical-align: middle;\n",
       "    }\n",
       "\n",
       "    .dataframe tbody tr th {\n",
       "        vertical-align: top;\n",
       "    }\n",
       "\n",
       "    .dataframe thead th {\n",
       "        text-align: right;\n",
       "    }\n",
       "</style>\n",
       "<table border=\"1\" class=\"dataframe\">\n",
       "  <thead>\n",
       "    <tr style=\"text-align: right;\">\n",
       "      <th></th>\n",
       "      <th>Datasets</th>\n",
       "      <th>Column</th>\n",
       "      <th>Pvalue</th>\n",
       "      <th>Similar</th>\n",
       "    </tr>\n",
       "  </thead>\n",
       "  <tbody>\n",
       "    <tr>\n",
       "      <th>0</th>\n",
       "      <td>df_a/df_c</td>\n",
       "      <td>click</td>\n",
       "      <td>7.030829e-67</td>\n",
       "      <td>0.0</td>\n",
       "    </tr>\n",
       "    <tr>\n",
       "      <th>1</th>\n",
       "      <td>df_a/df_c</td>\n",
       "      <td>buy</td>\n",
       "      <td>1.959684e-214</td>\n",
       "      <td>0.0</td>\n",
       "    </tr>\n",
       "    <tr>\n",
       "      <th>2</th>\n",
       "      <td>df_a/df_b</td>\n",
       "      <td>click</td>\n",
       "      <td>0.000000e+00</td>\n",
       "      <td>0.0</td>\n",
       "    </tr>\n",
       "    <tr>\n",
       "      <th>3</th>\n",
       "      <td>df_a/df_b</td>\n",
       "      <td>buy</td>\n",
       "      <td>0.000000e+00</td>\n",
       "      <td>0.0</td>\n",
       "    </tr>\n",
       "  </tbody>\n",
       "</table>\n",
       "</div>"
      ],
      "text/plain": [
       "    Datasets Column         Pvalue  Similar\n",
       "0  df_a/df_c  click   7.030829e-67      0.0\n",
       "1  df_a/df_c    buy  1.959684e-214      0.0\n",
       "2  df_a/df_b  click   0.000000e+00      0.0\n",
       "3  df_a/df_b    buy   0.000000e+00      0.0"
      ]
     },
     "execution_count": 34,
     "metadata": {},
     "output_type": "execute_result"
    }
   ],
   "source": [
    "# Результат\n",
    "df_abtest"
   ]
  },
  {
   "cell_type": "markdown",
   "id": "db4d3ffe-7715-4243-954f-1ddc3a38fa0e",
   "metadata": {},
   "source": [
    "Поскольку pvalue меньше 0.05, нулевая гипотеза отвергается. Равенство долей не подтверждается."
   ]
  },
  {
   "cell_type": "markdown",
   "id": "6927c7ba-c86b-4100-92b1-98376669ad7b",
   "metadata": {},
   "source": [
    "Вывод: Тесты на нормальность и равенство долей говорят нам о разнородности датасетов.  \n",
    "Возможно, не просто добиться идеальной выборки.  \n",
    "При этом, поведение А и С групп схожее, в то время как поведение пользователей группы B заметно отличается.  \n",
    "Показатели, \"Purchase rate\" и \"GMV\" у группы B, заметно выше."
   ]
  },
  {
   "cell_type": "code",
   "execution_count": null,
   "id": "73472480-875f-4b02-8734-3f5e27e5ca1e",
   "metadata": {},
   "outputs": [],
   "source": []
  }
 ],
 "metadata": {
  "kernelspec": {
   "display_name": "Python 3 (ipykernel)",
   "language": "python",
   "name": "python3"
  },
  "language_info": {
   "codemirror_mode": {
    "name": "ipython",
    "version": 3
   },
   "file_extension": ".py",
   "mimetype": "text/x-python",
   "name": "python",
   "nbconvert_exporter": "python",
   "pygments_lexer": "ipython3",
   "version": "3.7.16"
  }
 },
 "nbformat": 4,
 "nbformat_minor": 5
}
