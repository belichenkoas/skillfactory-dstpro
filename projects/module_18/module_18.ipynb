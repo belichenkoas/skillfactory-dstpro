{
 "cells": [
  {
   "cell_type": "code",
   "execution_count": 1,
   "id": "14621a0b-70b2-4e17-8037-669f221dbd48",
   "metadata": {},
   "outputs": [
    {
     "name": "stderr",
     "output_type": "stream",
     "text": [
      "C:\\Users\\Lyo\\Anaconda3\\lib\\site-packages\\lightfm\\_lightfm_fast.py:9: UserWarning: LightFM was compiled without OpenMP support. Only a single thread will be used.\n",
      "  warnings.warn('LightFM was compiled without OpenMP support. '\n"
     ]
    }
   ],
   "source": [
    "import numpy as np\n",
    "import pandas as pd\n",
    "import annoy\n",
    "import pickle\n",
    "import re\n",
    "import lightfm\n",
    "import scipy\n",
    "import tqdm\n",
    "from tqdm import tqdm_notebook\n",
    "\n",
    "import string\n",
    "from pymorphy2 import MorphAnalyzer\n",
    "from stop_words import get_stop_words\n",
    "from gensim.models import FastText\n",
    "from gensim.models import Word2Vec\n",
    "\n",
    "from sklearn.model_selection import train_test_split"
   ]
  },
  {
   "cell_type": "code",
   "execution_count": 2,
   "id": "65a39914-e284-4887-8d16-bdeb090d0f90",
   "metadata": {},
   "outputs": [],
   "source": [
    "SIZE = length_vector = 20"
   ]
  },
  {
   "cell_type": "code",
   "execution_count": 3,
   "id": "e869f2b1-09fb-489c-a17f-2cff77604da2",
   "metadata": {},
   "outputs": [],
   "source": [
    "DATADIR = 'data'"
   ]
  },
  {
   "cell_type": "markdown",
   "id": "cc548b96-3c41-49b7-9cb3-8594de25aed2",
   "metadata": {},
   "source": [
    "Загружаем датасеты"
   ]
  },
  {
   "cell_type": "code",
   "execution_count": 4,
   "id": "c42c30f1-5778-42bb-9632-9ebf8372ff9d",
   "metadata": {},
   "outputs": [
    {
     "name": "stderr",
     "output_type": "stream",
     "text": [
      "C:\\Users\\Lyo\\Anaconda3\\lib\\site-packages\\IPython\\core\\interactiveshell.py:3186: DtypeWarning: Columns (1) have mixed types.Specify dtype option on import or set low_memory=False.\n",
      "  interactivity=interactivity, compiler=compiler, result=result)\n"
     ]
    }
   ],
   "source": [
    "# Чеки\n",
    "checks = pd.read_csv('/'.join([DATADIR, 'чековые данные.csv']))\n",
    "\n",
    "# Информация о товарах\n",
    "with open('/'.join([DATADIR, 'Product_dict.pkl']), 'rb') as file:\n",
    "    products = pickle.load(file)"
   ]
  },
  {
   "cell_type": "markdown",
   "id": "d224db61-2fd9-45f9-9f85-c598603103cf",
   "metadata": {},
   "source": [
    "Посмотрим на данные"
   ]
  },
  {
   "cell_type": "code",
   "execution_count": 5,
   "id": "c45eda3e-ea08-4918-be05-a7683af3a798",
   "metadata": {},
   "outputs": [
    {
     "name": "stdout",
     "output_type": "stream",
     "text": [
      "<class 'pandas.core.frame.DataFrame'>\n",
      "RangeIndex: 20000003 entries, 0 to 20000002\n",
      "Data columns (total 9 columns):\n",
      " #   Column                   Dtype  \n",
      "---  ------                   -----  \n",
      " 0   sale_date_date           object \n",
      " 1   contact_id               object \n",
      " 2   shop_id                  float64\n",
      " 3   product_id               float64\n",
      " 4   name                     object \n",
      " 5   product_sub_category_id  float64\n",
      " 6   product_category_id      float64\n",
      " 7   brand_id                 float64\n",
      " 8   quantity                 object \n",
      "dtypes: float64(5), object(4)\n",
      "memory usage: 1.3+ GB\n"
     ]
    }
   ],
   "source": [
    "checks.info()"
   ]
  },
  {
   "cell_type": "code",
   "execution_count": 6,
   "id": "788e886d-462a-464b-ba92-c4d90a6f1f76",
   "metadata": {},
   "outputs": [
    {
     "data": {
      "text/html": [
       "<div>\n",
       "<style scoped>\n",
       "    .dataframe tbody tr th:only-of-type {\n",
       "        vertical-align: middle;\n",
       "    }\n",
       "\n",
       "    .dataframe tbody tr th {\n",
       "        vertical-align: top;\n",
       "    }\n",
       "\n",
       "    .dataframe thead th {\n",
       "        text-align: right;\n",
       "    }\n",
       "</style>\n",
       "<table border=\"1\" class=\"dataframe\">\n",
       "  <thead>\n",
       "    <tr style=\"text-align: right;\">\n",
       "      <th></th>\n",
       "      <th>sale_date_date</th>\n",
       "      <th>contact_id</th>\n",
       "      <th>shop_id</th>\n",
       "      <th>product_id</th>\n",
       "      <th>name</th>\n",
       "      <th>product_sub_category_id</th>\n",
       "      <th>product_category_id</th>\n",
       "      <th>brand_id</th>\n",
       "      <th>quantity</th>\n",
       "    </tr>\n",
       "  </thead>\n",
       "  <tbody>\n",
       "    <tr>\n",
       "      <th>0</th>\n",
       "      <td>2018-12-07</td>\n",
       "      <td>1260627</td>\n",
       "      <td>1455.0</td>\n",
       "      <td>168308.0</td>\n",
       "      <td>(197312) Пакет-майка 25см х 45см</td>\n",
       "      <td>906.0</td>\n",
       "      <td>205.0</td>\n",
       "      <td>-1.0</td>\n",
       "      <td>1,00</td>\n",
       "    </tr>\n",
       "    <tr>\n",
       "      <th>1</th>\n",
       "      <td>2018-12-07</td>\n",
       "      <td>198287</td>\n",
       "      <td>279.0</td>\n",
       "      <td>134832.0</td>\n",
       "      <td>(62448) Перекись водорода р-р наружн. 3% фл.по...</td>\n",
       "      <td>404.0</td>\n",
       "      <td>93.0</td>\n",
       "      <td>-1.0</td>\n",
       "      <td>1,00</td>\n",
       "    </tr>\n",
       "    <tr>\n",
       "      <th>2</th>\n",
       "      <td>2018-12-07</td>\n",
       "      <td>2418385</td>\n",
       "      <td>848.0</td>\n",
       "      <td>101384.0</td>\n",
       "      <td>(72183) Салициловая кислота р-р спирт 2% фл 40...</td>\n",
       "      <td>404.0</td>\n",
       "      <td>93.0</td>\n",
       "      <td>-1.0</td>\n",
       "      <td>1,00</td>\n",
       "    </tr>\n",
       "    <tr>\n",
       "      <th>3</th>\n",
       "      <td>2018-12-07</td>\n",
       "      <td>1285774</td>\n",
       "      <td>1511.0</td>\n",
       "      <td>168570.0</td>\n",
       "      <td>(197309) Пакет 28см х 50см</td>\n",
       "      <td>906.0</td>\n",
       "      <td>205.0</td>\n",
       "      <td>-1.0</td>\n",
       "      <td>1,00</td>\n",
       "    </tr>\n",
       "    <tr>\n",
       "      <th>4</th>\n",
       "      <td>2018-12-07</td>\n",
       "      <td>1810323</td>\n",
       "      <td>1501.0</td>\n",
       "      <td>168319.0</td>\n",
       "      <td>(197310) Пакет 30см х 60см</td>\n",
       "      <td>906.0</td>\n",
       "      <td>205.0</td>\n",
       "      <td>-1.0</td>\n",
       "      <td>1,00</td>\n",
       "    </tr>\n",
       "  </tbody>\n",
       "</table>\n",
       "</div>"
      ],
      "text/plain": [
       "  sale_date_date contact_id  shop_id  product_id  \\\n",
       "0     2018-12-07    1260627   1455.0    168308.0   \n",
       "1     2018-12-07     198287    279.0    134832.0   \n",
       "2     2018-12-07    2418385    848.0    101384.0   \n",
       "3     2018-12-07    1285774   1511.0    168570.0   \n",
       "4     2018-12-07    1810323   1501.0    168319.0   \n",
       "\n",
       "                                                name  product_sub_category_id  \\\n",
       "0                   (197312) Пакет-майка 25см х 45см                    906.0   \n",
       "1  (62448) Перекись водорода р-р наружн. 3% фл.по...                    404.0   \n",
       "2  (72183) Салициловая кислота р-р спирт 2% фл 40...                    404.0   \n",
       "3                         (197309) Пакет 28см х 50см                    906.0   \n",
       "4                         (197310) Пакет 30см х 60см                    906.0   \n",
       "\n",
       "   product_category_id  brand_id quantity  \n",
       "0                205.0      -1.0     1,00  \n",
       "1                 93.0      -1.0     1,00  \n",
       "2                 93.0      -1.0     1,00  \n",
       "3                205.0      -1.0     1,00  \n",
       "4                205.0      -1.0     1,00  "
      ]
     },
     "execution_count": 6,
     "metadata": {},
     "output_type": "execute_result"
    }
   ],
   "source": [
    "checks.head()"
   ]
  },
  {
   "cell_type": "code",
   "execution_count": 7,
   "id": "343139b1-173f-4805-999f-159e60256aa0",
   "metadata": {},
   "outputs": [
    {
     "data": {
      "text/html": [
       "<div>\n",
       "<style scoped>\n",
       "    .dataframe tbody tr th:only-of-type {\n",
       "        vertical-align: middle;\n",
       "    }\n",
       "\n",
       "    .dataframe tbody tr th {\n",
       "        vertical-align: top;\n",
       "    }\n",
       "\n",
       "    .dataframe thead th {\n",
       "        text-align: right;\n",
       "    }\n",
       "</style>\n",
       "<table border=\"1\" class=\"dataframe\">\n",
       "  <thead>\n",
       "    <tr style=\"text-align: right;\">\n",
       "      <th></th>\n",
       "      <th>0</th>\n",
       "    </tr>\n",
       "  </thead>\n",
       "  <tbody>\n",
       "    <tr>\n",
       "      <th>168308</th>\n",
       "      <td>(197312) Пакет-майка 25см х 45см 906</td>\n",
       "    </tr>\n",
       "    <tr>\n",
       "      <th>134832</th>\n",
       "      <td>(62448) Перекись водорода р-р наружн. 3% фл.по...</td>\n",
       "    </tr>\n",
       "    <tr>\n",
       "      <th>101384</th>\n",
       "      <td>(72183) Салициловая кислота р-р спирт 2% фл 40...</td>\n",
       "    </tr>\n",
       "    <tr>\n",
       "      <th>168570</th>\n",
       "      <td>(197309) Пакет 28см х 50см 906</td>\n",
       "    </tr>\n",
       "    <tr>\n",
       "      <th>146960</th>\n",
       "      <td>(111023) Пакет \"Аптека Озерки\" 28 х 35см 906</td>\n",
       "    </tr>\n",
       "  </tbody>\n",
       "</table>\n",
       "</div>"
      ],
      "text/plain": [
       "                                                        0\n",
       "168308               (197312) Пакет-майка 25см х 45см 906\n",
       "134832  (62448) Перекись водорода р-р наружн. 3% фл.по...\n",
       "101384  (72183) Салициловая кислота р-р спирт 2% фл 40...\n",
       "168570                     (197309) Пакет 28см х 50см 906\n",
       "146960       (111023) Пакет \"Аптека Озерки\" 28 х 35см 906"
      ]
     },
     "execution_count": 7,
     "metadata": {},
     "output_type": "execute_result"
    }
   ],
   "source": [
    "pd.DataFrame.from_dict(products, orient='index').head()"
   ]
  },
  {
   "cell_type": "code",
   "execution_count": 8,
   "id": "2e220eef-8a41-48de-b771-5dd0601931b7",
   "metadata": {},
   "outputs": [],
   "source": [
    "# Удалим NA\n",
    "checks.dropna(inplace=True)\n",
    "# В конце файла левые записи, отфильтруем\n",
    "checks = checks[checks.sale_date_date.str.startswith('20')]"
   ]
  },
  {
   "cell_type": "code",
   "execution_count": 9,
   "id": "36f07a48-ade4-4e9f-945e-0ca193ada111",
   "metadata": {
    "tags": []
   },
   "outputs": [],
   "source": [
    "# Преобразуем sale_date_date\n",
    "checks.sale_date_date=pd.to_datetime(checks.sale_date_date)"
   ]
  },
  {
   "cell_type": "code",
   "execution_count": 10,
   "id": "216ce406-e6cf-46b1-a8d6-8bb4364c9af5",
   "metadata": {},
   "outputs": [],
   "source": [
    "# Наименование содержится в обоих датасетах.\n",
    "checks.drop(['name'], axis=1, inplace=True)"
   ]
  },
  {
   "cell_type": "code",
   "execution_count": 11,
   "id": "49b5d79f-01f0-4fbf-a511-8acd107902e4",
   "metadata": {},
   "outputs": [],
   "source": [
    "# Конвертируем quantity в float\n",
    "checks['quantity'] = checks['quantity'].apply(lambda x: float(x.replace(',', '.')))\n",
    "# Остальные в int\n",
    "checks['shop_id'] = checks['shop_id'].apply(int)\n",
    "checks['product_id'] = checks['product_id'].apply(int)\n",
    "checks['product_category_id'] = checks['product_category_id'].apply(int)"
   ]
  },
  {
   "cell_type": "code",
   "execution_count": 12,
   "id": "2ca2aba6-a9cf-4003-872b-83497f89c170",
   "metadata": {},
   "outputs": [
    {
     "data": {
      "text/html": [
       "<div>\n",
       "<style scoped>\n",
       "    .dataframe tbody tr th:only-of-type {\n",
       "        vertical-align: middle;\n",
       "    }\n",
       "\n",
       "    .dataframe tbody tr th {\n",
       "        vertical-align: top;\n",
       "    }\n",
       "\n",
       "    .dataframe thead th {\n",
       "        text-align: right;\n",
       "    }\n",
       "</style>\n",
       "<table border=\"1\" class=\"dataframe\">\n",
       "  <thead>\n",
       "    <tr style=\"text-align: right;\">\n",
       "      <th></th>\n",
       "      <th>sale_date_date</th>\n",
       "      <th>contact_id</th>\n",
       "      <th>shop_id</th>\n",
       "      <th>product_id</th>\n",
       "      <th>product_sub_category_id</th>\n",
       "      <th>product_category_id</th>\n",
       "      <th>brand_id</th>\n",
       "      <th>quantity</th>\n",
       "      <th>group_column</th>\n",
       "    </tr>\n",
       "  </thead>\n",
       "  <tbody>\n",
       "    <tr>\n",
       "      <th>0</th>\n",
       "      <td>2018-12-07</td>\n",
       "      <td>1260627</td>\n",
       "      <td>1455</td>\n",
       "      <td>168308</td>\n",
       "      <td>906.0</td>\n",
       "      <td>205</td>\n",
       "      <td>-1.0</td>\n",
       "      <td>1.0</td>\n",
       "      <td>2018-12-07 00:00:00_1260627_1455</td>\n",
       "    </tr>\n",
       "    <tr>\n",
       "      <th>1</th>\n",
       "      <td>2018-12-07</td>\n",
       "      <td>198287</td>\n",
       "      <td>279</td>\n",
       "      <td>134832</td>\n",
       "      <td>404.0</td>\n",
       "      <td>93</td>\n",
       "      <td>-1.0</td>\n",
       "      <td>1.0</td>\n",
       "      <td>2018-12-07 00:00:00_198287_279</td>\n",
       "    </tr>\n",
       "    <tr>\n",
       "      <th>2</th>\n",
       "      <td>2018-12-07</td>\n",
       "      <td>2418385</td>\n",
       "      <td>848</td>\n",
       "      <td>101384</td>\n",
       "      <td>404.0</td>\n",
       "      <td>93</td>\n",
       "      <td>-1.0</td>\n",
       "      <td>1.0</td>\n",
       "      <td>2018-12-07 00:00:00_2418385_848</td>\n",
       "    </tr>\n",
       "    <tr>\n",
       "      <th>3</th>\n",
       "      <td>2018-12-07</td>\n",
       "      <td>1285774</td>\n",
       "      <td>1511</td>\n",
       "      <td>168570</td>\n",
       "      <td>906.0</td>\n",
       "      <td>205</td>\n",
       "      <td>-1.0</td>\n",
       "      <td>1.0</td>\n",
       "      <td>2018-12-07 00:00:00_1285774_1511</td>\n",
       "    </tr>\n",
       "    <tr>\n",
       "      <th>4</th>\n",
       "      <td>2018-12-07</td>\n",
       "      <td>1810323</td>\n",
       "      <td>1501</td>\n",
       "      <td>168319</td>\n",
       "      <td>906.0</td>\n",
       "      <td>205</td>\n",
       "      <td>-1.0</td>\n",
       "      <td>1.0</td>\n",
       "      <td>2018-12-07 00:00:00_1810323_1501</td>\n",
       "    </tr>\n",
       "    <tr>\n",
       "      <th>...</th>\n",
       "      <td>...</td>\n",
       "      <td>...</td>\n",
       "      <td>...</td>\n",
       "      <td>...</td>\n",
       "      <td>...</td>\n",
       "      <td>...</td>\n",
       "      <td>...</td>\n",
       "      <td>...</td>\n",
       "      <td>...</td>\n",
       "    </tr>\n",
       "    <tr>\n",
       "      <th>19999995</th>\n",
       "      <td>2018-06-13</td>\n",
       "      <td>1601618</td>\n",
       "      <td>1499</td>\n",
       "      <td>66842</td>\n",
       "      <td>615.0</td>\n",
       "      <td>140</td>\n",
       "      <td>1838.0</td>\n",
       "      <td>1.0</td>\n",
       "      <td>2018-06-13 00:00:00_1601618_1499</td>\n",
       "    </tr>\n",
       "    <tr>\n",
       "      <th>19999996</th>\n",
       "      <td>2018-06-13</td>\n",
       "      <td>1394104</td>\n",
       "      <td>1495</td>\n",
       "      <td>136795</td>\n",
       "      <td>738.0</td>\n",
       "      <td>170</td>\n",
       "      <td>-1.0</td>\n",
       "      <td>1.0</td>\n",
       "      <td>2018-06-13 00:00:00_1394104_1495</td>\n",
       "    </tr>\n",
       "    <tr>\n",
       "      <th>19999997</th>\n",
       "      <td>2018-06-13</td>\n",
       "      <td>1570654</td>\n",
       "      <td>1516</td>\n",
       "      <td>119513</td>\n",
       "      <td>738.0</td>\n",
       "      <td>170</td>\n",
       "      <td>-1.0</td>\n",
       "      <td>1.0</td>\n",
       "      <td>2018-06-13 00:00:00_1570654_1516</td>\n",
       "    </tr>\n",
       "    <tr>\n",
       "      <th>19999998</th>\n",
       "      <td>2018-06-13</td>\n",
       "      <td>1924036</td>\n",
       "      <td>1485</td>\n",
       "      <td>71723</td>\n",
       "      <td>637.0</td>\n",
       "      <td>146</td>\n",
       "      <td>-1.0</td>\n",
       "      <td>1.0</td>\n",
       "      <td>2018-06-13 00:00:00_1924036_1485</td>\n",
       "    </tr>\n",
       "    <tr>\n",
       "      <th>19999999</th>\n",
       "      <td>2018-06-13</td>\n",
       "      <td>1788779</td>\n",
       "      <td>1503</td>\n",
       "      <td>66164</td>\n",
       "      <td>622.0</td>\n",
       "      <td>142</td>\n",
       "      <td>-1.0</td>\n",
       "      <td>1.0</td>\n",
       "      <td>2018-06-13 00:00:00_1788779_1503</td>\n",
       "    </tr>\n",
       "  </tbody>\n",
       "</table>\n",
       "<p>19989262 rows × 9 columns</p>\n",
       "</div>"
      ],
      "text/plain": [
       "         sale_date_date contact_id  shop_id  product_id  \\\n",
       "0            2018-12-07    1260627     1455      168308   \n",
       "1            2018-12-07     198287      279      134832   \n",
       "2            2018-12-07    2418385      848      101384   \n",
       "3            2018-12-07    1285774     1511      168570   \n",
       "4            2018-12-07    1810323     1501      168319   \n",
       "...                 ...        ...      ...         ...   \n",
       "19999995     2018-06-13    1601618     1499       66842   \n",
       "19999996     2018-06-13    1394104     1495      136795   \n",
       "19999997     2018-06-13    1570654     1516      119513   \n",
       "19999998     2018-06-13    1924036     1485       71723   \n",
       "19999999     2018-06-13    1788779     1503       66164   \n",
       "\n",
       "          product_sub_category_id  product_category_id  brand_id  quantity  \\\n",
       "0                           906.0                  205      -1.0       1.0   \n",
       "1                           404.0                   93      -1.0       1.0   \n",
       "2                           404.0                   93      -1.0       1.0   \n",
       "3                           906.0                  205      -1.0       1.0   \n",
       "4                           906.0                  205      -1.0       1.0   \n",
       "...                           ...                  ...       ...       ...   \n",
       "19999995                    615.0                  140    1838.0       1.0   \n",
       "19999996                    738.0                  170      -1.0       1.0   \n",
       "19999997                    738.0                  170      -1.0       1.0   \n",
       "19999998                    637.0                  146      -1.0       1.0   \n",
       "19999999                    622.0                  142      -1.0       1.0   \n",
       "\n",
       "                              group_column  \n",
       "0         2018-12-07 00:00:00_1260627_1455  \n",
       "1           2018-12-07 00:00:00_198287_279  \n",
       "2          2018-12-07 00:00:00_2418385_848  \n",
       "3         2018-12-07 00:00:00_1285774_1511  \n",
       "4         2018-12-07 00:00:00_1810323_1501  \n",
       "...                                    ...  \n",
       "19999995  2018-06-13 00:00:00_1601618_1499  \n",
       "19999996  2018-06-13 00:00:00_1394104_1495  \n",
       "19999997  2018-06-13 00:00:00_1570654_1516  \n",
       "19999998  2018-06-13 00:00:00_1924036_1485  \n",
       "19999999  2018-06-13 00:00:00_1788779_1503  \n",
       "\n",
       "[19989262 rows x 9 columns]"
      ]
     },
     "execution_count": 12,
     "metadata": {},
     "output_type": "execute_result"
    }
   ],
   "source": [
    "# Сформируем новый признак на основе первых трёх колонок (с учётом даты продажи)\n",
    "checks['group_column'] = checks.sale_date_date.apply(str) + \"_\" + checks.contact_id.apply(str) + \"_\" + checks.shop_id.apply(str)\n",
    "checks"
   ]
  },
  {
   "cell_type": "code",
   "execution_count": 13,
   "id": "e93652a5-9088-4407-95c7-bb659ef5f709",
   "metadata": {},
   "outputs": [],
   "source": [
    "checks.sort_values('sale_date_date', inplace=True)"
   ]
  },
  {
   "cell_type": "code",
   "execution_count": 14,
   "id": "0bd38ad3-54b4-483e-ae94-87474991884c",
   "metadata": {},
   "outputs": [],
   "source": [
    "# Валидационная и тестовая выборка\n",
    "train, test = train_test_split(checks, test_size=0.2, shuffle=False)"
   ]
  },
  {
   "cell_type": "code",
   "execution_count": 15,
   "id": "cb718266-e716-4da7-95ac-1a65ece7e6de",
   "metadata": {},
   "outputs": [
    {
     "data": {
      "text/html": [
       "<div>\n",
       "<style scoped>\n",
       "    .dataframe tbody tr th:only-of-type {\n",
       "        vertical-align: middle;\n",
       "    }\n",
       "\n",
       "    .dataframe tbody tr th {\n",
       "        vertical-align: top;\n",
       "    }\n",
       "\n",
       "    .dataframe thead th {\n",
       "        text-align: right;\n",
       "    }\n",
       "</style>\n",
       "<table border=\"1\" class=\"dataframe\">\n",
       "  <thead>\n",
       "    <tr style=\"text-align: right;\">\n",
       "      <th></th>\n",
       "      <th>sale_date_date</th>\n",
       "      <th>contact_id</th>\n",
       "      <th>shop_id</th>\n",
       "      <th>product_id</th>\n",
       "      <th>product_sub_category_id</th>\n",
       "      <th>product_category_id</th>\n",
       "      <th>brand_id</th>\n",
       "      <th>quantity</th>\n",
       "      <th>group_column</th>\n",
       "    </tr>\n",
       "  </thead>\n",
       "  <tbody>\n",
       "    <tr>\n",
       "      <th>4744563</th>\n",
       "      <td>2018-01-01</td>\n",
       "      <td>127175</td>\n",
       "      <td>603</td>\n",
       "      <td>153822</td>\n",
       "      <td>439.0</td>\n",
       "      <td>101</td>\n",
       "      <td>-1.0</td>\n",
       "      <td>1.0</td>\n",
       "      <td>2018-01-01 00:00:00_127175_603</td>\n",
       "    </tr>\n",
       "    <tr>\n",
       "      <th>4773074</th>\n",
       "      <td>2018-01-01</td>\n",
       "      <td>1786329</td>\n",
       "      <td>1482</td>\n",
       "      <td>168570</td>\n",
       "      <td>906.0</td>\n",
       "      <td>205</td>\n",
       "      <td>-1.0</td>\n",
       "      <td>1.0</td>\n",
       "      <td>2018-01-01 00:00:00_1786329_1482</td>\n",
       "    </tr>\n",
       "    <tr>\n",
       "      <th>6689191</th>\n",
       "      <td>2018-01-01</td>\n",
       "      <td>1326823</td>\n",
       "      <td>1522</td>\n",
       "      <td>112760</td>\n",
       "      <td>577.0</td>\n",
       "      <td>130</td>\n",
       "      <td>-1.0</td>\n",
       "      <td>10.0</td>\n",
       "      <td>2018-01-01 00:00:00_1326823_1522</td>\n",
       "    </tr>\n",
       "    <tr>\n",
       "      <th>6689190</th>\n",
       "      <td>2018-01-01</td>\n",
       "      <td>1556808</td>\n",
       "      <td>1530</td>\n",
       "      <td>164413</td>\n",
       "      <td>762.0</td>\n",
       "      <td>176</td>\n",
       "      <td>2738.0</td>\n",
       "      <td>4.0</td>\n",
       "      <td>2018-01-01 00:00:00_1556808_1530</td>\n",
       "    </tr>\n",
       "    <tr>\n",
       "      <th>6689189</th>\n",
       "      <td>2018-01-01</td>\n",
       "      <td>1383494</td>\n",
       "      <td>1516</td>\n",
       "      <td>123127</td>\n",
       "      <td>404.0</td>\n",
       "      <td>93</td>\n",
       "      <td>-1.0</td>\n",
       "      <td>4.0</td>\n",
       "      <td>2018-01-01 00:00:00_1383494_1516</td>\n",
       "    </tr>\n",
       "  </tbody>\n",
       "</table>\n",
       "</div>"
      ],
      "text/plain": [
       "        sale_date_date contact_id  shop_id  product_id  \\\n",
       "4744563     2018-01-01     127175      603      153822   \n",
       "4773074     2018-01-01    1786329     1482      168570   \n",
       "6689191     2018-01-01    1326823     1522      112760   \n",
       "6689190     2018-01-01    1556808     1530      164413   \n",
       "6689189     2018-01-01    1383494     1516      123127   \n",
       "\n",
       "         product_sub_category_id  product_category_id  brand_id  quantity  \\\n",
       "4744563                    439.0                  101      -1.0       1.0   \n",
       "4773074                    906.0                  205      -1.0       1.0   \n",
       "6689191                    577.0                  130      -1.0      10.0   \n",
       "6689190                    762.0                  176    2738.0       4.0   \n",
       "6689189                    404.0                   93      -1.0       4.0   \n",
       "\n",
       "                             group_column  \n",
       "4744563    2018-01-01 00:00:00_127175_603  \n",
       "4773074  2018-01-01 00:00:00_1786329_1482  \n",
       "6689191  2018-01-01 00:00:00_1326823_1522  \n",
       "6689190  2018-01-01 00:00:00_1556808_1530  \n",
       "6689189  2018-01-01 00:00:00_1383494_1516  "
      ]
     },
     "execution_count": 15,
     "metadata": {},
     "output_type": "execute_result"
    }
   ],
   "source": [
    "train.head()"
   ]
  },
  {
   "cell_type": "markdown",
   "id": "7ba5f19d-4261-4a00-9648-32964144140b",
   "metadata": {},
   "source": [
    "#### Контентные рекомендации"
   ]
  },
  {
   "cell_type": "markdown",
   "id": "be9fb778-13df-490e-87d5-038986938f9f",
   "metadata": {},
   "source": [
    "Препроцессинг текста"
   ]
  },
  {
   "cell_type": "code",
   "execution_count": 16,
   "id": "853f8fcf-5ece-4c8e-8b00-eddd5a4ed5f0",
   "metadata": {},
   "outputs": [],
   "source": [
    "exclude = set(string.punctuation)\n",
    "stop_w = set(get_stop_words(language='ru'))\n",
    "morpher = MorphAnalyzer()"
   ]
  },
  {
   "cell_type": "code",
   "execution_count": 17,
   "id": "1eb88ffb-81c0-4d34-90dd-90ef5c2d26b0",
   "metadata": {},
   "outputs": [],
   "source": [
    "# Компилируем шаблоны для быстрой обработки\n",
    "symbols_pattern = re.compile(pattern = \"[\"\n",
    "                            \"@_!#№$%^&*()<>?/\\|}{~:√•\"\n",
    "                            \"]+\", flags = re.UNICODE)\n",
    "single_pattern = re.compile(r'\\s+[a-zA-Zа-яА-Я]\\s+')\n",
    "# Двойные пробелы\n",
    "space_pattern = re.compile(r'\\s+')"
   ]
  },
  {
   "cell_type": "code",
   "execution_count": 18,
   "id": "6d1a5617-422d-4cbd-b31f-6ca6df8a382c",
   "metadata": {},
   "outputs": [],
   "source": [
    "def clear_text(text):\n",
    "    \"\"\" Функция удаления спецсимволов\"\"\"\n",
    "    # Удаление спецсимволов\n",
    "    text = re.sub(r'\\W', ' ', str(text))\n",
    "    text = symbols_pattern.sub(r' ', str(text))\n",
    "    \n",
    "    # Удалим все цифры\n",
    "    text = re.sub(r'\\d', ' ', str(text))\n",
    "\n",
    "    # Одиночные буквы\n",
    "    text = single_pattern.sub(r' ', text)\n",
    "\n",
    "    # Двойные пробелы\n",
    "    text = space_pattern.sub(' ', text)\n",
    "    \n",
    "    return text\n"
   ]
  },
  {
   "cell_type": "code",
   "execution_count": 19,
   "id": "d08a4675-d0ae-4d21-af45-b15752b50f57",
   "metadata": {},
   "outputs": [],
   "source": [
    "def preprocess_text(text):\n",
    "    \"\"\" Обработка текста \"\"\"\n",
    "    # srip + lower + punctuation\n",
    "    sentence = ''.join([x for x in str(text).strip().lower() if x not in exclude])\n",
    "    \n",
    "    # Очистка\n",
    "    sentence = clear_text(sentence)\n",
    "    \n",
    "    # Лемматизация и стопслова\n",
    "    sentence = ' '.join([morpher.parse(word)[0].normal_form for word in sentence.split() if word not in stop_w])\n",
    "    return [x for x in sentence.split() if len(x)>2]"
   ]
  },
  {
   "cell_type": "code",
   "execution_count": 20,
   "id": "bd9d8b40-8ecf-430d-86b8-565ed170927f",
   "metadata": {},
   "outputs": [],
   "source": [
    "# Обрабатываем наименования товаров\n",
    "sentences = [preprocess_text(v) for k,v in products.items()]"
   ]
  },
  {
   "cell_type": "code",
   "execution_count": 21,
   "id": "f0128b03-8d9d-4cf2-87af-960a9d30cbc9",
   "metadata": {},
   "outputs": [
    {
     "data": {
      "text/plain": [
       "[['пакетмайк', 'смотреть', 'смотреть'],\n",
       " ['перекись', 'водород', 'наружн', 'флполимерна'],\n",
       " ['салициловый', 'кислота', 'спирт'],\n",
       " ['пакет', 'смотреть', 'смотреть'],\n",
       " ['пакет', 'аптека', 'озерко', 'смотреть']]"
      ]
     },
     "execution_count": 21,
     "metadata": {},
     "output_type": "execute_result"
    }
   ],
   "source": [
    "sentences[:5]"
   ]
  },
  {
   "cell_type": "code",
   "execution_count": 22,
   "id": "4f78f356-afb8-4ca7-beac-50663affe273",
   "metadata": {},
   "outputs": [],
   "source": [
    "# Обучим Fasttext\n",
    "modelFT = FastText(sentences=sentences, size=SIZE, min_count=1, window=5)"
   ]
  },
  {
   "cell_type": "code",
   "execution_count": 23,
   "id": "cd804b7d-e16d-4e75-b3ff-18a9a7f5a7a1",
   "metadata": {},
   "outputs": [],
   "source": [
    "with open('/'.join([DATADIR, 'modelFT.dump']), 'wb') as file:\n",
    "    pickle.dump(modelFT, file)"
   ]
  },
  {
   "cell_type": "code",
   "execution_count": 24,
   "id": "7c9279a2-64b5-415e-ae7f-ea3529ac0b51",
   "metadata": {},
   "outputs": [],
   "source": [
    "def get_vector(sent, model):\n",
    "    \"\"\" Функция возвращает вектор предложения \"\"\"\n",
    "    n_w2v = 0\n",
    "    vector = np.zeros(length_vector)\n",
    "    for word in sent:\n",
    "        if word in model.wv:\n",
    "            vector += model.wv[word]\n",
    "            n_w2v += 1\n",
    "    if n_w2v > 0:\n",
    "        vector = vector / n_w2v\n",
    "    return vector"
   ]
  },
  {
   "cell_type": "code",
   "execution_count": 25,
   "id": "ce19a0a8-f6fe-45b0-bcfc-4c9f6caedbad",
   "metadata": {},
   "outputs": [
    {
     "data": {
      "text/plain": [
       "True"
      ]
     },
     "execution_count": 25,
     "metadata": {},
     "output_type": "execute_result"
    }
   ],
   "source": [
    "# Строим индексы\n",
    "index = annoy.AnnoyIndex(SIZE, 'angular')\n",
    "\n",
    "index_map = {}\n",
    "counter = 0\n",
    "\n",
    "for k, v in products.items():\n",
    "    index_map[counter] = (k, v)\n",
    "    \n",
    "    index.add_item(counter, get_vector(clear_text(v), modelFT)) \n",
    "    counter += 1\n",
    "\n",
    "index.build(10)"
   ]
  },
  {
   "cell_type": "code",
   "execution_count": 26,
   "id": "eaeedc46-98ec-4ca1-a78b-be441b5cbe9b",
   "metadata": {},
   "outputs": [],
   "source": [
    "def get_recommendation(items:list):\n",
    "    \"\"\" Функция возвращает рекомендованный список товаров \"\"\"\n",
    "    # Количество товаров\n",
    "    cnt = len(items)\n",
    "    \n",
    "    vector = np.zeros(length_vector)\n",
    "    # Усредним все векторы\n",
    "    for id in items:\n",
    "        vector += get_vector(clear_text(products[f'{id}']), modelFT)\n",
    "    # Взвращаем в виде (id, name), исключая оригинальное совпадение\n",
    "    return [(index_map[x][0], products[index_map[x][0]]) for x in index.get_nns_by_vector(vector/cnt, 10) if int(index_map[x][0]) not in items]"
   ]
  },
  {
   "cell_type": "code",
   "execution_count": 27,
   "id": "7386b740-baa7-4435-8a75-83cfeb85c20e",
   "metadata": {},
   "outputs": [
    {
     "name": "stdout",
     "output_type": "stream",
     "text": [
      "Интересует: (57733) Корвалол капли д/приема внутрь 25мл 738\n",
      "Рекомендации на основе content-based (варианты):\n"
     ]
    },
    {
     "data": {
      "text/plain": [
       "[('165144', '(195223) Корвалол капли д/приема внутрь 25мл 738'),\n",
       " ('54295', '(40304) Корвалол капли д/приема внутрь 25мл 738'),\n",
       " ('111555', '(44903) Корвалол капли д/приема внутрь 15мл -1'),\n",
       " ('106107', '(116503) Корвалол капли д/приема внутрь 50мл -1'),\n",
       " ('159605', '(182746) Корвалол капли д/приема внутрь 50мл 631'),\n",
       " ('24714', '(97167) Корвалол капли д/приема внутрь 50мл -1'),\n",
       " ('54621', '(65447) Корвалол капли д/приема внутрь 50мл 738'),\n",
       " ('67170', '(61374) Корвалол капли д/приема внутрь 25мл 738'),\n",
       " ('124458', '(42890) Корвалол капли д/приема внутрь 25мл 738')]"
      ]
     },
     "execution_count": 27,
     "metadata": {},
     "output_type": "execute_result"
    }
   ],
   "source": [
    "# Если интересуется одним товаром\n",
    "prod_id = 110629\n",
    "print('Интересует:', products[f'{prod_id}'])\n",
    "print('Рекомендации на основе content-based (варианты):') \n",
    "get_recommendation([prod_id])"
   ]
  },
  {
   "cell_type": "markdown",
   "id": "81f37a45-1d95-44a7-83a9-23fd19f8295d",
   "metadata": {},
   "source": [
    "Модель предложила близкие по значению варианты, дозировки. "
   ]
  },
  {
   "cell_type": "code",
   "execution_count": 28,
   "id": "54a57836-715c-4256-b135-da64895eb4a6",
   "metadata": {},
   "outputs": [
    {
     "data": {
      "text/plain": [
       "[('192620',\n",
       "  '(194901) Медик-о-Планет Шприц одноразовый 3-комп.с иглой 21G 0,8х40мм 20мл №1 762'),\n",
       " ('192505',\n",
       "  '(194900) Медик-о-Планет Шприц одноразовый 3-комп.с иглой 23G (0,6х30мм) 3мл №1 762'),\n",
       " ('101037', '(33021) Пирацетам р-р д/и 20% амп/поддон 5мл N10 -1'),\n",
       " ('153870',\n",
       "  '(122362) Виши ЛифтАктив Супрем крем д/нормальной кожи 50мл + термальная вода 50мл (подарок) 679'),\n",
       " ('51207',\n",
       "  '(58653) Раптор Пластины Новая Формула от комаров б/запаха в мини-прилавке арт.D1823M 561'),\n",
       " ('82297',\n",
       "  '(102920) ГринФарма ФармаВолюм шампунь для объема для тонких и хрупких волос 500мл -1'),\n",
       " ('163411', '(186147) Ляпко Аппликатор одинарный (6,2мм иглы) 407'),\n",
       " ('150352', '(15583) Папаверина гидрохлорид р-р 2% амп 2мл N10 397'),\n",
       " ('130332', '(113736) Папаверина гидрохлорид р-р 2% амп 2мл N10 397'),\n",
       " ('79736', '(61049) Папаверина гидрохлорид р-р 2% амп 2мл N10 397')]"
      ]
     },
     "execution_count": 28,
     "metadata": {},
     "output_type": "execute_result"
    }
   ],
   "source": [
    "# Серия товаров\n",
    "# В функцию get_recommendation мы заложили возможность анализа списка товаров\n",
    "get_recommendation([158600, 143709])"
   ]
  },
  {
   "cell_type": "code",
   "execution_count": 29,
   "id": "e9c829a8-764c-421f-b3b3-289330ab9ec5",
   "metadata": {},
   "outputs": [],
   "source": [
    "# Обучение эмбеддингов по последовательности\n",
    "train['product_id'] = train['product_id'].apply(str)\n",
    "grouped = train.groupby('group_column')\n",
    "sentences = []"
   ]
  },
  {
   "cell_type": "code",
   "execution_count": 30,
   "id": "a53265e5-7b0c-411d-b9b7-46899669335e",
   "metadata": {
    "tags": []
   },
   "outputs": [
    {
     "name": "stderr",
     "output_type": "stream",
     "text": [
      "C:\\Users\\Lyo\\Anaconda3\\lib\\site-packages\\ipykernel_launcher.py:3: TqdmDeprecationWarning: This function will be removed in tqdm==5.0.0\n",
      "Please use `tqdm.notebook.tqdm` instead of `tqdm.tqdm_notebook`\n",
      "  This is separate from the ipykernel package so we can avoid doing imports until\n"
     ]
    },
    {
     "data": {
      "application/vnd.jupyter.widget-view+json": {
       "model_id": "808c91cdde274c1aba32501323cb96ab",
       "version_major": 2,
       "version_minor": 0
      },
      "text/plain": [
       "  0%|          | 0/4786198 [00:00<?, ?it/s]"
      ]
     },
     "metadata": {},
     "output_type": "display_data"
    }
   ],
   "source": [
    "# Сформируем последовательности\n",
    "sentences = []\n",
    "for group in tqdm_notebook(grouped.groups):\n",
    "    items = grouped.get_group(group)['product_id'].values\n",
    "    if len(items) < 3:\n",
    "        continue\n",
    "    sentences.append(list(items))"
   ]
  },
  {
   "cell_type": "code",
   "execution_count": 31,
   "id": "fabf15f6-ebe1-4f5c-8518-aa1f58455c90",
   "metadata": {},
   "outputs": [
    {
     "data": {
      "text/plain": [
       "['62087', '120171', '69028']"
      ]
     },
     "execution_count": 31,
     "metadata": {},
     "output_type": "execute_result"
    }
   ],
   "source": [
    "sentences[0]"
   ]
  },
  {
   "cell_type": "code",
   "execution_count": 32,
   "id": "c1359e9e-c38a-4b05-937e-cc215679b646",
   "metadata": {},
   "outputs": [],
   "source": [
    "# Обучим модель Word2Vec\n",
    "modelW2V = Word2Vec(sentences, size=SIZE)"
   ]
  },
  {
   "cell_type": "code",
   "execution_count": 33,
   "id": "1aeb8d19-7413-44c4-8795-338b64e95c47",
   "metadata": {},
   "outputs": [],
   "source": [
    "with open('/'.join([DATADIR, 'modelW2V.dump']), 'wb') as file:\n",
    "    pickle.dump(modelW2V, file)"
   ]
  },
  {
   "cell_type": "code",
   "execution_count": 34,
   "id": "429cfade-4c35-42be-ac34-7f575fd11812",
   "metadata": {},
   "outputs": [],
   "source": [
    "def recommend_w2v(items_list):\n",
    "    \"\"\" Функция возвращает рекомендации анализируя последовательность\"\"\"\n",
    "    current_vector = get_vector(items_list, modelW2V)\n",
    "    return [products[i[0]] for i in modelW2V.similar_by_vector(current_vector, 10)]"
   ]
  },
  {
   "cell_type": "code",
   "execution_count": 35,
   "id": "fa3d1d50-8219-40f1-a1f3-3c334e9b4799",
   "metadata": {},
   "outputs": [
    {
     "data": {
      "text/plain": [
       "['(103007) Билобил интенс 120 капс.№60 639',\n",
       " '(112042) Дузофарм таб. п.п.о.50мг №90 736',\n",
       " '(25405) Эриус сироп фл.60мл №1 395',\n",
       " '(41834) Аскорил Экспекторант сироп 100мл 550']"
      ]
     },
     "execution_count": 35,
     "metadata": {},
     "output_type": "execute_result"
    }
   ],
   "source": [
    "# В корзине\n",
    "[products[x] for x in ['99821', '138583', '45321', '134475']]"
   ]
  },
  {
   "cell_type": "code",
   "execution_count": 36,
   "id": "bf767626-fe71-4ade-b9dd-497b43e4d26b",
   "metadata": {},
   "outputs": [
    {
     "name": "stderr",
     "output_type": "stream",
     "text": [
      "C:\\Users\\Lyo\\Anaconda3\\lib\\site-packages\\ipykernel_launcher.py:4: DeprecationWarning: Call to deprecated `similar_by_vector` (Method will be removed in 4.0.0, use self.wv.similar_by_vector() instead).\n",
      "  after removing the cwd from sys.path.\n"
     ]
    },
    {
     "data": {
      "text/plain": [
       "['(121015) Момат Рино спрей наз.доз.50мкг/доза 120доз фл.с доз. 459',\n",
       " '(110018) Дезринит спрей наз.доз.50мкг/доза фл.18г 395',\n",
       " '(43714) Флуифорт 9гр/120мл сироп фл N1 700',\n",
       " '(105792) Назонекс наз спрей 50мкг/доза 60доз N1 701',\n",
       " '(2710) Тафен назаль спрей наз. доз. 50 мкг/доза 200 доз. 395',\n",
       " '(65551) Авамис спрей назальный 27,5 мкг/доза 120 доз 395',\n",
       " '(119001) Аква Марис Эктоин спрей назальный фл.20мл №1 701',\n",
       " '(47968) Ремо-вакс ушные капли 10 мл. 697',\n",
       " '(112733) Момат Рино Адванс спрей наз.доз.140мкг+50мкг/доза 150доз фл.с доз. 550',\n",
       " '(103962) Назонекс наз спрей 50мкг/доза 120доз N1 701']"
      ]
     },
     "execution_count": 36,
     "metadata": {},
     "output_type": "execute_result"
    }
   ],
   "source": [
    "# Рекомендации\n",
    "recommend_w2v(['99821', '138583', '45321', '134475'])"
   ]
  },
  {
   "cell_type": "markdown",
   "id": "a2485169-89f1-4987-b615-97c72147bfd6",
   "metadata": {},
   "source": [
    "#### Двухстадийная рекомендательная система"
   ]
  },
  {
   "cell_type": "markdown",
   "id": "b504473b-cd37-4f7c-a62a-f17406f66657",
   "metadata": {},
   "source": [
    "Кандидатогенераторы\n",
    "1. Похожие товары по наименованию\n",
    "2. Товары по группам\n",
    "3. Рандомные товары"
   ]
  },
  {
   "cell_type": "code",
   "execution_count": 37,
   "id": "b4b6dd46-f66d-4678-9cfb-4345092deb10",
   "metadata": {},
   "outputs": [],
   "source": [
    "# Подготовим dict для быстрого поиска групп и товаров одной группы\n",
    "products_category = {}\n",
    "category_dict = {}\n",
    "\n",
    "for product in [int(x) for x in products]:\n",
    "    groups = list(checks[checks.product_id == product].product_category_id.unique())\n",
    "    products_category[product] = groups\n",
    "    for group in groups:\n",
    "        if group not in category_dict:\n",
    "            category_dict[group] = []\n",
    "        category_dict[group].append(product)"
   ]
  },
  {
   "cell_type": "code",
   "execution_count": 38,
   "id": "46ea5253-e84a-4568-a60c-c6a52f58b49d",
   "metadata": {},
   "outputs": [],
   "source": [
    "with open('products_category.dump', 'wb') as file:\n",
    "    pickle.dump(products_category, file)\n",
    "\n",
    "with open('category_dict.dump', 'wb') as file:\n",
    "    pickle.dump(category_dict, file)\n"
   ]
  },
  {
   "cell_type": "markdown",
   "id": "fc0fb883-375b-4916-b7f8-b0a1c783dcde",
   "metadata": {},
   "source": [
    "Создадим метод, который возвращает случайные варианты из предложенного списка. 5 шт достаточно."
   ]
  },
  {
   "cell_type": "code",
   "execution_count": 39,
   "id": "f8ba4be7-8a7a-45e7-92cb-a0d67b8f7c70",
   "metadata": {},
   "outputs": [],
   "source": [
    "def rand_recommendation(samples, num_res=5)->list:\n",
    "    \"\"\" Возвращает случайный список \"\"\"\n",
    "    assert len(samples) >= num_res\n",
    "    return list(np.random.choice(samples, num_res, replace=False))"
   ]
  },
  {
   "cell_type": "code",
   "execution_count": 40,
   "id": "c16d9302-cb4d-4895-bae9-b0c58ce5031a",
   "metadata": {},
   "outputs": [],
   "source": [
    "def candidates_generator(item_id) -> list:\n",
    "    \"\"\" Функция генерирует кандидаты на основе id товара \"\"\"\n",
    "    candidates = []\n",
    "    if item_id is not None:\n",
    "        # Кандидаты по наименованию\n",
    "        candidates = [x[0] for x in get_recommendation([item_id])]\n",
    "        \n",
    "        # Кандидаты из той же группы товаров\n",
    "        # Выясняем группу\n",
    "        group_id = products_category[item_id]\n",
    "        # Получаем список товаров из этой же группы\n",
    "        candidates_group = rand_recommendation(category_dict[group_id[0]])\n",
    "        \n",
    "        # Случайный товар из доступного (как вариант, фильтровать ешё по shop_id)\n",
    "        candidates_random = rand_recommendation([x for x in products])\n",
    "        \n",
    "        candidates.extend(candidates_group)\n",
    "        candidates.extend(candidates_random)\n",
    "        return list(set([int(x) for x in candidates if x != item_id]))\n"
   ]
  },
  {
   "cell_type": "code",
   "execution_count": 41,
   "id": "f7ffe1f6-909d-48df-a32d-59094892698f",
   "metadata": {},
   "outputs": [
    {
     "data": {
      "text/plain": [
       "[24705,\n",
       " 94465,\n",
       " 98948,\n",
       " 136196,\n",
       " 142097,\n",
       " 134848,\n",
       " 157122,\n",
       " 350658,\n",
       " 58451,\n",
       " 61026,\n",
       " 217957,\n",
       " 101993,\n",
       " 121833,\n",
       " 38251,\n",
       " 149228,\n",
       " 110956,\n",
       " 86771,\n",
       " 61812,\n",
       " 62328]"
      ]
     },
     "execution_count": 41,
     "metadata": {},
     "output_type": "execute_result"
    }
   ],
   "source": [
    "# Сгенерируем кандидаты для product_id=72436\n",
    "candidates_generator(72436)"
   ]
  },
  {
   "cell_type": "markdown",
   "id": "41b13f7b-4810-481c-beee-bb35a88d1193",
   "metadata": {},
   "source": [
    "Ранжирование будем производить на основе товара и магазина, где находится покупатель\n",
    "\n",
    "Выделим популярность товара"
   ]
  },
  {
   "cell_type": "code",
   "execution_count": 42,
   "id": "a2665298-3f7e-4f90-a0b7-1701fd8a54eb",
   "metadata": {},
   "outputs": [
    {
     "data": {
      "text/html": [
       "<div>\n",
       "<style scoped>\n",
       "    .dataframe tbody tr th:only-of-type {\n",
       "        vertical-align: middle;\n",
       "    }\n",
       "\n",
       "    .dataframe tbody tr th {\n",
       "        vertical-align: top;\n",
       "    }\n",
       "\n",
       "    .dataframe thead th {\n",
       "        text-align: right;\n",
       "    }\n",
       "</style>\n",
       "<table border=\"1\" class=\"dataframe\">\n",
       "  <thead>\n",
       "    <tr style=\"text-align: right;\">\n",
       "      <th></th>\n",
       "      <th>quantity</th>\n",
       "    </tr>\n",
       "  </thead>\n",
       "  <tbody>\n",
       "    <tr>\n",
       "      <th>count</th>\n",
       "      <td>36112.000000</td>\n",
       "    </tr>\n",
       "    <tr>\n",
       "      <th>mean</th>\n",
       "      <td>773.323190</td>\n",
       "    </tr>\n",
       "    <tr>\n",
       "      <th>std</th>\n",
       "      <td>6463.368434</td>\n",
       "    </tr>\n",
       "    <tr>\n",
       "      <th>min</th>\n",
       "      <td>0.015000</td>\n",
       "    </tr>\n",
       "    <tr>\n",
       "      <th>25%</th>\n",
       "      <td>2.000000</td>\n",
       "    </tr>\n",
       "    <tr>\n",
       "      <th>50%</th>\n",
       "      <td>16.000000</td>\n",
       "    </tr>\n",
       "    <tr>\n",
       "      <th>75%</th>\n",
       "      <td>199.000000</td>\n",
       "    </tr>\n",
       "    <tr>\n",
       "      <th>max</th>\n",
       "      <td>565983.450000</td>\n",
       "    </tr>\n",
       "  </tbody>\n",
       "</table>\n",
       "</div>"
      ],
      "text/plain": [
       "            quantity\n",
       "count   36112.000000\n",
       "mean      773.323190\n",
       "std      6463.368434\n",
       "min         0.015000\n",
       "25%         2.000000\n",
       "50%        16.000000\n",
       "75%       199.000000\n",
       "max    565983.450000"
      ]
     },
     "execution_count": 42,
     "metadata": {},
     "output_type": "execute_result"
    }
   ],
   "source": [
    "df = checks[['product_id', 'shop_id', 'quantity']]\n",
    "df[['product_id', 'quantity']].groupby(['product_id']).sum().sort_values(by='quantity', ascending=False).describe()"
   ]
  },
  {
   "cell_type": "markdown",
   "id": "ac84c3ac-a672-477a-965b-91fa6908db5a",
   "metadata": {},
   "source": [
    "Условно, будем считать, что значение quantity > 75% - очень популярно, выставим флаг score=1"
   ]
  },
  {
   "cell_type": "code",
   "execution_count": 43,
   "id": "ae9e0fbc-3114-4b27-bd7d-40c62f40d0f0",
   "metadata": {},
   "outputs": [
    {
     "data": {
      "text/html": [
       "<div>\n",
       "<style scoped>\n",
       "    .dataframe tbody tr th:only-of-type {\n",
       "        vertical-align: middle;\n",
       "    }\n",
       "\n",
       "    .dataframe tbody tr th {\n",
       "        vertical-align: top;\n",
       "    }\n",
       "\n",
       "    .dataframe thead th {\n",
       "        text-align: right;\n",
       "    }\n",
       "</style>\n",
       "<table border=\"1\" class=\"dataframe\">\n",
       "  <thead>\n",
       "    <tr style=\"text-align: right;\">\n",
       "      <th></th>\n",
       "      <th>product_id</th>\n",
       "      <th>shop_id</th>\n",
       "      <th>quantity</th>\n",
       "    </tr>\n",
       "  </thead>\n",
       "  <tbody>\n",
       "    <tr>\n",
       "      <th>0</th>\n",
       "      <td>8086</td>\n",
       "      <td>43</td>\n",
       "      <td>13.0</td>\n",
       "    </tr>\n",
       "    <tr>\n",
       "      <th>1</th>\n",
       "      <td>8086</td>\n",
       "      <td>51</td>\n",
       "      <td>11.0</td>\n",
       "    </tr>\n",
       "    <tr>\n",
       "      <th>2</th>\n",
       "      <td>8086</td>\n",
       "      <td>52</td>\n",
       "      <td>1.0</td>\n",
       "    </tr>\n",
       "    <tr>\n",
       "      <th>3</th>\n",
       "      <td>8086</td>\n",
       "      <td>53</td>\n",
       "      <td>1.0</td>\n",
       "    </tr>\n",
       "    <tr>\n",
       "      <th>4</th>\n",
       "      <td>8086</td>\n",
       "      <td>57</td>\n",
       "      <td>16.0</td>\n",
       "    </tr>\n",
       "    <tr>\n",
       "      <th>...</th>\n",
       "      <td>...</td>\n",
       "      <td>...</td>\n",
       "      <td>...</td>\n",
       "    </tr>\n",
       "    <tr>\n",
       "      <th>2373060</th>\n",
       "      <td>362230</td>\n",
       "      <td>363</td>\n",
       "      <td>1.0</td>\n",
       "    </tr>\n",
       "    <tr>\n",
       "      <th>2373061</th>\n",
       "      <td>362418</td>\n",
       "      <td>1899</td>\n",
       "      <td>1.0</td>\n",
       "    </tr>\n",
       "    <tr>\n",
       "      <th>2373062</th>\n",
       "      <td>362464</td>\n",
       "      <td>313</td>\n",
       "      <td>3.0</td>\n",
       "    </tr>\n",
       "    <tr>\n",
       "      <th>2373063</th>\n",
       "      <td>363111</td>\n",
       "      <td>454</td>\n",
       "      <td>1.0</td>\n",
       "    </tr>\n",
       "    <tr>\n",
       "      <th>2373064</th>\n",
       "      <td>363586</td>\n",
       "      <td>1495</td>\n",
       "      <td>1.0</td>\n",
       "    </tr>\n",
       "  </tbody>\n",
       "</table>\n",
       "<p>2373065 rows × 3 columns</p>\n",
       "</div>"
      ],
      "text/plain": [
       "         product_id  shop_id  quantity\n",
       "0              8086       43      13.0\n",
       "1              8086       51      11.0\n",
       "2              8086       52       1.0\n",
       "3              8086       53       1.0\n",
       "4              8086       57      16.0\n",
       "...             ...      ...       ...\n",
       "2373060      362230      363       1.0\n",
       "2373061      362418     1899       1.0\n",
       "2373062      362464      313       3.0\n",
       "2373063      363111      454       1.0\n",
       "2373064      363586     1495       1.0\n",
       "\n",
       "[2373065 rows x 3 columns]"
      ]
     },
     "execution_count": 43,
     "metadata": {},
     "output_type": "execute_result"
    }
   ],
   "source": [
    "ratings = df.groupby(['product_id', 'shop_id']).sum()\n",
    "ratings.reset_index(inplace=True)\n",
    "ratings"
   ]
  },
  {
   "cell_type": "code",
   "execution_count": 44,
   "id": "8c8d9052-e0e7-4a76-b064-88073d4a7159",
   "metadata": {},
   "outputs": [],
   "source": [
    "# \"0 < 75% < 1\"\n",
    "perc_75 = np.percentile(ratings.quantity, 75)\n",
    "ratings['score'] = (ratings['quantity'] > perc_75).apply(int)"
   ]
  },
  {
   "cell_type": "code",
   "execution_count": 45,
   "id": "0a36c9fb-06ea-40ec-ada8-1d07eb20634d",
   "metadata": {},
   "outputs": [],
   "source": [
    "# Подготовим ранжирующие факторизационные машины\n",
    "train_pivot = (1 + ratings[['shop_id', 'product_id', 'score']].pivot(index='shop_id', columns='product_id', values='score')).fillna(0)\n",
    "train_pivot.reset_index(inplace=True, drop=False)"
   ]
  },
  {
   "cell_type": "code",
   "execution_count": 46,
   "id": "2aa63378-7aee-4b51-8c5e-a5fb1fe86147",
   "metadata": {},
   "outputs": [],
   "source": [
    "# Сформируем индекс магазинов в матрице\n",
    "shops_index = {train_pivot.iloc[x]['shop_id']: x for x in range(train_pivot.shape[0])}\n",
    "# Сформируем индекс товаров в матрице\n",
    "products_index = {train_pivot.columns[x]: x for x in range(train_pivot.shape[1])}"
   ]
  },
  {
   "cell_type": "code",
   "execution_count": 47,
   "id": "3ba8843e-498b-46e4-9613-815694e79625",
   "metadata": {},
   "outputs": [],
   "source": [
    "# Модель работает с разреженными матрицами\n",
    "train_pivot = scipy.sparse.csr_matrix(train_pivot)"
   ]
  },
  {
   "cell_type": "code",
   "execution_count": 48,
   "id": "33788cb7-5996-44d3-90aa-ca67f6568205",
   "metadata": {},
   "outputs": [
    {
     "data": {
      "text/plain": [
       "<lightfm.lightfm.LightFM at 0x1836600f1c8>"
      ]
     },
     "execution_count": 48,
     "metadata": {},
     "output_type": "execute_result"
    }
   ],
   "source": [
    "# Обучаем модель\n",
    "model = lightfm.LightFM(loss='warp')\n",
    "model.fit(train_pivot, epochs=30)"
   ]
  },
  {
   "cell_type": "code",
   "execution_count": 49,
   "id": "a4160993-0ccf-4abe-be97-c5e04379f84f",
   "metadata": {},
   "outputs": [],
   "source": [
    "def get_shop_index(item_id: int):\n",
    "    \"\"\" Возвращает индекс для модели по id магазина \"\"\"\n",
    "    return shops_index[item_id]"
   ]
  },
  {
   "cell_type": "code",
   "execution_count": 50,
   "id": "905e3d43-d76d-47b0-beb4-3546de90fb7f",
   "metadata": {},
   "outputs": [],
   "source": [
    "def get_product_index(item_id: int):\n",
    "    \"\"\" Возвращает индекс для модели по id товара \"\"\"\n",
    "    return products_index[item_id]"
   ]
  },
  {
   "cell_type": "code",
   "execution_count": 51,
   "id": "34effe8b-9497-41e0-a529-e0cc24eb5f0d",
   "metadata": {},
   "outputs": [],
   "source": [
    "def get_recom_from_shop(shop_id: int, product_id: int) -> list:\n",
    "    \"\"\" Функция генерирует предложения на основе выбранного товара и магазина, где находится покупатель \"\"\"\n",
    "    candidates_of_products = candidates_generator(product_id)\n",
    "    candidates_of_products_by_index = [*map(get_product_index, candidates_of_products)]\n",
    "    recommendations = model.predict(get_shop_index(shop_id), candidates_of_products_by_index)\n",
    "    # Сортируем\n",
    "    recommendations = sorted(zip(candidates_of_products, recommendations), key=lambda x: x[1], reverse=True)\n",
    "    return [products[str(x[0])] for x in recommendations]"
   ]
  },
  {
   "cell_type": "code",
   "execution_count": 52,
   "id": "aa25114f-a9c0-4d09-b686-f3706a83809e",
   "metadata": {},
   "outputs": [
    {
     "data": {
      "text/plain": [
       "['(65902) Калия хлорид р-р д/и 4% амп 10мл N10 437',\n",
       " '(1676) Крем-сыр \"Рама\" бонжур с марин огурч. 200г -1',\n",
       " '(118240) Арнебия Магний+ Витамин С таб.шип.№20 427',\n",
       " '(70656) Солгар Кардио Саппорт плюс таб. 120мг №60 428',\n",
       " '(109499) Калия хлорид р-р д/и 4% амп 10мл N10 437',\n",
       " '(25325) Калия хлорид р-р д/и 4% амп 10мл N10 437',\n",
       " '(64358) Солгар Коэнзим Q-10 капс. 30мг №30 428',\n",
       " '(179909) Калия хлорид р-р д/и 4% амп 10мл №20 738',\n",
       " '(120238) Массажер для тела игольчатый (М-403) 935',\n",
       " '(111901) Калия хлорид р-р д/и 4% амп 10мл N10 437',\n",
       " '(112756) Листерин ополаскиватель д/полости рта Зеленый Чай 250мл 537',\n",
       " '(102459) КомплигамВ Комплекс таб. №30 430',\n",
       " '(115635) Калия хлорид р-р д/и 4% амп 10мл N10 437',\n",
       " '(71304) Кальция хлорид р-р д/и 10% амп 5мл N10 437',\n",
       " '(106666) Калия хлорид р-р д/и 4% амп 10мл N10 437',\n",
       " '(88447) Арпефлю таб.п.п.о.50мг №10 -1',\n",
       " '(44815) Калия хлорид р-р д/и 4% амп 10мл N10 437',\n",
       " '(54255) Левзея П № 100 табл. 441',\n",
       " '(59512) Ингалятор компрессорный CN-231 584']"
      ]
     },
     "execution_count": 52,
     "metadata": {},
     "output_type": "execute_result"
    }
   ],
   "source": [
    "# Допустим, что человек в магазине с shop_id=1899, покупает товар с product_id=72436\n",
    "get_recom_from_shop(1899, 72436)"
   ]
  },
  {
   "cell_type": "code",
   "execution_count": null,
   "id": "fe563062-2fb1-4607-834d-ef13f40f865d",
   "metadata": {},
   "outputs": [],
   "source": []
  }
 ],
 "metadata": {
  "kernelspec": {
   "display_name": "Python 3 (ipykernel)",
   "language": "python",
   "name": "python3"
  },
  "language_info": {
   "codemirror_mode": {
    "name": "ipython",
    "version": 3
   },
   "file_extension": ".py",
   "mimetype": "text/x-python",
   "name": "python",
   "nbconvert_exporter": "python",
   "pygments_lexer": "ipython3",
   "version": "3.7.16"
  }
 },
 "nbformat": 4,
 "nbformat_minor": 5
}
