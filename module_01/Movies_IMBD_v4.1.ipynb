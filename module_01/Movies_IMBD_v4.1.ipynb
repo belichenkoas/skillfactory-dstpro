{
 "cells": [
  {
   "cell_type": "code",
   "execution_count": 1,
   "metadata": {
    "_cell_guid": "b1076dfc-b9ad-4769-8c92-a6c4dae69d19",
    "_uuid": "8f2839f25d086af736a60e9eeb907d3b93b6e0e5",
    "colab": {},
    "colab_type": "code",
    "id": "U2D2gTdJVp90"
   },
   "outputs": [],
   "source": [
    "import numpy as np\n",
    "import pandas as pd\n",
    "import seaborn as sns\n",
    "import matplotlib.pyplot as plt\n",
    "from collections import Counter"
   ]
  },
  {
   "cell_type": "code",
   "execution_count": 2,
   "metadata": {
    "_cell_guid": "79c7e3d0-c299-4dcb-8224-4455121ee9b0",
    "_uuid": "d629ff2d2480ee46fbb7e2d37f6b5fab8052498a",
    "colab": {},
    "colab_type": "code",
    "id": "oyGfxL3eVp9-"
   },
   "outputs": [
    {
     "data": {
      "text/html": [
       "<div>\n",
       "<style scoped>\n",
       "    .dataframe tbody tr th:only-of-type {\n",
       "        vertical-align: middle;\n",
       "    }\n",
       "\n",
       "    .dataframe tbody tr th {\n",
       "        vertical-align: top;\n",
       "    }\n",
       "\n",
       "    .dataframe thead th {\n",
       "        text-align: right;\n",
       "    }\n",
       "</style>\n",
       "<table border=\"1\" class=\"dataframe\">\n",
       "  <thead>\n",
       "    <tr style=\"text-align: right;\">\n",
       "      <th></th>\n",
       "      <th>imdb_id</th>\n",
       "      <th>budget</th>\n",
       "      <th>revenue</th>\n",
       "      <th>original_title</th>\n",
       "      <th>cast</th>\n",
       "      <th>director</th>\n",
       "      <th>tagline</th>\n",
       "      <th>overview</th>\n",
       "      <th>runtime</th>\n",
       "      <th>genres</th>\n",
       "      <th>production_companies</th>\n",
       "      <th>release_date</th>\n",
       "      <th>vote_average</th>\n",
       "      <th>release_year</th>\n",
       "    </tr>\n",
       "  </thead>\n",
       "  <tbody>\n",
       "    <tr>\n",
       "      <th>1702</th>\n",
       "      <td>tt0496806</td>\n",
       "      <td>85000000</td>\n",
       "      <td>311312624</td>\n",
       "      <td>Ocean's Thirteen</td>\n",
       "      <td>George Clooney|Brad Pitt|Matt Damon|Al Pacino|...</td>\n",
       "      <td>Steven Soderbergh</td>\n",
       "      <td>What are the odds of getting even? 13 to one.</td>\n",
       "      <td>Danny Ocean's team of criminals are back and a...</td>\n",
       "      <td>122</td>\n",
       "      <td>Crime|Thriller</td>\n",
       "      <td>Village Roadshow Pictures|Section Eight|Jerry ...</td>\n",
       "      <td>6/7/2007</td>\n",
       "      <td>6.4</td>\n",
       "      <td>2007</td>\n",
       "    </tr>\n",
       "    <tr>\n",
       "      <th>64</th>\n",
       "      <td>tt3332064</td>\n",
       "      <td>150000000</td>\n",
       "      <td>128388320</td>\n",
       "      <td>Pan</td>\n",
       "      <td>Levi Miller|Garrett Hedlund|Hugh Jackman|Roone...</td>\n",
       "      <td>Joe Wright</td>\n",
       "      <td>Every legend has a beginning.</td>\n",
       "      <td>Living a bleak existence at a London orphanage...</td>\n",
       "      <td>111</td>\n",
       "      <td>Adventure|Family|Fantasy</td>\n",
       "      <td>Warner Bros.|Moving Picture Company (MPC)|Berl...</td>\n",
       "      <td>9/24/2015</td>\n",
       "      <td>5.9</td>\n",
       "      <td>2015</td>\n",
       "    </tr>\n",
       "    <tr>\n",
       "      <th>437</th>\n",
       "      <td>tt1226229</td>\n",
       "      <td>40000000</td>\n",
       "      <td>90029656</td>\n",
       "      <td>Get Him to the Greek</td>\n",
       "      <td>Jonah Hill|Russell Brand|Rose Byrne|Colm Meane...</td>\n",
       "      <td>Nicholas Stoller</td>\n",
       "      <td>Aaron Green has 72 hours to get a Rock Star fr...</td>\n",
       "      <td>Pinnacle records has the perfect plan to get t...</td>\n",
       "      <td>109</td>\n",
       "      <td>Comedy</td>\n",
       "      <td>Universal Pictures|Spyglass Entertainment|Rela...</td>\n",
       "      <td>6/4/2010</td>\n",
       "      <td>5.9</td>\n",
       "      <td>2010</td>\n",
       "    </tr>\n",
       "    <tr>\n",
       "      <th>1058</th>\n",
       "      <td>tt1535438</td>\n",
       "      <td>30000000</td>\n",
       "      <td>114281051</td>\n",
       "      <td>Hope Springs</td>\n",
       "      <td>Meryl Streep|Steve Carell|Tommy Lee Jones|Jean...</td>\n",
       "      <td>David Frankel</td>\n",
       "      <td>Sometimes to keep the magic, you need to learn...</td>\n",
       "      <td>After thirty years of marriage, a middle-aged ...</td>\n",
       "      <td>100</td>\n",
       "      <td>Drama|Comedy|Romance</td>\n",
       "      <td>Columbia Pictures|Mandate Pictures|Escape Arti...</td>\n",
       "      <td>8/7/2012</td>\n",
       "      <td>5.6</td>\n",
       "      <td>2012</td>\n",
       "    </tr>\n",
       "    <tr>\n",
       "      <th>766</th>\n",
       "      <td>tt1448755</td>\n",
       "      <td>66000000</td>\n",
       "      <td>57777106</td>\n",
       "      <td>Killer Elite</td>\n",
       "      <td>Jason Statham|Clive Owen|Robert De Niro|Domini...</td>\n",
       "      <td>Gary McKendry</td>\n",
       "      <td>May the Best Man Live</td>\n",
       "      <td>Based on a shocking true story, Killer Elite p...</td>\n",
       "      <td>116</td>\n",
       "      <td>Action|Adventure|Thriller</td>\n",
       "      <td>Current Entertainment|Omnilab Media|Ambience E...</td>\n",
       "      <td>9/23/2011</td>\n",
       "      <td>6.0</td>\n",
       "      <td>2011</td>\n",
       "    </tr>\n",
       "  </tbody>\n",
       "</table>\n",
       "</div>"
      ],
      "text/plain": [
       "        imdb_id     budget    revenue        original_title  \\\n",
       "1702  tt0496806   85000000  311312624      Ocean's Thirteen   \n",
       "64    tt3332064  150000000  128388320                   Pan   \n",
       "437   tt1226229   40000000   90029656  Get Him to the Greek   \n",
       "1058  tt1535438   30000000  114281051          Hope Springs   \n",
       "766   tt1448755   66000000   57777106          Killer Elite   \n",
       "\n",
       "                                                   cast           director  \\\n",
       "1702  George Clooney|Brad Pitt|Matt Damon|Al Pacino|...  Steven Soderbergh   \n",
       "64    Levi Miller|Garrett Hedlund|Hugh Jackman|Roone...         Joe Wright   \n",
       "437   Jonah Hill|Russell Brand|Rose Byrne|Colm Meane...   Nicholas Stoller   \n",
       "1058  Meryl Streep|Steve Carell|Tommy Lee Jones|Jean...      David Frankel   \n",
       "766   Jason Statham|Clive Owen|Robert De Niro|Domini...      Gary McKendry   \n",
       "\n",
       "                                                tagline  \\\n",
       "1702      What are the odds of getting even? 13 to one.   \n",
       "64                        Every legend has a beginning.   \n",
       "437   Aaron Green has 72 hours to get a Rock Star fr...   \n",
       "1058  Sometimes to keep the magic, you need to learn...   \n",
       "766                               May the Best Man Live   \n",
       "\n",
       "                                               overview  runtime  \\\n",
       "1702  Danny Ocean's team of criminals are back and a...      122   \n",
       "64    Living a bleak existence at a London orphanage...      111   \n",
       "437   Pinnacle records has the perfect plan to get t...      109   \n",
       "1058  After thirty years of marriage, a middle-aged ...      100   \n",
       "766   Based on a shocking true story, Killer Elite p...      116   \n",
       "\n",
       "                         genres  \\\n",
       "1702             Crime|Thriller   \n",
       "64     Adventure|Family|Fantasy   \n",
       "437                      Comedy   \n",
       "1058       Drama|Comedy|Romance   \n",
       "766   Action|Adventure|Thriller   \n",
       "\n",
       "                                   production_companies release_date  \\\n",
       "1702  Village Roadshow Pictures|Section Eight|Jerry ...     6/7/2007   \n",
       "64    Warner Bros.|Moving Picture Company (MPC)|Berl...    9/24/2015   \n",
       "437   Universal Pictures|Spyglass Entertainment|Rela...     6/4/2010   \n",
       "1058  Columbia Pictures|Mandate Pictures|Escape Arti...     8/7/2012   \n",
       "766   Current Entertainment|Omnilab Media|Ambience E...    9/23/2011   \n",
       "\n",
       "      vote_average  release_year  \n",
       "1702           6.4          2007  \n",
       "64             5.9          2015  \n",
       "437            5.9          2010  \n",
       "1058           5.6          2012  \n",
       "766            6.0          2011  "
      ]
     },
     "execution_count": 2,
     "metadata": {},
     "output_type": "execute_result"
    }
   ],
   "source": [
    "data = pd.read_csv('movie_bd_v5.csv')\n",
    "data.sample(5)"
   ]
  },
  {
   "cell_type": "code",
   "execution_count": 3,
   "metadata": {
    "colab": {},
    "colab_type": "code",
    "id": "CoYUnagMVp-C"
   },
   "outputs": [
    {
     "data": {
      "text/html": [
       "<div>\n",
       "<style scoped>\n",
       "    .dataframe tbody tr th:only-of-type {\n",
       "        vertical-align: middle;\n",
       "    }\n",
       "\n",
       "    .dataframe tbody tr th {\n",
       "        vertical-align: top;\n",
       "    }\n",
       "\n",
       "    .dataframe thead th {\n",
       "        text-align: right;\n",
       "    }\n",
       "</style>\n",
       "<table border=\"1\" class=\"dataframe\">\n",
       "  <thead>\n",
       "    <tr style=\"text-align: right;\">\n",
       "      <th></th>\n",
       "      <th>budget</th>\n",
       "      <th>revenue</th>\n",
       "      <th>runtime</th>\n",
       "      <th>vote_average</th>\n",
       "      <th>release_year</th>\n",
       "    </tr>\n",
       "  </thead>\n",
       "  <tbody>\n",
       "    <tr>\n",
       "      <th>count</th>\n",
       "      <td>1.889000e+03</td>\n",
       "      <td>1.889000e+03</td>\n",
       "      <td>1889.000000</td>\n",
       "      <td>1889.000000</td>\n",
       "      <td>1889.000000</td>\n",
       "    </tr>\n",
       "    <tr>\n",
       "      <th>mean</th>\n",
       "      <td>5.431083e+07</td>\n",
       "      <td>1.553653e+08</td>\n",
       "      <td>109.658549</td>\n",
       "      <td>6.140762</td>\n",
       "      <td>2007.860773</td>\n",
       "    </tr>\n",
       "    <tr>\n",
       "      <th>std</th>\n",
       "      <td>4.858721e+07</td>\n",
       "      <td>2.146698e+08</td>\n",
       "      <td>18.017041</td>\n",
       "      <td>0.764763</td>\n",
       "      <td>4.468841</td>\n",
       "    </tr>\n",
       "    <tr>\n",
       "      <th>min</th>\n",
       "      <td>5.000000e+06</td>\n",
       "      <td>2.033165e+06</td>\n",
       "      <td>63.000000</td>\n",
       "      <td>3.300000</td>\n",
       "      <td>2000.000000</td>\n",
       "    </tr>\n",
       "    <tr>\n",
       "      <th>25%</th>\n",
       "      <td>2.000000e+07</td>\n",
       "      <td>3.456058e+07</td>\n",
       "      <td>97.000000</td>\n",
       "      <td>5.600000</td>\n",
       "      <td>2004.000000</td>\n",
       "    </tr>\n",
       "    <tr>\n",
       "      <th>50%</th>\n",
       "      <td>3.800000e+07</td>\n",
       "      <td>8.361541e+07</td>\n",
       "      <td>107.000000</td>\n",
       "      <td>6.100000</td>\n",
       "      <td>2008.000000</td>\n",
       "    </tr>\n",
       "    <tr>\n",
       "      <th>75%</th>\n",
       "      <td>7.200000e+07</td>\n",
       "      <td>1.782626e+08</td>\n",
       "      <td>120.000000</td>\n",
       "      <td>6.600000</td>\n",
       "      <td>2012.000000</td>\n",
       "    </tr>\n",
       "    <tr>\n",
       "      <th>max</th>\n",
       "      <td>3.800000e+08</td>\n",
       "      <td>2.781506e+09</td>\n",
       "      <td>214.000000</td>\n",
       "      <td>8.100000</td>\n",
       "      <td>2015.000000</td>\n",
       "    </tr>\n",
       "  </tbody>\n",
       "</table>\n",
       "</div>"
      ],
      "text/plain": [
       "             budget       revenue      runtime  vote_average  release_year\n",
       "count  1.889000e+03  1.889000e+03  1889.000000   1889.000000   1889.000000\n",
       "mean   5.431083e+07  1.553653e+08   109.658549      6.140762   2007.860773\n",
       "std    4.858721e+07  2.146698e+08    18.017041      0.764763      4.468841\n",
       "min    5.000000e+06  2.033165e+06    63.000000      3.300000   2000.000000\n",
       "25%    2.000000e+07  3.456058e+07    97.000000      5.600000   2004.000000\n",
       "50%    3.800000e+07  8.361541e+07   107.000000      6.100000   2008.000000\n",
       "75%    7.200000e+07  1.782626e+08   120.000000      6.600000   2012.000000\n",
       "max    3.800000e+08  2.781506e+09   214.000000      8.100000   2015.000000"
      ]
     },
     "execution_count": 3,
     "metadata": {},
     "output_type": "execute_result"
    }
   ],
   "source": [
    "data.describe()"
   ]
  },
  {
   "cell_type": "markdown",
   "metadata": {
    "colab_type": "text",
    "id": "DTIt7ezGVp-G"
   },
   "source": [
    "# Предобработка"
   ]
  },
  {
   "cell_type": "code",
   "execution_count": 7,
   "metadata": {},
   "outputs": [],
   "source": [
    "# Из 6-го задания. Прибыль(убыток) фильма\n",
    "data['profit'] = data['revenue'] - data['budget']"
   ]
  },
  {
   "cell_type": "code",
   "execution_count": 8,
   "metadata": {},
   "outputs": [],
   "source": [
    "# Из 11-го задания. \n",
    "def count_genres(lst):\n",
    "    \"\"\" Подсчет количества жанров \"\"\"\n",
    "    # Определяем словарь жанров\n",
    "    genres = {}\n",
    "    for line in lst:\n",
    "        # Разбиваем строку, если указано несколько жанров\n",
    "        for genre in line.split('|'):\n",
    "            if genre in genres:\n",
    "                genres[genre] += 1\n",
    "            else:\n",
    "                genres[genre] = 1\n",
    "    return genres"
   ]
  },
  {
   "cell_type": "code",
   "execution_count": 9,
   "metadata": {},
   "outputs": [],
   "source": [
    "# Подсчет значений в колонке df\n",
    "def cnt_values(df, column):\n",
    "    return pd.Series(df[column].str.cat(sep='|').split('|')).value_counts()"
   ]
  },
  {
   "cell_type": "code",
   "execution_count": 66,
   "metadata": {
    "colab": {},
    "colab_type": "code",
    "id": "jNb40DwKVp-H"
   },
   "outputs": [],
   "source": [
    "answers = {} # словарь для ответов"
   ]
  },
  {
   "cell_type": "markdown",
   "metadata": {
    "colab_type": "text",
    "id": "YxZaH-nPVp-L"
   },
   "source": [
    "# 1. У какого фильма из списка самый большой бюджет?"
   ]
  },
  {
   "cell_type": "code",
   "execution_count": 67,
   "metadata": {
    "colab": {},
    "colab_type": "code",
    "id": "uVnXAY5RVp-O"
   },
   "outputs": [],
   "source": [
    "answers['1'] = 'Pirates of the Caribbean: On Stranger Tides (tt1298650)'"
   ]
  },
  {
   "cell_type": "code",
   "execution_count": 9,
   "metadata": {
    "colab": {},
    "colab_type": "code",
    "id": "dZwb3m28Vp-S"
   },
   "outputs": [
    {
     "data": {
      "text/html": [
       "<div>\n",
       "<style scoped>\n",
       "    .dataframe tbody tr th:only-of-type {\n",
       "        vertical-align: middle;\n",
       "    }\n",
       "\n",
       "    .dataframe tbody tr th {\n",
       "        vertical-align: top;\n",
       "    }\n",
       "\n",
       "    .dataframe thead th {\n",
       "        text-align: right;\n",
       "    }\n",
       "</style>\n",
       "<table border=\"1\" class=\"dataframe\">\n",
       "  <thead>\n",
       "    <tr style=\"text-align: right;\">\n",
       "      <th></th>\n",
       "      <th>imdb_id</th>\n",
       "      <th>budget</th>\n",
       "      <th>revenue</th>\n",
       "      <th>original_title</th>\n",
       "      <th>cast</th>\n",
       "      <th>director</th>\n",
       "      <th>tagline</th>\n",
       "      <th>overview</th>\n",
       "      <th>runtime</th>\n",
       "      <th>genres</th>\n",
       "      <th>production_companies</th>\n",
       "      <th>release_date</th>\n",
       "      <th>vote_average</th>\n",
       "      <th>release_year</th>\n",
       "    </tr>\n",
       "  </thead>\n",
       "  <tbody>\n",
       "    <tr>\n",
       "      <th>723</th>\n",
       "      <td>tt1298650</td>\n",
       "      <td>380000000</td>\n",
       "      <td>1021683000</td>\n",
       "      <td>Pirates of the Caribbean: On Stranger Tides</td>\n",
       "      <td>Johnny Depp|PenÃ©lope Cruz|Geoffrey Rush|Ian M...</td>\n",
       "      <td>Rob Marshall</td>\n",
       "      <td>Live Forever Or Die Trying.</td>\n",
       "      <td>Captain Jack Sparrow crosses paths with a woma...</td>\n",
       "      <td>136</td>\n",
       "      <td>Adventure|Action|Fantasy</td>\n",
       "      <td>Walt Disney Pictures|Jerry Bruckheimer Films|M...</td>\n",
       "      <td>5/11/2011</td>\n",
       "      <td>6.3</td>\n",
       "      <td>2011</td>\n",
       "    </tr>\n",
       "  </tbody>\n",
       "</table>\n",
       "</div>"
      ],
      "text/plain": [
       "       imdb_id     budget     revenue  \\\n",
       "723  tt1298650  380000000  1021683000   \n",
       "\n",
       "                                  original_title  \\\n",
       "723  Pirates of the Caribbean: On Stranger Tides   \n",
       "\n",
       "                                                  cast      director  \\\n",
       "723  Johnny Depp|PenÃ©lope Cruz|Geoffrey Rush|Ian M...  Rob Marshall   \n",
       "\n",
       "                         tagline  \\\n",
       "723  Live Forever Or Die Trying.   \n",
       "\n",
       "                                              overview  runtime  \\\n",
       "723  Captain Jack Sparrow crosses paths with a woma...      136   \n",
       "\n",
       "                       genres  \\\n",
       "723  Adventure|Action|Fantasy   \n",
       "\n",
       "                                  production_companies release_date  \\\n",
       "723  Walt Disney Pictures|Jerry Bruckheimer Films|M...    5/11/2011   \n",
       "\n",
       "     vote_average  release_year  \n",
       "723           6.3          2011  "
      ]
     },
     "execution_count": 9,
     "metadata": {},
     "output_type": "execute_result"
    }
   ],
   "source": [
    "data[data.budget == data.budget.max()]\n"
   ]
  },
  {
   "cell_type": "markdown",
   "metadata": {
    "colab_type": "text",
    "id": "FNRbbI3vVp-c"
   },
   "source": [
    "# 2. Какой из фильмов самый длительный (в минутах)?"
   ]
  },
  {
   "cell_type": "code",
   "execution_count": 68,
   "metadata": {
    "colab": {},
    "colab_type": "code",
    "id": "vHAoEXNTVp-d"
   },
   "outputs": [],
   "source": [
    "answers['2'] = 'Gods and Generals (tt0279111)'"
   ]
  },
  {
   "cell_type": "code",
   "execution_count": 11,
   "metadata": {
    "colab": {},
    "colab_type": "code",
    "id": "ot-VX2XrVp-g"
   },
   "outputs": [
    {
     "data": {
      "text/html": [
       "<div>\n",
       "<style scoped>\n",
       "    .dataframe tbody tr th:only-of-type {\n",
       "        vertical-align: middle;\n",
       "    }\n",
       "\n",
       "    .dataframe tbody tr th {\n",
       "        vertical-align: top;\n",
       "    }\n",
       "\n",
       "    .dataframe thead th {\n",
       "        text-align: right;\n",
       "    }\n",
       "</style>\n",
       "<table border=\"1\" class=\"dataframe\">\n",
       "  <thead>\n",
       "    <tr style=\"text-align: right;\">\n",
       "      <th></th>\n",
       "      <th>imdb_id</th>\n",
       "      <th>budget</th>\n",
       "      <th>revenue</th>\n",
       "      <th>original_title</th>\n",
       "      <th>cast</th>\n",
       "      <th>director</th>\n",
       "      <th>tagline</th>\n",
       "      <th>overview</th>\n",
       "      <th>runtime</th>\n",
       "      <th>genres</th>\n",
       "      <th>production_companies</th>\n",
       "      <th>release_date</th>\n",
       "      <th>vote_average</th>\n",
       "      <th>release_year</th>\n",
       "    </tr>\n",
       "  </thead>\n",
       "  <tbody>\n",
       "    <tr>\n",
       "      <th>1157</th>\n",
       "      <td>tt0279111</td>\n",
       "      <td>56000000</td>\n",
       "      <td>12923936</td>\n",
       "      <td>Gods and Generals</td>\n",
       "      <td>Stephen Lang|Jeff Daniels|Robert Duvall|Kevin ...</td>\n",
       "      <td>Ronald F. Maxwell</td>\n",
       "      <td>The nations heart was touched by...</td>\n",
       "      <td>The film centers mostly around the personal an...</td>\n",
       "      <td>214</td>\n",
       "      <td>Drama|History|War</td>\n",
       "      <td>Turner Pictures|Antietam Filmworks</td>\n",
       "      <td>2/21/2003</td>\n",
       "      <td>5.8</td>\n",
       "      <td>2003</td>\n",
       "    </tr>\n",
       "  </tbody>\n",
       "</table>\n",
       "</div>"
      ],
      "text/plain": [
       "        imdb_id    budget   revenue     original_title  \\\n",
       "1157  tt0279111  56000000  12923936  Gods and Generals   \n",
       "\n",
       "                                                   cast           director  \\\n",
       "1157  Stephen Lang|Jeff Daniels|Robert Duvall|Kevin ...  Ronald F. Maxwell   \n",
       "\n",
       "                                  tagline  \\\n",
       "1157  The nations heart was touched by...   \n",
       "\n",
       "                                               overview  runtime  \\\n",
       "1157  The film centers mostly around the personal an...      214   \n",
       "\n",
       "                 genres                production_companies release_date  \\\n",
       "1157  Drama|History|War  Turner Pictures|Antietam Filmworks    2/21/2003   \n",
       "\n",
       "      vote_average  release_year  \n",
       "1157           5.8          2003  "
      ]
     },
     "execution_count": 11,
     "metadata": {},
     "output_type": "execute_result"
    }
   ],
   "source": [
    "data[data.runtime == data.runtime.max()]"
   ]
  },
  {
   "cell_type": "markdown",
   "metadata": {
    "colab_type": "text",
    "id": "bapLlpW8Vp-k"
   },
   "source": [
    "# 3. Какой из фильмов самый короткий (в минутах)?\n",
    "\n",
    "\n",
    "\n"
   ]
  },
  {
   "cell_type": "code",
   "execution_count": 69,
   "metadata": {
    "colab": {},
    "colab_type": "code",
    "id": "YBxaSHuAVp-l"
   },
   "outputs": [],
   "source": [
    "answers['3'] = 'Winnie the Pooh (tt1449283)'"
   ]
  },
  {
   "cell_type": "code",
   "execution_count": 15,
   "metadata": {},
   "outputs": [
    {
     "data": {
      "text/html": [
       "<div>\n",
       "<style scoped>\n",
       "    .dataframe tbody tr th:only-of-type {\n",
       "        vertical-align: middle;\n",
       "    }\n",
       "\n",
       "    .dataframe tbody tr th {\n",
       "        vertical-align: top;\n",
       "    }\n",
       "\n",
       "    .dataframe thead th {\n",
       "        text-align: right;\n",
       "    }\n",
       "</style>\n",
       "<table border=\"1\" class=\"dataframe\">\n",
       "  <thead>\n",
       "    <tr style=\"text-align: right;\">\n",
       "      <th></th>\n",
       "      <th>imdb_id</th>\n",
       "      <th>budget</th>\n",
       "      <th>revenue</th>\n",
       "      <th>original_title</th>\n",
       "      <th>cast</th>\n",
       "      <th>director</th>\n",
       "      <th>tagline</th>\n",
       "      <th>overview</th>\n",
       "      <th>runtime</th>\n",
       "      <th>genres</th>\n",
       "      <th>production_companies</th>\n",
       "      <th>release_date</th>\n",
       "      <th>vote_average</th>\n",
       "      <th>release_year</th>\n",
       "    </tr>\n",
       "  </thead>\n",
       "  <tbody>\n",
       "    <tr>\n",
       "      <th>768</th>\n",
       "      <td>tt1449283</td>\n",
       "      <td>30000000</td>\n",
       "      <td>14460000</td>\n",
       "      <td>Winnie the Pooh</td>\n",
       "      <td>Jim Cummings|Travis Oates|Jim Cummings|Bud Luc...</td>\n",
       "      <td>Stephen Anderson|Don Hall</td>\n",
       "      <td>Oh Pooh.</td>\n",
       "      <td>During an ordinary day in Hundred Acre Wood, W...</td>\n",
       "      <td>63</td>\n",
       "      <td>Animation|Family</td>\n",
       "      <td>Walt Disney Pictures|Walt Disney Animation Stu...</td>\n",
       "      <td>4/13/2011</td>\n",
       "      <td>6.8</td>\n",
       "      <td>2011</td>\n",
       "    </tr>\n",
       "  </tbody>\n",
       "</table>\n",
       "</div>"
      ],
      "text/plain": [
       "       imdb_id    budget   revenue   original_title  \\\n",
       "768  tt1449283  30000000  14460000  Winnie the Pooh   \n",
       "\n",
       "                                                  cast  \\\n",
       "768  Jim Cummings|Travis Oates|Jim Cummings|Bud Luc...   \n",
       "\n",
       "                      director   tagline  \\\n",
       "768  Stephen Anderson|Don Hall  Oh Pooh.   \n",
       "\n",
       "                                              overview  runtime  \\\n",
       "768  During an ordinary day in Hundred Acre Wood, W...       63   \n",
       "\n",
       "               genres                               production_companies  \\\n",
       "768  Animation|Family  Walt Disney Pictures|Walt Disney Animation Stu...   \n",
       "\n",
       "    release_date  vote_average  release_year  \n",
       "768    4/13/2011           6.8          2011  "
      ]
     },
     "execution_count": 15,
     "metadata": {},
     "output_type": "execute_result"
    }
   ],
   "source": [
    "data[data.runtime == data.runtime.min()]"
   ]
  },
  {
   "cell_type": "markdown",
   "metadata": {
    "colab_type": "text",
    "id": "TfQbxbfNVp-p"
   },
   "source": [
    "# 4. Какова средняя длительность фильмов?\n"
   ]
  },
  {
   "cell_type": "code",
   "execution_count": 70,
   "metadata": {
    "colab": {},
    "colab_type": "code",
    "id": "5K6dKZYVVp-q"
   },
   "outputs": [],
   "source": [
    "answers['4'] = 110"
   ]
  },
  {
   "cell_type": "code",
   "execution_count": 21,
   "metadata": {},
   "outputs": [
    {
     "data": {
      "text/plain": [
       "109.6585494970884"
      ]
     },
     "execution_count": 21,
     "metadata": {},
     "output_type": "execute_result"
    }
   ],
   "source": [
    "data.runtime.mean()"
   ]
  },
  {
   "cell_type": "markdown",
   "metadata": {
    "colab_type": "text",
    "id": "r5TvbnT_Vp-u"
   },
   "source": [
    "# 5. Каково медианное значение длительности фильмов? "
   ]
  },
  {
   "cell_type": "code",
   "execution_count": 71,
   "metadata": {
    "colab": {},
    "colab_type": "code",
    "id": "iBROplKnVp-v"
   },
   "outputs": [],
   "source": [
    "answers['5'] = 107"
   ]
  },
  {
   "cell_type": "code",
   "execution_count": 26,
   "metadata": {},
   "outputs": [
    {
     "data": {
      "text/plain": [
       "107.0"
      ]
     },
     "execution_count": 26,
     "metadata": {},
     "output_type": "execute_result"
    }
   ],
   "source": [
    "data.runtime.median()"
   ]
  },
  {
   "cell_type": "markdown",
   "metadata": {
    "colab_type": "text",
    "id": "39P-deDSVp-y"
   },
   "source": [
    "# 6. Какой самый прибыльный фильм?\n",
    "#### Внимание! Здесь и далее под «прибылью» или «убытками» понимается разность между сборами и бюджетом фильма. (прибыль = сборы - бюджет) в нашем датасете это будет (profit = revenue - budget) "
   ]
  },
  {
   "cell_type": "code",
   "execution_count": 0,
   "metadata": {
    "colab": {},
    "colab_type": "code",
    "id": "UYZh4T9WVp-y"
   },
   "outputs": [],
   "source": [
    "# лучше код получения столбца profit вынести в Предобработку что в начале"
   ]
  },
  {
   "cell_type": "code",
   "execution_count": 72,
   "metadata": {},
   "outputs": [],
   "source": [
    "answers['6'] = 'Avatar (tt0499549)'"
   ]
  },
  {
   "cell_type": "code",
   "execution_count": 33,
   "metadata": {},
   "outputs": [
    {
     "data": {
      "text/html": [
       "<div>\n",
       "<style scoped>\n",
       "    .dataframe tbody tr th:only-of-type {\n",
       "        vertical-align: middle;\n",
       "    }\n",
       "\n",
       "    .dataframe tbody tr th {\n",
       "        vertical-align: top;\n",
       "    }\n",
       "\n",
       "    .dataframe thead th {\n",
       "        text-align: right;\n",
       "    }\n",
       "</style>\n",
       "<table border=\"1\" class=\"dataframe\">\n",
       "  <thead>\n",
       "    <tr style=\"text-align: right;\">\n",
       "      <th></th>\n",
       "      <th>imdb_id</th>\n",
       "      <th>budget</th>\n",
       "      <th>revenue</th>\n",
       "      <th>original_title</th>\n",
       "      <th>cast</th>\n",
       "      <th>director</th>\n",
       "      <th>tagline</th>\n",
       "      <th>overview</th>\n",
       "      <th>runtime</th>\n",
       "      <th>genres</th>\n",
       "      <th>production_companies</th>\n",
       "      <th>release_date</th>\n",
       "      <th>vote_average</th>\n",
       "      <th>release_year</th>\n",
       "      <th>profit</th>\n",
       "    </tr>\n",
       "  </thead>\n",
       "  <tbody>\n",
       "    <tr>\n",
       "      <th>239</th>\n",
       "      <td>tt0499549</td>\n",
       "      <td>237000000</td>\n",
       "      <td>2781505847</td>\n",
       "      <td>Avatar</td>\n",
       "      <td>Sam Worthington|Zoe Saldana|Sigourney Weaver|S...</td>\n",
       "      <td>James Cameron</td>\n",
       "      <td>Enter the World of Pandora.</td>\n",
       "      <td>In the 22nd century, a paraplegic Marine is di...</td>\n",
       "      <td>162</td>\n",
       "      <td>Action|Adventure|Fantasy|Science Fiction</td>\n",
       "      <td>Ingenious Film Partners|Twentieth Century Fox ...</td>\n",
       "      <td>12/10/2009</td>\n",
       "      <td>7.1</td>\n",
       "      <td>2009</td>\n",
       "      <td>2544505847</td>\n",
       "    </tr>\n",
       "  </tbody>\n",
       "</table>\n",
       "</div>"
      ],
      "text/plain": [
       "       imdb_id     budget     revenue original_title  \\\n",
       "239  tt0499549  237000000  2781505847         Avatar   \n",
       "\n",
       "                                                  cast       director  \\\n",
       "239  Sam Worthington|Zoe Saldana|Sigourney Weaver|S...  James Cameron   \n",
       "\n",
       "                         tagline  \\\n",
       "239  Enter the World of Pandora.   \n",
       "\n",
       "                                              overview  runtime  \\\n",
       "239  In the 22nd century, a paraplegic Marine is di...      162   \n",
       "\n",
       "                                       genres  \\\n",
       "239  Action|Adventure|Fantasy|Science Fiction   \n",
       "\n",
       "                                  production_companies release_date  \\\n",
       "239  Ingenious Film Partners|Twentieth Century Fox ...   12/10/2009   \n",
       "\n",
       "     vote_average  release_year      profit  \n",
       "239           7.1          2009  2544505847  "
      ]
     },
     "execution_count": 33,
     "metadata": {},
     "output_type": "execute_result"
    }
   ],
   "source": [
    "data[data.profit == data.profit.max()]"
   ]
  },
  {
   "cell_type": "markdown",
   "metadata": {
    "colab_type": "text",
    "id": "M99JmIX4Vp-2"
   },
   "source": [
    "# 7. Какой фильм самый убыточный? "
   ]
  },
  {
   "cell_type": "code",
   "execution_count": 73,
   "metadata": {
    "colab": {},
    "colab_type": "code",
    "id": "w-D2m4XPVp-3"
   },
   "outputs": [],
   "source": [
    "answers['7'] = 'The Lone Ranger (tt1210819)'"
   ]
  },
  {
   "cell_type": "code",
   "execution_count": 35,
   "metadata": {},
   "outputs": [
    {
     "data": {
      "text/html": [
       "<div>\n",
       "<style scoped>\n",
       "    .dataframe tbody tr th:only-of-type {\n",
       "        vertical-align: middle;\n",
       "    }\n",
       "\n",
       "    .dataframe tbody tr th {\n",
       "        vertical-align: top;\n",
       "    }\n",
       "\n",
       "    .dataframe thead th {\n",
       "        text-align: right;\n",
       "    }\n",
       "</style>\n",
       "<table border=\"1\" class=\"dataframe\">\n",
       "  <thead>\n",
       "    <tr style=\"text-align: right;\">\n",
       "      <th></th>\n",
       "      <th>imdb_id</th>\n",
       "      <th>budget</th>\n",
       "      <th>revenue</th>\n",
       "      <th>original_title</th>\n",
       "      <th>cast</th>\n",
       "      <th>director</th>\n",
       "      <th>tagline</th>\n",
       "      <th>overview</th>\n",
       "      <th>runtime</th>\n",
       "      <th>genres</th>\n",
       "      <th>production_companies</th>\n",
       "      <th>release_date</th>\n",
       "      <th>vote_average</th>\n",
       "      <th>release_year</th>\n",
       "      <th>profit</th>\n",
       "    </tr>\n",
       "  </thead>\n",
       "  <tbody>\n",
       "    <tr>\n",
       "      <th>1245</th>\n",
       "      <td>tt1210819</td>\n",
       "      <td>255000000</td>\n",
       "      <td>89289910</td>\n",
       "      <td>The Lone Ranger</td>\n",
       "      <td>Johnny Depp|Armie Hammer|William Fichtner|Hele...</td>\n",
       "      <td>Gore Verbinski</td>\n",
       "      <td>Never Take Off the Mask</td>\n",
       "      <td>The Texas Rangers chase down a gang of outlaws...</td>\n",
       "      <td>149</td>\n",
       "      <td>Action|Adventure|Western</td>\n",
       "      <td>Walt Disney Pictures|Jerry Bruckheimer Films|I...</td>\n",
       "      <td>7/3/2013</td>\n",
       "      <td>6.0</td>\n",
       "      <td>2013</td>\n",
       "      <td>-165710090</td>\n",
       "    </tr>\n",
       "  </tbody>\n",
       "</table>\n",
       "</div>"
      ],
      "text/plain": [
       "        imdb_id     budget   revenue   original_title  \\\n",
       "1245  tt1210819  255000000  89289910  The Lone Ranger   \n",
       "\n",
       "                                                   cast        director  \\\n",
       "1245  Johnny Depp|Armie Hammer|William Fichtner|Hele...  Gore Verbinski   \n",
       "\n",
       "                      tagline  \\\n",
       "1245  Never Take Off the Mask   \n",
       "\n",
       "                                               overview  runtime  \\\n",
       "1245  The Texas Rangers chase down a gang of outlaws...      149   \n",
       "\n",
       "                        genres  \\\n",
       "1245  Action|Adventure|Western   \n",
       "\n",
       "                                   production_companies release_date  \\\n",
       "1245  Walt Disney Pictures|Jerry Bruckheimer Films|I...     7/3/2013   \n",
       "\n",
       "      vote_average  release_year     profit  \n",
       "1245           6.0          2013 -165710090  "
      ]
     },
     "execution_count": 35,
     "metadata": {},
     "output_type": "execute_result"
    }
   ],
   "source": [
    "data[data.profit == data.profit.min()]"
   ]
  },
  {
   "cell_type": "markdown",
   "metadata": {
    "colab_type": "text",
    "id": "wEOM5ERVVp-6"
   },
   "source": [
    "# 8. У скольких фильмов из датасета объем сборов оказался выше бюджета?"
   ]
  },
  {
   "cell_type": "code",
   "execution_count": 74,
   "metadata": {
    "colab": {},
    "colab_type": "code",
    "id": "y00_7HD6Vp-7"
   },
   "outputs": [],
   "source": [
    "answers['8'] = 1478"
   ]
  },
  {
   "cell_type": "code",
   "execution_count": 39,
   "metadata": {},
   "outputs": [
    {
     "data": {
      "text/plain": [
       "1478"
      ]
     },
     "execution_count": 39,
     "metadata": {},
     "output_type": "execute_result"
    }
   ],
   "source": [
    "len(data[data.revenue > data.budget])"
   ]
  },
  {
   "cell_type": "markdown",
   "metadata": {
    "colab_type": "text",
    "id": "xhpspA9KVp_A"
   },
   "source": [
    "# 9. Какой фильм оказался самым кассовым в 2008 году?"
   ]
  },
  {
   "cell_type": "code",
   "execution_count": 75,
   "metadata": {
    "colab": {},
    "colab_type": "code",
    "id": "MoUyQr9RVp_B"
   },
   "outputs": [],
   "source": [
    "answers['9'] = 'The Dark Knight (tt0468569)'"
   ]
  },
  {
   "cell_type": "code",
   "execution_count": 53,
   "metadata": {},
   "outputs": [
    {
     "data": {
      "text/html": [
       "<div>\n",
       "<style scoped>\n",
       "    .dataframe tbody tr th:only-of-type {\n",
       "        vertical-align: middle;\n",
       "    }\n",
       "\n",
       "    .dataframe tbody tr th {\n",
       "        vertical-align: top;\n",
       "    }\n",
       "\n",
       "    .dataframe thead th {\n",
       "        text-align: right;\n",
       "    }\n",
       "</style>\n",
       "<table border=\"1\" class=\"dataframe\">\n",
       "  <thead>\n",
       "    <tr style=\"text-align: right;\">\n",
       "      <th></th>\n",
       "      <th>imdb_id</th>\n",
       "      <th>budget</th>\n",
       "      <th>revenue</th>\n",
       "      <th>original_title</th>\n",
       "      <th>cast</th>\n",
       "      <th>director</th>\n",
       "      <th>tagline</th>\n",
       "      <th>overview</th>\n",
       "      <th>runtime</th>\n",
       "      <th>genres</th>\n",
       "      <th>production_companies</th>\n",
       "      <th>release_date</th>\n",
       "      <th>vote_average</th>\n",
       "      <th>release_year</th>\n",
       "      <th>profit</th>\n",
       "    </tr>\n",
       "  </thead>\n",
       "  <tbody>\n",
       "    <tr>\n",
       "      <th>599</th>\n",
       "      <td>tt0468569</td>\n",
       "      <td>185000000</td>\n",
       "      <td>1001921825</td>\n",
       "      <td>The Dark Knight</td>\n",
       "      <td>Christian Bale|Michael Caine|Heath Ledger|Aaro...</td>\n",
       "      <td>Christopher Nolan</td>\n",
       "      <td>Why So Serious?</td>\n",
       "      <td>Batman raises the stakes in his war on crime. ...</td>\n",
       "      <td>152</td>\n",
       "      <td>Drama|Action|Crime|Thriller</td>\n",
       "      <td>DC Comics|Legendary Pictures|Warner Bros.|Syncopy</td>\n",
       "      <td>7/16/2008</td>\n",
       "      <td>8.1</td>\n",
       "      <td>2008</td>\n",
       "      <td>816921825</td>\n",
       "    </tr>\n",
       "  </tbody>\n",
       "</table>\n",
       "</div>"
      ],
      "text/plain": [
       "       imdb_id     budget     revenue   original_title  \\\n",
       "599  tt0468569  185000000  1001921825  The Dark Knight   \n",
       "\n",
       "                                                  cast           director  \\\n",
       "599  Christian Bale|Michael Caine|Heath Ledger|Aaro...  Christopher Nolan   \n",
       "\n",
       "             tagline                                           overview  \\\n",
       "599  Why So Serious?  Batman raises the stakes in his war on crime. ...   \n",
       "\n",
       "     runtime                       genres  \\\n",
       "599      152  Drama|Action|Crime|Thriller   \n",
       "\n",
       "                                  production_companies release_date  \\\n",
       "599  DC Comics|Legendary Pictures|Warner Bros.|Syncopy    7/16/2008   \n",
       "\n",
       "     vote_average  release_year     profit  \n",
       "599           8.1          2008  816921825  "
      ]
     },
     "execution_count": 53,
     "metadata": {},
     "output_type": "execute_result"
    }
   ],
   "source": [
    "revenue_max_2008 = data[data.release_year == 2008].revenue.max()\n",
    "data[(data.release_year == 2008) & (data.revenue == revenue_max_2008)]"
   ]
  },
  {
   "cell_type": "markdown",
   "metadata": {
    "colab_type": "text",
    "id": "Zi4hDKidVp_F"
   },
   "source": [
    "# 10. Самый убыточный фильм за период с 2012 по 2014 г. (включительно)?\n"
   ]
  },
  {
   "cell_type": "code",
   "execution_count": 76,
   "metadata": {},
   "outputs": [],
   "source": [
    "answers['10'] = 'The Lone Ranger (tt1210819)'"
   ]
  },
  {
   "cell_type": "code",
   "execution_count": 64,
   "metadata": {
    "colab": {},
    "colab_type": "code",
    "id": "XqyRmufJVp_F"
   },
   "outputs": [
    {
     "name": "stderr",
     "output_type": "stream",
     "text": [
      "C:\\Users\\Lyo\\Anaconda3\\lib\\site-packages\\ipykernel_launcher.py:2: UserWarning: Boolean Series key will be reindexed to match DataFrame index.\n",
      "  \n"
     ]
    },
    {
     "data": {
      "text/html": [
       "<div>\n",
       "<style scoped>\n",
       "    .dataframe tbody tr th:only-of-type {\n",
       "        vertical-align: middle;\n",
       "    }\n",
       "\n",
       "    .dataframe tbody tr th {\n",
       "        vertical-align: top;\n",
       "    }\n",
       "\n",
       "    .dataframe thead th {\n",
       "        text-align: right;\n",
       "    }\n",
       "</style>\n",
       "<table border=\"1\" class=\"dataframe\">\n",
       "  <thead>\n",
       "    <tr style=\"text-align: right;\">\n",
       "      <th></th>\n",
       "      <th>imdb_id</th>\n",
       "      <th>budget</th>\n",
       "      <th>revenue</th>\n",
       "      <th>original_title</th>\n",
       "      <th>cast</th>\n",
       "      <th>director</th>\n",
       "      <th>tagline</th>\n",
       "      <th>overview</th>\n",
       "      <th>runtime</th>\n",
       "      <th>genres</th>\n",
       "      <th>production_companies</th>\n",
       "      <th>release_date</th>\n",
       "      <th>vote_average</th>\n",
       "      <th>release_year</th>\n",
       "      <th>profit</th>\n",
       "    </tr>\n",
       "  </thead>\n",
       "  <tbody>\n",
       "    <tr>\n",
       "      <th>1245</th>\n",
       "      <td>tt1210819</td>\n",
       "      <td>255000000</td>\n",
       "      <td>89289910</td>\n",
       "      <td>The Lone Ranger</td>\n",
       "      <td>Johnny Depp|Armie Hammer|William Fichtner|Hele...</td>\n",
       "      <td>Gore Verbinski</td>\n",
       "      <td>Never Take Off the Mask</td>\n",
       "      <td>The Texas Rangers chase down a gang of outlaws...</td>\n",
       "      <td>149</td>\n",
       "      <td>Action|Adventure|Western</td>\n",
       "      <td>Walt Disney Pictures|Jerry Bruckheimer Films|I...</td>\n",
       "      <td>7/3/2013</td>\n",
       "      <td>6.0</td>\n",
       "      <td>2013</td>\n",
       "      <td>-165710090</td>\n",
       "    </tr>\n",
       "  </tbody>\n",
       "</table>\n",
       "</div>"
      ],
      "text/plain": [
       "        imdb_id     budget   revenue   original_title  \\\n",
       "1245  tt1210819  255000000  89289910  The Lone Ranger   \n",
       "\n",
       "                                                   cast        director  \\\n",
       "1245  Johnny Depp|Armie Hammer|William Fichtner|Hele...  Gore Verbinski   \n",
       "\n",
       "                      tagline  \\\n",
       "1245  Never Take Off the Mask   \n",
       "\n",
       "                                               overview  runtime  \\\n",
       "1245  The Texas Rangers chase down a gang of outlaws...      149   \n",
       "\n",
       "                        genres  \\\n",
       "1245  Action|Adventure|Western   \n",
       "\n",
       "                                   production_companies release_date  \\\n",
       "1245  Walt Disney Pictures|Jerry Bruckheimer Films|I...     7/3/2013   \n",
       "\n",
       "      vote_average  release_year     profit  \n",
       "1245           6.0          2013 -165710090  "
      ]
     },
     "execution_count": 64,
     "metadata": {},
     "output_type": "execute_result"
    }
   ],
   "source": [
    "profit_min_12_14 = data.query('2012<release_year<=2014').profit.min()\n",
    "data.query('2012<release_year<=2014')[data.profit == profit_min_12_14]"
   ]
  },
  {
   "cell_type": "markdown",
   "metadata": {
    "colab_type": "text",
    "id": "EA7Sa9dkVp_I"
   },
   "source": [
    "# 11. Какого жанра фильмов больше всего?"
   ]
  },
  {
   "cell_type": "code",
   "execution_count": 77,
   "metadata": {},
   "outputs": [],
   "source": [
    "answers['11'] = 'Drama'"
   ]
  },
  {
   "cell_type": "code",
   "execution_count": 98,
   "metadata": {},
   "outputs": [
    {
     "data": {
      "text/plain": [
       "{'Action': 582,\n",
       " 'Adventure': 415,\n",
       " 'Science Fiction': 248,\n",
       " 'Thriller': 596,\n",
       " 'Fantasy': 222,\n",
       " 'Crime': 315,\n",
       " 'Western': 19,\n",
       " 'Drama': 782,\n",
       " 'Family': 260,\n",
       " 'Animation': 139,\n",
       " 'Comedy': 683,\n",
       " 'Mystery': 168,\n",
       " 'Romance': 308,\n",
       " 'War': 58,\n",
       " 'History': 62,\n",
       " 'Music': 64,\n",
       " 'Horror': 176,\n",
       " 'Documentary': 8,\n",
       " 'Foreign': 2}"
      ]
     },
     "execution_count": 98,
     "metadata": {},
     "output_type": "execute_result"
    }
   ],
   "source": [
    "genres = count_genres(data.genres.tolist())\n",
    "genres"
   ]
  },
  {
   "cell_type": "markdown",
   "metadata": {},
   "source": [
    "ВАРИАНТ 2"
   ]
  },
  {
   "cell_type": "code",
   "execution_count": 184,
   "metadata": {},
   "outputs": [
    {
     "data": {
      "text/plain": [
       "Drama              782\n",
       "Comedy             683\n",
       "Thriller           596\n",
       "Action             582\n",
       "Adventure          415\n",
       "Crime              315\n",
       "Romance            308\n",
       "Family             260\n",
       "Science Fiction    248\n",
       "Fantasy            222\n",
       "Horror             176\n",
       "Mystery            168\n",
       "Animation          139\n",
       "Music               64\n",
       "History             62\n",
       "War                 58\n",
       "Western             19\n",
       "Documentary          8\n",
       "Foreign              2\n",
       "dtype: int64"
      ]
     },
     "execution_count": 184,
     "metadata": {},
     "output_type": "execute_result"
    }
   ],
   "source": [
    "cnt_values(data, 'genres')"
   ]
  },
  {
   "cell_type": "markdown",
   "metadata": {
    "colab_type": "text",
    "id": "T9_bPWpkVp_Q"
   },
   "source": [
    "# 12. Фильмы какого жанра чаще всего становятся прибыльными? "
   ]
  },
  {
   "cell_type": "code",
   "execution_count": 78,
   "metadata": {},
   "outputs": [],
   "source": [
    "answers['12'] = 'Drama'"
   ]
  },
  {
   "cell_type": "code",
   "execution_count": 189,
   "metadata": {
    "scrolled": true
   },
   "outputs": [
    {
     "data": {
      "text/plain": [
       "Drama              560\n",
       "Comedy             551\n",
       "Thriller           446\n",
       "Action             444\n",
       "Adventure          337\n",
       "Romance            242\n",
       "Crime              231\n",
       "Family             226\n",
       "Science Fiction    195\n",
       "Fantasy            188\n",
       "Horror             150\n",
       "Animation          120\n",
       "Mystery            119\n",
       "Music               47\n",
       "History             46\n",
       "War                 41\n",
       "Western             12\n",
       "Documentary          7\n",
       "dtype: int64"
      ]
     },
     "execution_count": 189,
     "metadata": {},
     "output_type": "execute_result"
    }
   ],
   "source": [
    "cnt_values(data[data.profit>0], 'genres')"
   ]
  },
  {
   "cell_type": "markdown",
   "metadata": {
    "colab_type": "text",
    "id": "0F23bgsDVp_U"
   },
   "source": [
    "# 13. У какого режиссера самые большие суммарные кассовые сбооры?"
   ]
  },
  {
   "cell_type": "code",
   "execution_count": 79,
   "metadata": {},
   "outputs": [],
   "source": [
    "answers['13'] = 'Peter Jackson'"
   ]
  },
  {
   "cell_type": "code",
   "execution_count": 149,
   "metadata": {
    "colab": {},
    "colab_type": "code",
    "id": "K6Z3J8ygVp_X"
   },
   "outputs": [
    {
     "data": {
      "text/plain": [
       "director\n",
       "Peter Jackson        6490593685\n",
       "Christopher Nolan    4167548502\n",
       "David Yates          4154295625\n",
       "Michael Bay          3886938960\n",
       "J.J. Abrams          3579169916\n",
       "                        ...    \n",
       "David MichÃ´d           2295423\n",
       "Steven Shainberg        2281089\n",
       "Paul Schrader           2062066\n",
       "Keanu Reeves            2054941\n",
       "Simon Hunter            2033165\n",
       "Name: revenue, Length: 957, dtype: int64"
      ]
     },
     "execution_count": 149,
     "metadata": {},
     "output_type": "execute_result"
    }
   ],
   "source": [
    "data.groupby('director').revenue.sum().sort_values(ascending=False)"
   ]
  },
  {
   "cell_type": "markdown",
   "metadata": {
    "colab_type": "text",
    "id": "PsYC9FgRVp_a"
   },
   "source": [
    "# 14. Какой режисер снял больше всего фильмов в стиле Action?"
   ]
  },
  {
   "cell_type": "code",
   "execution_count": 80,
   "metadata": {},
   "outputs": [],
   "source": [
    "answers['14'] = 'Robert Rodriguez'"
   ]
  },
  {
   "cell_type": "code",
   "execution_count": 181,
   "metadata": {
    "scrolled": true
   },
   "outputs": [
    {
     "data": {
      "text/plain": [
       "Robert Rodriguez      9\n",
       "Paul W.S. Anderson    7\n",
       "Michael Bay           7\n",
       "Antoine Fuqua         6\n",
       "Ridley Scott          6\n",
       "                     ..\n",
       "Josh Trank            1\n",
       "Oliver Stone          1\n",
       "Des McAnuff           1\n",
       "Randall Wallace       1\n",
       "Robert Redford        1\n",
       "Length: 364, dtype: int64"
      ]
     },
     "execution_count": 181,
     "metadata": {},
     "output_type": "execute_result"
    }
   ],
   "source": [
    "func(data[data.genres.str.contains('Action')], 'director')"
   ]
  },
  {
   "cell_type": "markdown",
   "metadata": {
    "colab_type": "text",
    "id": "PQ0KciD7Vp_f"
   },
   "source": [
    "# 15. Фильмы с каким актером принесли самые высокие кассовые сборы в 2012 году? "
   ]
  },
  {
   "cell_type": "code",
   "execution_count": 81,
   "metadata": {},
   "outputs": [],
   "source": [
    "answers['15'] = 'Chris Hemsworth'"
   ]
  },
  {
   "cell_type": "code",
   "execution_count": 233,
   "metadata": {},
   "outputs": [
    {
     "data": {
      "text/plain": [
       "Chris Hemsworth       2027450773\n",
       "Denis Leary           1629460639\n",
       "Anne Hathaway         1522851057\n",
       "Scarlett Johansson    1519557910\n",
       "Robert Downey Jr.     1519557910\n",
       "                         ...    \n",
       "Michael Nyqvist          3428048\n",
       "Danny Huston             2106557\n",
       "Sami Gayle               2106557\n",
       "Josh Lucas               2106557\n",
       "Nicolas Cage             2106557\n",
       "Length: 466, dtype: int64"
      ]
     },
     "execution_count": 233,
     "metadata": {},
     "output_type": "execute_result"
    }
   ],
   "source": [
    "# Актеры 2012 года\n",
    "cast_2012 = data[data.release_year == 2012].cast.str.cat(sep='|').split('|')\n",
    "# Сумма кассовых сборов за 2012 год по каждому актёру\n",
    "actors = {}\n",
    "for actor in cast_2012:\n",
    "    actors[actor] = data[(data.release_year == 2012) & (data.cast.str.contains(actor))].revenue.sum()\n",
    "pd.Series(actors).sort_values(ascending=False)\n",
    "\n"
   ]
  },
  {
   "cell_type": "markdown",
   "metadata": {
    "colab_type": "text",
    "id": "mWHyyL7QVp_j"
   },
   "source": [
    "# 16. Какой актер снялся в большем количестве высокобюджетных фильмов?"
   ]
  },
  {
   "cell_type": "code",
   "execution_count": 82,
   "metadata": {},
   "outputs": [],
   "source": [
    "answers['16'] = 'Matt Damon'"
   ]
  },
  {
   "cell_type": "code",
   "execution_count": 15,
   "metadata": {},
   "outputs": [
    {
     "data": {
      "text/plain": [
       "Matt Damon           18\n",
       "Adam Sandler         17\n",
       "Angelina Jolie       16\n",
       "Samuel L. Jackson    15\n",
       "Tom Cruise           15\n",
       "                     ..\n",
       "Gary Cole             1\n",
       "Sanaa Lathan          1\n",
       "Albert Finney         1\n",
       "Anna Hoelck           1\n",
       "Leighton Meester      1\n",
       "Length: 1505, dtype: int64"
      ]
     },
     "execution_count": 15,
     "metadata": {},
     "output_type": "execute_result"
    }
   ],
   "source": [
    "cnt_values(data[data.budget > data.budget.mean()], 'cast')"
   ]
  },
  {
   "cell_type": "markdown",
   "metadata": {
    "colab_type": "text",
    "id": "NIh6AaW5Vp_n"
   },
   "source": [
    "# 17. В фильмах какого жанра больше всего снимался Nicolas Cage? "
   ]
  },
  {
   "cell_type": "code",
   "execution_count": 84,
   "metadata": {},
   "outputs": [],
   "source": [
    "answers['17'] = 'Action'"
   ]
  },
  {
   "cell_type": "code",
   "execution_count": 18,
   "metadata": {
    "colab": {},
    "colab_type": "code",
    "id": "H74SJDIBVp_n"
   },
   "outputs": [
    {
     "data": {
      "text/plain": [
       "Action             17\n",
       "Thriller           15\n",
       "Drama              12\n",
       "Crime              10\n",
       "Fantasy             8\n",
       "Adventure           7\n",
       "Comedy              6\n",
       "Science Fiction     4\n",
       "Mystery             3\n",
       "Family              3\n",
       "Animation           3\n",
       "History             2\n",
       "Romance             1\n",
       "War                 1\n",
       "Horror              1\n",
       "dtype: int64"
      ]
     },
     "execution_count": 18,
     "metadata": {},
     "output_type": "execute_result"
    }
   ],
   "source": [
    "cnt_values(data[data.cast.str.contains('Nicolas Cage')], 'genres')"
   ]
  },
  {
   "cell_type": "markdown",
   "metadata": {
    "colab_type": "text",
    "id": "RqOmPRfWVp_q"
   },
   "source": [
    "# 18. Самый убыточный фильм от Paramount Pictures"
   ]
  },
  {
   "cell_type": "code",
   "execution_count": 85,
   "metadata": {},
   "outputs": [],
   "source": [
    "answers['18'] = 'K-19: The Widowmaker (tt0267626)'"
   ]
  },
  {
   "cell_type": "code",
   "execution_count": 28,
   "metadata": {
    "colab": {},
    "colab_type": "code",
    "id": "9E_B0Y96Vp_r",
    "scrolled": true
   },
   "outputs": [
    {
     "data": {
      "text/html": [
       "<div>\n",
       "<style scoped>\n",
       "    .dataframe tbody tr th:only-of-type {\n",
       "        vertical-align: middle;\n",
       "    }\n",
       "\n",
       "    .dataframe tbody tr th {\n",
       "        vertical-align: top;\n",
       "    }\n",
       "\n",
       "    .dataframe thead th {\n",
       "        text-align: right;\n",
       "    }\n",
       "</style>\n",
       "<table border=\"1\" class=\"dataframe\">\n",
       "  <thead>\n",
       "    <tr style=\"text-align: right;\">\n",
       "      <th></th>\n",
       "      <th>imdb_id</th>\n",
       "      <th>budget</th>\n",
       "      <th>revenue</th>\n",
       "      <th>original_title</th>\n",
       "      <th>cast</th>\n",
       "      <th>director</th>\n",
       "      <th>tagline</th>\n",
       "      <th>overview</th>\n",
       "      <th>runtime</th>\n",
       "      <th>genres</th>\n",
       "      <th>production_companies</th>\n",
       "      <th>release_date</th>\n",
       "      <th>vote_average</th>\n",
       "      <th>release_year</th>\n",
       "      <th>profit</th>\n",
       "    </tr>\n",
       "  </thead>\n",
       "  <tbody>\n",
       "    <tr>\n",
       "      <th>925</th>\n",
       "      <td>tt0267626</td>\n",
       "      <td>100000000</td>\n",
       "      <td>35168966</td>\n",
       "      <td>K-19: The Widowmaker</td>\n",
       "      <td>Harrison Ford|Liam Neeson|Peter Sarsgaard|Joss...</td>\n",
       "      <td>Kathryn Bigelow</td>\n",
       "      <td>Fate has found its hero.</td>\n",
       "      <td>When Russia's first nuclear submarine malfunct...</td>\n",
       "      <td>138</td>\n",
       "      <td>Thriller|Drama|History</td>\n",
       "      <td>Paramount Pictures|Intermedia Films|National G...</td>\n",
       "      <td>7/19/2002</td>\n",
       "      <td>6.0</td>\n",
       "      <td>2002</td>\n",
       "      <td>-64831034</td>\n",
       "    </tr>\n",
       "  </tbody>\n",
       "</table>\n",
       "</div>"
      ],
      "text/plain": [
       "       imdb_id     budget   revenue        original_title  \\\n",
       "925  tt0267626  100000000  35168966  K-19: The Widowmaker   \n",
       "\n",
       "                                                  cast         director  \\\n",
       "925  Harrison Ford|Liam Neeson|Peter Sarsgaard|Joss...  Kathryn Bigelow   \n",
       "\n",
       "                      tagline  \\\n",
       "925  Fate has found its hero.   \n",
       "\n",
       "                                              overview  runtime  \\\n",
       "925  When Russia's first nuclear submarine malfunct...      138   \n",
       "\n",
       "                     genres  \\\n",
       "925  Thriller|Drama|History   \n",
       "\n",
       "                                  production_companies release_date  \\\n",
       "925  Paramount Pictures|Intermedia Films|National G...    7/19/2002   \n",
       "\n",
       "     vote_average  release_year    profit  \n",
       "925           6.0          2002 -64831034  "
      ]
     },
     "execution_count": 28,
     "metadata": {},
     "output_type": "execute_result"
    }
   ],
   "source": [
    "loss = data[data.production_companies.str.contains('Paramount Pictures')].profit.min()\n",
    "data[(data.production_companies.str.contains('Paramount Pictures')) & (data.profit == loss)]"
   ]
  },
  {
   "cell_type": "markdown",
   "metadata": {
    "colab_type": "text",
    "id": "vS8Ur6ddVp_u"
   },
   "source": [
    "# 19. Какой год стал самым успешным по суммарным кассовым сборам?"
   ]
  },
  {
   "cell_type": "code",
   "execution_count": 86,
   "metadata": {
    "colab": {},
    "colab_type": "code",
    "id": "Dnbt4GdIVp_v"
   },
   "outputs": [],
   "source": [
    "answers['19'] = 2015"
   ]
  },
  {
   "cell_type": "code",
   "execution_count": 33,
   "metadata": {},
   "outputs": [
    {
     "data": {
      "text/plain": [
       "release_year\n",
       "2015    25449202382\n",
       "2014    23405862953\n",
       "2013    23213799791\n",
       "2012    23079001687\n",
       "2011    22676791872\n",
       "2010    21071204961\n",
       "2009    20261791024\n",
       "2008    18252781990\n",
       "2007    18162406801\n",
       "2004    15663430720\n",
       "2005    15309425558\n",
       "2006    14775042320\n",
       "2003    14346123312\n",
       "2002    14136361487\n",
       "2001    13017764865\n",
       "2000    10664099805\n",
       "Name: revenue, dtype: int64"
      ]
     },
     "execution_count": 33,
     "metadata": {},
     "output_type": "execute_result"
    }
   ],
   "source": [
    "data.groupby('release_year').revenue.sum().sort_values(ascending=False)"
   ]
  },
  {
   "cell_type": "markdown",
   "metadata": {
    "colab_type": "text",
    "id": "JAzJh4QAVp_z"
   },
   "source": [
    "# 20. Какой самый прибыльный год для студии Warner Bros?"
   ]
  },
  {
   "cell_type": "code",
   "execution_count": 87,
   "metadata": {
    "colab": {},
    "colab_type": "code",
    "id": "wgVu02DEVp_0"
   },
   "outputs": [],
   "source": [
    "answers['20'] = 2014"
   ]
  },
  {
   "cell_type": "code",
   "execution_count": 36,
   "metadata": {},
   "outputs": [
    {
     "data": {
      "text/plain": [
       "release_year\n",
       "2014    2295464519\n",
       "2007    2201675217\n",
       "2008    2134595031\n",
       "2010    1974712985\n",
       "2011    1871393682\n",
       "2003    1855493377\n",
       "2009    1822454136\n",
       "2013    1636453400\n",
       "2004    1631933725\n",
       "2005    1551980298\n",
       "2001    1343545668\n",
       "2012    1258020056\n",
       "2002    1022709901\n",
       "2015     870368348\n",
       "2006     620170743\n",
       "2000     452631386\n",
       "Name: profit, dtype: int64"
      ]
     },
     "execution_count": 36,
     "metadata": {},
     "output_type": "execute_result"
    }
   ],
   "source": [
    "data[data.production_companies.str.contains('Warner Bros')].groupby('release_year').profit.sum().sort_values(ascending=False)"
   ]
  },
  {
   "cell_type": "markdown",
   "metadata": {
    "colab_type": "text",
    "id": "8Im1S2HRVp_4"
   },
   "source": [
    "# 21. В каком месяце за все годы суммарно вышло больше всего фильмов?"
   ]
  },
  {
   "cell_type": "code",
   "execution_count": 88,
   "metadata": {
    "colab": {},
    "colab_type": "code",
    "id": "lev6TH7gVp_4"
   },
   "outputs": [],
   "source": [
    "answers['21'] = 'Сентябрь'"
   ]
  },
  {
   "cell_type": "code",
   "execution_count": 70,
   "metadata": {},
   "outputs": [
    {
     "data": {
      "text/plain": [
       "9     227\n",
       "12    190\n",
       "10    186\n",
       "8     161\n",
       "3     156\n",
       "4     149\n",
       "6     147\n",
       "11    146\n",
       "7     142\n",
       "5     140\n",
       "2     135\n",
       "1     110\n",
       "Name: release_date, dtype: int64"
      ]
     },
     "execution_count": 70,
     "metadata": {},
     "output_type": "execute_result"
    }
   ],
   "source": [
    "data.release_date.apply(lambda x: x.split('/')[0]).value_counts()"
   ]
  },
  {
   "cell_type": "markdown",
   "metadata": {
    "colab_type": "text",
    "id": "uAJsZ_NeVp_7"
   },
   "source": [
    "# 22. Сколько суммарно вышло фильмов летом? (за июнь, июль, август)"
   ]
  },
  {
   "cell_type": "code",
   "execution_count": 89,
   "metadata": {
    "colab": {},
    "colab_type": "code",
    "id": "Aa-hEREoVp_8"
   },
   "outputs": [],
   "source": [
    "answers['22'] = 450"
   ]
  },
  {
   "cell_type": "code",
   "execution_count": 89,
   "metadata": {},
   "outputs": [],
   "source": [
    "data2 = data.copy()\n",
    "data2['release_month'] = data2.release_date.apply(lambda x: int(x.split('/')[0]))"
   ]
  },
  {
   "cell_type": "code",
   "execution_count": 98,
   "metadata": {},
   "outputs": [
    {
     "data": {
      "text/plain": [
       "450"
      ]
     },
     "execution_count": 98,
     "metadata": {},
     "output_type": "execute_result"
    }
   ],
   "source": [
    "len(data2.query('5 < release_month < 9'))"
   ]
  },
  {
   "cell_type": "markdown",
   "metadata": {
    "colab_type": "text",
    "id": "G94ppOY1VqAA"
   },
   "source": [
    "# 23. Для какого режиссера зима – самое продуктивное время года? "
   ]
  },
  {
   "cell_type": "code",
   "execution_count": 90,
   "metadata": {
    "colab": {},
    "colab_type": "code",
    "id": "RhNTsamuVqAB"
   },
   "outputs": [],
   "source": [
    "answers['23'] = 'Peter Jackson'"
   ]
  },
  {
   "cell_type": "code",
   "execution_count": 103,
   "metadata": {},
   "outputs": [
    {
     "data": {
      "text/plain": [
       "Peter Jackson        7\n",
       "Steven Soderbergh    6\n",
       "Clint Eastwood       6\n",
       "Martin Scorsese      4\n",
       "Adam Shankman        4\n",
       "                    ..\n",
       "Ben Younger          1\n",
       "Thor Freudenthal     1\n",
       "NimrÃ³d Antal        1\n",
       "Anand Tucker         1\n",
       "McG                  1\n",
       "Length: 358, dtype: int64"
      ]
     },
     "execution_count": 103,
     "metadata": {},
     "output_type": "execute_result"
    }
   ],
   "source": [
    "data2 = data.copy()\n",
    "data2['release_month'] = data2.release_date.apply(lambda x: int(x.split('/')[0]))\n",
    "cnt_values((data2.query('release_month < 3 | release_month == 12')), 'director')"
   ]
  },
  {
   "cell_type": "markdown",
   "metadata": {
    "colab_type": "text",
    "id": "RBo0JVjVVqAF"
   },
   "source": [
    "# 24. Какая студия дает самые длинные названия своим фильмам по количеству символов?"
   ]
  },
  {
   "cell_type": "code",
   "execution_count": 91,
   "metadata": {
    "colab": {},
    "colab_type": "code",
    "id": "QRGS8L0iVqAG"
   },
   "outputs": [],
   "source": [
    "answers['24'] = 'Four By Two Productions'"
   ]
  },
  {
   "cell_type": "code",
   "execution_count": 100,
   "metadata": {},
   "outputs": [
    {
     "data": {
      "text/plain": [
       "Four By Two Productions      83.0\n",
       "Jim Henson Company, The      59.0\n",
       "Dos Corazones                47.0\n",
       "Museum Canada Productions    46.0\n",
       "Polsky Films                 46.0\n",
       "dtype: float64"
      ]
     },
     "execution_count": 100,
     "metadata": {},
     "output_type": "execute_result"
    }
   ],
   "source": [
    "# Добавляем колонку len_title во временный датасет\n",
    "data2 = data.copy()\n",
    "data2['len_title'] = data2.original_title.apply(lambda x: len(x))\n",
    "# Компании\n",
    "production_companies = set(data.production_companies.str.cat(sep='|').split('|'))\n",
    "# Длина названия фильмов (среднее значение)\n",
    "company_cnt_words = {}\n",
    "for company in production_companies:\n",
    "    company_cnt_words[company] = data2[data2.production_companies.str.contains(company)].len_title.mean()\n",
    "# Результат\n",
    "pd.Series(company_cnt_words).sort_values(ascending=False).head()"
   ]
  },
  {
   "cell_type": "markdown",
   "metadata": {
    "colab_type": "text",
    "id": "9G0hbvR7VqAK"
   },
   "source": [
    "# 25. Описание фильмов какой студии в среднем самые длинные по количеству слов?"
   ]
  },
  {
   "cell_type": "code",
   "execution_count": 92,
   "metadata": {
    "colab": {},
    "colab_type": "code",
    "id": "Ge2GsLNxVqAK"
   },
   "outputs": [],
   "source": [
    "answers['25'] = 'Midnight Picture Show'"
   ]
  },
  {
   "cell_type": "code",
   "execution_count": 101,
   "metadata": {},
   "outputs": [
    {
     "data": {
      "text/plain": [
       "Midnight Picture Show               175.0\n",
       "Room 9 Entertainment                161.0\n",
       "Heineken Branded Entertainment      159.0\n",
       "98 MPH Productions                  159.0\n",
       "Brookwell-McNamara Entertainment    156.0\n",
       "dtype: float64"
      ]
     },
     "execution_count": 101,
     "metadata": {},
     "output_type": "execute_result"
    }
   ],
   "source": [
    "data2 = data.copy()\n",
    "# Словарь для результата\n",
    "cnt_overview = {}\n",
    "# Добавдяем колонку с количеством слов в описании\n",
    "data2['cnt_overview'] = data2.overview.apply(lambda x: len(x.split()))\n",
    "for company in production_companies:\n",
    "    # Вычисляем среднее значение\n",
    "    cnt_overview[company] = data2[data2.production_companies.str.contains(company)].cnt_overview.mean()\n",
    "pd.Series(cnt_overview).sort_values(ascending=False).head()"
   ]
  },
  {
   "cell_type": "markdown",
   "metadata": {
    "colab_type": "text",
    "id": "FJ1AFt90VqAP"
   },
   "source": [
    "# 26. Какие фильмы входят в 1 процент лучших по рейтингу? \n",
    "по vote_average"
   ]
  },
  {
   "cell_type": "code",
   "execution_count": 93,
   "metadata": {
    "colab": {},
    "colab_type": "code",
    "id": "8qmJVq4CVqAQ"
   },
   "outputs": [],
   "source": [
    "answers['26'] = 'Inside Out, The Dark Knight, 12 Years a Slave'"
   ]
  },
  {
   "cell_type": "code",
   "execution_count": 51,
   "metadata": {},
   "outputs": [
    {
     "data": {
      "text/html": [
       "<div>\n",
       "<style scoped>\n",
       "    .dataframe tbody tr th:only-of-type {\n",
       "        vertical-align: middle;\n",
       "    }\n",
       "\n",
       "    .dataframe tbody tr th {\n",
       "        vertical-align: top;\n",
       "    }\n",
       "\n",
       "    .dataframe thead th {\n",
       "        text-align: right;\n",
       "    }\n",
       "</style>\n",
       "<table border=\"1\" class=\"dataframe\">\n",
       "  <thead>\n",
       "    <tr style=\"text-align: right;\">\n",
       "      <th></th>\n",
       "      <th>imdb_id</th>\n",
       "      <th>budget</th>\n",
       "      <th>revenue</th>\n",
       "      <th>original_title</th>\n",
       "      <th>cast</th>\n",
       "      <th>director</th>\n",
       "      <th>tagline</th>\n",
       "      <th>overview</th>\n",
       "      <th>runtime</th>\n",
       "      <th>genres</th>\n",
       "      <th>production_companies</th>\n",
       "      <th>release_date</th>\n",
       "      <th>vote_average</th>\n",
       "      <th>release_year</th>\n",
       "      <th>profit</th>\n",
       "    </tr>\n",
       "  </thead>\n",
       "  <tbody>\n",
       "    <tr>\n",
       "      <th>599</th>\n",
       "      <td>tt0468569</td>\n",
       "      <td>185000000</td>\n",
       "      <td>1001921825</td>\n",
       "      <td>The Dark Knight</td>\n",
       "      <td>Christian Bale|Michael Caine|Heath Ledger|Aaro...</td>\n",
       "      <td>Christopher Nolan</td>\n",
       "      <td>Why So Serious?</td>\n",
       "      <td>Batman raises the stakes in his war on crime. ...</td>\n",
       "      <td>152</td>\n",
       "      <td>Drama|Action|Crime|Thriller</td>\n",
       "      <td>DC Comics|Legendary Pictures|Warner Bros.|Syncopy</td>\n",
       "      <td>7/16/2008</td>\n",
       "      <td>8.1</td>\n",
       "      <td>2008</td>\n",
       "      <td>816921825</td>\n",
       "    </tr>\n",
       "    <tr>\n",
       "      <th>118</th>\n",
       "      <td>tt0816692</td>\n",
       "      <td>165000000</td>\n",
       "      <td>621752480</td>\n",
       "      <td>Interstellar</td>\n",
       "      <td>Matthew McConaughey|Jessica Chastain|Anne Hath...</td>\n",
       "      <td>Christopher Nolan</td>\n",
       "      <td>Mankind was born on Earth. It was never meant ...</td>\n",
       "      <td>Interstellar chronicles the adventures of a gr...</td>\n",
       "      <td>169</td>\n",
       "      <td>Adventure|Drama|Science Fiction</td>\n",
       "      <td>Paramount Pictures|Legendary Pictures|Warner B...</td>\n",
       "      <td>11/5/2014</td>\n",
       "      <td>8.0</td>\n",
       "      <td>2014</td>\n",
       "      <td>456752480</td>\n",
       "    </tr>\n",
       "    <tr>\n",
       "      <th>125</th>\n",
       "      <td>tt2084970</td>\n",
       "      <td>14000000</td>\n",
       "      <td>233555708</td>\n",
       "      <td>The Imitation Game</td>\n",
       "      <td>Benedict Cumberbatch|Keira Knightley|Matthew G...</td>\n",
       "      <td>Morten Tyldum</td>\n",
       "      <td>The true enigma was the man who cracked the code.</td>\n",
       "      <td>Based on the real life story of legendary cryp...</td>\n",
       "      <td>113</td>\n",
       "      <td>History|Drama|Thriller|War</td>\n",
       "      <td>Black Bear Pictures|Bristol Automotive</td>\n",
       "      <td>11/14/2014</td>\n",
       "      <td>8.0</td>\n",
       "      <td>2014</td>\n",
       "      <td>219555708</td>\n",
       "    </tr>\n",
       "    <tr>\n",
       "      <th>9</th>\n",
       "      <td>tt2096673</td>\n",
       "      <td>175000000</td>\n",
       "      <td>853708609</td>\n",
       "      <td>Inside Out</td>\n",
       "      <td>Amy Poehler|Phyllis Smith|Richard Kind|Bill Ha...</td>\n",
       "      <td>Pete Docter</td>\n",
       "      <td>Meet the little voices inside your head.</td>\n",
       "      <td>Growing up can be a bumpy road, and it's no ex...</td>\n",
       "      <td>94</td>\n",
       "      <td>Comedy|Animation|Family</td>\n",
       "      <td>Walt Disney Pictures|Pixar Animation Studios|W...</td>\n",
       "      <td>6/9/2015</td>\n",
       "      <td>8.0</td>\n",
       "      <td>2015</td>\n",
       "      <td>678708609</td>\n",
       "    </tr>\n",
       "    <tr>\n",
       "      <th>34</th>\n",
       "      <td>tt3170832</td>\n",
       "      <td>6000000</td>\n",
       "      <td>35401758</td>\n",
       "      <td>Room</td>\n",
       "      <td>Brie Larson|Jacob Tremblay|Joan Allen|Sean Bri...</td>\n",
       "      <td>Lenny Abrahamson</td>\n",
       "      <td>Love knows no boundaries</td>\n",
       "      <td>Jack is a young boy of 5 years old who has liv...</td>\n",
       "      <td>117</td>\n",
       "      <td>Drama|Thriller</td>\n",
       "      <td>Element Pictures|No Trace Camping|A24|Duperele...</td>\n",
       "      <td>10/16/2015</td>\n",
       "      <td>8.0</td>\n",
       "      <td>2015</td>\n",
       "      <td>29401758</td>\n",
       "    </tr>\n",
       "    <tr>\n",
       "      <th>1183</th>\n",
       "      <td>tt0993846</td>\n",
       "      <td>100000000</td>\n",
       "      <td>392000694</td>\n",
       "      <td>The Wolf of Wall Street</td>\n",
       "      <td>Leonardo DiCaprio|Jonah Hill|Margot Robbie|Kyl...</td>\n",
       "      <td>Martin Scorsese</td>\n",
       "      <td>EARN. SPEND. PARTY.</td>\n",
       "      <td>A New York stockbroker refuses to cooperate in...</td>\n",
       "      <td>180</td>\n",
       "      <td>Crime|Drama|Comedy</td>\n",
       "      <td>Paramount Pictures|Appian Way|EMJAG Production...</td>\n",
       "      <td>12/25/2013</td>\n",
       "      <td>7.9</td>\n",
       "      <td>2013</td>\n",
       "      <td>292000694</td>\n",
       "    </tr>\n",
       "    <tr>\n",
       "      <th>128</th>\n",
       "      <td>tt2267998</td>\n",
       "      <td>61000000</td>\n",
       "      <td>369330363</td>\n",
       "      <td>Gone Girl</td>\n",
       "      <td>Ben Affleck|Rosamund Pike|Carrie Coon|Neil Pat...</td>\n",
       "      <td>David Fincher</td>\n",
       "      <td>You don't know what you've got 'til it's...</td>\n",
       "      <td>With his wife's disappearance having become th...</td>\n",
       "      <td>145</td>\n",
       "      <td>Mystery|Thriller|Drama</td>\n",
       "      <td>Twentieth Century Fox Film Corporation|Regency...</td>\n",
       "      <td>10/1/2014</td>\n",
       "      <td>7.9</td>\n",
       "      <td>2014</td>\n",
       "      <td>308330363</td>\n",
       "    </tr>\n",
       "    <tr>\n",
       "      <th>1191</th>\n",
       "      <td>tt2024544</td>\n",
       "      <td>20000000</td>\n",
       "      <td>187000000</td>\n",
       "      <td>12 Years a Slave</td>\n",
       "      <td>Chiwetel Ejiofor|Michael Fassbender|Lupita Nyo...</td>\n",
       "      <td>Steve McQueen</td>\n",
       "      <td>The extraordinary true story of Solomon Northup</td>\n",
       "      <td>In the pre-Civil War United States, Solomon No...</td>\n",
       "      <td>134</td>\n",
       "      <td>Drama|History</td>\n",
       "      <td>Plan B Entertainment|Regency Enterprises|River...</td>\n",
       "      <td>10/18/2013</td>\n",
       "      <td>7.9</td>\n",
       "      <td>2013</td>\n",
       "      <td>167000000</td>\n",
       "    </tr>\n",
       "    <tr>\n",
       "      <th>119</th>\n",
       "      <td>tt2015381</td>\n",
       "      <td>170000000</td>\n",
       "      <td>773312399</td>\n",
       "      <td>Guardians of the Galaxy</td>\n",
       "      <td>Chris Pratt|Zoe Saldana|Dave Bautista|Vin Dies...</td>\n",
       "      <td>James Gunn</td>\n",
       "      <td>All heroes start somewhere.</td>\n",
       "      <td>Light years from Earth, 26 years after being a...</td>\n",
       "      <td>121</td>\n",
       "      <td>Action|Science Fiction|Adventure</td>\n",
       "      <td>Marvel Studios|Moving Picture Company (MPC)|Bu...</td>\n",
       "      <td>7/30/2014</td>\n",
       "      <td>7.9</td>\n",
       "      <td>2014</td>\n",
       "      <td>603312399</td>\n",
       "    </tr>\n",
       "    <tr>\n",
       "      <th>1081</th>\n",
       "      <td>tt0167260</td>\n",
       "      <td>94000000</td>\n",
       "      <td>1118888979</td>\n",
       "      <td>The Lord of the Rings: The Return of the King</td>\n",
       "      <td>Elijah Wood|Ian McKellen|Viggo Mortensen|Liv T...</td>\n",
       "      <td>Peter Jackson</td>\n",
       "      <td>The eye of the enemy is moving.</td>\n",
       "      <td>Aragorn is revealed as the heir to the ancient...</td>\n",
       "      <td>201</td>\n",
       "      <td>Adventure|Fantasy|Action</td>\n",
       "      <td>WingNut Films|New Line Cinema</td>\n",
       "      <td>12/1/2003</td>\n",
       "      <td>7.9</td>\n",
       "      <td>2003</td>\n",
       "      <td>1024888979</td>\n",
       "    </tr>\n",
       "  </tbody>\n",
       "</table>\n",
       "</div>"
      ],
      "text/plain": [
       "        imdb_id     budget     revenue  \\\n",
       "599   tt0468569  185000000  1001921825   \n",
       "118   tt0816692  165000000   621752480   \n",
       "125   tt2084970   14000000   233555708   \n",
       "9     tt2096673  175000000   853708609   \n",
       "34    tt3170832    6000000    35401758   \n",
       "1183  tt0993846  100000000   392000694   \n",
       "128   tt2267998   61000000   369330363   \n",
       "1191  tt2024544   20000000   187000000   \n",
       "119   tt2015381  170000000   773312399   \n",
       "1081  tt0167260   94000000  1118888979   \n",
       "\n",
       "                                     original_title  \\\n",
       "599                                 The Dark Knight   \n",
       "118                                    Interstellar   \n",
       "125                              The Imitation Game   \n",
       "9                                        Inside Out   \n",
       "34                                             Room   \n",
       "1183                        The Wolf of Wall Street   \n",
       "128                                       Gone Girl   \n",
       "1191                               12 Years a Slave   \n",
       "119                         Guardians of the Galaxy   \n",
       "1081  The Lord of the Rings: The Return of the King   \n",
       "\n",
       "                                                   cast           director  \\\n",
       "599   Christian Bale|Michael Caine|Heath Ledger|Aaro...  Christopher Nolan   \n",
       "118   Matthew McConaughey|Jessica Chastain|Anne Hath...  Christopher Nolan   \n",
       "125   Benedict Cumberbatch|Keira Knightley|Matthew G...      Morten Tyldum   \n",
       "9     Amy Poehler|Phyllis Smith|Richard Kind|Bill Ha...        Pete Docter   \n",
       "34    Brie Larson|Jacob Tremblay|Joan Allen|Sean Bri...   Lenny Abrahamson   \n",
       "1183  Leonardo DiCaprio|Jonah Hill|Margot Robbie|Kyl...    Martin Scorsese   \n",
       "128   Ben Affleck|Rosamund Pike|Carrie Coon|Neil Pat...      David Fincher   \n",
       "1191  Chiwetel Ejiofor|Michael Fassbender|Lupita Nyo...      Steve McQueen   \n",
       "119   Chris Pratt|Zoe Saldana|Dave Bautista|Vin Dies...         James Gunn   \n",
       "1081  Elijah Wood|Ian McKellen|Viggo Mortensen|Liv T...      Peter Jackson   \n",
       "\n",
       "                                                tagline  \\\n",
       "599                                     Why So Serious?   \n",
       "118   Mankind was born on Earth. It was never meant ...   \n",
       "125   The true enigma was the man who cracked the code.   \n",
       "9              Meet the little voices inside your head.   \n",
       "34                             Love knows no boundaries   \n",
       "1183                                EARN. SPEND. PARTY.   \n",
       "128         You don't know what you've got 'til it's...   \n",
       "1191    The extraordinary true story of Solomon Northup   \n",
       "119                         All heroes start somewhere.   \n",
       "1081                    The eye of the enemy is moving.   \n",
       "\n",
       "                                               overview  runtime  \\\n",
       "599   Batman raises the stakes in his war on crime. ...      152   \n",
       "118   Interstellar chronicles the adventures of a gr...      169   \n",
       "125   Based on the real life story of legendary cryp...      113   \n",
       "9     Growing up can be a bumpy road, and it's no ex...       94   \n",
       "34    Jack is a young boy of 5 years old who has liv...      117   \n",
       "1183  A New York stockbroker refuses to cooperate in...      180   \n",
       "128   With his wife's disappearance having become th...      145   \n",
       "1191  In the pre-Civil War United States, Solomon No...      134   \n",
       "119   Light years from Earth, 26 years after being a...      121   \n",
       "1081  Aragorn is revealed as the heir to the ancient...      201   \n",
       "\n",
       "                                genres  \\\n",
       "599        Drama|Action|Crime|Thriller   \n",
       "118    Adventure|Drama|Science Fiction   \n",
       "125         History|Drama|Thriller|War   \n",
       "9              Comedy|Animation|Family   \n",
       "34                      Drama|Thriller   \n",
       "1183                Crime|Drama|Comedy   \n",
       "128             Mystery|Thriller|Drama   \n",
       "1191                     Drama|History   \n",
       "119   Action|Science Fiction|Adventure   \n",
       "1081          Adventure|Fantasy|Action   \n",
       "\n",
       "                                   production_companies release_date  \\\n",
       "599   DC Comics|Legendary Pictures|Warner Bros.|Syncopy    7/16/2008   \n",
       "118   Paramount Pictures|Legendary Pictures|Warner B...    11/5/2014   \n",
       "125              Black Bear Pictures|Bristol Automotive   11/14/2014   \n",
       "9     Walt Disney Pictures|Pixar Animation Studios|W...     6/9/2015   \n",
       "34    Element Pictures|No Trace Camping|A24|Duperele...   10/16/2015   \n",
       "1183  Paramount Pictures|Appian Way|EMJAG Production...   12/25/2013   \n",
       "128   Twentieth Century Fox Film Corporation|Regency...    10/1/2014   \n",
       "1191  Plan B Entertainment|Regency Enterprises|River...   10/18/2013   \n",
       "119   Marvel Studios|Moving Picture Company (MPC)|Bu...    7/30/2014   \n",
       "1081                      WingNut Films|New Line Cinema    12/1/2003   \n",
       "\n",
       "      vote_average  release_year      profit  \n",
       "599            8.1          2008   816921825  \n",
       "118            8.0          2014   456752480  \n",
       "125            8.0          2014   219555708  \n",
       "9              8.0          2015   678708609  \n",
       "34             8.0          2015    29401758  \n",
       "1183           7.9          2013   292000694  \n",
       "128            7.9          2014   308330363  \n",
       "1191           7.9          2013   167000000  \n",
       "119            7.9          2014   603312399  \n",
       "1081           7.9          2003  1024888979  "
      ]
     },
     "execution_count": 51,
     "metadata": {},
     "output_type": "execute_result"
    }
   ],
   "source": [
    "data.sort_values(['vote_average'], ascending=False).head(10)"
   ]
  },
  {
   "cell_type": "markdown",
   "metadata": {
    "colab_type": "text",
    "id": "MdXsUXbCVqAV"
   },
   "source": [
    "# 27. Какие актеры чаще всего снимаются в одном фильме вместе?\n"
   ]
  },
  {
   "cell_type": "code",
   "execution_count": 94,
   "metadata": {},
   "outputs": [],
   "source": [
    "answers['27'] = 'Daniel Radcliffe & Rupert Grint'"
   ]
  },
  {
   "cell_type": "code",
   "execution_count": 65,
   "metadata": {},
   "outputs": [
    {
     "data": {
      "text/plain": [
       "{'Sonoya Mizuno',\n",
       " 'Leigh Whannell',\n",
       " 'Teo Halm',\n",
       " 'Mackenzie Davis',\n",
       " 'Jessica Szohr',\n",
       " 'Patricia Belcher',\n",
       " 'Elizabeth Reaser',\n",
       " 'Mike Cameron',\n",
       " 'John Travolta',\n",
       " 'Arthur Angel',\n",
       " 'Lisa Bonet',\n",
       " 'Amanda Bynes',\n",
       " 'Drake Bell',\n",
       " 'Simon Woods',\n",
       " 'Danielle Panabaker',\n",
       " 'Stan Collymore',\n",
       " 'Eliza Dushku',\n",
       " 'Johanna Braddy',\n",
       " 'Ike Barinholtz',\n",
       " 'Paul Freeman',\n",
       " 'Lewis Fitz-Gerald',\n",
       " 'Darius Rose',\n",
       " 'Chris Sanders',\n",
       " 'Makenzie Vega',\n",
       " 'Robert De Niro',\n",
       " 'Ron Silver',\n",
       " 'Marshall Chapman',\n",
       " 'Guy Torry',\n",
       " 'Daniel Day-Lewis',\n",
       " 'Dylan McDermott',\n",
       " 'Daniel Gillies',\n",
       " 'Caitlin Stasey',\n",
       " 'Lloyd Owen',\n",
       " 'Richard Goteri',\n",
       " 'Emilio Rivera',\n",
       " 'Jason Segel',\n",
       " 'Scottie Thompson',\n",
       " 'Kerry Condon',\n",
       " 'Eduardo VerÃ¡stegui',\n",
       " 'Chris Wedge',\n",
       " 'Tom Sturridge',\n",
       " 'Emma Bell',\n",
       " 'Saffron Burrows',\n",
       " 'Kristen Cloke',\n",
       " 'Diedrich Bader',\n",
       " 'Vanessa Hudgens',\n",
       " 'AndrÃ© Benjamin',\n",
       " 'Marley Shelton',\n",
       " 'Jenny Slate',\n",
       " 'Clancy Brown',\n",
       " 'Robert Carradine',\n",
       " 'Ezra Miller',\n",
       " 'Willow Smith',\n",
       " 'Jemaine Clement',\n",
       " 'Elizabeth Banks',\n",
       " 'Brian Dietzen',\n",
       " 'Justin Chon',\n",
       " 'Rosie Shaw',\n",
       " 'M.C. Gainey',\n",
       " 'Imelda Staunton',\n",
       " 'Dan Levy',\n",
       " 'Ron Perlman',\n",
       " 'Roxanne McKee',\n",
       " 'Kris Kristofferson',\n",
       " 'Jane Fonda',\n",
       " 'J.R. Villarreal',\n",
       " 'Liza Lapira',\n",
       " 'Joseph Cross',\n",
       " 'Timothy Dalton',\n",
       " 'Helen McCrory',\n",
       " 'Edward Burns',\n",
       " 'Nicky Whelan',\n",
       " 'Kristin Davis',\n",
       " 'Dianne Wiest',\n",
       " 'Laura Linney',\n",
       " 'Ben Whishaw',\n",
       " 'Theo James',\n",
       " 'Lea Thompson',\n",
       " 'Martin Donovan',\n",
       " 'Stellan SkarsgÃ¥rd',\n",
       " 'Isabel Lucas',\n",
       " 'Amaury Nolasco',\n",
       " 'Richard Jenkins',\n",
       " 'Michael Roof',\n",
       " 'Courtney Love',\n",
       " 'Mia Kirshner',\n",
       " 'Tia Carrere',\n",
       " 'Javier Bardem',\n",
       " 'Maria Smolnikova',\n",
       " 'Carrie-Anne Moss',\n",
       " 'Kevin Pollak',\n",
       " 'Megan Fox',\n",
       " 'Max Thieriot',\n",
       " 'Rob Corddry',\n",
       " 'January Jones',\n",
       " 'Juan Carlos HernÃ¡ndez',\n",
       " 'Jamie Chung',\n",
       " 'Halle Berry',\n",
       " 'Lily Collins',\n",
       " 'Denise Richards',\n",
       " 'Megan Boone',\n",
       " 'David Hasselhoff',\n",
       " 'Marc Fayolle',\n",
       " 'Leonardo DiCaprio',\n",
       " 'Geena Davis',\n",
       " 'Michael Cera',\n",
       " 'Saxon Sharbino',\n",
       " 'Shannon Woodward',\n",
       " 'Leah Remini',\n",
       " 'Eva Mendes',\n",
       " 'RubÃ©n Blades',\n",
       " 'Nona Gaye',\n",
       " 'Shari Headley',\n",
       " 'Jonathan Frakes',\n",
       " 'Kate Beahan',\n",
       " 'Michelle Dockery',\n",
       " 'Alan Cumming',\n",
       " 'Gaspard Ulliel',\n",
       " 'Gerry Bednob',\n",
       " 'Tye Sheridan',\n",
       " 'Jean Michel ParÃ©',\n",
       " 'Robert Carlyle',\n",
       " 'June Diane Raphael',\n",
       " 'Allison Cratchley',\n",
       " 'Thomas Curtis',\n",
       " 'Jorge Diaz',\n",
       " 'Lauren Bittner',\n",
       " 'Bobby Campo',\n",
       " 'Will Patton',\n",
       " 'John Forsythe',\n",
       " 'Don Knotts',\n",
       " 'Adam Alexi-Malle',\n",
       " 'Ben Chaplin',\n",
       " 'Billy Ray Cyrus',\n",
       " 'Ty Burrell',\n",
       " 'Michael Bunin',\n",
       " 'James Kidnie',\n",
       " 'Taissa Farmiga',\n",
       " 'Steele Stebbins',\n",
       " 'Kathleen Turner',\n",
       " 'Lydia Hull',\n",
       " 'Sahira Nair',\n",
       " 'CÃ©cile De France',\n",
       " 'JoBeth Williams',\n",
       " 'Mamie Gummer',\n",
       " 'Ben Affleck',\n",
       " 'Zachary Quinto',\n",
       " \"Ser'Darius Blain\",\n",
       " 'Yvan Attal',\n",
       " 'Lymari Nadal',\n",
       " 'Katija Pevec',\n",
       " 'Steve Coogan',\n",
       " 'Diego Boneta',\n",
       " 'Sydney Pollack',\n",
       " 'WolÃ© Parks',\n",
       " 'Jane Lynch',\n",
       " 'Uday Chopra',\n",
       " 'Beth Grant',\n",
       " 'Adelaide Clemens',\n",
       " 'Keira Knightley',\n",
       " \"Chris O'Donnell\",\n",
       " 'Ryan Newman',\n",
       " 'Reynaldo Gallegos',\n",
       " 'Charles Dance',\n",
       " 'Jean-Marie Lamour',\n",
       " 'Paul RodrÃ\\xadguez',\n",
       " 'Tsuyoshi Ihara',\n",
       " 'Victoria Justice',\n",
       " 'Leonard Roberts',\n",
       " \"Peter O'Toole\",\n",
       " 'Dave Bautista',\n",
       " 'Matt Walsh',\n",
       " 'Michael Stuhlbarg',\n",
       " 'Mandy Moore',\n",
       " 'Gary Oldman',\n",
       " 'Ed Skrein',\n",
       " 'Max Ryan',\n",
       " 'Colin Salmon',\n",
       " 'Haley Joel Osment',\n",
       " 'Mark Rolston',\n",
       " 'Paula GarcÃ©s',\n",
       " 'Zach Galifianakis',\n",
       " 'Albert Finney',\n",
       " 'Olivia Cooke',\n",
       " 'Don Johnson',\n",
       " 'Louis Gossett, Jr.',\n",
       " 'Jane Horrocks',\n",
       " 'Bill Hader',\n",
       " 'Eileen Atkins',\n",
       " 'Amy Ryan',\n",
       " 'Lauren Hodges',\n",
       " 'Jodie Whittaker',\n",
       " 'Harriet Owen',\n",
       " 'Zekeria Ebrahimi',\n",
       " 'Octavia Spencer',\n",
       " 'Lisa Ryder',\n",
       " 'Usher Raymond',\n",
       " 'Debra Messing',\n",
       " 'Barry Watson',\n",
       " 'Skeet Ulrich',\n",
       " 'Rob Lowe',\n",
       " 'Kate Bosworth',\n",
       " 'Takamasa Ishihara',\n",
       " 'Cameron Bright',\n",
       " 'Richard Gant',\n",
       " 'Amber Heard',\n",
       " 'Helena Bonham Carter',\n",
       " 'Justin Guarini ',\n",
       " 'David Calder',\n",
       " 'Pat Healy',\n",
       " 'Sarah Polley',\n",
       " 'Madison Pettis',\n",
       " 'Herman Osorio',\n",
       " 'Samuel Joslin',\n",
       " 'Beau Bridges',\n",
       " 'Charlotte Le Bon',\n",
       " 'Travis Wester',\n",
       " 'Chyler Leigh',\n",
       " 'Heiner Lauterbach',\n",
       " 'Tamala Jones',\n",
       " 'Hill Harper',\n",
       " 'David Banner',\n",
       " 'Billie Whitelaw',\n",
       " 'Rutger Hauer',\n",
       " 'Sharon Leal',\n",
       " 'Stephen Rea',\n",
       " 'Sarah Michelle Gellar',\n",
       " 'Susan Brown',\n",
       " 'Armin Mueller-Stahl',\n",
       " 'Brittany Daniel',\n",
       " 'Jason Biggs',\n",
       " 'Jana Hrabetova',\n",
       " 'Willie Garson',\n",
       " 'David Burrows',\n",
       " 'Rohan Chand',\n",
       " 'Rodger Bumpass',\n",
       " 'Fred Dalton Thompson',\n",
       " 'Chris Messina',\n",
       " 'Shirley MacLaine',\n",
       " 'Lou Taylor Pucci',\n",
       " 'Rob Reiner',\n",
       " 'Mike White',\n",
       " 'Max Records',\n",
       " 'Tyler Mane',\n",
       " 'Ona Grauer',\n",
       " 'Adrian Paul',\n",
       " 'Jim Belushi',\n",
       " 'Ben Levin',\n",
       " 'Justin Theroux',\n",
       " 'Columbus Short',\n",
       " 'Catherine Bell',\n",
       " 'Yolandi Visser',\n",
       " 'Anna Faris',\n",
       " 'TomÃ¡s MiliÃ¡n',\n",
       " 'Harish Patel',\n",
       " 'Marsha Thomason',\n",
       " 'Brian Geraghty',\n",
       " 'Eamonn Walker',\n",
       " 'Kevin Sorbo',\n",
       " 'Katie Featherston',\n",
       " 'Omar Benson Miller',\n",
       " 'Noah Schnapp',\n",
       " 'Hank Azaria',\n",
       " 'Paul Johansson',\n",
       " 'Jonathan Keltz',\n",
       " 'Zoe McLellan',\n",
       " 'Corey Hawkins',\n",
       " 'Alan Dale',\n",
       " 'Allen Leech',\n",
       " 'Paul Rudd',\n",
       " 'Teddy Geiger',\n",
       " 'Jay Baruchel',\n",
       " 'Ahney Her',\n",
       " 'Stephen Dillane',\n",
       " 'Holly Hunter',\n",
       " 'Kevin Connolly',\n",
       " 'Zoe Kazan',\n",
       " 'Chris Hemsworth',\n",
       " 'Lynn Collins',\n",
       " 'Daryl Sabara',\n",
       " 'Michael Wincott',\n",
       " 'Graham McTavish',\n",
       " 'Larry the Cable Guy',\n",
       " 'Darwin Shaw',\n",
       " 'Edie Falco',\n",
       " 'John Magaro',\n",
       " 'Mitch Baker',\n",
       " \"Sofia Black-D'Elia\",\n",
       " 'Nick Rotteveel',\n",
       " 'Chad Michael Murray',\n",
       " 'Leslie Bibb',\n",
       " 'Stevie Wonder',\n",
       " 'Fernanda Romero',\n",
       " 'Daniel Craig',\n",
       " 'Harrison Ford',\n",
       " 'Tyler Posey',\n",
       " 'Erin Daniels',\n",
       " 'Ana de la Reguera',\n",
       " 'Lauren Hutton',\n",
       " 'Carrie Fisher',\n",
       " 'Jonathan Brewer',\n",
       " 'Jesse Eisenberg',\n",
       " 'Robert Patrick',\n",
       " 'Kate Butler',\n",
       " 'Julia Louis-Dreyfus',\n",
       " 'Taron Egerton',\n",
       " 'Lily James',\n",
       " 'Kevin Zegers',\n",
       " 'Brian Howe',\n",
       " 'Anjelica Huston',\n",
       " 'Wentworth Miller',\n",
       " 'Brandon Routh',\n",
       " 'Eddie Izzard',\n",
       " 'Augustus Prew',\n",
       " 'Julian Rhind-Tutt',\n",
       " 'Malin Ã…kerman',\n",
       " 'Riley Keough',\n",
       " 'Jason London',\n",
       " 'William Lee Scott',\n",
       " 'Paul Whitehouse',\n",
       " 'Sophia Bush',\n",
       " 'Michael Clarke Duncan',\n",
       " 'Leon Rippy',\n",
       " 'Kevin James',\n",
       " 'Jake Gyllenhaal',\n",
       " 'Mischa Barton',\n",
       " 'Danny DeVito',\n",
       " 'Rhiana Griffith',\n",
       " 'Michael Fassbender',\n",
       " 'Ron Livingston',\n",
       " 'Ivy George',\n",
       " 'Ed Helms',\n",
       " 'Cameron Diaz',\n",
       " 'Richmond Arquette',\n",
       " 'Tim Matheson',\n",
       " 'Toni Collette',\n",
       " 'Ben Barnes',\n",
       " 'Malcolm David Kelley',\n",
       " 'Elvis Polanski',\n",
       " 'Tang Wei',\n",
       " 'James Remar',\n",
       " 'Douglas Smith',\n",
       " 'Aly Michalka',\n",
       " 'Devon Bostick',\n",
       " 'Whitney Houston',\n",
       " 'Sophie Kennedy Clark',\n",
       " 'Paul Soter',\n",
       " 'David Spade',\n",
       " 'Bernie Casey',\n",
       " 'Matthew Lillard',\n",
       " 'Charlie Cox',\n",
       " 'Justin Chatwin',\n",
       " 'Mike Vogel',\n",
       " 'Christopher Dunne',\n",
       " 'Sally Hawkins',\n",
       " 'Dillon Freasier',\n",
       " 'Lombardo Boyar',\n",
       " 'Mari Morrow',\n",
       " 'Oanh Nguyen',\n",
       " 'Paula Patton',\n",
       " 'Brooke Smith',\n",
       " 'Oliver Cooper',\n",
       " 'Bitsie Tulloch',\n",
       " 'Jason Mewes',\n",
       " 'Maggie Elizabeth Jones',\n",
       " 'Giancarlo Giannini',\n",
       " 'Kristen Miller',\n",
       " 'Michelle Rodriguez',\n",
       " 'Aunjanue Ellis',\n",
       " 'Sage Ryan',\n",
       " 'Stanley Tucci',\n",
       " 'Julie Andrews',\n",
       " 'Alexander Gould',\n",
       " 'Martin Sheen',\n",
       " 'Ellia English',\n",
       " 'Hugh Keays-Byrne',\n",
       " 'Scott Eastwood',\n",
       " 'Vivica A. Fox',\n",
       " 'Nicholas Braun',\n",
       " 'Eric Balfour',\n",
       " 'Virginia Gardner',\n",
       " 'Judy Davis',\n",
       " 'Jerry Ferrara',\n",
       " 'Gaelan Connell',\n",
       " 'Alan Rickman',\n",
       " 'Joel Garland',\n",
       " 'Daniel Tay',\n",
       " 'Joy Bryant',\n",
       " 'Jennifer Aniston',\n",
       " 'Burt Reynolds',\n",
       " 'Aitana SÃ¡nchez-GijÃ³n',\n",
       " 'Mae Whitman',\n",
       " 'Ken Kirzinger',\n",
       " 'Tom Sizemore',\n",
       " 'Scott Mechlowicz',\n",
       " 'Dakota Fanning',\n",
       " 'Gabriella Wilde',\n",
       " 'Jere Burns',\n",
       " 'Aryana Engineer',\n",
       " 'Frances de la Tour',\n",
       " 'Chris Rock',\n",
       " 'Bradley Cooper',\n",
       " 'Billy Crudup',\n",
       " 'Brad Dourif',\n",
       " 'Justice Smith',\n",
       " 'Jake Weber',\n",
       " 'Isla Fisher',\n",
       " 'Tom Everett Scott',\n",
       " 'DeRay Davis',\n",
       " 'Benjamin Kanes',\n",
       " 'Phyllis Smith',\n",
       " 'Helmut Bakaitis',\n",
       " 'Sarah Bolger',\n",
       " 'Lusia Strus',\n",
       " 'Lyriq Bent',\n",
       " 'Matt Bomer',\n",
       " 'Allen Covert',\n",
       " 'Corey Burton',\n",
       " 'Josh Holloway',\n",
       " 'Lee Majors',\n",
       " 'Jae Head',\n",
       " 'Rami Malek',\n",
       " 'Freddie Highmore',\n",
       " 'Fana Mokoena',\n",
       " 'Dave Franco',\n",
       " 'Max Casella',\n",
       " 'Edward Furlong',\n",
       " 'Josh Brolin',\n",
       " 'Meryl Streep',\n",
       " 'Rosemary Harris',\n",
       " 'Katharine McPhee',\n",
       " 'Dania Ramirez',\n",
       " 'Jose Pablo Cantillo',\n",
       " 'Benicio del Toro',\n",
       " 'Jonathan Lipnicki',\n",
       " 'Geraldine Somerville',\n",
       " 'Adam Pascal',\n",
       " 'Zhang Ziyi',\n",
       " 'Cara Delevingne',\n",
       " 'DJ Qualls',\n",
       " 'Glenn Morshower',\n",
       " 'Kim Cattrall',\n",
       " 'Busy Philipps',\n",
       " 'Benedict Wong',\n",
       " 'Steve Harvey',\n",
       " 'Omar Sharif',\n",
       " 'Bree Turner',\n",
       " 'Rhys Ifans',\n",
       " 'Stephen Fry',\n",
       " 'Richard Cabral',\n",
       " 'Finn Wittrock',\n",
       " 'Denzel Whitaker',\n",
       " 'Mike Epps',\n",
       " 'Natalie Martinez',\n",
       " 'Nash Edgerton',\n",
       " 'Patricia Clarkson',\n",
       " 'Sigourney Weaver',\n",
       " 'Mimi Rogers',\n",
       " 'Jack Davenport',\n",
       " 'Ryo Kase',\n",
       " 'Bruce McGill',\n",
       " 'Darrin Henson',\n",
       " 'Heidi Hawkins',\n",
       " 'John Robinson',\n",
       " 'Danny Trejo',\n",
       " 'Edward James Olmos',\n",
       " 'Michael Nyqvist',\n",
       " 'Stephen Baldwin',\n",
       " 'David Moscow',\n",
       " 'Luke Wilson',\n",
       " 'Jeremy Sheffield',\n",
       " 'Carmen Electra',\n",
       " 'Cynthia Stevenson',\n",
       " 'Lucas Jade Zumann',\n",
       " 'Jacob Vargas',\n",
       " 'Iain Glen',\n",
       " 'Pihla Viitala',\n",
       " 'Bruce Boxleitner',\n",
       " 'Antony Starr',\n",
       " 'Beverly Todd',\n",
       " 'Aaron Taylor-Johnson',\n",
       " 'Sienna Miller',\n",
       " 'Mark Strong',\n",
       " 'Susanna Thompson',\n",
       " 'Leslie Nielsen',\n",
       " 'Zachary Knighton',\n",
       " 'Kevin Dillon',\n",
       " 'Myleene Klass',\n",
       " 'Faizon Love',\n",
       " 'Jordan Nagai',\n",
       " 'Tory Mussett',\n",
       " 'LeVar Burton',\n",
       " 'Amanda Detmer',\n",
       " 'Rebel Wilson',\n",
       " 'Hunter McCracken',\n",
       " 'Andy Serkis',\n",
       " 'Luke Pasqualino',\n",
       " 'Omar Metwally',\n",
       " 'Dash Mihok',\n",
       " 'Cindy Cheung',\n",
       " 'Mehmet Ferda',\n",
       " 'Gisele BÃ¼ndchen',\n",
       " 'Kelly Carlson',\n",
       " 'Lance Reddick',\n",
       " 'Christopher McDonald',\n",
       " 'Steven Strait',\n",
       " 'Dane DeHaan',\n",
       " 'Ralph Fiennes',\n",
       " 'Fergus Riordan',\n",
       " 'Emily Procter',\n",
       " 'Robert Klein',\n",
       " 'Eddie Deezen',\n",
       " 'John Mahoney',\n",
       " 'John Finn',\n",
       " 'Aaron Yoo',\n",
       " 'Chris Noth',\n",
       " 'David Andrews',\n",
       " 'Emilio EchevarrÃ\\xada',\n",
       " 'Dan Futterman',\n",
       " 'Raffey Cassidy',\n",
       " 'Leven Rambin',\n",
       " 'ZoÃ« Kravitz',\n",
       " 'Priyanka Xi',\n",
       " 'Jeremy Davies',\n",
       " 'Dianna Agron',\n",
       " 'Paul Bettany',\n",
       " 'James Cromwell',\n",
       " 'Angus Macfadyen',\n",
       " 'Alexander Siddig',\n",
       " 'Sarah Dubrovsky',\n",
       " 'Eddie J. Fernandez',\n",
       " 'Mark Consuelos',\n",
       " 'Jamie Draven',\n",
       " 'Craig Ferguson',\n",
       " 'Adam Levine',\n",
       " 'Kacey Barnfield',\n",
       " 'Bruno Campos',\n",
       " 'Fan Bingbing',\n",
       " 'Brady Bluhm',\n",
       " 'Don Curry',\n",
       " 'Amanda Seyfried',\n",
       " 'Dakota Goyo',\n",
       " 'Roselyn SÃ¡nchez',\n",
       " 'Raini Rodriguez',\n",
       " 'Terence Stamp',\n",
       " 'Alex Rocco',\n",
       " 'Miles Teller',\n",
       " 'Sean Astin',\n",
       " 'Allison Tolman',\n",
       " 'Clark Duke',\n",
       " 'Luenell',\n",
       " 'Dane Cook',\n",
       " 'Dalia HernÃ¡ndez',\n",
       " 'Abigail Breslin',\n",
       " 'Jared Gilman',\n",
       " 'Michael Biehn',\n",
       " 'Emilia Fox',\n",
       " 'Samantha Mumba',\n",
       " 'Sienna Guillory',\n",
       " 'Aidan McArdle',\n",
       " 'Dawn French',\n",
       " 'Michael Caine',\n",
       " 'Emi Ikehata',\n",
       " 'William H. Macy',\n",
       " \"O'Shea Jackson Jr.\",\n",
       " 'Jessica Guadix',\n",
       " \"Eileen O'Higgins\",\n",
       " 'Judd Hirsch',\n",
       " 'Mary Beth Hurt',\n",
       " 'Ryan McCluskey',\n",
       " 'Wilson Jermaine Heredia',\n",
       " 'Keri Russell',\n",
       " 'Drew Barrymore',\n",
       " 'Clint Howard',\n",
       " 'Dustin Hoffman',\n",
       " 'Agata Buzek',\n",
       " 'Karen Allen',\n",
       " 'Bahar Soomekh',\n",
       " 'Yvonne Strahovski',\n",
       " 'Wes Bentley',\n",
       " 'Mark Brady',\n",
       " 'Sean Combs',\n",
       " 'Nadia Townsend',\n",
       " 'Will Yun Lee',\n",
       " 'Ricky Gervais',\n",
       " 'Yanina Studilina',\n",
       " 'Brennan Brown',\n",
       " 'James Rebhorn',\n",
       " 'Cory Monteith',\n",
       " 'Jason Patric',\n",
       " 'David Krumholtz',\n",
       " 'Portia Dawson',\n",
       " 'Mel Brooks',\n",
       " 'Michael-Leon Wooley',\n",
       " 'Monet Mazur',\n",
       " 'MÃ©lanie Thierry',\n",
       " 'Richard Armitage',\n",
       " 'Robert Pattinson',\n",
       " 'BeyoncÃ© Knowles',\n",
       " 'Joshua Jackson',\n",
       " 'Dany Verissimo-Petit',\n",
       " 'James Ransone',\n",
       " 'Anson Mount',\n",
       " 'Josh Helman',\n",
       " 'Ariel Winter',\n",
       " 'Gabriel Mann',\n",
       " 'Ted Levine',\n",
       " 'Frankie Muniz',\n",
       " 'Sid Haig',\n",
       " 'Michael Kenneth Williams',\n",
       " 'Roger Barclay',\n",
       " 'Jason Bateman',\n",
       " 'Alexis Georgoulis',\n",
       " 'Jack Bright',\n",
       " 'Percy Daggs III',\n",
       " 'Jessica Barth',\n",
       " 'Luke Treadaway',\n",
       " 'Thomas McDonell',\n",
       " 'Dina Spybey-Waters',\n",
       " 'Kellan Lutz',\n",
       " 'Erica Leerhsen',\n",
       " 'Jack Kehler',\n",
       " 'Maggie Gyllenhaal',\n",
       " 'Kevin Dunn',\n",
       " 'John Cho',\n",
       " 'Deniz Akdeniz',\n",
       " 'Izabela Vidovic',\n",
       " 'Brian Blessed',\n",
       " 'Bruce Willis',\n",
       " 'Alec Baldwin',\n",
       " 'Jerry Seinfeld',\n",
       " 'Michael Zegen',\n",
       " 'Martin Starr',\n",
       " 'Emma de Caunes',\n",
       " 'Steve Howey',\n",
       " 'Aimee Teegarden',\n",
       " 'Bridget Fonda',\n",
       " 'Naveen Andrews',\n",
       " 'James Buckley',\n",
       " 'Peter Sarsgaard',\n",
       " 'Brendan Gleeson',\n",
       " 'Tom Skerritt',\n",
       " 'Kim Dickens',\n",
       " 'Isaac Hempstead Wright',\n",
       " 'Jamie Elman',\n",
       " 'Anne Archer',\n",
       " 'Harry Connick Jr.',\n",
       " 'Ludivine Sagnier',\n",
       " 'Nia Long',\n",
       " 'Alicia Silverstone',\n",
       " 'Alice Braga',\n",
       " 'MÃ©lanie Laurent',\n",
       " 'Danny Huston',\n",
       " 'Amara Miller',\n",
       " 'Jeff Anderson',\n",
       " 'Gina Philips',\n",
       " 'Nancy Cartwright',\n",
       " 'Billy Campbell',\n",
       " 'Ray Winstone',\n",
       " 'Joel Kinnaman',\n",
       " 'Matthew Settle',\n",
       " 'Dennis Haysbert',\n",
       " 'Vera Farmiga',\n",
       " 'Franka Potente',\n",
       " 'Zac Efron',\n",
       " 'Colin Farrell',\n",
       " 'Sean Faris',\n",
       " 'Leland Orser',\n",
       " 'Tucker Albrizzi',\n",
       " 'Taryn Manning',\n",
       " 'Megan Park',\n",
       " 'Kristin Kreuk',\n",
       " 'Josh Pence',\n",
       " 'Sandra Bullock',\n",
       " 'Dermot Mulroney',\n",
       " 'Claire Danes',\n",
       " 'John Michael Higgins',\n",
       " 'Marc Anthony',\n",
       " 'Juliette Lewis',\n",
       " 'Skyler Gisondo',\n",
       " 'Sean Bridgers',\n",
       " 'Clark Gregg',\n",
       " 'Jacob Lofland',\n",
       " 'Thora Birch',\n",
       " 'Kristy Swanson',\n",
       " 'Andrei Dementiev',\n",
       " 'Jermaine Williams',\n",
       " 'Lily Tomlin',\n",
       " 'Kat Dennings',\n",
       " 'Agnes Bruckner',\n",
       " 'LaJessie Smith',\n",
       " 'Oliver Reed',\n",
       " 'Britt Robertson',\n",
       " 'Natalie Dormer',\n",
       " 'Wayne Newton',\n",
       " 'Affion Crockett',\n",
       " \"Tony D'Amario\",\n",
       " 'Jodie Foster',\n",
       " 'Kurt Russell',\n",
       " 'Michael Landes',\n",
       " 'Kiele Sanchez',\n",
       " \"Mo'Nique\",\n",
       " 'David Morse',\n",
       " 'Josh Hammond',\n",
       " 'Alexander Pollock',\n",
       " 'Krysten Ritter',\n",
       " 'Susan Sarandon',\n",
       " 'Peter Outerbridge',\n",
       " 'Lisa Kudrow',\n",
       " 'RenÃ©e Taylor',\n",
       " 'Brad Pitt',\n",
       " 'Joely Richardson',\n",
       " 'Craig Berry',\n",
       " 'Terry Kinney',\n",
       " 'Jon Heder',\n",
       " 'Emma Roberts',\n",
       " 'Omar J. Dorsey',\n",
       " 'Ari Graynor',\n",
       " 'Margo Martindale',\n",
       " 'Betsy Russell',\n",
       " 'Zeljko Ivanek',\n",
       " 'Steven Brand',\n",
       " 'David Schwimmer',\n",
       " 'Chris Sarandon',\n",
       " 'Sylvaine Strike',\n",
       " 'Bill Moseley',\n",
       " 'John Goodman',\n",
       " 'Bibi Naceri',\n",
       " 'Greg Siff',\n",
       " 'Lizzy Caplan',\n",
       " 'Mark Addy',\n",
       " 'Aaron Eckhart',\n",
       " 'Sanoe Lake',\n",
       " 'Seth MacFarlane',\n",
       " 'Ethan Suplee',\n",
       " 'Kevin McKidd',\n",
       " 'Finnegan Williams',\n",
       " 'Astro',\n",
       " 'Donnie Yen',\n",
       " 'Will Sasso',\n",
       " 'Sayed Badreya',\n",
       " 'Yousuf Azami',\n",
       " 'Scott Caan',\n",
       " 'Nick Krause',\n",
       " 'Cary-Hiroyuki Tagawa',\n",
       " 'Mako',\n",
       " 'Eric Mabius',\n",
       " 'Matthew Broderick',\n",
       " 'Michael Rainey Jr.',\n",
       " 'Gary Dourdan',\n",
       " 'Ron Glass',\n",
       " 'Jason Alexander',\n",
       " 'Breckin Meyer',\n",
       " 'Maitland Ward',\n",
       " 'Ian McKellen',\n",
       " 'Nicholas Art',\n",
       " 'Wen Bin Huang',\n",
       " 'Katy Perry',\n",
       " 'Tika Sumpter',\n",
       " 'Jonah Hill',\n",
       " 'Jill Scott',\n",
       " 'Peter Gallagher',\n",
       " 'Ken Davitian',\n",
       " 'Tom Hollander',\n",
       " 'Matthew Macfadyen',\n",
       " 'John Ortiz',\n",
       " 'Miles Fisher',\n",
       " 'Tatum Etheridge',\n",
       " 'Eric Christian Olsen',\n",
       " 'Colleen Haskell',\n",
       " 'Daeg Faerch',\n",
       " 'Jimmi Simpson',\n",
       " 'Collette Wolfe',\n",
       " \"Mike O'Brien\",\n",
       " 'Spencer Garrett',\n",
       " 'Joan Allen',\n",
       " 'Jayma Mays',\n",
       " 'Selena Gomez',\n",
       " 'Mike Myers',\n",
       " 'Nicole Beharie',\n",
       " 'Mariah Carey',\n",
       " 'Jonathan Bennett',\n",
       " 'Kiefer Sutherland',\n",
       " 'Garry Shandling',\n",
       " 'Joe Anderson',\n",
       " 'Harry Treadaway',\n",
       " 'Frankie Faison',\n",
       " 'Luke Bracey',\n",
       " 'Joseph Morgan',\n",
       " 'Thomas Robinson',\n",
       " 'Rolf Kanies',\n",
       " 'Sterling Jerins',\n",
       " 'Ron Rifkin',\n",
       " 'Adam Beach',\n",
       " 'Liane Balaban',\n",
       " 'Laurence Fox',\n",
       " 'Viola Davis',\n",
       " 'Jada Pinkett Smith',\n",
       " 'Dan Hedaya',\n",
       " 'John Cleese',\n",
       " 'Gary Cole',\n",
       " 'Carly Schroeder',\n",
       " 'HÃ©ctor JimÃ©nez',\n",
       " 'Noah Taylor',\n",
       " 'Alistair McGowan',\n",
       " 'Elisabeth Harnois',\n",
       " 'Phaldut Sharma',\n",
       " 'Ashley Greene',\n",
       " 'Jonathan Groff',\n",
       " 'Amy Irving',\n",
       " 'Callan Mulvey',\n",
       " 'Jena Malone',\n",
       " 'Tatjana PajkoviÄ‡',\n",
       " 'Costas Mandylor',\n",
       " 'Rhys Darby',\n",
       " 'Parker Posey',\n",
       " 'Andy Buckley',\n",
       " 'GQ',\n",
       " 'Nick Stahl',\n",
       " 'Sophie Monk',\n",
       " 'Cole Konis',\n",
       " 'Justin Long',\n",
       " 'Alessandro Gassman',\n",
       " 'Wang Baoqiang',\n",
       " 'Fred Ward',\n",
       " 'Caity Lotz',\n",
       " 'Jonathan Tucker',\n",
       " 'Tony Amendola',\n",
       " 'Jason Ritter',\n",
       " 'Maya Rudolph',\n",
       " 'Rory Kinnear',\n",
       " 'Colm Meaney',\n",
       " 'Gary Lewis',\n",
       " 'Emily Deschanel',\n",
       " 'Christian Bale',\n",
       " 'Mark Wahlberg',\n",
       " 'Yuan Wenkang',\n",
       " 'Jesse Metcalfe',\n",
       " 'Idris Elba',\n",
       " 'Michael Eklund',\n",
       " 'Jack McBrayer',\n",
       " 'Dakota Johnson',\n",
       " 'SofÃ\\xada Vergara',\n",
       " 'Harris Yulin',\n",
       " 'Gina Carano',\n",
       " 'Karen Gillan',\n",
       " 'Rachel Melvin',\n",
       " 'Albert Brooks',\n",
       " 'Hannah Ware',\n",
       " 'Jessica Alba',\n",
       " 'Aasif Mandvi',\n",
       " 'John Rhys-Davies',\n",
       " 'Nat Wolff',\n",
       " 'Travis Oates',\n",
       " 'Barbara Jefford',\n",
       " 'Audrey Tautou',\n",
       " 'Ben Kingsley',\n",
       " 'Brooklyn Decker',\n",
       " 'Julian McMahon',\n",
       " 'Olivier Martinez',\n",
       " 'Daniel Henney',\n",
       " 'Marg Helgenberger',\n",
       " 'Aman Johal',\n",
       " 'Suraj Sharma',\n",
       " 'Andie MacDowell',\n",
       " 'Michelle Yeoh',\n",
       " 'Resse Hartwig',\n",
       " 'Ellen Wroe',\n",
       " 'Skylar Astin',\n",
       " 'Jason Gray-Stanford',\n",
       " 'Nelsan Ellis',\n",
       " 'Corey Johnson',\n",
       " 'Sean Patrick Thomas',\n",
       " 'Jason Statham',\n",
       " 'Harold Perrineau',\n",
       " 'Mac McDonald',\n",
       " 'Amy Smart',\n",
       " 'Patricia Reyes SpÃ\\xadndola',\n",
       " 'S. Epatha Merkerson',\n",
       " 'Isabelle NÃ©lisse',\n",
       " 'John Ratzenberger',\n",
       " 'Nicholas King',\n",
       " 'Marion Cotillard',\n",
       " 'Claudia Christian',\n",
       " 'Mel Gibson',\n",
       " 'James Spader',\n",
       " 'Chris Pratt',\n",
       " 'Kelly Reilly',\n",
       " 'SÃ´nia Braga',\n",
       " 'Gabourey Sidibe',\n",
       " 'James Purefoy',\n",
       " 'Moran Atias',\n",
       " 'Matthew Walker',\n",
       " 'L. Scott Caldwell',\n",
       " 'Allie Mickelson',\n",
       " 'Alexander SkarsgÃ¥rd',\n",
       " 'Aziz Ansari',\n",
       " 'Nikki Reed',\n",
       " 'Rupert Grint',\n",
       " 'Dejan Angelov',\n",
       " 'David Duchovny',\n",
       " 'Steve Buscemi',\n",
       " 'Bill Fagerbakke',\n",
       " 'James McAvoy',\n",
       " 'Kevin Bacon',\n",
       " 'Adrienne Shaw',\n",
       " 'Kristen Wilson',\n",
       " 'India Eisley',\n",
       " 'Mini Anden',\n",
       " 'Ned Beatty',\n",
       " 'Ethan Hawke',\n",
       " 'Portia Doubleday',\n",
       " 'Jennifer Connelly',\n",
       " 'Anika Noni Rose',\n",
       " 'Vanessa Ferlito',\n",
       " 'Imogen Poots',\n",
       " 'Richard Felix',\n",
       " 'Josh Wiggins',\n",
       " 'Chris Carmack',\n",
       " 'Asa Butterfield',\n",
       " 'Nick Nolte',\n",
       " 'Sprague Grayden',\n",
       " 'Tiger Hu Chen',\n",
       " 'Nathan Lane',\n",
       " 'Jeff Daniels',\n",
       " 'Melissa Benoist',\n",
       " 'Charlize Theron',\n",
       " 'Jessica Brown Findlay',\n",
       " 'Edward Norton',\n",
       " 'Mickey Rourke',\n",
       " 'Sheri Moon Zombie',\n",
       " 'Rick Malambri',\n",
       " 'Robert Capron',\n",
       " 'Chris Mulkey',\n",
       " 'Sarah Wynter',\n",
       " 'Andrew Hampton',\n",
       " 'Udo Kier',\n",
       " 'Kelan Pannell',\n",
       " 'Josh Hartnett',\n",
       " 'Marisa Tomei',\n",
       " 'Rowan Atkinson',\n",
       " 'Michael Lonsdale',\n",
       " 'Emily Bett Rickards',\n",
       " 'Jack Nicholson',\n",
       " 'Luke Ford',\n",
       " 'Bokeem Woodbine',\n",
       " 'Brian Van Holt',\n",
       " 'Kathryn McCormick',\n",
       " 'AdriÃ¡n Alonso Barona',\n",
       " 'Jason Earles',\n",
       " 'Christopher Kovaleski',\n",
       " 'Tony Curran',\n",
       " 'John Cena',\n",
       " 'Paul Giamatti',\n",
       " 'Jasmine Trinca',\n",
       " 'Clint Eastwood',\n",
       " 'Cliff Curtis',\n",
       " 'Emily Blunt',\n",
       " 'Karel Roden',\n",
       " 'Alex Jennings',\n",
       " 'Marin Ireland',\n",
       " 'Skyler Samuels',\n",
       " 'Courteney Cox',\n",
       " 'Alec Wilson',\n",
       " 'Danny McCarthy',\n",
       " 'Cameron Boyce',\n",
       " 'Lisa Barbuscia',\n",
       " 'Chopper Bernet',\n",
       " 'Paz Vega',\n",
       " 'Russell Means',\n",
       " 'America Ferrera',\n",
       " 'Eriq La Salle',\n",
       " 'Amy Sedaris',\n",
       " 'Catherine Kresge',\n",
       " 'Jack McElhone',\n",
       " 'Gates McFadden',\n",
       " 'Taylor Schilling',\n",
       " 'David Zayas',\n",
       " 'Steven Mackintosh',\n",
       " 'Efren Ramirez',\n",
       " 'Kristen Schaal',\n",
       " 'Ed Speleers',\n",
       " 'Ayush Tandon',\n",
       " 'Lisa Ann Walter',\n",
       " 'Chelsea Handler',\n",
       " 'Trevor Morgan',\n",
       " 'Charles S. Dutton',\n",
       " 'Randy Couture',\n",
       " 'Adam G. Sevani',\n",
       " 'Craig Bierko',\n",
       " 'Taylor Dooley',\n",
       " 'Debra Winger',\n",
       " 'Bill Smitrovich',\n",
       " 'James Francis Kelly III',\n",
       " 'Susie Essman',\n",
       " 'Orlando Jones',\n",
       " 'Paul Herman',\n",
       " 'William Mapother',\n",
       " 'Ritchie Coster',\n",
       " 'Jolie Vanier',\n",
       " ...}"
      ]
     },
     "execution_count": 65,
     "metadata": {},
     "output_type": "execute_result"
    }
   ],
   "source": [
    "# Актёры\n",
    "actors = set(data.cast.str.cat(sep='|').split('|'))\n",
    "actors"
   ]
  },
  {
   "cell_type": "code",
   "execution_count": 64,
   "metadata": {},
   "outputs": [
    {
     "data": {
      "text/plain": [
       "{'Rupert Grint': Emma Watson         8\n",
       " Daniel Radcliffe    8\n",
       " dtype: int64,\n",
       " 'Daniel Radcliffe': Emma Watson     8\n",
       " Rupert Grint    8\n",
       " dtype: int64,\n",
       " 'Emma Watson': Rupert Grint        8\n",
       " Daniel Radcliffe    8\n",
       " dtype: int64}"
      ]
     },
     "execution_count": 64,
     "metadata": {},
     "output_type": "execute_result"
    }
   ],
   "source": [
    "# Словарь, где сохраним результат\n",
    "pairs = {}\n",
    "for actor in actors:\n",
    "    # Собираем напарников\n",
    "    cast = data[data.cast.str.contains(actor)].cast.str.cat(sep='|').split('|')\n",
    "    # Убираем самого актера из списка\n",
    "    while actor in cast:\n",
    "        cast.remove(actor)\n",
    "    # Подсчитываем\n",
    "    cnt_act = pd.Series(cast).value_counts()\n",
    "    # Опускаем пары, которые снимались менее min_value раз\n",
    "    min_value = 6\n",
    "    if cnt_act.values[0] > min_value:\n",
    "        cnt_act = cnt_act[cnt_act > min_value]\n",
    "        pairs[actor] = cnt_act # {cnt_act.index[0]: cnt_act.values[0]}\n",
    "pairs"
   ]
  },
  {
   "cell_type": "markdown",
   "metadata": {
    "colab_type": "text",
    "id": "U0nONFnGVqAX"
   },
   "source": [
    "# Submission"
   ]
  },
  {
   "cell_type": "code",
   "execution_count": 96,
   "metadata": {
    "colab": {},
    "colab_type": "code",
    "id": "IfcaRO9-VqAX",
    "outputId": "0f132912-32bb-4196-c98c-abfbc4ad5a5f"
   },
   "outputs": [
    {
     "data": {
      "text/plain": [
       "{'1': 'Pirates of the Caribbean: On Stranger Tides (tt1298650)',\n",
       " '2': 'Gods and Generals (tt0279111)',\n",
       " '3': 'Winnie the Pooh (tt1449283)',\n",
       " '4': 110,\n",
       " '5': 107,\n",
       " '6': 'Avatar (tt0499549)',\n",
       " '7': 'The Lone Ranger (tt1210819)',\n",
       " '8': 1478,\n",
       " '9': 'The Dark Knight (tt0468569)',\n",
       " '10': 'The Lone Ranger (tt1210819)',\n",
       " '11': 'Drama',\n",
       " '12': 'Drama',\n",
       " '13': 'Peter Jackson',\n",
       " '14': 'Robert Rodriguez',\n",
       " '15': 'Chris Hemsworth',\n",
       " '16': 'Matt Damon',\n",
       " '17': 'Action',\n",
       " '18': 'K-19: The Widowmaker (tt0267626)',\n",
       " '19': 2015,\n",
       " '20': 2014,\n",
       " '21': 'Сентябрь',\n",
       " '22': 450,\n",
       " '23': 'Peter Jackson',\n",
       " '24': 'Four By Two Productions',\n",
       " '25': 'Midnight Picture Show',\n",
       " '26': 'Inside Out, The Dark Knight, 12 Years a Slave',\n",
       " '27': 'Daniel Radcliffe & Rupert Grint'}"
      ]
     },
     "execution_count": 96,
     "metadata": {},
     "output_type": "execute_result"
    }
   ],
   "source": [
    "answers"
   ]
  },
  {
   "cell_type": "code",
   "execution_count": 95,
   "metadata": {
    "colab": {},
    "colab_type": "code",
    "id": "SiRmHPl8VqAd"
   },
   "outputs": [
    {
     "data": {
      "text/plain": [
       "27"
      ]
     },
     "execution_count": 95,
     "metadata": {},
     "output_type": "execute_result"
    }
   ],
   "source": [
    "len(answers)"
   ]
  }
 ],
 "metadata": {
  "colab": {
   "name": "Copy of [SF-DST] Movies IMBD v4.1 TEMPLATE.ipynb",
   "provenance": []
  },
  "kernelspec": {
   "display_name": "Python 3",
   "language": "python",
   "name": "python3"
  },
  "language_info": {
   "codemirror_mode": {
    "name": "ipython",
    "version": 3
   },
   "file_extension": ".py",
   "mimetype": "text/x-python",
   "name": "python",
   "nbconvert_exporter": "python",
   "pygments_lexer": "ipython3",
   "version": "3.7.3"
  }
 },
 "nbformat": 4,
 "nbformat_minor": 1
}
