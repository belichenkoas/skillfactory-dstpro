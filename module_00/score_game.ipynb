{
 "cells": [
  {
   "cell_type": "code",
   "execution_count": 3,
   "metadata": {},
   "outputs": [],
   "source": [
    "import numpy as np"
   ]
  },
  {
   "cell_type": "code",
   "execution_count": 4,
   "metadata": {},
   "outputs": [],
   "source": [
    "def half_division(minimum, maximum):\n",
    "    return minimum + (maximum - minimum) // 2\n",
    "\n",
    "\n",
    "def game_core(number):\n",
    "    \"\"\" Угадываем цифру методом половинного деления \"\"\"\n",
    "    # Задаем диапазон вычислений\n",
    "    minimum = 0 \n",
    "    maximum = 100\n",
    "    # Вычисляем прогнозируемую цифру\n",
    "    predict = half_division(minimum, maximum)\n",
    "    count = 1\n",
    "    while number != predict:\n",
    "        count += 1\n",
    "        # Смещаем границы вычислений\n",
    "        if number > predict:\n",
    "            minimum = predict + 1\n",
    "        else:\n",
    "            maximum = predict - 1\n",
    "        # Вычисляем прогнозируемую цифру в новом интервале\n",
    "        predict = half_division(minimum, maximum)\n",
    "    return count # возвращаем количество попыток\n",
    "               \n",
    "        \n",
    "def score_game(game_core):\n",
    "    \"\"\" Запускаем игру 1000 раз, чтобы узнать как быстро игра угадывает число \"\"\"\n",
    "    count_ls = []\n",
    "    np.random.seed(1)  # фиксируем RANDOM SEED, чтобы ваш эксперимент был воспроизводим!\n",
    "    random_array = np.random.randint(1, 101, size=(1000))\n",
    "    for number in random_array:\n",
    "        count_ls.append(game_core(number))\n",
    "    score = int(np.mean(count_ls))\n",
    "    print(f\"Ваш алгоритм угадывает число в среднем за {score} попыток\")\n",
    "    return(score)"
   ]
  },
  {
   "cell_type": "code",
   "execution_count": 5,
   "metadata": {},
   "outputs": [
    {
     "name": "stdout",
     "output_type": "stream",
     "text": [
      "Ваш алгоритм угадывает число в среднем за 5 попыток\n"
     ]
    },
    {
     "data": {
      "text/plain": [
       "5"
      ]
     },
     "execution_count": 5,
     "metadata": {},
     "output_type": "execute_result"
    }
   ],
   "source": [
    "score_game(game_core)"
   ]
  },
  {
   "cell_type": "code",
   "execution_count": null,
   "metadata": {},
   "outputs": [],
   "source": []
  }
 ],
 "metadata": {
  "kernelspec": {
   "display_name": "Python 3",
   "language": "python",
   "name": "python3"
  },
  "language_info": {
   "codemirror_mode": {
    "name": "ipython",
    "version": 3
   },
   "file_extension": ".py",
   "mimetype": "text/x-python",
   "name": "python",
   "nbconvert_exporter": "python",
   "pygments_lexer": "ipython3",
   "version": "3.7.3"
  }
 },
 "nbformat": 4,
 "nbformat_minor": 4
}
